{
  "nbformat": 4,
  "nbformat_minor": 0,
  "metadata": {
    "colab": {
      "name": "UNC_imports_exports.ipynb",
      "provenance": [],
      "mount_file_id": "1NV9RFjeDRYjgESi66xnurpWvskfDKUeS",
      "authorship_tag": "ABX9TyMS8Ig8sd/hCXhFqnddJT2q",
      "include_colab_link": true
    },
    "kernelspec": {
      "name": "python3",
      "display_name": "Python 3"
    },
    "language_info": {
      "name": "python"
    }
  },
  "cells": [
    {
      "cell_type": "markdown",
      "metadata": {
        "id": "view-in-github",
        "colab_type": "text"
      },
      "source": [
        "<a href=\"https://colab.research.google.com/github/pitbuk101/colab-files/blob/main/UNC_imports_exports.ipynb\" target=\"_parent\"><img src=\"https://colab.research.google.com/assets/colab-badge.svg\" alt=\"Open In Colab\"/></a>"
      ]
    },
    {
      "cell_type": "code",
      "execution_count": 162,
      "metadata": {
        "colab": {
          "base_uri": "https://localhost:8080/"
        },
        "id": "pas2wNuZjSIn",
        "outputId": "4907e50d-9e2d-4e05-b3c8-57efb7806c60"
      },
      "outputs": [
        {
          "output_type": "stream",
          "name": "stdout",
          "text": [
            "Drive already mounted at /content/drive; to attempt to forcibly remount, call drive.mount(\"/content/drive\", force_remount=True).\n"
          ]
        }
      ],
      "source": [
        "from google.colab import drive\n",
        "drive.mount('/content/drive')"
      ]
    },
    {
      "cell_type": "code",
      "source": [
        "import pandas as pd\n",
        "\n",
        "path = \"/content/drive/MyDrive/UNC_DATA/2022_07_06_UNC_390120.csv\"\n",
        "path2=\"/content/drive/MyDrive/UNC_DATA/2022_07_05_UNC_390120.csv\"\n",
        "\n",
        "df_unci = pd.read_csv(path)\n",
        "df_unce = pd.read_csv(path2)\n",
        "\n",
        "df_unci.drop('Unnamed: 0', axis=1, inplace=True)\n",
        "df_unce.drop('Unnamed: 0', axis=1, inplace=True)\n",
        "\n"
      ],
      "metadata": {
        "id": "Hw0viW_tmOi6"
      },
      "execution_count": 163,
      "outputs": []
    },
    {
      "cell_type": "code",
      "source": [
        "df_unce.head()"
      ],
      "metadata": {
        "colab": {
          "base_uri": "https://localhost:8080/",
          "height": 617
        },
        "id": "w2VCPV-9MhuP",
        "outputId": "61c0d924-cff0-4cf5-9d23-4e1e9a3dd786"
      },
      "execution_count": 164,
      "outputs": [
        {
          "output_type": "execute_result",
          "data": {
            "text/plain": [
              "                          ts_ref_id reporter_country country_code   timestamp  \\\n",
              "0  ef712447776f401cbcccaef4dd5d0140          Albania          ALB  01-04-2012   \n",
              "1  ef712447776f401cbcccaef4dd5d0140          Albania          ALB  01-05-2012   \n",
              "2  ef712447776f401cbcccaef4dd5d0140          Albania          ALB  01-06-2012   \n",
              "3  15952a1e87dc4a3ea91f0b8442aab54b        Argentina          ARG  01-01-2012   \n",
              "4  15952a1e87dc4a3ea91f0b8442aab54b        Argentina          ARG  01-02-2012   \n",
              "\n",
              "                       url         name  \\\n",
              "0  https://comtrade.un.org  UN Comtrade   \n",
              "1  https://comtrade.un.org  UN Comtrade   \n",
              "2  https://comtrade.un.org  UN Comtrade   \n",
              "3  https://comtrade.un.org  UN Comtrade   \n",
              "4  https://comtrade.un.org  UN Comtrade   \n",
              "\n",
              "                                         description  \\\n",
              "0  Ethylene polymers - in primary forms, polyethy...   \n",
              "1  Ethylene polymers - in primary forms, polyethy...   \n",
              "2  Ethylene polymers - in primary forms, polyethy...   \n",
              "3  Ethylene polymers - in primary forms, polyethy...   \n",
              "4  Ethylene polymers - in primary forms, polyethy...   \n",
              "\n",
              "                      region region_code   domain time_of_sampling  \\\n",
              "0      Europe & Central Asia         ECS  Finance         10:10:02   \n",
              "1      Europe & Central Asia         ECS  Finance         10:10:02   \n",
              "2      Europe & Central Asia         ECS  Finance         10:10:02   \n",
              "3  Latin America & Caribbean         LCN  Finance         10:10:02   \n",
              "4  Latin America & Caribbean         LCN  Finance         10:10:02   \n",
              "\n",
              "  date_of_sampling sample_frequency subdomain       source     flow partner  \\\n",
              "0       05-07-2022                M     Trade  UN Comtrade  Exports   World   \n",
              "1       05-07-2022                M     Trade  UN Comtrade  Exports   World   \n",
              "2       05-07-2022                M     Trade  UN Comtrade  Exports   World   \n",
              "3       05-07-2022                M     Trade  UN Comtrade  Exports   World   \n",
              "4       05-07-2022                M     Trade  UN Comtrade  Exports   World   \n",
              "\n",
              "                                           commodity  commodity_code     value  \n",
              "0  Ethylene polymers - in primary forms, polyethy...          390120      4224  \n",
              "1  Ethylene polymers - in primary forms, polyethy...          390120     18573  \n",
              "2  Ethylene polymers - in primary forms, polyethy...          390120     28735  \n",
              "3  Ethylene polymers - in primary forms, polyethy...          390120  12264243  \n",
              "4  Ethylene polymers - in primary forms, polyethy...          390120  11085719  "
            ],
            "text/html": [
              "\n",
              "  <div id=\"df-4baed73e-d61f-4367-a97a-a292b2d56f0f\">\n",
              "    <div class=\"colab-df-container\">\n",
              "      <div>\n",
              "<style scoped>\n",
              "    .dataframe tbody tr th:only-of-type {\n",
              "        vertical-align: middle;\n",
              "    }\n",
              "\n",
              "    .dataframe tbody tr th {\n",
              "        vertical-align: top;\n",
              "    }\n",
              "\n",
              "    .dataframe thead th {\n",
              "        text-align: right;\n",
              "    }\n",
              "</style>\n",
              "<table border=\"1\" class=\"dataframe\">\n",
              "  <thead>\n",
              "    <tr style=\"text-align: right;\">\n",
              "      <th></th>\n",
              "      <th>ts_ref_id</th>\n",
              "      <th>reporter_country</th>\n",
              "      <th>country_code</th>\n",
              "      <th>timestamp</th>\n",
              "      <th>url</th>\n",
              "      <th>name</th>\n",
              "      <th>description</th>\n",
              "      <th>region</th>\n",
              "      <th>region_code</th>\n",
              "      <th>domain</th>\n",
              "      <th>time_of_sampling</th>\n",
              "      <th>date_of_sampling</th>\n",
              "      <th>sample_frequency</th>\n",
              "      <th>subdomain</th>\n",
              "      <th>source</th>\n",
              "      <th>flow</th>\n",
              "      <th>partner</th>\n",
              "      <th>commodity</th>\n",
              "      <th>commodity_code</th>\n",
              "      <th>value</th>\n",
              "    </tr>\n",
              "  </thead>\n",
              "  <tbody>\n",
              "    <tr>\n",
              "      <th>0</th>\n",
              "      <td>ef712447776f401cbcccaef4dd5d0140</td>\n",
              "      <td>Albania</td>\n",
              "      <td>ALB</td>\n",
              "      <td>01-04-2012</td>\n",
              "      <td>https://comtrade.un.org</td>\n",
              "      <td>UN Comtrade</td>\n",
              "      <td>Ethylene polymers - in primary forms, polyethy...</td>\n",
              "      <td>Europe &amp; Central Asia</td>\n",
              "      <td>ECS</td>\n",
              "      <td>Finance</td>\n",
              "      <td>10:10:02</td>\n",
              "      <td>05-07-2022</td>\n",
              "      <td>M</td>\n",
              "      <td>Trade</td>\n",
              "      <td>UN Comtrade</td>\n",
              "      <td>Exports</td>\n",
              "      <td>World</td>\n",
              "      <td>Ethylene polymers - in primary forms, polyethy...</td>\n",
              "      <td>390120</td>\n",
              "      <td>4224</td>\n",
              "    </tr>\n",
              "    <tr>\n",
              "      <th>1</th>\n",
              "      <td>ef712447776f401cbcccaef4dd5d0140</td>\n",
              "      <td>Albania</td>\n",
              "      <td>ALB</td>\n",
              "      <td>01-05-2012</td>\n",
              "      <td>https://comtrade.un.org</td>\n",
              "      <td>UN Comtrade</td>\n",
              "      <td>Ethylene polymers - in primary forms, polyethy...</td>\n",
              "      <td>Europe &amp; Central Asia</td>\n",
              "      <td>ECS</td>\n",
              "      <td>Finance</td>\n",
              "      <td>10:10:02</td>\n",
              "      <td>05-07-2022</td>\n",
              "      <td>M</td>\n",
              "      <td>Trade</td>\n",
              "      <td>UN Comtrade</td>\n",
              "      <td>Exports</td>\n",
              "      <td>World</td>\n",
              "      <td>Ethylene polymers - in primary forms, polyethy...</td>\n",
              "      <td>390120</td>\n",
              "      <td>18573</td>\n",
              "    </tr>\n",
              "    <tr>\n",
              "      <th>2</th>\n",
              "      <td>ef712447776f401cbcccaef4dd5d0140</td>\n",
              "      <td>Albania</td>\n",
              "      <td>ALB</td>\n",
              "      <td>01-06-2012</td>\n",
              "      <td>https://comtrade.un.org</td>\n",
              "      <td>UN Comtrade</td>\n",
              "      <td>Ethylene polymers - in primary forms, polyethy...</td>\n",
              "      <td>Europe &amp; Central Asia</td>\n",
              "      <td>ECS</td>\n",
              "      <td>Finance</td>\n",
              "      <td>10:10:02</td>\n",
              "      <td>05-07-2022</td>\n",
              "      <td>M</td>\n",
              "      <td>Trade</td>\n",
              "      <td>UN Comtrade</td>\n",
              "      <td>Exports</td>\n",
              "      <td>World</td>\n",
              "      <td>Ethylene polymers - in primary forms, polyethy...</td>\n",
              "      <td>390120</td>\n",
              "      <td>28735</td>\n",
              "    </tr>\n",
              "    <tr>\n",
              "      <th>3</th>\n",
              "      <td>15952a1e87dc4a3ea91f0b8442aab54b</td>\n",
              "      <td>Argentina</td>\n",
              "      <td>ARG</td>\n",
              "      <td>01-01-2012</td>\n",
              "      <td>https://comtrade.un.org</td>\n",
              "      <td>UN Comtrade</td>\n",
              "      <td>Ethylene polymers - in primary forms, polyethy...</td>\n",
              "      <td>Latin America &amp; Caribbean</td>\n",
              "      <td>LCN</td>\n",
              "      <td>Finance</td>\n",
              "      <td>10:10:02</td>\n",
              "      <td>05-07-2022</td>\n",
              "      <td>M</td>\n",
              "      <td>Trade</td>\n",
              "      <td>UN Comtrade</td>\n",
              "      <td>Exports</td>\n",
              "      <td>World</td>\n",
              "      <td>Ethylene polymers - in primary forms, polyethy...</td>\n",
              "      <td>390120</td>\n",
              "      <td>12264243</td>\n",
              "    </tr>\n",
              "    <tr>\n",
              "      <th>4</th>\n",
              "      <td>15952a1e87dc4a3ea91f0b8442aab54b</td>\n",
              "      <td>Argentina</td>\n",
              "      <td>ARG</td>\n",
              "      <td>01-02-2012</td>\n",
              "      <td>https://comtrade.un.org</td>\n",
              "      <td>UN Comtrade</td>\n",
              "      <td>Ethylene polymers - in primary forms, polyethy...</td>\n",
              "      <td>Latin America &amp; Caribbean</td>\n",
              "      <td>LCN</td>\n",
              "      <td>Finance</td>\n",
              "      <td>10:10:02</td>\n",
              "      <td>05-07-2022</td>\n",
              "      <td>M</td>\n",
              "      <td>Trade</td>\n",
              "      <td>UN Comtrade</td>\n",
              "      <td>Exports</td>\n",
              "      <td>World</td>\n",
              "      <td>Ethylene polymers - in primary forms, polyethy...</td>\n",
              "      <td>390120</td>\n",
              "      <td>11085719</td>\n",
              "    </tr>\n",
              "  </tbody>\n",
              "</table>\n",
              "</div>\n",
              "      <button class=\"colab-df-convert\" onclick=\"convertToInteractive('df-4baed73e-d61f-4367-a97a-a292b2d56f0f')\"\n",
              "              title=\"Convert this dataframe to an interactive table.\"\n",
              "              style=\"display:none;\">\n",
              "        \n",
              "  <svg xmlns=\"http://www.w3.org/2000/svg\" height=\"24px\"viewBox=\"0 0 24 24\"\n",
              "       width=\"24px\">\n",
              "    <path d=\"M0 0h24v24H0V0z\" fill=\"none\"/>\n",
              "    <path d=\"M18.56 5.44l.94 2.06.94-2.06 2.06-.94-2.06-.94-.94-2.06-.94 2.06-2.06.94zm-11 1L8.5 8.5l.94-2.06 2.06-.94-2.06-.94L8.5 2.5l-.94 2.06-2.06.94zm10 10l.94 2.06.94-2.06 2.06-.94-2.06-.94-.94-2.06-.94 2.06-2.06.94z\"/><path d=\"M17.41 7.96l-1.37-1.37c-.4-.4-.92-.59-1.43-.59-.52 0-1.04.2-1.43.59L10.3 9.45l-7.72 7.72c-.78.78-.78 2.05 0 2.83L4 21.41c.39.39.9.59 1.41.59.51 0 1.02-.2 1.41-.59l7.78-7.78 2.81-2.81c.8-.78.8-2.07 0-2.86zM5.41 20L4 18.59l7.72-7.72 1.47 1.35L5.41 20z\"/>\n",
              "  </svg>\n",
              "      </button>\n",
              "      \n",
              "  <style>\n",
              "    .colab-df-container {\n",
              "      display:flex;\n",
              "      flex-wrap:wrap;\n",
              "      gap: 12px;\n",
              "    }\n",
              "\n",
              "    .colab-df-convert {\n",
              "      background-color: #E8F0FE;\n",
              "      border: none;\n",
              "      border-radius: 50%;\n",
              "      cursor: pointer;\n",
              "      display: none;\n",
              "      fill: #1967D2;\n",
              "      height: 32px;\n",
              "      padding: 0 0 0 0;\n",
              "      width: 32px;\n",
              "    }\n",
              "\n",
              "    .colab-df-convert:hover {\n",
              "      background-color: #E2EBFA;\n",
              "      box-shadow: 0px 1px 2px rgba(60, 64, 67, 0.3), 0px 1px 3px 1px rgba(60, 64, 67, 0.15);\n",
              "      fill: #174EA6;\n",
              "    }\n",
              "\n",
              "    [theme=dark] .colab-df-convert {\n",
              "      background-color: #3B4455;\n",
              "      fill: #D2E3FC;\n",
              "    }\n",
              "\n",
              "    [theme=dark] .colab-df-convert:hover {\n",
              "      background-color: #434B5C;\n",
              "      box-shadow: 0px 1px 3px 1px rgba(0, 0, 0, 0.15);\n",
              "      filter: drop-shadow(0px 1px 2px rgba(0, 0, 0, 0.3));\n",
              "      fill: #FFFFFF;\n",
              "    }\n",
              "  </style>\n",
              "\n",
              "      <script>\n",
              "        const buttonEl =\n",
              "          document.querySelector('#df-4baed73e-d61f-4367-a97a-a292b2d56f0f button.colab-df-convert');\n",
              "        buttonEl.style.display =\n",
              "          google.colab.kernel.accessAllowed ? 'block' : 'none';\n",
              "\n",
              "        async function convertToInteractive(key) {\n",
              "          const element = document.querySelector('#df-4baed73e-d61f-4367-a97a-a292b2d56f0f');\n",
              "          const dataTable =\n",
              "            await google.colab.kernel.invokeFunction('convertToInteractive',\n",
              "                                                     [key], {});\n",
              "          if (!dataTable) return;\n",
              "\n",
              "          const docLinkHtml = 'Like what you see? Visit the ' +\n",
              "            '<a target=\"_blank\" href=https://colab.research.google.com/notebooks/data_table.ipynb>data table notebook</a>'\n",
              "            + ' to learn more about interactive tables.';\n",
              "          element.innerHTML = '';\n",
              "          dataTable['output_type'] = 'display_data';\n",
              "          await google.colab.output.renderOutput(dataTable, element);\n",
              "          const docLink = document.createElement('div');\n",
              "          docLink.innerHTML = docLinkHtml;\n",
              "          element.appendChild(docLink);\n",
              "        }\n",
              "      </script>\n",
              "    </div>\n",
              "  </div>\n",
              "  "
            ]
          },
          "metadata": {},
          "execution_count": 164
        }
      ]
    },
    {
      "cell_type": "code",
      "source": [
        "df_unce.describe()"
      ],
      "metadata": {
        "colab": {
          "base_uri": "https://localhost:8080/",
          "height": 300
        },
        "id": "D4HUW8ve8ZcZ",
        "outputId": "fc8f08e3-46dd-476c-8563-ddb4cf12e85f"
      },
      "execution_count": 165,
      "outputs": [
        {
          "output_type": "execute_result",
          "data": {
            "text/plain": [
              "       commodity_code         value\n",
              "count          7560.0  7.560000e+03\n",
              "mean         390120.0  2.369910e+07\n",
              "std               0.0  5.255848e+07\n",
              "min          390120.0  1.000000e+00\n",
              "25%          390120.0  1.422378e+05\n",
              "50%          390120.0  2.192810e+06\n",
              "75%          390120.0  2.205931e+07\n",
              "max          390120.0  5.179689e+08"
            ],
            "text/html": [
              "\n",
              "  <div id=\"df-91c3fb85-15b1-4f1d-8394-45e9881abea8\">\n",
              "    <div class=\"colab-df-container\">\n",
              "      <div>\n",
              "<style scoped>\n",
              "    .dataframe tbody tr th:only-of-type {\n",
              "        vertical-align: middle;\n",
              "    }\n",
              "\n",
              "    .dataframe tbody tr th {\n",
              "        vertical-align: top;\n",
              "    }\n",
              "\n",
              "    .dataframe thead th {\n",
              "        text-align: right;\n",
              "    }\n",
              "</style>\n",
              "<table border=\"1\" class=\"dataframe\">\n",
              "  <thead>\n",
              "    <tr style=\"text-align: right;\">\n",
              "      <th></th>\n",
              "      <th>commodity_code</th>\n",
              "      <th>value</th>\n",
              "    </tr>\n",
              "  </thead>\n",
              "  <tbody>\n",
              "    <tr>\n",
              "      <th>count</th>\n",
              "      <td>7560.0</td>\n",
              "      <td>7.560000e+03</td>\n",
              "    </tr>\n",
              "    <tr>\n",
              "      <th>mean</th>\n",
              "      <td>390120.0</td>\n",
              "      <td>2.369910e+07</td>\n",
              "    </tr>\n",
              "    <tr>\n",
              "      <th>std</th>\n",
              "      <td>0.0</td>\n",
              "      <td>5.255848e+07</td>\n",
              "    </tr>\n",
              "    <tr>\n",
              "      <th>min</th>\n",
              "      <td>390120.0</td>\n",
              "      <td>1.000000e+00</td>\n",
              "    </tr>\n",
              "    <tr>\n",
              "      <th>25%</th>\n",
              "      <td>390120.0</td>\n",
              "      <td>1.422378e+05</td>\n",
              "    </tr>\n",
              "    <tr>\n",
              "      <th>50%</th>\n",
              "      <td>390120.0</td>\n",
              "      <td>2.192810e+06</td>\n",
              "    </tr>\n",
              "    <tr>\n",
              "      <th>75%</th>\n",
              "      <td>390120.0</td>\n",
              "      <td>2.205931e+07</td>\n",
              "    </tr>\n",
              "    <tr>\n",
              "      <th>max</th>\n",
              "      <td>390120.0</td>\n",
              "      <td>5.179689e+08</td>\n",
              "    </tr>\n",
              "  </tbody>\n",
              "</table>\n",
              "</div>\n",
              "      <button class=\"colab-df-convert\" onclick=\"convertToInteractive('df-91c3fb85-15b1-4f1d-8394-45e9881abea8')\"\n",
              "              title=\"Convert this dataframe to an interactive table.\"\n",
              "              style=\"display:none;\">\n",
              "        \n",
              "  <svg xmlns=\"http://www.w3.org/2000/svg\" height=\"24px\"viewBox=\"0 0 24 24\"\n",
              "       width=\"24px\">\n",
              "    <path d=\"M0 0h24v24H0V0z\" fill=\"none\"/>\n",
              "    <path d=\"M18.56 5.44l.94 2.06.94-2.06 2.06-.94-2.06-.94-.94-2.06-.94 2.06-2.06.94zm-11 1L8.5 8.5l.94-2.06 2.06-.94-2.06-.94L8.5 2.5l-.94 2.06-2.06.94zm10 10l.94 2.06.94-2.06 2.06-.94-2.06-.94-.94-2.06-.94 2.06-2.06.94z\"/><path d=\"M17.41 7.96l-1.37-1.37c-.4-.4-.92-.59-1.43-.59-.52 0-1.04.2-1.43.59L10.3 9.45l-7.72 7.72c-.78.78-.78 2.05 0 2.83L4 21.41c.39.39.9.59 1.41.59.51 0 1.02-.2 1.41-.59l7.78-7.78 2.81-2.81c.8-.78.8-2.07 0-2.86zM5.41 20L4 18.59l7.72-7.72 1.47 1.35L5.41 20z\"/>\n",
              "  </svg>\n",
              "      </button>\n",
              "      \n",
              "  <style>\n",
              "    .colab-df-container {\n",
              "      display:flex;\n",
              "      flex-wrap:wrap;\n",
              "      gap: 12px;\n",
              "    }\n",
              "\n",
              "    .colab-df-convert {\n",
              "      background-color: #E8F0FE;\n",
              "      border: none;\n",
              "      border-radius: 50%;\n",
              "      cursor: pointer;\n",
              "      display: none;\n",
              "      fill: #1967D2;\n",
              "      height: 32px;\n",
              "      padding: 0 0 0 0;\n",
              "      width: 32px;\n",
              "    }\n",
              "\n",
              "    .colab-df-convert:hover {\n",
              "      background-color: #E2EBFA;\n",
              "      box-shadow: 0px 1px 2px rgba(60, 64, 67, 0.3), 0px 1px 3px 1px rgba(60, 64, 67, 0.15);\n",
              "      fill: #174EA6;\n",
              "    }\n",
              "\n",
              "    [theme=dark] .colab-df-convert {\n",
              "      background-color: #3B4455;\n",
              "      fill: #D2E3FC;\n",
              "    }\n",
              "\n",
              "    [theme=dark] .colab-df-convert:hover {\n",
              "      background-color: #434B5C;\n",
              "      box-shadow: 0px 1px 3px 1px rgba(0, 0, 0, 0.15);\n",
              "      filter: drop-shadow(0px 1px 2px rgba(0, 0, 0, 0.3));\n",
              "      fill: #FFFFFF;\n",
              "    }\n",
              "  </style>\n",
              "\n",
              "      <script>\n",
              "        const buttonEl =\n",
              "          document.querySelector('#df-91c3fb85-15b1-4f1d-8394-45e9881abea8 button.colab-df-convert');\n",
              "        buttonEl.style.display =\n",
              "          google.colab.kernel.accessAllowed ? 'block' : 'none';\n",
              "\n",
              "        async function convertToInteractive(key) {\n",
              "          const element = document.querySelector('#df-91c3fb85-15b1-4f1d-8394-45e9881abea8');\n",
              "          const dataTable =\n",
              "            await google.colab.kernel.invokeFunction('convertToInteractive',\n",
              "                                                     [key], {});\n",
              "          if (!dataTable) return;\n",
              "\n",
              "          const docLinkHtml = 'Like what you see? Visit the ' +\n",
              "            '<a target=\"_blank\" href=https://colab.research.google.com/notebooks/data_table.ipynb>data table notebook</a>'\n",
              "            + ' to learn more about interactive tables.';\n",
              "          element.innerHTML = '';\n",
              "          dataTable['output_type'] = 'display_data';\n",
              "          await google.colab.output.renderOutput(dataTable, element);\n",
              "          const docLink = document.createElement('div');\n",
              "          docLink.innerHTML = docLinkHtml;\n",
              "          element.appendChild(docLink);\n",
              "        }\n",
              "      </script>\n",
              "    </div>\n",
              "  </div>\n",
              "  "
            ]
          },
          "metadata": {},
          "execution_count": 165
        }
      ]
    },
    {
      "cell_type": "code",
      "source": [
        "df_unci.head()"
      ],
      "metadata": {
        "colab": {
          "base_uri": "https://localhost:8080/",
          "height": 617
        },
        "id": "lLM7h8Y9mOWX",
        "outputId": "2ed48e1d-524b-4709-df8d-967f5831a845"
      },
      "execution_count": 166,
      "outputs": [
        {
          "output_type": "execute_result",
          "data": {
            "text/plain": [
              "                          ts_ref_id reporter_country country_code   timestamp  \\\n",
              "0  ef712447776f401cbcccaef4dd5d0140          Albania          ALB  01-01-2012   \n",
              "1  ef712447776f401cbcccaef4dd5d0140          Albania          ALB  02-01-2012   \n",
              "2  ef712447776f401cbcccaef4dd5d0140          Albania          ALB  03-01-2012   \n",
              "3  ef712447776f401cbcccaef4dd5d0140          Albania          ALB  04-01-2012   \n",
              "4  ef712447776f401cbcccaef4dd5d0140          Albania          ALB  05-01-2012   \n",
              "\n",
              "                       url         name  \\\n",
              "0  https://comtrade.un.org  UN Comtrade   \n",
              "1  https://comtrade.un.org  UN Comtrade   \n",
              "2  https://comtrade.un.org  UN Comtrade   \n",
              "3  https://comtrade.un.org  UN Comtrade   \n",
              "4  https://comtrade.un.org  UN Comtrade   \n",
              "\n",
              "                                         description                 region  \\\n",
              "0  Ethylene polymers - in primary forms, polyethy...  Europe & Central Asia   \n",
              "1  Ethylene polymers - in primary forms, polyethy...  Europe & Central Asia   \n",
              "2  Ethylene polymers - in primary forms, polyethy...  Europe & Central Asia   \n",
              "3  Ethylene polymers - in primary forms, polyethy...  Europe & Central Asia   \n",
              "4  Ethylene polymers - in primary forms, polyethy...  Europe & Central Asia   \n",
              "\n",
              "  region_code   domain time_of_sampling date_of_sampling sample_frequency  \\\n",
              "0         ECS  Finance         13:33:03       06-07-2022                M   \n",
              "1         ECS  Finance         13:33:03       06-07-2022                M   \n",
              "2         ECS  Finance         13:33:03       06-07-2022                M   \n",
              "3         ECS  Finance         13:33:03       06-07-2022                M   \n",
              "4         ECS  Finance         13:33:03       06-07-2022                M   \n",
              "\n",
              "  subdomain       source     flow partner  \\\n",
              "0     Trade  UN Comtrade  Imports   World   \n",
              "1     Trade  UN Comtrade  Imports   World   \n",
              "2     Trade  UN Comtrade  Imports   World   \n",
              "3     Trade  UN Comtrade  Imports   World   \n",
              "4     Trade  UN Comtrade  Imports   World   \n",
              "\n",
              "                                           commodity  commodity_code   value  \n",
              "0  Ethylene polymers - in primary forms, polyethy...          390120  459631  \n",
              "1  Ethylene polymers - in primary forms, polyethy...          390120  531386  \n",
              "2  Ethylene polymers - in primary forms, polyethy...          390120  207120  \n",
              "3  Ethylene polymers - in primary forms, polyethy...          390120  460525  \n",
              "4  Ethylene polymers - in primary forms, polyethy...          390120  577363  "
            ],
            "text/html": [
              "\n",
              "  <div id=\"df-75bb381a-aad3-496f-8473-7626f5684ef9\">\n",
              "    <div class=\"colab-df-container\">\n",
              "      <div>\n",
              "<style scoped>\n",
              "    .dataframe tbody tr th:only-of-type {\n",
              "        vertical-align: middle;\n",
              "    }\n",
              "\n",
              "    .dataframe tbody tr th {\n",
              "        vertical-align: top;\n",
              "    }\n",
              "\n",
              "    .dataframe thead th {\n",
              "        text-align: right;\n",
              "    }\n",
              "</style>\n",
              "<table border=\"1\" class=\"dataframe\">\n",
              "  <thead>\n",
              "    <tr style=\"text-align: right;\">\n",
              "      <th></th>\n",
              "      <th>ts_ref_id</th>\n",
              "      <th>reporter_country</th>\n",
              "      <th>country_code</th>\n",
              "      <th>timestamp</th>\n",
              "      <th>url</th>\n",
              "      <th>name</th>\n",
              "      <th>description</th>\n",
              "      <th>region</th>\n",
              "      <th>region_code</th>\n",
              "      <th>domain</th>\n",
              "      <th>time_of_sampling</th>\n",
              "      <th>date_of_sampling</th>\n",
              "      <th>sample_frequency</th>\n",
              "      <th>subdomain</th>\n",
              "      <th>source</th>\n",
              "      <th>flow</th>\n",
              "      <th>partner</th>\n",
              "      <th>commodity</th>\n",
              "      <th>commodity_code</th>\n",
              "      <th>value</th>\n",
              "    </tr>\n",
              "  </thead>\n",
              "  <tbody>\n",
              "    <tr>\n",
              "      <th>0</th>\n",
              "      <td>ef712447776f401cbcccaef4dd5d0140</td>\n",
              "      <td>Albania</td>\n",
              "      <td>ALB</td>\n",
              "      <td>01-01-2012</td>\n",
              "      <td>https://comtrade.un.org</td>\n",
              "      <td>UN Comtrade</td>\n",
              "      <td>Ethylene polymers - in primary forms, polyethy...</td>\n",
              "      <td>Europe &amp; Central Asia</td>\n",
              "      <td>ECS</td>\n",
              "      <td>Finance</td>\n",
              "      <td>13:33:03</td>\n",
              "      <td>06-07-2022</td>\n",
              "      <td>M</td>\n",
              "      <td>Trade</td>\n",
              "      <td>UN Comtrade</td>\n",
              "      <td>Imports</td>\n",
              "      <td>World</td>\n",
              "      <td>Ethylene polymers - in primary forms, polyethy...</td>\n",
              "      <td>390120</td>\n",
              "      <td>459631</td>\n",
              "    </tr>\n",
              "    <tr>\n",
              "      <th>1</th>\n",
              "      <td>ef712447776f401cbcccaef4dd5d0140</td>\n",
              "      <td>Albania</td>\n",
              "      <td>ALB</td>\n",
              "      <td>02-01-2012</td>\n",
              "      <td>https://comtrade.un.org</td>\n",
              "      <td>UN Comtrade</td>\n",
              "      <td>Ethylene polymers - in primary forms, polyethy...</td>\n",
              "      <td>Europe &amp; Central Asia</td>\n",
              "      <td>ECS</td>\n",
              "      <td>Finance</td>\n",
              "      <td>13:33:03</td>\n",
              "      <td>06-07-2022</td>\n",
              "      <td>M</td>\n",
              "      <td>Trade</td>\n",
              "      <td>UN Comtrade</td>\n",
              "      <td>Imports</td>\n",
              "      <td>World</td>\n",
              "      <td>Ethylene polymers - in primary forms, polyethy...</td>\n",
              "      <td>390120</td>\n",
              "      <td>531386</td>\n",
              "    </tr>\n",
              "    <tr>\n",
              "      <th>2</th>\n",
              "      <td>ef712447776f401cbcccaef4dd5d0140</td>\n",
              "      <td>Albania</td>\n",
              "      <td>ALB</td>\n",
              "      <td>03-01-2012</td>\n",
              "      <td>https://comtrade.un.org</td>\n",
              "      <td>UN Comtrade</td>\n",
              "      <td>Ethylene polymers - in primary forms, polyethy...</td>\n",
              "      <td>Europe &amp; Central Asia</td>\n",
              "      <td>ECS</td>\n",
              "      <td>Finance</td>\n",
              "      <td>13:33:03</td>\n",
              "      <td>06-07-2022</td>\n",
              "      <td>M</td>\n",
              "      <td>Trade</td>\n",
              "      <td>UN Comtrade</td>\n",
              "      <td>Imports</td>\n",
              "      <td>World</td>\n",
              "      <td>Ethylene polymers - in primary forms, polyethy...</td>\n",
              "      <td>390120</td>\n",
              "      <td>207120</td>\n",
              "    </tr>\n",
              "    <tr>\n",
              "      <th>3</th>\n",
              "      <td>ef712447776f401cbcccaef4dd5d0140</td>\n",
              "      <td>Albania</td>\n",
              "      <td>ALB</td>\n",
              "      <td>04-01-2012</td>\n",
              "      <td>https://comtrade.un.org</td>\n",
              "      <td>UN Comtrade</td>\n",
              "      <td>Ethylene polymers - in primary forms, polyethy...</td>\n",
              "      <td>Europe &amp; Central Asia</td>\n",
              "      <td>ECS</td>\n",
              "      <td>Finance</td>\n",
              "      <td>13:33:03</td>\n",
              "      <td>06-07-2022</td>\n",
              "      <td>M</td>\n",
              "      <td>Trade</td>\n",
              "      <td>UN Comtrade</td>\n",
              "      <td>Imports</td>\n",
              "      <td>World</td>\n",
              "      <td>Ethylene polymers - in primary forms, polyethy...</td>\n",
              "      <td>390120</td>\n",
              "      <td>460525</td>\n",
              "    </tr>\n",
              "    <tr>\n",
              "      <th>4</th>\n",
              "      <td>ef712447776f401cbcccaef4dd5d0140</td>\n",
              "      <td>Albania</td>\n",
              "      <td>ALB</td>\n",
              "      <td>05-01-2012</td>\n",
              "      <td>https://comtrade.un.org</td>\n",
              "      <td>UN Comtrade</td>\n",
              "      <td>Ethylene polymers - in primary forms, polyethy...</td>\n",
              "      <td>Europe &amp; Central Asia</td>\n",
              "      <td>ECS</td>\n",
              "      <td>Finance</td>\n",
              "      <td>13:33:03</td>\n",
              "      <td>06-07-2022</td>\n",
              "      <td>M</td>\n",
              "      <td>Trade</td>\n",
              "      <td>UN Comtrade</td>\n",
              "      <td>Imports</td>\n",
              "      <td>World</td>\n",
              "      <td>Ethylene polymers - in primary forms, polyethy...</td>\n",
              "      <td>390120</td>\n",
              "      <td>577363</td>\n",
              "    </tr>\n",
              "  </tbody>\n",
              "</table>\n",
              "</div>\n",
              "      <button class=\"colab-df-convert\" onclick=\"convertToInteractive('df-75bb381a-aad3-496f-8473-7626f5684ef9')\"\n",
              "              title=\"Convert this dataframe to an interactive table.\"\n",
              "              style=\"display:none;\">\n",
              "        \n",
              "  <svg xmlns=\"http://www.w3.org/2000/svg\" height=\"24px\"viewBox=\"0 0 24 24\"\n",
              "       width=\"24px\">\n",
              "    <path d=\"M0 0h24v24H0V0z\" fill=\"none\"/>\n",
              "    <path d=\"M18.56 5.44l.94 2.06.94-2.06 2.06-.94-2.06-.94-.94-2.06-.94 2.06-2.06.94zm-11 1L8.5 8.5l.94-2.06 2.06-.94-2.06-.94L8.5 2.5l-.94 2.06-2.06.94zm10 10l.94 2.06.94-2.06 2.06-.94-2.06-.94-.94-2.06-.94 2.06-2.06.94z\"/><path d=\"M17.41 7.96l-1.37-1.37c-.4-.4-.92-.59-1.43-.59-.52 0-1.04.2-1.43.59L10.3 9.45l-7.72 7.72c-.78.78-.78 2.05 0 2.83L4 21.41c.39.39.9.59 1.41.59.51 0 1.02-.2 1.41-.59l7.78-7.78 2.81-2.81c.8-.78.8-2.07 0-2.86zM5.41 20L4 18.59l7.72-7.72 1.47 1.35L5.41 20z\"/>\n",
              "  </svg>\n",
              "      </button>\n",
              "      \n",
              "  <style>\n",
              "    .colab-df-container {\n",
              "      display:flex;\n",
              "      flex-wrap:wrap;\n",
              "      gap: 12px;\n",
              "    }\n",
              "\n",
              "    .colab-df-convert {\n",
              "      background-color: #E8F0FE;\n",
              "      border: none;\n",
              "      border-radius: 50%;\n",
              "      cursor: pointer;\n",
              "      display: none;\n",
              "      fill: #1967D2;\n",
              "      height: 32px;\n",
              "      padding: 0 0 0 0;\n",
              "      width: 32px;\n",
              "    }\n",
              "\n",
              "    .colab-df-convert:hover {\n",
              "      background-color: #E2EBFA;\n",
              "      box-shadow: 0px 1px 2px rgba(60, 64, 67, 0.3), 0px 1px 3px 1px rgba(60, 64, 67, 0.15);\n",
              "      fill: #174EA6;\n",
              "    }\n",
              "\n",
              "    [theme=dark] .colab-df-convert {\n",
              "      background-color: #3B4455;\n",
              "      fill: #D2E3FC;\n",
              "    }\n",
              "\n",
              "    [theme=dark] .colab-df-convert:hover {\n",
              "      background-color: #434B5C;\n",
              "      box-shadow: 0px 1px 3px 1px rgba(0, 0, 0, 0.15);\n",
              "      filter: drop-shadow(0px 1px 2px rgba(0, 0, 0, 0.3));\n",
              "      fill: #FFFFFF;\n",
              "    }\n",
              "  </style>\n",
              "\n",
              "      <script>\n",
              "        const buttonEl =\n",
              "          document.querySelector('#df-75bb381a-aad3-496f-8473-7626f5684ef9 button.colab-df-convert');\n",
              "        buttonEl.style.display =\n",
              "          google.colab.kernel.accessAllowed ? 'block' : 'none';\n",
              "\n",
              "        async function convertToInteractive(key) {\n",
              "          const element = document.querySelector('#df-75bb381a-aad3-496f-8473-7626f5684ef9');\n",
              "          const dataTable =\n",
              "            await google.colab.kernel.invokeFunction('convertToInteractive',\n",
              "                                                     [key], {});\n",
              "          if (!dataTable) return;\n",
              "\n",
              "          const docLinkHtml = 'Like what you see? Visit the ' +\n",
              "            '<a target=\"_blank\" href=https://colab.research.google.com/notebooks/data_table.ipynb>data table notebook</a>'\n",
              "            + ' to learn more about interactive tables.';\n",
              "          element.innerHTML = '';\n",
              "          dataTable['output_type'] = 'display_data';\n",
              "          await google.colab.output.renderOutput(dataTable, element);\n",
              "          const docLink = document.createElement('div');\n",
              "          docLink.innerHTML = docLinkHtml;\n",
              "          element.appendChild(docLink);\n",
              "        }\n",
              "      </script>\n",
              "    </div>\n",
              "  </div>\n",
              "  "
            ]
          },
          "metadata": {},
          "execution_count": 166
        }
      ]
    },
    {
      "cell_type": "code",
      "source": [
        "df_unci.describe()"
      ],
      "metadata": {
        "id": "7m8dzlMdnIvq",
        "colab": {
          "base_uri": "https://localhost:8080/",
          "height": 300
        },
        "outputId": "aa5f65d1-b311-4d06-daa7-e21ed3feb3f1"
      },
      "execution_count": 167,
      "outputs": [
        {
          "output_type": "execute_result",
          "data": {
            "text/plain": [
              "       commodity_code         value\n",
              "count         12252.0  1.225200e+04\n",
              "mean         390120.0  2.075560e+07\n",
              "std               0.0  5.891960e+07\n",
              "min          390120.0  1.000000e+00\n",
              "25%          390120.0  1.199421e+06\n",
              "50%          390120.0  6.183604e+06\n",
              "75%          390120.0  1.814430e+07\n",
              "max          390120.0  1.904695e+09"
            ],
            "text/html": [
              "\n",
              "  <div id=\"df-a7a54260-d2a3-454c-b7ce-9f18a323ce5d\">\n",
              "    <div class=\"colab-df-container\">\n",
              "      <div>\n",
              "<style scoped>\n",
              "    .dataframe tbody tr th:only-of-type {\n",
              "        vertical-align: middle;\n",
              "    }\n",
              "\n",
              "    .dataframe tbody tr th {\n",
              "        vertical-align: top;\n",
              "    }\n",
              "\n",
              "    .dataframe thead th {\n",
              "        text-align: right;\n",
              "    }\n",
              "</style>\n",
              "<table border=\"1\" class=\"dataframe\">\n",
              "  <thead>\n",
              "    <tr style=\"text-align: right;\">\n",
              "      <th></th>\n",
              "      <th>commodity_code</th>\n",
              "      <th>value</th>\n",
              "    </tr>\n",
              "  </thead>\n",
              "  <tbody>\n",
              "    <tr>\n",
              "      <th>count</th>\n",
              "      <td>12252.0</td>\n",
              "      <td>1.225200e+04</td>\n",
              "    </tr>\n",
              "    <tr>\n",
              "      <th>mean</th>\n",
              "      <td>390120.0</td>\n",
              "      <td>2.075560e+07</td>\n",
              "    </tr>\n",
              "    <tr>\n",
              "      <th>std</th>\n",
              "      <td>0.0</td>\n",
              "      <td>5.891960e+07</td>\n",
              "    </tr>\n",
              "    <tr>\n",
              "      <th>min</th>\n",
              "      <td>390120.0</td>\n",
              "      <td>1.000000e+00</td>\n",
              "    </tr>\n",
              "    <tr>\n",
              "      <th>25%</th>\n",
              "      <td>390120.0</td>\n",
              "      <td>1.199421e+06</td>\n",
              "    </tr>\n",
              "    <tr>\n",
              "      <th>50%</th>\n",
              "      <td>390120.0</td>\n",
              "      <td>6.183604e+06</td>\n",
              "    </tr>\n",
              "    <tr>\n",
              "      <th>75%</th>\n",
              "      <td>390120.0</td>\n",
              "      <td>1.814430e+07</td>\n",
              "    </tr>\n",
              "    <tr>\n",
              "      <th>max</th>\n",
              "      <td>390120.0</td>\n",
              "      <td>1.904695e+09</td>\n",
              "    </tr>\n",
              "  </tbody>\n",
              "</table>\n",
              "</div>\n",
              "      <button class=\"colab-df-convert\" onclick=\"convertToInteractive('df-a7a54260-d2a3-454c-b7ce-9f18a323ce5d')\"\n",
              "              title=\"Convert this dataframe to an interactive table.\"\n",
              "              style=\"display:none;\">\n",
              "        \n",
              "  <svg xmlns=\"http://www.w3.org/2000/svg\" height=\"24px\"viewBox=\"0 0 24 24\"\n",
              "       width=\"24px\">\n",
              "    <path d=\"M0 0h24v24H0V0z\" fill=\"none\"/>\n",
              "    <path d=\"M18.56 5.44l.94 2.06.94-2.06 2.06-.94-2.06-.94-.94-2.06-.94 2.06-2.06.94zm-11 1L8.5 8.5l.94-2.06 2.06-.94-2.06-.94L8.5 2.5l-.94 2.06-2.06.94zm10 10l.94 2.06.94-2.06 2.06-.94-2.06-.94-.94-2.06-.94 2.06-2.06.94z\"/><path d=\"M17.41 7.96l-1.37-1.37c-.4-.4-.92-.59-1.43-.59-.52 0-1.04.2-1.43.59L10.3 9.45l-7.72 7.72c-.78.78-.78 2.05 0 2.83L4 21.41c.39.39.9.59 1.41.59.51 0 1.02-.2 1.41-.59l7.78-7.78 2.81-2.81c.8-.78.8-2.07 0-2.86zM5.41 20L4 18.59l7.72-7.72 1.47 1.35L5.41 20z\"/>\n",
              "  </svg>\n",
              "      </button>\n",
              "      \n",
              "  <style>\n",
              "    .colab-df-container {\n",
              "      display:flex;\n",
              "      flex-wrap:wrap;\n",
              "      gap: 12px;\n",
              "    }\n",
              "\n",
              "    .colab-df-convert {\n",
              "      background-color: #E8F0FE;\n",
              "      border: none;\n",
              "      border-radius: 50%;\n",
              "      cursor: pointer;\n",
              "      display: none;\n",
              "      fill: #1967D2;\n",
              "      height: 32px;\n",
              "      padding: 0 0 0 0;\n",
              "      width: 32px;\n",
              "    }\n",
              "\n",
              "    .colab-df-convert:hover {\n",
              "      background-color: #E2EBFA;\n",
              "      box-shadow: 0px 1px 2px rgba(60, 64, 67, 0.3), 0px 1px 3px 1px rgba(60, 64, 67, 0.15);\n",
              "      fill: #174EA6;\n",
              "    }\n",
              "\n",
              "    [theme=dark] .colab-df-convert {\n",
              "      background-color: #3B4455;\n",
              "      fill: #D2E3FC;\n",
              "    }\n",
              "\n",
              "    [theme=dark] .colab-df-convert:hover {\n",
              "      background-color: #434B5C;\n",
              "      box-shadow: 0px 1px 3px 1px rgba(0, 0, 0, 0.15);\n",
              "      filter: drop-shadow(0px 1px 2px rgba(0, 0, 0, 0.3));\n",
              "      fill: #FFFFFF;\n",
              "    }\n",
              "  </style>\n",
              "\n",
              "      <script>\n",
              "        const buttonEl =\n",
              "          document.querySelector('#df-a7a54260-d2a3-454c-b7ce-9f18a323ce5d button.colab-df-convert');\n",
              "        buttonEl.style.display =\n",
              "          google.colab.kernel.accessAllowed ? 'block' : 'none';\n",
              "\n",
              "        async function convertToInteractive(key) {\n",
              "          const element = document.querySelector('#df-a7a54260-d2a3-454c-b7ce-9f18a323ce5d');\n",
              "          const dataTable =\n",
              "            await google.colab.kernel.invokeFunction('convertToInteractive',\n",
              "                                                     [key], {});\n",
              "          if (!dataTable) return;\n",
              "\n",
              "          const docLinkHtml = 'Like what you see? Visit the ' +\n",
              "            '<a target=\"_blank\" href=https://colab.research.google.com/notebooks/data_table.ipynb>data table notebook</a>'\n",
              "            + ' to learn more about interactive tables.';\n",
              "          element.innerHTML = '';\n",
              "          dataTable['output_type'] = 'display_data';\n",
              "          await google.colab.output.renderOutput(dataTable, element);\n",
              "          const docLink = document.createElement('div');\n",
              "          docLink.innerHTML = docLinkHtml;\n",
              "          element.appendChild(docLink);\n",
              "        }\n",
              "      </script>\n",
              "    </div>\n",
              "  </div>\n",
              "  "
            ]
          },
          "metadata": {},
          "execution_count": 167
        }
      ]
    },
    {
      "cell_type": "code",
      "source": [
        "df_unci.info()"
      ],
      "metadata": {
        "colab": {
          "base_uri": "https://localhost:8080/"
        },
        "id": "DLMcri1cF8-2",
        "outputId": "ccc97b36-71a6-4250-8d70-e38ff373b090"
      },
      "execution_count": 168,
      "outputs": [
        {
          "output_type": "stream",
          "name": "stdout",
          "text": [
            "<class 'pandas.core.frame.DataFrame'>\n",
            "RangeIndex: 12252 entries, 0 to 12251\n",
            "Data columns (total 20 columns):\n",
            " #   Column            Non-Null Count  Dtype \n",
            "---  ------            --------------  ----- \n",
            " 0   ts_ref_id         12252 non-null  object\n",
            " 1   reporter_country  12252 non-null  object\n",
            " 2   country_code      12252 non-null  object\n",
            " 3   timestamp         12252 non-null  object\n",
            " 4   url               12252 non-null  object\n",
            " 5   name              12252 non-null  object\n",
            " 6   description       12252 non-null  object\n",
            " 7   region            12252 non-null  object\n",
            " 8   region_code       12252 non-null  object\n",
            " 9   domain            12252 non-null  object\n",
            " 10  time_of_sampling  12252 non-null  object\n",
            " 11  date_of_sampling  12252 non-null  object\n",
            " 12  sample_frequency  12252 non-null  object\n",
            " 13  subdomain         12252 non-null  object\n",
            " 14  source            12252 non-null  object\n",
            " 15  flow              12252 non-null  object\n",
            " 16  partner           12252 non-null  object\n",
            " 17  commodity         12252 non-null  object\n",
            " 18  commodity_code    12252 non-null  int64 \n",
            " 19  value             12252 non-null  int64 \n",
            "dtypes: int64(2), object(18)\n",
            "memory usage: 1.9+ MB\n"
          ]
        }
      ]
    },
    {
      "cell_type": "code",
      "source": [
        "df_unce.info()"
      ],
      "metadata": {
        "colab": {
          "base_uri": "https://localhost:8080/"
        },
        "id": "LYTymkHxF8uX",
        "outputId": "4cc5ef3c-a61f-4dfa-eef9-42c3c5925b7c"
      },
      "execution_count": 169,
      "outputs": [
        {
          "output_type": "stream",
          "name": "stdout",
          "text": [
            "<class 'pandas.core.frame.DataFrame'>\n",
            "RangeIndex: 7560 entries, 0 to 7559\n",
            "Data columns (total 20 columns):\n",
            " #   Column            Non-Null Count  Dtype \n",
            "---  ------            --------------  ----- \n",
            " 0   ts_ref_id         7560 non-null   object\n",
            " 1   reporter_country  7560 non-null   object\n",
            " 2   country_code      7560 non-null   object\n",
            " 3   timestamp         7560 non-null   object\n",
            " 4   url               7560 non-null   object\n",
            " 5   name              7560 non-null   object\n",
            " 6   description       7560 non-null   object\n",
            " 7   region            7560 non-null   object\n",
            " 8   region_code       7560 non-null   object\n",
            " 9   domain            7560 non-null   object\n",
            " 10  time_of_sampling  7560 non-null   object\n",
            " 11  date_of_sampling  7560 non-null   object\n",
            " 12  sample_frequency  7560 non-null   object\n",
            " 13  subdomain         7560 non-null   object\n",
            " 14  source            7560 non-null   object\n",
            " 15  flow              7560 non-null   object\n",
            " 16  partner           7560 non-null   object\n",
            " 17  commodity         7560 non-null   object\n",
            " 18  commodity_code    7560 non-null   int64 \n",
            " 19  value             7560 non-null   int64 \n",
            "dtypes: int64(2), object(18)\n",
            "memory usage: 1.2+ MB\n"
          ]
        }
      ]
    },
    {
      "cell_type": "code",
      "source": [
        "df_unci.columns\n"
      ],
      "metadata": {
        "colab": {
          "base_uri": "https://localhost:8080/"
        },
        "id": "gWL7ePNJmOS9",
        "outputId": "794948ad-1db4-41c1-e376-9dd85b463ceb"
      },
      "execution_count": 170,
      "outputs": [
        {
          "output_type": "execute_result",
          "data": {
            "text/plain": [
              "Index(['ts_ref_id', 'reporter_country', 'country_code', 'timestamp', 'url',\n",
              "       'name', 'description', 'region', 'region_code', 'domain',\n",
              "       'time_of_sampling', 'date_of_sampling', 'sample_frequency', 'subdomain',\n",
              "       'source', 'flow', 'partner', 'commodity', 'commodity_code', 'value'],\n",
              "      dtype='object')"
            ]
          },
          "metadata": {},
          "execution_count": 170
        }
      ]
    },
    {
      "cell_type": "code",
      "source": [
        "df_unce.columns"
      ],
      "metadata": {
        "id": "ckZD8NBlnMbU",
        "colab": {
          "base_uri": "https://localhost:8080/"
        },
        "outputId": "9125ab16-a5a4-4dd8-d96e-b863f38aa2b2"
      },
      "execution_count": 171,
      "outputs": [
        {
          "output_type": "execute_result",
          "data": {
            "text/plain": [
              "Index(['ts_ref_id', 'reporter_country', 'country_code', 'timestamp', 'url',\n",
              "       'name', 'description', 'region', 'region_code', 'domain',\n",
              "       'time_of_sampling', 'date_of_sampling', 'sample_frequency', 'subdomain',\n",
              "       'source', 'flow', 'partner', 'commodity', 'commodity_code', 'value'],\n",
              "      dtype='object')"
            ]
          },
          "metadata": {},
          "execution_count": 171
        }
      ]
    },
    {
      "cell_type": "code",
      "source": [
        "df_unci.nunique()"
      ],
      "metadata": {
        "colab": {
          "base_uri": "https://localhost:8080/"
        },
        "id": "p9blPl0x3bFw",
        "outputId": "de647762-4fb9-4a23-9597-6b38b96d022a"
      },
      "execution_count": 172,
      "outputs": [
        {
          "output_type": "execute_result",
          "data": {
            "text/plain": [
              "ts_ref_id             150\n",
              "reporter_country      150\n",
              "country_code          150\n",
              "timestamp             125\n",
              "url                     1\n",
              "name                    1\n",
              "description           150\n",
              "region                  7\n",
              "region_code             7\n",
              "domain                  1\n",
              "time_of_sampling        1\n",
              "date_of_sampling        1\n",
              "sample_frequency        1\n",
              "subdomain               1\n",
              "source                  1\n",
              "flow                    1\n",
              "partner                 1\n",
              "commodity               1\n",
              "commodity_code          1\n",
              "value               12215\n",
              "dtype: int64"
            ]
          },
          "metadata": {},
          "execution_count": 172
        }
      ]
    },
    {
      "cell_type": "code",
      "source": [
        "df_unce.nunique()"
      ],
      "metadata": {
        "id": "U2nRK2JenPBv",
        "colab": {
          "base_uri": "https://localhost:8080/"
        },
        "outputId": "b5248e45-7936-4543-fb2a-7db9f2f9f79b"
      },
      "execution_count": 173,
      "outputs": [
        {
          "output_type": "execute_result",
          "data": {
            "text/plain": [
              "ts_ref_id            118\n",
              "reporter_country     118\n",
              "country_code         118\n",
              "timestamp            113\n",
              "url                    1\n",
              "name                   1\n",
              "description          118\n",
              "region                 7\n",
              "region_code            7\n",
              "domain                 1\n",
              "time_of_sampling       1\n",
              "date_of_sampling       1\n",
              "sample_frequency       1\n",
              "subdomain              1\n",
              "source                 1\n",
              "flow                   1\n",
              "partner                1\n",
              "commodity              1\n",
              "commodity_code         1\n",
              "value               7480\n",
              "dtype: int64"
            ]
          },
          "metadata": {},
          "execution_count": 173
        }
      ]
    },
    {
      "cell_type": "code",
      "source": [
        "import numpy as np"
      ],
      "metadata": {
        "id": "fD0AkQxA0fC-"
      },
      "execution_count": 174,
      "outputs": []
    },
    {
      "cell_type": "code",
      "source": [
        "df_unci.dtypes"
      ],
      "metadata": {
        "colab": {
          "base_uri": "https://localhost:8080/"
        },
        "id": "ysh4UYZ3eDCs",
        "outputId": "d912e17a-596a-4219-947e-a64b8d273951"
      },
      "execution_count": 175,
      "outputs": [
        {
          "output_type": "execute_result",
          "data": {
            "text/plain": [
              "ts_ref_id           object\n",
              "reporter_country    object\n",
              "country_code        object\n",
              "timestamp           object\n",
              "url                 object\n",
              "name                object\n",
              "description         object\n",
              "region              object\n",
              "region_code         object\n",
              "domain              object\n",
              "time_of_sampling    object\n",
              "date_of_sampling    object\n",
              "sample_frequency    object\n",
              "subdomain           object\n",
              "source              object\n",
              "flow                object\n",
              "partner             object\n",
              "commodity           object\n",
              "commodity_code       int64\n",
              "value                int64\n",
              "dtype: object"
            ]
          },
          "metadata": {},
          "execution_count": 175
        }
      ]
    },
    {
      "cell_type": "code",
      "source": [
        "df_unce.dtypes\n"
      ],
      "metadata": {
        "colab": {
          "base_uri": "https://localhost:8080/"
        },
        "id": "B56v_osAddw5",
        "outputId": "625d276f-d978-48e5-9724-4ddbc11170e9"
      },
      "execution_count": 176,
      "outputs": [
        {
          "output_type": "execute_result",
          "data": {
            "text/plain": [
              "ts_ref_id           object\n",
              "reporter_country    object\n",
              "country_code        object\n",
              "timestamp           object\n",
              "url                 object\n",
              "name                object\n",
              "description         object\n",
              "region              object\n",
              "region_code         object\n",
              "domain              object\n",
              "time_of_sampling    object\n",
              "date_of_sampling    object\n",
              "sample_frequency    object\n",
              "subdomain           object\n",
              "source              object\n",
              "flow                object\n",
              "partner             object\n",
              "commodity           object\n",
              "commodity_code       int64\n",
              "value                int64\n",
              "dtype: object"
            ]
          },
          "metadata": {},
          "execution_count": 176
        }
      ]
    },
    {
      "cell_type": "code",
      "source": [
        "df_unci['timestamp'] =  pd.to_datetime(df_unci['timestamp'], format='%m-%d-%Y')\n",
        "df_unce['timestamp'] =  pd.to_datetime(df_unce['timestamp'], format='%d-%m-%Y')\n"
      ],
      "metadata": {
        "id": "KgGTcvjpG-fy"
      },
      "execution_count": 177,
      "outputs": []
    },
    {
      "cell_type": "code",
      "source": [
        "df_unci['timestamp']"
      ],
      "metadata": {
        "colab": {
          "base_uri": "https://localhost:8080/"
        },
        "id": "7NTgwsKpcwWh",
        "outputId": "f5cb4914-e76f-41af-fade-2edec61ac837"
      },
      "execution_count": 178,
      "outputs": [
        {
          "output_type": "execute_result",
          "data": {
            "text/plain": [
              "0       2012-01-01\n",
              "1       2012-02-01\n",
              "2       2012-03-01\n",
              "3       2012-04-01\n",
              "4       2012-05-01\n",
              "           ...    \n",
              "12247   2022-03-01\n",
              "12248   2022-04-01\n",
              "12249   2022-01-01\n",
              "12250   2022-02-01\n",
              "12251   2022-03-01\n",
              "Name: timestamp, Length: 12252, dtype: datetime64[ns]"
            ]
          },
          "metadata": {},
          "execution_count": 178
        }
      ]
    },
    {
      "cell_type": "code",
      "source": [
        "df_unce['timestamp']"
      ],
      "metadata": {
        "colab": {
          "base_uri": "https://localhost:8080/"
        },
        "id": "cQBHQL98c8Ff",
        "outputId": "c20315f2-3fab-472a-d942-0092f6cf2f06"
      },
      "execution_count": 179,
      "outputs": [
        {
          "output_type": "execute_result",
          "data": {
            "text/plain": [
              "0      2012-04-01\n",
              "1      2012-05-01\n",
              "2      2012-06-01\n",
              "3      2012-01-01\n",
              "4      2012-02-01\n",
              "          ...    \n",
              "7555   2022-03-01\n",
              "7556   2022-04-01\n",
              "7557   2022-01-01\n",
              "7558   2022-02-01\n",
              "7559   2022-03-01\n",
              "Name: timestamp, Length: 7560, dtype: datetime64[ns]"
            ]
          },
          "metadata": {},
          "execution_count": 179
        }
      ]
    },
    {
      "cell_type": "code",
      "source": [
        "print(np.unique(df_unci[['reporter_country', 'region']].values))"
      ],
      "metadata": {
        "colab": {
          "base_uri": "https://localhost:8080/"
        },
        "id": "NFqHVvbuJBGh",
        "outputId": "34ddce1a-3414-4a0f-ad33-38b00d32a3a2"
      },
      "execution_count": 180,
      "outputs": [
        {
          "output_type": "stream",
          "name": "stdout",
          "text": [
            "['Albania' 'Algeria' 'Angola' 'Antigua and Barbuda' 'Argentina' 'Armenia'\n",
            " 'Aruba' 'Australia' 'Austria' 'Azerbaijan' 'Bahrain' 'Barbados' 'Belarus'\n",
            " 'Belgium' 'Belize' 'Benin' 'Bermuda' 'Bolivia' 'Bosnia and Herzegovina'\n",
            " 'Botswana' 'Brazil' 'Brunei' 'Bulgaria' 'Burkina Faso' 'Burundi'\n",
            " 'Cambodia' 'Cameroon' 'Canada' 'Cape Verde' 'Chile' 'China' 'Colombia'\n",
            " 'Comoros' 'Costa Rica' 'Croatia' 'Cyprus' 'Czech Republic' 'Denmark'\n",
            " 'Dominican Republic' 'East Asia & Pacific' 'Ecuador' 'Egypt'\n",
            " 'El Salvador' 'Estonia' 'Ethiopia' 'Europe & Central Asia' 'Fiji'\n",
            " 'Finland' 'France' 'French Polynesia' 'Gambia' 'Georgia' 'Germany'\n",
            " 'Ghana' 'Greece' 'Greenland' 'Grenada' 'Guatemala' 'Guyana' 'Honduras'\n",
            " 'Hong Kong' 'Hungary' 'Iceland' 'India' 'Indonesia' 'Ireland' 'Israel'\n",
            " 'Italy' 'Japan' 'Jordan' 'Kazakhstan' 'Kenya' 'Kuwait' 'Kyrgyzstan'\n",
            " 'Laos' 'Latin America & Caribbean' 'Latvia' 'Lesotho' 'Lithuania'\n",
            " 'Luxembourg' 'Macedonia' 'Madagascar' 'Malawi' 'Malaysia' 'Maldives'\n",
            " 'Mali' 'Malta' 'Mauritania' 'Mauritius' 'Mexico'\n",
            " 'Middle East & North Africa' 'Moldova' 'Mongolia' 'Montenegro' 'Morocco'\n",
            " 'Mozambique' 'Myanmar' 'Namibia' 'Netherlands' 'New Caledonia'\n",
            " 'New Zealand' 'Nicaragua' 'Niger' 'Nigeria' 'North America' 'Norway'\n",
            " 'Oman' 'Pakistan' 'Palestine' 'Panama' 'Paraguay' 'Peru' 'Philippines'\n",
            " 'Poland' 'Portugal' 'Qatar' 'Republic of the Congo' 'Romania' 'Russia'\n",
            " 'Rwanda' 'Saint Kitts and Nevis' 'Samoa' 'Sao Tome and Principe'\n",
            " 'Saudi Arabia' 'Senegal' 'Serbia' 'Seychelles' 'Sierra Leone' 'Singapore'\n",
            " 'Slovakia' 'Slovenia' 'South Africa' 'South Asia' 'South Korea' 'Spain'\n",
            " 'Sri Lanka' 'Sub-Saharan Africa' 'Sudan' 'Sweden' 'Switzerland'\n",
            " 'Tanzania' 'Thailand' 'Togo' 'Trinidad and Tobago' 'Tunisia' 'Turkey'\n",
            " 'Uganda' 'Ukraine' 'United Arab Emirates' 'United Kingdom'\n",
            " 'United States of America' 'Uruguay' 'Uzbekistan' 'Vietnam' 'Yemen'\n",
            " 'Zambia' 'Zimbabwe']\n"
          ]
        }
      ]
    },
    {
      "cell_type": "code",
      "source": [
        "print(np.unique(df_unce[['reporter_country','region']].values))"
      ],
      "metadata": {
        "id": "VjlUs_DKpUOe",
        "colab": {
          "base_uri": "https://localhost:8080/"
        },
        "outputId": "afa54040-3f72-4c67-c79d-3ce657e2a32b"
      },
      "execution_count": 181,
      "outputs": [
        {
          "output_type": "stream",
          "name": "stdout",
          "text": [
            "['Albania' 'Angola' 'Argentina' 'Armenia' 'Australia' 'Austria'\n",
            " 'Azerbaijan' 'Bahrain' 'Barbados' 'Belarus' 'Belgium' 'Benin' 'Bolivia'\n",
            " 'Bosnia and Herzegovina' 'Botswana' 'Brazil' 'Bulgaria' 'Cambodia'\n",
            " 'Cameroon' 'Canada' 'Chile' 'China' 'Colombia' 'Costa Rica' 'Croatia'\n",
            " 'Cyprus' 'Czech Republic' 'Denmark' 'Dominican Republic'\n",
            " 'East Asia & Pacific' 'Ecuador' 'Egypt' 'El Salvador' 'Estonia'\n",
            " 'Ethiopia' 'Europe & Central Asia' 'Finland' 'France' 'Georgia' 'Germany'\n",
            " 'Ghana' 'Greece' 'Greenland' 'Guatemala' 'Honduras' 'Hong Kong' 'Hungary'\n",
            " 'Iceland' 'India' 'Indonesia' 'Ireland' 'Israel' 'Italy' 'Japan' 'Jordan'\n",
            " 'Kazakhstan' 'Kenya' 'Kuwait' 'Kyrgyzstan' 'Laos'\n",
            " 'Latin America & Caribbean' 'Latvia' 'Lithuania' 'Luxembourg' 'Macedonia'\n",
            " 'Madagascar' 'Malaysia' 'Mali' 'Malta' 'Mauritius' 'Mexico'\n",
            " 'Middle East & North Africa' 'Moldova' 'Montenegro' 'Morocco'\n",
            " 'Mozambique' 'Myanmar' 'Namibia' 'Netherlands' 'New Zealand' 'Nicaragua'\n",
            " 'Nigeria' 'North America' 'Norway' 'Oman' 'Pakistan' 'Panama' 'Paraguay'\n",
            " 'Peru' 'Philippines' 'Poland' 'Portugal' 'Romania' 'Russia' 'Rwanda'\n",
            " 'Saudi Arabia' 'Senegal' 'Serbia' 'Singapore' 'Slovakia' 'Slovenia'\n",
            " 'South Africa' 'South Asia' 'South Korea' 'Spain' 'Sri Lanka'\n",
            " 'Sub-Saharan Africa' 'Sudan' 'Sweden' 'Switzerland' 'Tanzania' 'Thailand'\n",
            " 'Togo' 'Trinidad and Tobago' 'Turkey' 'Uganda' 'Ukraine'\n",
            " 'United Arab Emirates' 'United Kingdom' 'United States of America'\n",
            " 'Uruguay' 'Uzbekistan' 'Vietnam' 'Zambia' 'Zimbabwe']\n"
          ]
        }
      ]
    },
    {
      "cell_type": "code",
      "source": [
        "df_unci['reporter_country'].nunique() #we have total 150 countries who imports\n",
        "df_unce['reporter_country'].nunique() #we have total 118 countries who exports"
      ],
      "metadata": {
        "colab": {
          "base_uri": "https://localhost:8080/"
        },
        "id": "nf3O5NWEqzw_",
        "outputId": "ba14c02e-ec1e-47ef-cd2f-b9f5d7b1e872"
      },
      "execution_count": 182,
      "outputs": [
        {
          "output_type": "execute_result",
          "data": {
            "text/plain": [
              "118"
            ]
          },
          "metadata": {},
          "execution_count": 182
        }
      ]
    },
    {
      "cell_type": "code",
      "source": [
        "df_unci.country_code.unique()\n"
      ],
      "metadata": {
        "colab": {
          "base_uri": "https://localhost:8080/"
        },
        "id": "m3bBq1R_ozLb",
        "outputId": "392b4c42-8c86-4ffa-db99-b359568ddded"
      },
      "execution_count": 183,
      "outputs": [
        {
          "output_type": "execute_result",
          "data": {
            "text/plain": [
              "array(['ALB', 'DZA', 'ARG', 'AUS', 'AUT', 'BHR', 'ARM', 'BRB', 'BEL',\n",
              "       'BOL', 'BIH', 'BWA', 'BRA', 'BLZ', 'BRN', 'BGR', 'MMR', 'BDI',\n",
              "       'BLR', 'CMR', 'CAN', 'CPV', 'LKA', 'CHL', 'CHN', 'COM', 'HRV',\n",
              "       'CYP', 'CZE', 'BEN', 'DNK', 'DOM', 'ECU', 'SLV', 'ETH', 'EST',\n",
              "       'FIN', 'FRA', 'GEO', 'GMB', 'DEU', 'GHA', 'GRC', 'GRL', 'GTM',\n",
              "       'GUY', 'HKG', 'HUN', 'ISL', 'IDN', 'IRL', 'ISR', 'ITA', 'JPN',\n",
              "       'KAZ', 'JOR', 'KGZ', 'LVA', 'LTU', 'LUX', 'MDG', 'MYS', 'MLI',\n",
              "       'MLT', 'MUS', 'MEX', 'MDA', 'MNE', 'MOZ', 'NLD', 'ABW', 'NCL',\n",
              "       'NZL', 'NOR', 'PAK', 'PAN', 'PRY', 'PER', 'PHL', 'POL', 'PRT',\n",
              "       'ROU', 'RWA', 'SEN', 'SRB', 'IND', 'SGP', 'SVK', 'SVN', 'ZAF',\n",
              "       'ZWE', 'ESP', 'SDN', 'SWE', 'CHE', 'THA', 'TGO', 'TTO', 'TUR',\n",
              "       'UKR', 'MKD', 'EGY', 'GBR', 'TZA', 'USA', 'URY', 'YEM', 'ZMB',\n",
              "       'AZE', 'KOR', 'MAR', 'NIC', 'RUS', 'COL', 'COG', 'FJI', 'PYF',\n",
              "       'GRD', 'NER', 'QAT', 'TUN', 'WSM', 'AGO', 'ATG', 'KHM', 'KWT',\n",
              "       'LAO', 'OMN', 'SAU', 'VNM', 'UGA', 'BMU', 'HND', 'MWI', 'MNG',\n",
              "       'SLE', 'PSE', 'KEN', 'NAM', 'KNA', 'STP', 'SYC', 'ARE', 'BFA',\n",
              "       'CRI', 'MDV', 'NGA', 'UZB', 'LSO', 'MRT'], dtype=object)"
            ]
          },
          "metadata": {},
          "execution_count": 183
        }
      ]
    },
    {
      "cell_type": "code",
      "source": [
        "df_unce.country_code.unique()"
      ],
      "metadata": {
        "id": "VvdCWDG7ppzp",
        "colab": {
          "base_uri": "https://localhost:8080/"
        },
        "outputId": "1f3a3441-ea52-4173-fd0a-9751d4214818"
      },
      "execution_count": 184,
      "outputs": [
        {
          "output_type": "execute_result",
          "data": {
            "text/plain": [
              "array(['ALB', 'ARG', 'AUS', 'AUT', 'BHR', 'BEL', 'BIH', 'BWA', 'BRA',\n",
              "       'BGR', 'BLR', 'CMR', 'CAN', 'LKA', 'CHL', 'CHN', 'HRV', 'CZE',\n",
              "       'BEN', 'DNK', 'DOM', 'ECU', 'SLV', 'EST', 'FIN', 'FRA', 'GEO',\n",
              "       'DEU', 'GRC', 'GTM', 'HKG', 'HUN', 'IDN', 'IRL', 'ISR', 'ITA',\n",
              "       'JPN', 'KAZ', 'JOR', 'KGZ', 'LVA', 'LTU', 'LUX', 'MYS', 'MLI',\n",
              "       'MLT', 'MUS', 'MEX', 'MDA', 'NLD', 'NZL', 'PAK', 'PRY', 'PER',\n",
              "       'PHL', 'POL', 'PRT', 'ROU', 'RWA', 'SEN', 'SRB', 'IND', 'SGP',\n",
              "       'SVK', 'SVN', 'ZAF', 'ZWE', 'ESP', 'SDN', 'SWE', 'CHE', 'THA',\n",
              "       'TGO', 'TTO', 'TUR', 'UKR', 'MKD', 'EGY', 'GBR', 'TZA', 'USA',\n",
              "       'URY', 'ZMB', 'BRB', 'GHA', 'GRL', 'KOR', 'MDG', 'MNE', 'MAR',\n",
              "       'NIC', 'NOR', 'RUS', 'BOL', 'COL', 'CYP', 'ETH', 'KWT', 'OMN',\n",
              "       'SAU', 'VNM', 'UGA', 'AGO', 'AZE', 'HND', 'ISL', 'MOZ', 'KEN',\n",
              "       'NAM', 'ARE', 'KHM', 'CRI', 'LAO', 'NGA', 'MMR', 'UZB', 'ARM',\n",
              "       'PAN'], dtype=object)"
            ]
          },
          "metadata": {},
          "execution_count": 184
        }
      ]
    },
    {
      "cell_type": "code",
      "source": [
        "df_unci.drop(df_unci.columns[[0,2,4,5,6,8,9,10,11,12,13,14,15,16,17,18]], axis=1, inplace=True)"
      ],
      "metadata": {
        "id": "sfQAcnb6rYLY"
      },
      "execution_count": 185,
      "outputs": []
    },
    {
      "cell_type": "code",
      "source": [
        "df_unce.drop(df_unce.columns[[0,2,4,5,6,8,9,10,11,12,13,14,15,16,17,18]], axis=1, inplace=True)"
      ],
      "metadata": {
        "id": "z4nvfYQ3prom"
      },
      "execution_count": 186,
      "outputs": []
    },
    {
      "cell_type": "code",
      "source": [
        "df_unci.describe()"
      ],
      "metadata": {
        "colab": {
          "base_uri": "https://localhost:8080/",
          "height": 300
        },
        "id": "3YzjMbEcozHG",
        "outputId": "3eae510b-cb93-4384-e8fe-34dca691bb71"
      },
      "execution_count": 187,
      "outputs": [
        {
          "output_type": "execute_result",
          "data": {
            "text/plain": [
              "              value\n",
              "count  1.225200e+04\n",
              "mean   2.075560e+07\n",
              "std    5.891960e+07\n",
              "min    1.000000e+00\n",
              "25%    1.199421e+06\n",
              "50%    6.183604e+06\n",
              "75%    1.814430e+07\n",
              "max    1.904695e+09"
            ],
            "text/html": [
              "\n",
              "  <div id=\"df-d37a0dab-cdd9-4094-88aa-7936053c818d\">\n",
              "    <div class=\"colab-df-container\">\n",
              "      <div>\n",
              "<style scoped>\n",
              "    .dataframe tbody tr th:only-of-type {\n",
              "        vertical-align: middle;\n",
              "    }\n",
              "\n",
              "    .dataframe tbody tr th {\n",
              "        vertical-align: top;\n",
              "    }\n",
              "\n",
              "    .dataframe thead th {\n",
              "        text-align: right;\n",
              "    }\n",
              "</style>\n",
              "<table border=\"1\" class=\"dataframe\">\n",
              "  <thead>\n",
              "    <tr style=\"text-align: right;\">\n",
              "      <th></th>\n",
              "      <th>value</th>\n",
              "    </tr>\n",
              "  </thead>\n",
              "  <tbody>\n",
              "    <tr>\n",
              "      <th>count</th>\n",
              "      <td>1.225200e+04</td>\n",
              "    </tr>\n",
              "    <tr>\n",
              "      <th>mean</th>\n",
              "      <td>2.075560e+07</td>\n",
              "    </tr>\n",
              "    <tr>\n",
              "      <th>std</th>\n",
              "      <td>5.891960e+07</td>\n",
              "    </tr>\n",
              "    <tr>\n",
              "      <th>min</th>\n",
              "      <td>1.000000e+00</td>\n",
              "    </tr>\n",
              "    <tr>\n",
              "      <th>25%</th>\n",
              "      <td>1.199421e+06</td>\n",
              "    </tr>\n",
              "    <tr>\n",
              "      <th>50%</th>\n",
              "      <td>6.183604e+06</td>\n",
              "    </tr>\n",
              "    <tr>\n",
              "      <th>75%</th>\n",
              "      <td>1.814430e+07</td>\n",
              "    </tr>\n",
              "    <tr>\n",
              "      <th>max</th>\n",
              "      <td>1.904695e+09</td>\n",
              "    </tr>\n",
              "  </tbody>\n",
              "</table>\n",
              "</div>\n",
              "      <button class=\"colab-df-convert\" onclick=\"convertToInteractive('df-d37a0dab-cdd9-4094-88aa-7936053c818d')\"\n",
              "              title=\"Convert this dataframe to an interactive table.\"\n",
              "              style=\"display:none;\">\n",
              "        \n",
              "  <svg xmlns=\"http://www.w3.org/2000/svg\" height=\"24px\"viewBox=\"0 0 24 24\"\n",
              "       width=\"24px\">\n",
              "    <path d=\"M0 0h24v24H0V0z\" fill=\"none\"/>\n",
              "    <path d=\"M18.56 5.44l.94 2.06.94-2.06 2.06-.94-2.06-.94-.94-2.06-.94 2.06-2.06.94zm-11 1L8.5 8.5l.94-2.06 2.06-.94-2.06-.94L8.5 2.5l-.94 2.06-2.06.94zm10 10l.94 2.06.94-2.06 2.06-.94-2.06-.94-.94-2.06-.94 2.06-2.06.94z\"/><path d=\"M17.41 7.96l-1.37-1.37c-.4-.4-.92-.59-1.43-.59-.52 0-1.04.2-1.43.59L10.3 9.45l-7.72 7.72c-.78.78-.78 2.05 0 2.83L4 21.41c.39.39.9.59 1.41.59.51 0 1.02-.2 1.41-.59l7.78-7.78 2.81-2.81c.8-.78.8-2.07 0-2.86zM5.41 20L4 18.59l7.72-7.72 1.47 1.35L5.41 20z\"/>\n",
              "  </svg>\n",
              "      </button>\n",
              "      \n",
              "  <style>\n",
              "    .colab-df-container {\n",
              "      display:flex;\n",
              "      flex-wrap:wrap;\n",
              "      gap: 12px;\n",
              "    }\n",
              "\n",
              "    .colab-df-convert {\n",
              "      background-color: #E8F0FE;\n",
              "      border: none;\n",
              "      border-radius: 50%;\n",
              "      cursor: pointer;\n",
              "      display: none;\n",
              "      fill: #1967D2;\n",
              "      height: 32px;\n",
              "      padding: 0 0 0 0;\n",
              "      width: 32px;\n",
              "    }\n",
              "\n",
              "    .colab-df-convert:hover {\n",
              "      background-color: #E2EBFA;\n",
              "      box-shadow: 0px 1px 2px rgba(60, 64, 67, 0.3), 0px 1px 3px 1px rgba(60, 64, 67, 0.15);\n",
              "      fill: #174EA6;\n",
              "    }\n",
              "\n",
              "    [theme=dark] .colab-df-convert {\n",
              "      background-color: #3B4455;\n",
              "      fill: #D2E3FC;\n",
              "    }\n",
              "\n",
              "    [theme=dark] .colab-df-convert:hover {\n",
              "      background-color: #434B5C;\n",
              "      box-shadow: 0px 1px 3px 1px rgba(0, 0, 0, 0.15);\n",
              "      filter: drop-shadow(0px 1px 2px rgba(0, 0, 0, 0.3));\n",
              "      fill: #FFFFFF;\n",
              "    }\n",
              "  </style>\n",
              "\n",
              "      <script>\n",
              "        const buttonEl =\n",
              "          document.querySelector('#df-d37a0dab-cdd9-4094-88aa-7936053c818d button.colab-df-convert');\n",
              "        buttonEl.style.display =\n",
              "          google.colab.kernel.accessAllowed ? 'block' : 'none';\n",
              "\n",
              "        async function convertToInteractive(key) {\n",
              "          const element = document.querySelector('#df-d37a0dab-cdd9-4094-88aa-7936053c818d');\n",
              "          const dataTable =\n",
              "            await google.colab.kernel.invokeFunction('convertToInteractive',\n",
              "                                                     [key], {});\n",
              "          if (!dataTable) return;\n",
              "\n",
              "          const docLinkHtml = 'Like what you see? Visit the ' +\n",
              "            '<a target=\"_blank\" href=https://colab.research.google.com/notebooks/data_table.ipynb>data table notebook</a>'\n",
              "            + ' to learn more about interactive tables.';\n",
              "          element.innerHTML = '';\n",
              "          dataTable['output_type'] = 'display_data';\n",
              "          await google.colab.output.renderOutput(dataTable, element);\n",
              "          const docLink = document.createElement('div');\n",
              "          docLink.innerHTML = docLinkHtml;\n",
              "          element.appendChild(docLink);\n",
              "        }\n",
              "      </script>\n",
              "    </div>\n",
              "  </div>\n",
              "  "
            ]
          },
          "metadata": {},
          "execution_count": 187
        }
      ]
    },
    {
      "cell_type": "code",
      "source": [
        "df_unce.describe()"
      ],
      "metadata": {
        "id": "BEmly3Y4p-A8",
        "colab": {
          "base_uri": "https://localhost:8080/",
          "height": 300
        },
        "outputId": "6a4522ab-dd1a-4cbb-d5ba-2a1ea9c07780"
      },
      "execution_count": 188,
      "outputs": [
        {
          "output_type": "execute_result",
          "data": {
            "text/plain": [
              "              value\n",
              "count  7.560000e+03\n",
              "mean   2.369910e+07\n",
              "std    5.255848e+07\n",
              "min    1.000000e+00\n",
              "25%    1.422378e+05\n",
              "50%    2.192810e+06\n",
              "75%    2.205931e+07\n",
              "max    5.179689e+08"
            ],
            "text/html": [
              "\n",
              "  <div id=\"df-1b756a98-f17f-4c0e-801b-ddb72ab5f1bd\">\n",
              "    <div class=\"colab-df-container\">\n",
              "      <div>\n",
              "<style scoped>\n",
              "    .dataframe tbody tr th:only-of-type {\n",
              "        vertical-align: middle;\n",
              "    }\n",
              "\n",
              "    .dataframe tbody tr th {\n",
              "        vertical-align: top;\n",
              "    }\n",
              "\n",
              "    .dataframe thead th {\n",
              "        text-align: right;\n",
              "    }\n",
              "</style>\n",
              "<table border=\"1\" class=\"dataframe\">\n",
              "  <thead>\n",
              "    <tr style=\"text-align: right;\">\n",
              "      <th></th>\n",
              "      <th>value</th>\n",
              "    </tr>\n",
              "  </thead>\n",
              "  <tbody>\n",
              "    <tr>\n",
              "      <th>count</th>\n",
              "      <td>7.560000e+03</td>\n",
              "    </tr>\n",
              "    <tr>\n",
              "      <th>mean</th>\n",
              "      <td>2.369910e+07</td>\n",
              "    </tr>\n",
              "    <tr>\n",
              "      <th>std</th>\n",
              "      <td>5.255848e+07</td>\n",
              "    </tr>\n",
              "    <tr>\n",
              "      <th>min</th>\n",
              "      <td>1.000000e+00</td>\n",
              "    </tr>\n",
              "    <tr>\n",
              "      <th>25%</th>\n",
              "      <td>1.422378e+05</td>\n",
              "    </tr>\n",
              "    <tr>\n",
              "      <th>50%</th>\n",
              "      <td>2.192810e+06</td>\n",
              "    </tr>\n",
              "    <tr>\n",
              "      <th>75%</th>\n",
              "      <td>2.205931e+07</td>\n",
              "    </tr>\n",
              "    <tr>\n",
              "      <th>max</th>\n",
              "      <td>5.179689e+08</td>\n",
              "    </tr>\n",
              "  </tbody>\n",
              "</table>\n",
              "</div>\n",
              "      <button class=\"colab-df-convert\" onclick=\"convertToInteractive('df-1b756a98-f17f-4c0e-801b-ddb72ab5f1bd')\"\n",
              "              title=\"Convert this dataframe to an interactive table.\"\n",
              "              style=\"display:none;\">\n",
              "        \n",
              "  <svg xmlns=\"http://www.w3.org/2000/svg\" height=\"24px\"viewBox=\"0 0 24 24\"\n",
              "       width=\"24px\">\n",
              "    <path d=\"M0 0h24v24H0V0z\" fill=\"none\"/>\n",
              "    <path d=\"M18.56 5.44l.94 2.06.94-2.06 2.06-.94-2.06-.94-.94-2.06-.94 2.06-2.06.94zm-11 1L8.5 8.5l.94-2.06 2.06-.94-2.06-.94L8.5 2.5l-.94 2.06-2.06.94zm10 10l.94 2.06.94-2.06 2.06-.94-2.06-.94-.94-2.06-.94 2.06-2.06.94z\"/><path d=\"M17.41 7.96l-1.37-1.37c-.4-.4-.92-.59-1.43-.59-.52 0-1.04.2-1.43.59L10.3 9.45l-7.72 7.72c-.78.78-.78 2.05 0 2.83L4 21.41c.39.39.9.59 1.41.59.51 0 1.02-.2 1.41-.59l7.78-7.78 2.81-2.81c.8-.78.8-2.07 0-2.86zM5.41 20L4 18.59l7.72-7.72 1.47 1.35L5.41 20z\"/>\n",
              "  </svg>\n",
              "      </button>\n",
              "      \n",
              "  <style>\n",
              "    .colab-df-container {\n",
              "      display:flex;\n",
              "      flex-wrap:wrap;\n",
              "      gap: 12px;\n",
              "    }\n",
              "\n",
              "    .colab-df-convert {\n",
              "      background-color: #E8F0FE;\n",
              "      border: none;\n",
              "      border-radius: 50%;\n",
              "      cursor: pointer;\n",
              "      display: none;\n",
              "      fill: #1967D2;\n",
              "      height: 32px;\n",
              "      padding: 0 0 0 0;\n",
              "      width: 32px;\n",
              "    }\n",
              "\n",
              "    .colab-df-convert:hover {\n",
              "      background-color: #E2EBFA;\n",
              "      box-shadow: 0px 1px 2px rgba(60, 64, 67, 0.3), 0px 1px 3px 1px rgba(60, 64, 67, 0.15);\n",
              "      fill: #174EA6;\n",
              "    }\n",
              "\n",
              "    [theme=dark] .colab-df-convert {\n",
              "      background-color: #3B4455;\n",
              "      fill: #D2E3FC;\n",
              "    }\n",
              "\n",
              "    [theme=dark] .colab-df-convert:hover {\n",
              "      background-color: #434B5C;\n",
              "      box-shadow: 0px 1px 3px 1px rgba(0, 0, 0, 0.15);\n",
              "      filter: drop-shadow(0px 1px 2px rgba(0, 0, 0, 0.3));\n",
              "      fill: #FFFFFF;\n",
              "    }\n",
              "  </style>\n",
              "\n",
              "      <script>\n",
              "        const buttonEl =\n",
              "          document.querySelector('#df-1b756a98-f17f-4c0e-801b-ddb72ab5f1bd button.colab-df-convert');\n",
              "        buttonEl.style.display =\n",
              "          google.colab.kernel.accessAllowed ? 'block' : 'none';\n",
              "\n",
              "        async function convertToInteractive(key) {\n",
              "          const element = document.querySelector('#df-1b756a98-f17f-4c0e-801b-ddb72ab5f1bd');\n",
              "          const dataTable =\n",
              "            await google.colab.kernel.invokeFunction('convertToInteractive',\n",
              "                                                     [key], {});\n",
              "          if (!dataTable) return;\n",
              "\n",
              "          const docLinkHtml = 'Like what you see? Visit the ' +\n",
              "            '<a target=\"_blank\" href=https://colab.research.google.com/notebooks/data_table.ipynb>data table notebook</a>'\n",
              "            + ' to learn more about interactive tables.';\n",
              "          element.innerHTML = '';\n",
              "          dataTable['output_type'] = 'display_data';\n",
              "          await google.colab.output.renderOutput(dataTable, element);\n",
              "          const docLink = document.createElement('div');\n",
              "          docLink.innerHTML = docLinkHtml;\n",
              "          element.appendChild(docLink);\n",
              "        }\n",
              "      </script>\n",
              "    </div>\n",
              "  </div>\n",
              "  "
            ]
          },
          "metadata": {},
          "execution_count": 188
        }
      ]
    },
    {
      "cell_type": "markdown",
      "source": [
        "\n",
        "Time Intervals: \n",
        "1. 2018-2020\n",
        "2. 2020-2021\n",
        "3. 2022 onwards"
      ],
      "metadata": {
        "id": "gBn3R6N5KCM9"
      }
    },
    {
      "cell_type": "code",
      "source": [
        "df_unci.head()"
      ],
      "metadata": {
        "colab": {
          "base_uri": "https://localhost:8080/",
          "height": 206
        },
        "id": "oj6XbJwHQ1Uk",
        "outputId": "b737cede-8676-456a-d169-cabc157dc5e6"
      },
      "execution_count": 189,
      "outputs": [
        {
          "output_type": "execute_result",
          "data": {
            "text/plain": [
              "  reporter_country  timestamp                 region   value\n",
              "0          Albania 2012-01-01  Europe & Central Asia  459631\n",
              "1          Albania 2012-02-01  Europe & Central Asia  531386\n",
              "2          Albania 2012-03-01  Europe & Central Asia  207120\n",
              "3          Albania 2012-04-01  Europe & Central Asia  460525\n",
              "4          Albania 2012-05-01  Europe & Central Asia  577363"
            ],
            "text/html": [
              "\n",
              "  <div id=\"df-1a6d5b0d-43cb-4329-be63-eb70666659c8\">\n",
              "    <div class=\"colab-df-container\">\n",
              "      <div>\n",
              "<style scoped>\n",
              "    .dataframe tbody tr th:only-of-type {\n",
              "        vertical-align: middle;\n",
              "    }\n",
              "\n",
              "    .dataframe tbody tr th {\n",
              "        vertical-align: top;\n",
              "    }\n",
              "\n",
              "    .dataframe thead th {\n",
              "        text-align: right;\n",
              "    }\n",
              "</style>\n",
              "<table border=\"1\" class=\"dataframe\">\n",
              "  <thead>\n",
              "    <tr style=\"text-align: right;\">\n",
              "      <th></th>\n",
              "      <th>reporter_country</th>\n",
              "      <th>timestamp</th>\n",
              "      <th>region</th>\n",
              "      <th>value</th>\n",
              "    </tr>\n",
              "  </thead>\n",
              "  <tbody>\n",
              "    <tr>\n",
              "      <th>0</th>\n",
              "      <td>Albania</td>\n",
              "      <td>2012-01-01</td>\n",
              "      <td>Europe &amp; Central Asia</td>\n",
              "      <td>459631</td>\n",
              "    </tr>\n",
              "    <tr>\n",
              "      <th>1</th>\n",
              "      <td>Albania</td>\n",
              "      <td>2012-02-01</td>\n",
              "      <td>Europe &amp; Central Asia</td>\n",
              "      <td>531386</td>\n",
              "    </tr>\n",
              "    <tr>\n",
              "      <th>2</th>\n",
              "      <td>Albania</td>\n",
              "      <td>2012-03-01</td>\n",
              "      <td>Europe &amp; Central Asia</td>\n",
              "      <td>207120</td>\n",
              "    </tr>\n",
              "    <tr>\n",
              "      <th>3</th>\n",
              "      <td>Albania</td>\n",
              "      <td>2012-04-01</td>\n",
              "      <td>Europe &amp; Central Asia</td>\n",
              "      <td>460525</td>\n",
              "    </tr>\n",
              "    <tr>\n",
              "      <th>4</th>\n",
              "      <td>Albania</td>\n",
              "      <td>2012-05-01</td>\n",
              "      <td>Europe &amp; Central Asia</td>\n",
              "      <td>577363</td>\n",
              "    </tr>\n",
              "  </tbody>\n",
              "</table>\n",
              "</div>\n",
              "      <button class=\"colab-df-convert\" onclick=\"convertToInteractive('df-1a6d5b0d-43cb-4329-be63-eb70666659c8')\"\n",
              "              title=\"Convert this dataframe to an interactive table.\"\n",
              "              style=\"display:none;\">\n",
              "        \n",
              "  <svg xmlns=\"http://www.w3.org/2000/svg\" height=\"24px\"viewBox=\"0 0 24 24\"\n",
              "       width=\"24px\">\n",
              "    <path d=\"M0 0h24v24H0V0z\" fill=\"none\"/>\n",
              "    <path d=\"M18.56 5.44l.94 2.06.94-2.06 2.06-.94-2.06-.94-.94-2.06-.94 2.06-2.06.94zm-11 1L8.5 8.5l.94-2.06 2.06-.94-2.06-.94L8.5 2.5l-.94 2.06-2.06.94zm10 10l.94 2.06.94-2.06 2.06-.94-2.06-.94-.94-2.06-.94 2.06-2.06.94z\"/><path d=\"M17.41 7.96l-1.37-1.37c-.4-.4-.92-.59-1.43-.59-.52 0-1.04.2-1.43.59L10.3 9.45l-7.72 7.72c-.78.78-.78 2.05 0 2.83L4 21.41c.39.39.9.59 1.41.59.51 0 1.02-.2 1.41-.59l7.78-7.78 2.81-2.81c.8-.78.8-2.07 0-2.86zM5.41 20L4 18.59l7.72-7.72 1.47 1.35L5.41 20z\"/>\n",
              "  </svg>\n",
              "      </button>\n",
              "      \n",
              "  <style>\n",
              "    .colab-df-container {\n",
              "      display:flex;\n",
              "      flex-wrap:wrap;\n",
              "      gap: 12px;\n",
              "    }\n",
              "\n",
              "    .colab-df-convert {\n",
              "      background-color: #E8F0FE;\n",
              "      border: none;\n",
              "      border-radius: 50%;\n",
              "      cursor: pointer;\n",
              "      display: none;\n",
              "      fill: #1967D2;\n",
              "      height: 32px;\n",
              "      padding: 0 0 0 0;\n",
              "      width: 32px;\n",
              "    }\n",
              "\n",
              "    .colab-df-convert:hover {\n",
              "      background-color: #E2EBFA;\n",
              "      box-shadow: 0px 1px 2px rgba(60, 64, 67, 0.3), 0px 1px 3px 1px rgba(60, 64, 67, 0.15);\n",
              "      fill: #174EA6;\n",
              "    }\n",
              "\n",
              "    [theme=dark] .colab-df-convert {\n",
              "      background-color: #3B4455;\n",
              "      fill: #D2E3FC;\n",
              "    }\n",
              "\n",
              "    [theme=dark] .colab-df-convert:hover {\n",
              "      background-color: #434B5C;\n",
              "      box-shadow: 0px 1px 3px 1px rgba(0, 0, 0, 0.15);\n",
              "      filter: drop-shadow(0px 1px 2px rgba(0, 0, 0, 0.3));\n",
              "      fill: #FFFFFF;\n",
              "    }\n",
              "  </style>\n",
              "\n",
              "      <script>\n",
              "        const buttonEl =\n",
              "          document.querySelector('#df-1a6d5b0d-43cb-4329-be63-eb70666659c8 button.colab-df-convert');\n",
              "        buttonEl.style.display =\n",
              "          google.colab.kernel.accessAllowed ? 'block' : 'none';\n",
              "\n",
              "        async function convertToInteractive(key) {\n",
              "          const element = document.querySelector('#df-1a6d5b0d-43cb-4329-be63-eb70666659c8');\n",
              "          const dataTable =\n",
              "            await google.colab.kernel.invokeFunction('convertToInteractive',\n",
              "                                                     [key], {});\n",
              "          if (!dataTable) return;\n",
              "\n",
              "          const docLinkHtml = 'Like what you see? Visit the ' +\n",
              "            '<a target=\"_blank\" href=https://colab.research.google.com/notebooks/data_table.ipynb>data table notebook</a>'\n",
              "            + ' to learn more about interactive tables.';\n",
              "          element.innerHTML = '';\n",
              "          dataTable['output_type'] = 'display_data';\n",
              "          await google.colab.output.renderOutput(dataTable, element);\n",
              "          const docLink = document.createElement('div');\n",
              "          docLink.innerHTML = docLinkHtml;\n",
              "          element.appendChild(docLink);\n",
              "        }\n",
              "      </script>\n",
              "    </div>\n",
              "  </div>\n",
              "  "
            ]
          },
          "metadata": {},
          "execution_count": 189
        }
      ]
    },
    {
      "cell_type": "code",
      "source": [
        "df_unce.head()"
      ],
      "metadata": {
        "id": "diiYxo5rqDjm",
        "colab": {
          "base_uri": "https://localhost:8080/",
          "height": 206
        },
        "outputId": "fde4ba78-1606-418e-a417-fe5ab6942cb1"
      },
      "execution_count": 190,
      "outputs": [
        {
          "output_type": "execute_result",
          "data": {
            "text/plain": [
              "  reporter_country  timestamp                     region     value\n",
              "0          Albania 2012-04-01      Europe & Central Asia      4224\n",
              "1          Albania 2012-05-01      Europe & Central Asia     18573\n",
              "2          Albania 2012-06-01      Europe & Central Asia     28735\n",
              "3        Argentina 2012-01-01  Latin America & Caribbean  12264243\n",
              "4        Argentina 2012-02-01  Latin America & Caribbean  11085719"
            ],
            "text/html": [
              "\n",
              "  <div id=\"df-e5515539-7dcc-4d07-afd7-9868b9bab083\">\n",
              "    <div class=\"colab-df-container\">\n",
              "      <div>\n",
              "<style scoped>\n",
              "    .dataframe tbody tr th:only-of-type {\n",
              "        vertical-align: middle;\n",
              "    }\n",
              "\n",
              "    .dataframe tbody tr th {\n",
              "        vertical-align: top;\n",
              "    }\n",
              "\n",
              "    .dataframe thead th {\n",
              "        text-align: right;\n",
              "    }\n",
              "</style>\n",
              "<table border=\"1\" class=\"dataframe\">\n",
              "  <thead>\n",
              "    <tr style=\"text-align: right;\">\n",
              "      <th></th>\n",
              "      <th>reporter_country</th>\n",
              "      <th>timestamp</th>\n",
              "      <th>region</th>\n",
              "      <th>value</th>\n",
              "    </tr>\n",
              "  </thead>\n",
              "  <tbody>\n",
              "    <tr>\n",
              "      <th>0</th>\n",
              "      <td>Albania</td>\n",
              "      <td>2012-04-01</td>\n",
              "      <td>Europe &amp; Central Asia</td>\n",
              "      <td>4224</td>\n",
              "    </tr>\n",
              "    <tr>\n",
              "      <th>1</th>\n",
              "      <td>Albania</td>\n",
              "      <td>2012-05-01</td>\n",
              "      <td>Europe &amp; Central Asia</td>\n",
              "      <td>18573</td>\n",
              "    </tr>\n",
              "    <tr>\n",
              "      <th>2</th>\n",
              "      <td>Albania</td>\n",
              "      <td>2012-06-01</td>\n",
              "      <td>Europe &amp; Central Asia</td>\n",
              "      <td>28735</td>\n",
              "    </tr>\n",
              "    <tr>\n",
              "      <th>3</th>\n",
              "      <td>Argentina</td>\n",
              "      <td>2012-01-01</td>\n",
              "      <td>Latin America &amp; Caribbean</td>\n",
              "      <td>12264243</td>\n",
              "    </tr>\n",
              "    <tr>\n",
              "      <th>4</th>\n",
              "      <td>Argentina</td>\n",
              "      <td>2012-02-01</td>\n",
              "      <td>Latin America &amp; Caribbean</td>\n",
              "      <td>11085719</td>\n",
              "    </tr>\n",
              "  </tbody>\n",
              "</table>\n",
              "</div>\n",
              "      <button class=\"colab-df-convert\" onclick=\"convertToInteractive('df-e5515539-7dcc-4d07-afd7-9868b9bab083')\"\n",
              "              title=\"Convert this dataframe to an interactive table.\"\n",
              "              style=\"display:none;\">\n",
              "        \n",
              "  <svg xmlns=\"http://www.w3.org/2000/svg\" height=\"24px\"viewBox=\"0 0 24 24\"\n",
              "       width=\"24px\">\n",
              "    <path d=\"M0 0h24v24H0V0z\" fill=\"none\"/>\n",
              "    <path d=\"M18.56 5.44l.94 2.06.94-2.06 2.06-.94-2.06-.94-.94-2.06-.94 2.06-2.06.94zm-11 1L8.5 8.5l.94-2.06 2.06-.94-2.06-.94L8.5 2.5l-.94 2.06-2.06.94zm10 10l.94 2.06.94-2.06 2.06-.94-2.06-.94-.94-2.06-.94 2.06-2.06.94z\"/><path d=\"M17.41 7.96l-1.37-1.37c-.4-.4-.92-.59-1.43-.59-.52 0-1.04.2-1.43.59L10.3 9.45l-7.72 7.72c-.78.78-.78 2.05 0 2.83L4 21.41c.39.39.9.59 1.41.59.51 0 1.02-.2 1.41-.59l7.78-7.78 2.81-2.81c.8-.78.8-2.07 0-2.86zM5.41 20L4 18.59l7.72-7.72 1.47 1.35L5.41 20z\"/>\n",
              "  </svg>\n",
              "      </button>\n",
              "      \n",
              "  <style>\n",
              "    .colab-df-container {\n",
              "      display:flex;\n",
              "      flex-wrap:wrap;\n",
              "      gap: 12px;\n",
              "    }\n",
              "\n",
              "    .colab-df-convert {\n",
              "      background-color: #E8F0FE;\n",
              "      border: none;\n",
              "      border-radius: 50%;\n",
              "      cursor: pointer;\n",
              "      display: none;\n",
              "      fill: #1967D2;\n",
              "      height: 32px;\n",
              "      padding: 0 0 0 0;\n",
              "      width: 32px;\n",
              "    }\n",
              "\n",
              "    .colab-df-convert:hover {\n",
              "      background-color: #E2EBFA;\n",
              "      box-shadow: 0px 1px 2px rgba(60, 64, 67, 0.3), 0px 1px 3px 1px rgba(60, 64, 67, 0.15);\n",
              "      fill: #174EA6;\n",
              "    }\n",
              "\n",
              "    [theme=dark] .colab-df-convert {\n",
              "      background-color: #3B4455;\n",
              "      fill: #D2E3FC;\n",
              "    }\n",
              "\n",
              "    [theme=dark] .colab-df-convert:hover {\n",
              "      background-color: #434B5C;\n",
              "      box-shadow: 0px 1px 3px 1px rgba(0, 0, 0, 0.15);\n",
              "      filter: drop-shadow(0px 1px 2px rgba(0, 0, 0, 0.3));\n",
              "      fill: #FFFFFF;\n",
              "    }\n",
              "  </style>\n",
              "\n",
              "      <script>\n",
              "        const buttonEl =\n",
              "          document.querySelector('#df-e5515539-7dcc-4d07-afd7-9868b9bab083 button.colab-df-convert');\n",
              "        buttonEl.style.display =\n",
              "          google.colab.kernel.accessAllowed ? 'block' : 'none';\n",
              "\n",
              "        async function convertToInteractive(key) {\n",
              "          const element = document.querySelector('#df-e5515539-7dcc-4d07-afd7-9868b9bab083');\n",
              "          const dataTable =\n",
              "            await google.colab.kernel.invokeFunction('convertToInteractive',\n",
              "                                                     [key], {});\n",
              "          if (!dataTable) return;\n",
              "\n",
              "          const docLinkHtml = 'Like what you see? Visit the ' +\n",
              "            '<a target=\"_blank\" href=https://colab.research.google.com/notebooks/data_table.ipynb>data table notebook</a>'\n",
              "            + ' to learn more about interactive tables.';\n",
              "          element.innerHTML = '';\n",
              "          dataTable['output_type'] = 'display_data';\n",
              "          await google.colab.output.renderOutput(dataTable, element);\n",
              "          const docLink = document.createElement('div');\n",
              "          docLink.innerHTML = docLinkHtml;\n",
              "          element.appendChild(docLink);\n",
              "        }\n",
              "      </script>\n",
              "    </div>\n",
              "  </div>\n",
              "  "
            ]
          },
          "metadata": {},
          "execution_count": 190
        }
      ]
    },
    {
      "cell_type": "code",
      "source": [
        "df_unci.info()"
      ],
      "metadata": {
        "colab": {
          "base_uri": "https://localhost:8080/"
        },
        "id": "ebwAgGwFU8WN",
        "outputId": "e3810e37-46d6-4ba7-a0ba-b3b216821704"
      },
      "execution_count": 191,
      "outputs": [
        {
          "output_type": "stream",
          "name": "stdout",
          "text": [
            "<class 'pandas.core.frame.DataFrame'>\n",
            "RangeIndex: 12252 entries, 0 to 12251\n",
            "Data columns (total 4 columns):\n",
            " #   Column            Non-Null Count  Dtype         \n",
            "---  ------            --------------  -----         \n",
            " 0   reporter_country  12252 non-null  object        \n",
            " 1   timestamp         12252 non-null  datetime64[ns]\n",
            " 2   region            12252 non-null  object        \n",
            " 3   value             12252 non-null  int64         \n",
            "dtypes: datetime64[ns](1), int64(1), object(2)\n",
            "memory usage: 383.0+ KB\n"
          ]
        }
      ]
    },
    {
      "cell_type": "code",
      "source": [
        "df_unce.info()"
      ],
      "metadata": {
        "id": "BhL5e_3xrkSc",
        "colab": {
          "base_uri": "https://localhost:8080/"
        },
        "outputId": "e98fe73b-632d-4d87-a840-e2744615c025"
      },
      "execution_count": 192,
      "outputs": [
        {
          "output_type": "stream",
          "name": "stdout",
          "text": [
            "<class 'pandas.core.frame.DataFrame'>\n",
            "RangeIndex: 7560 entries, 0 to 7559\n",
            "Data columns (total 4 columns):\n",
            " #   Column            Non-Null Count  Dtype         \n",
            "---  ------            --------------  -----         \n",
            " 0   reporter_country  7560 non-null   object        \n",
            " 1   timestamp         7560 non-null   datetime64[ns]\n",
            " 2   region            7560 non-null   object        \n",
            " 3   value             7560 non-null   int64         \n",
            "dtypes: datetime64[ns](1), int64(1), object(2)\n",
            "memory usage: 236.4+ KB\n"
          ]
        }
      ]
    },
    {
      "cell_type": "markdown",
      "source": [
        "##Imports"
      ],
      "metadata": {
        "id": "1know8t0tBf8"
      }
    },
    {
      "cell_type": "markdown",
      "source": [
        "date in format of YYYY-MM-DD"
      ],
      "metadata": {
        "id": "ncKTQ5W1nyiW"
      }
    },
    {
      "cell_type": "code",
      "source": [
        "#@title Date fields\n",
        "start_date = '2018-01-01' #@param {type:\"date\"}\n",
        "end_date = '2019-12-01' #@param {type:\"date\"}\n",
        "\n",
        "mask = (df_unci['timestamp'] >= start_date) & (df_unci['timestamp'] <= end_date)\n",
        "df_interval1 = df_unci.loc[mask]\n",
        "print(df_interval1.head(10))"
      ],
      "metadata": {
        "colab": {
          "base_uri": "https://localhost:8080/"
        },
        "id": "NDMJBTMmJ_2I",
        "outputId": "a3b25627-fb7f-4ae3-b445-a7dc5e9c18c6"
      },
      "execution_count": 193,
      "outputs": [
        {
          "output_type": "stream",
          "name": "stdout",
          "text": [
            "     reporter_country  timestamp              region    value\n",
            "7353           Angola 2018-01-01  Sub-Saharan Africa  1101583\n",
            "7354           Angola 2018-02-01  Sub-Saharan Africa  2307606\n",
            "7355           Angola 2018-03-01  Sub-Saharan Africa   866795\n",
            "7356           Angola 2018-04-01  Sub-Saharan Africa  4376235\n",
            "7357           Angola 2018-05-01  Sub-Saharan Africa  2099515\n",
            "7358           Angola 2018-06-01  Sub-Saharan Africa  3247615\n",
            "7359           Angola 2018-07-01  Sub-Saharan Africa  3686936\n",
            "7360           Angola 2018-08-01  Sub-Saharan Africa  1639968\n",
            "7361           Angola 2018-09-01  Sub-Saharan Africa  1068328\n",
            "7362           Angola 2018-10-01  Sub-Saharan Africa  4101509\n"
          ]
        }
      ]
    },
    {
      "cell_type": "markdown",
      "source": [
        "##Exports"
      ],
      "metadata": {
        "id": "stnz8h1ctAEX"
      }
    },
    {
      "cell_type": "markdown",
      "source": [
        "SET THE SAME DATAS AS SELECTED FOR IMPORTS DATA"
      ],
      "metadata": {
        "id": "NOlTOA1soU1R"
      }
    },
    {
      "cell_type": "code",
      "source": [
        "#@title Date fields\n",
        "start_date = '2018-01-01' #@param {type:\"date\"}\n",
        "end_date = '2019-12-01'   #@param {type:\"date\"}\n",
        "mask = (df_unce['timestamp'] >= start_date) & (df_unce['timestamp'] <= end_date)\n",
        "df_interval1e = df_unce.loc[mask]\n",
        "print(df_interval1e.head(10))\n"
      ],
      "metadata": {
        "colab": {
          "base_uri": "https://localhost:8080/"
        },
        "id": "2dZVdOe4s-gn",
        "outputId": "a729137d-ef0d-49a8-c21f-c695afc17909"
      },
      "execution_count": 194,
      "outputs": [
        {
          "output_type": "stream",
          "name": "stdout",
          "text": [
            "     reporter_country  timestamp              region   value\n",
            "4146           Angola 2018-01-01  Sub-Saharan Africa   52419\n",
            "4147           Angola 2018-02-01  Sub-Saharan Africa  223364\n",
            "4148           Angola 2018-03-01  Sub-Saharan Africa  134555\n",
            "4149           Angola 2018-04-01  Sub-Saharan Africa   73583\n",
            "4150           Angola 2018-05-01  Sub-Saharan Africa   87171\n",
            "4151           Angola 2018-06-01  Sub-Saharan Africa   89113\n",
            "4152           Angola 2018-07-01  Sub-Saharan Africa   59037\n",
            "4153           Angola 2018-08-01  Sub-Saharan Africa   58674\n",
            "4154           Angola 2018-10-01  Sub-Saharan Africa   44252\n",
            "4155           Angola 2018-12-01  Sub-Saharan Africa   30208\n"
          ]
        }
      ]
    },
    {
      "cell_type": "code",
      "source": [
        "df_interval1.info()"
      ],
      "metadata": {
        "colab": {
          "base_uri": "https://localhost:8080/"
        },
        "id": "nBu4WOtJJ_yn",
        "outputId": "da1155a7-c8b3-4b1d-e16a-e2adb6c2ab0a"
      },
      "execution_count": 195,
      "outputs": [
        {
          "output_type": "stream",
          "name": "stdout",
          "text": [
            "<class 'pandas.core.frame.DataFrame'>\n",
            "Int64Index: 2563 entries, 7353 to 9915\n",
            "Data columns (total 4 columns):\n",
            " #   Column            Non-Null Count  Dtype         \n",
            "---  ------            --------------  -----         \n",
            " 0   reporter_country  2563 non-null   object        \n",
            " 1   timestamp         2563 non-null   datetime64[ns]\n",
            " 2   region            2563 non-null   object        \n",
            " 3   value             2563 non-null   int64         \n",
            "dtypes: datetime64[ns](1), int64(1), object(2)\n",
            "memory usage: 100.1+ KB\n"
          ]
        }
      ]
    },
    {
      "cell_type": "code",
      "source": [
        "df_interval1e.info()"
      ],
      "metadata": {
        "colab": {
          "base_uri": "https://localhost:8080/"
        },
        "id": "NEQ1-JSuttgg",
        "outputId": "8365f135-9864-48de-b522-343d14ee39ec"
      },
      "execution_count": 196,
      "outputs": [
        {
          "output_type": "stream",
          "name": "stdout",
          "text": [
            "<class 'pandas.core.frame.DataFrame'>\n",
            "Int64Index: 1714 entries, 4146 to 5859\n",
            "Data columns (total 4 columns):\n",
            " #   Column            Non-Null Count  Dtype         \n",
            "---  ------            --------------  -----         \n",
            " 0   reporter_country  1714 non-null   object        \n",
            " 1   timestamp         1714 non-null   datetime64[ns]\n",
            " 2   region            1714 non-null   object        \n",
            " 3   value             1714 non-null   int64         \n",
            "dtypes: datetime64[ns](1), int64(1), object(2)\n",
            "memory usage: 67.0+ KB\n"
          ]
        }
      ]
    },
    {
      "cell_type": "code",
      "source": [
        "df_interval1.isnull().sum()"
      ],
      "metadata": {
        "colab": {
          "base_uri": "https://localhost:8080/"
        },
        "id": "QPi2_ZrBJ_wS",
        "outputId": "2256489e-05ba-4688-cf91-297c25b269f1"
      },
      "execution_count": 197,
      "outputs": [
        {
          "output_type": "execute_result",
          "data": {
            "text/plain": [
              "reporter_country    0\n",
              "timestamp           0\n",
              "region              0\n",
              "value               0\n",
              "dtype: int64"
            ]
          },
          "metadata": {},
          "execution_count": 197
        }
      ]
    },
    {
      "cell_type": "code",
      "source": [
        "df_interval1e.isnull().sum()"
      ],
      "metadata": {
        "colab": {
          "base_uri": "https://localhost:8080/"
        },
        "id": "TFBJUclvt7h8",
        "outputId": "0b7a5b9f-76bb-487c-a172-9444fef6866e"
      },
      "execution_count": 198,
      "outputs": [
        {
          "output_type": "execute_result",
          "data": {
            "text/plain": [
              "reporter_country    0\n",
              "timestamp           0\n",
              "region              0\n",
              "value               0\n",
              "dtype: int64"
            ]
          },
          "metadata": {},
          "execution_count": 198
        }
      ]
    },
    {
      "cell_type": "code",
      "source": [
        "df_interval1[df_interval1.value==0].count()"
      ],
      "metadata": {
        "colab": {
          "base_uri": "https://localhost:8080/"
        },
        "id": "leTMvUWEYOrt",
        "outputId": "2174d672-d94b-4a51-b9b7-562a7c01e2be"
      },
      "execution_count": 199,
      "outputs": [
        {
          "output_type": "execute_result",
          "data": {
            "text/plain": [
              "reporter_country    0\n",
              "timestamp           0\n",
              "region              0\n",
              "value               0\n",
              "dtype: int64"
            ]
          },
          "metadata": {},
          "execution_count": 199
        }
      ]
    },
    {
      "cell_type": "code",
      "source": [
        "df_interval1e[df_interval1e.value==0].count()"
      ],
      "metadata": {
        "colab": {
          "base_uri": "https://localhost:8080/"
        },
        "id": "_iFCJyagt-2e",
        "outputId": "d1667d94-fd3e-4aef-e34c-94479ef39816"
      },
      "execution_count": 200,
      "outputs": [
        {
          "output_type": "execute_result",
          "data": {
            "text/plain": [
              "reporter_country    0\n",
              "timestamp           0\n",
              "region              0\n",
              "value               0\n",
              "dtype: int64"
            ]
          },
          "metadata": {},
          "execution_count": 200
        }
      ]
    },
    {
      "cell_type": "code",
      "source": [
        "print(\"Duplicate imports  : \"+str(df_interval1.duplicated().sum()))\n",
        "print(\"Duplicate exports  : \"+str(df_interval1e.duplicated().sum()))"
      ],
      "metadata": {
        "colab": {
          "base_uri": "https://localhost:8080/"
        },
        "id": "S4tFTgpbYOpn",
        "outputId": "858877e1-7ca7-4b49-ad52-d64b0e4cd73c"
      },
      "execution_count": 201,
      "outputs": [
        {
          "output_type": "stream",
          "name": "stdout",
          "text": [
            "Duplicate imports  : 0\n",
            "Duplicate exports  : 0\n"
          ]
        }
      ]
    },
    {
      "cell_type": "code",
      "source": [
        "import numpy as np \n",
        "import pandas as pd \n",
        "\n",
        "# charts\n",
        "import seaborn as sns \n",
        "sns.set_style(\"whitegrid\")\n",
        "import matplotlib.pyplot as plt\n",
        "import plotly.express as px\n",
        "from plotly.subplots import make_subplots\n",
        "import plotly.graph_objects as go\n",
        "\n",
        "%matplotlib inline\n",
        "\n",
        "#ignore warning \n",
        "import warnings\n",
        "warnings.filterwarnings(\"ignore\")\n"
      ],
      "metadata": {
        "id": "JQZDnL7NcumD"
      },
      "execution_count": 202,
      "outputs": []
    },
    {
      "cell_type": "code",
      "source": [
        "df_import_temp = df_interval1.copy(deep=True)\n",
        "\n",
        "df_import_temp['reporter_country_sum'] = df_import_temp['value'].groupby(df_import_temp['reporter_country']).transform('sum')\n",
        "df_import_temp.drop(['value','timestamp','region'],axis=1,inplace=True)\n",
        "\n",
        "df_import_temp.sort_values(by='reporter_country_sum',inplace=True,ascending=False)\n",
        "\n",
        "df_import_temp.drop_duplicates(inplace=True)\n"
      ],
      "metadata": {
        "id": "P-IlQV4rYOog"
      },
      "execution_count": 203,
      "outputs": []
    },
    {
      "cell_type": "code",
      "source": [
        "df_export_temp = df_interval1e.copy(deep=True)\n",
        "\n",
        "df_export_temp['reporter_country_sum'] = df_export_temp['value'].groupby(df_export_temp['reporter_country']).transform('sum')\n",
        "df_export_temp.drop(['value','timestamp','region'],axis=1,inplace=True)\n",
        "\n",
        "df_export_temp.sort_values(by='reporter_country_sum',inplace=True,ascending=False)\n",
        "\n",
        "df_export_temp.drop_duplicates(inplace=True)"
      ],
      "metadata": {
        "id": "pMHYZXOiudeh"
      },
      "execution_count": 204,
      "outputs": []
    },
    {
      "cell_type": "code",
      "source": [
        "#@title Number fields { run: \"auto\" }\n",
        "df_import_temp['reporter_country'] = df_import_temp['reporter_country'].apply(lambda x:x.split()[0])\n",
        "Top_n_Import_Countries=20 #@param {type:\"number\"}\n",
        "px.bar(data_frame=df_import_temp.head(Top_n_Import_Countries),y='reporter_country', x='reporter_country_sum', orientation='h',                   \n",
        "       color='reporter_country_sum', title='Expensive countries Imports Between 2018-20 According to their Aggregate Value',\n",
        "       labels={'reporter_country_sum':'reporter_country Value in Billion US $'})              "
      ],
      "metadata": {
        "colab": {
          "base_uri": "https://localhost:8080/",
          "height": 542
        },
        "id": "JKs2lVNaYOlE",
        "outputId": "85e41406-93fb-4731-c8af-66b69962b6f3"
      },
      "execution_count": 205,
      "outputs": [
        {
          "output_type": "display_data",
          "data": {
            "text/html": [
              "<html>\n",
              "<head><meta charset=\"utf-8\" /></head>\n",
              "<body>\n",
              "    <div>            <script src=\"https://cdnjs.cloudflare.com/ajax/libs/mathjax/2.7.5/MathJax.js?config=TeX-AMS-MML_SVG\"></script><script type=\"text/javascript\">if (window.MathJax) {MathJax.Hub.Config({SVG: {font: \"STIX-Web\"}});}</script>                <script type=\"text/javascript\">window.PlotlyConfig = {MathJaxConfig: 'local'};</script>\n",
              "        <script src=\"https://cdn.plot.ly/plotly-2.8.3.min.js\"></script>                <div id=\"7e168022-7d04-4b8b-9a16-163af74cf22e\" class=\"plotly-graph-div\" style=\"height:525px; width:100%;\"></div>            <script type=\"text/javascript\">                                    window.PLOTLYENV=window.PLOTLYENV || {};                                    if (document.getElementById(\"7e168022-7d04-4b8b-9a16-163af74cf22e\")) {                    Plotly.newPlot(                        \"7e168022-7d04-4b8b-9a16-163af74cf22e\",                        [{\"alignmentgroup\":\"True\",\"hovertemplate\":\"reporter_country Value in Billion US $=%{marker.color}<br>reporter_country=%{y}<extra></extra>\",\"legendgroup\":\"\",\"marker\":{\"color\":[17105940723,2977806599,2805154828,1832518544,1720641992,1676340959,1629987967,1606268566,1577071926,1568558811,1425159395,1374486425,1304526415,1106797760,1085807837,1052636892,956892012,844274763,657093944,614934807],\"coloraxis\":\"coloraxis\",\"pattern\":{\"shape\":\"\"}},\"name\":\"\",\"offsetgroup\":\"\",\"orientation\":\"h\",\"showlegend\":false,\"textposition\":\"auto\",\"x\":[17105940723,2977806599,2805154828,1832518544,1720641992,1676340959,1629987967,1606268566,1577071926,1568558811,1425159395,1374486425,1304526415,1106797760,1085807837,1052636892,956892012,844274763,657093944,614934807],\"xaxis\":\"x\",\"y\":[\"China\",\"United\",\"Germany\",\"Italy\",\"Mexico\",\"Singapore\",\"Turkey\",\"United\",\"Vietnam\",\"Malaysia\",\"India\",\"France\",\"Spain\",\"Indonesia\",\"Canada\",\"Belgium\",\"Poland\",\"Russia\",\"Brazil\",\"United\"],\"yaxis\":\"y\",\"type\":\"bar\"}],                        {\"template\":{\"data\":{\"bar\":[{\"error_x\":{\"color\":\"#2a3f5f\"},\"error_y\":{\"color\":\"#2a3f5f\"},\"marker\":{\"line\":{\"color\":\"#E5ECF6\",\"width\":0.5},\"pattern\":{\"fillmode\":\"overlay\",\"size\":10,\"solidity\":0.2}},\"type\":\"bar\"}],\"barpolar\":[{\"marker\":{\"line\":{\"color\":\"#E5ECF6\",\"width\":0.5},\"pattern\":{\"fillmode\":\"overlay\",\"size\":10,\"solidity\":0.2}},\"type\":\"barpolar\"}],\"carpet\":[{\"aaxis\":{\"endlinecolor\":\"#2a3f5f\",\"gridcolor\":\"white\",\"linecolor\":\"white\",\"minorgridcolor\":\"white\",\"startlinecolor\":\"#2a3f5f\"},\"baxis\":{\"endlinecolor\":\"#2a3f5f\",\"gridcolor\":\"white\",\"linecolor\":\"white\",\"minorgridcolor\":\"white\",\"startlinecolor\":\"#2a3f5f\"},\"type\":\"carpet\"}],\"choropleth\":[{\"colorbar\":{\"outlinewidth\":0,\"ticks\":\"\"},\"type\":\"choropleth\"}],\"contour\":[{\"colorbar\":{\"outlinewidth\":0,\"ticks\":\"\"},\"colorscale\":[[0.0,\"#0d0887\"],[0.1111111111111111,\"#46039f\"],[0.2222222222222222,\"#7201a8\"],[0.3333333333333333,\"#9c179e\"],[0.4444444444444444,\"#bd3786\"],[0.5555555555555556,\"#d8576b\"],[0.6666666666666666,\"#ed7953\"],[0.7777777777777778,\"#fb9f3a\"],[0.8888888888888888,\"#fdca26\"],[1.0,\"#f0f921\"]],\"type\":\"contour\"}],\"contourcarpet\":[{\"colorbar\":{\"outlinewidth\":0,\"ticks\":\"\"},\"type\":\"contourcarpet\"}],\"heatmap\":[{\"colorbar\":{\"outlinewidth\":0,\"ticks\":\"\"},\"colorscale\":[[0.0,\"#0d0887\"],[0.1111111111111111,\"#46039f\"],[0.2222222222222222,\"#7201a8\"],[0.3333333333333333,\"#9c179e\"],[0.4444444444444444,\"#bd3786\"],[0.5555555555555556,\"#d8576b\"],[0.6666666666666666,\"#ed7953\"],[0.7777777777777778,\"#fb9f3a\"],[0.8888888888888888,\"#fdca26\"],[1.0,\"#f0f921\"]],\"type\":\"heatmap\"}],\"heatmapgl\":[{\"colorbar\":{\"outlinewidth\":0,\"ticks\":\"\"},\"colorscale\":[[0.0,\"#0d0887\"],[0.1111111111111111,\"#46039f\"],[0.2222222222222222,\"#7201a8\"],[0.3333333333333333,\"#9c179e\"],[0.4444444444444444,\"#bd3786\"],[0.5555555555555556,\"#d8576b\"],[0.6666666666666666,\"#ed7953\"],[0.7777777777777778,\"#fb9f3a\"],[0.8888888888888888,\"#fdca26\"],[1.0,\"#f0f921\"]],\"type\":\"heatmapgl\"}],\"histogram\":[{\"marker\":{\"pattern\":{\"fillmode\":\"overlay\",\"size\":10,\"solidity\":0.2}},\"type\":\"histogram\"}],\"histogram2d\":[{\"colorbar\":{\"outlinewidth\":0,\"ticks\":\"\"},\"colorscale\":[[0.0,\"#0d0887\"],[0.1111111111111111,\"#46039f\"],[0.2222222222222222,\"#7201a8\"],[0.3333333333333333,\"#9c179e\"],[0.4444444444444444,\"#bd3786\"],[0.5555555555555556,\"#d8576b\"],[0.6666666666666666,\"#ed7953\"],[0.7777777777777778,\"#fb9f3a\"],[0.8888888888888888,\"#fdca26\"],[1.0,\"#f0f921\"]],\"type\":\"histogram2d\"}],\"histogram2dcontour\":[{\"colorbar\":{\"outlinewidth\":0,\"ticks\":\"\"},\"colorscale\":[[0.0,\"#0d0887\"],[0.1111111111111111,\"#46039f\"],[0.2222222222222222,\"#7201a8\"],[0.3333333333333333,\"#9c179e\"],[0.4444444444444444,\"#bd3786\"],[0.5555555555555556,\"#d8576b\"],[0.6666666666666666,\"#ed7953\"],[0.7777777777777778,\"#fb9f3a\"],[0.8888888888888888,\"#fdca26\"],[1.0,\"#f0f921\"]],\"type\":\"histogram2dcontour\"}],\"mesh3d\":[{\"colorbar\":{\"outlinewidth\":0,\"ticks\":\"\"},\"type\":\"mesh3d\"}],\"parcoords\":[{\"line\":{\"colorbar\":{\"outlinewidth\":0,\"ticks\":\"\"}},\"type\":\"parcoords\"}],\"pie\":[{\"automargin\":true,\"type\":\"pie\"}],\"scatter\":[{\"marker\":{\"colorbar\":{\"outlinewidth\":0,\"ticks\":\"\"}},\"type\":\"scatter\"}],\"scatter3d\":[{\"line\":{\"colorbar\":{\"outlinewidth\":0,\"ticks\":\"\"}},\"marker\":{\"colorbar\":{\"outlinewidth\":0,\"ticks\":\"\"}},\"type\":\"scatter3d\"}],\"scattercarpet\":[{\"marker\":{\"colorbar\":{\"outlinewidth\":0,\"ticks\":\"\"}},\"type\":\"scattercarpet\"}],\"scattergeo\":[{\"marker\":{\"colorbar\":{\"outlinewidth\":0,\"ticks\":\"\"}},\"type\":\"scattergeo\"}],\"scattergl\":[{\"marker\":{\"colorbar\":{\"outlinewidth\":0,\"ticks\":\"\"}},\"type\":\"scattergl\"}],\"scattermapbox\":[{\"marker\":{\"colorbar\":{\"outlinewidth\":0,\"ticks\":\"\"}},\"type\":\"scattermapbox\"}],\"scatterpolar\":[{\"marker\":{\"colorbar\":{\"outlinewidth\":0,\"ticks\":\"\"}},\"type\":\"scatterpolar\"}],\"scatterpolargl\":[{\"marker\":{\"colorbar\":{\"outlinewidth\":0,\"ticks\":\"\"}},\"type\":\"scatterpolargl\"}],\"scatterternary\":[{\"marker\":{\"colorbar\":{\"outlinewidth\":0,\"ticks\":\"\"}},\"type\":\"scatterternary\"}],\"surface\":[{\"colorbar\":{\"outlinewidth\":0,\"ticks\":\"\"},\"colorscale\":[[0.0,\"#0d0887\"],[0.1111111111111111,\"#46039f\"],[0.2222222222222222,\"#7201a8\"],[0.3333333333333333,\"#9c179e\"],[0.4444444444444444,\"#bd3786\"],[0.5555555555555556,\"#d8576b\"],[0.6666666666666666,\"#ed7953\"],[0.7777777777777778,\"#fb9f3a\"],[0.8888888888888888,\"#fdca26\"],[1.0,\"#f0f921\"]],\"type\":\"surface\"}],\"table\":[{\"cells\":{\"fill\":{\"color\":\"#EBF0F8\"},\"line\":{\"color\":\"white\"}},\"header\":{\"fill\":{\"color\":\"#C8D4E3\"},\"line\":{\"color\":\"white\"}},\"type\":\"table\"}]},\"layout\":{\"annotationdefaults\":{\"arrowcolor\":\"#2a3f5f\",\"arrowhead\":0,\"arrowwidth\":1},\"autotypenumbers\":\"strict\",\"coloraxis\":{\"colorbar\":{\"outlinewidth\":0,\"ticks\":\"\"}},\"colorscale\":{\"diverging\":[[0,\"#8e0152\"],[0.1,\"#c51b7d\"],[0.2,\"#de77ae\"],[0.3,\"#f1b6da\"],[0.4,\"#fde0ef\"],[0.5,\"#f7f7f7\"],[0.6,\"#e6f5d0\"],[0.7,\"#b8e186\"],[0.8,\"#7fbc41\"],[0.9,\"#4d9221\"],[1,\"#276419\"]],\"sequential\":[[0.0,\"#0d0887\"],[0.1111111111111111,\"#46039f\"],[0.2222222222222222,\"#7201a8\"],[0.3333333333333333,\"#9c179e\"],[0.4444444444444444,\"#bd3786\"],[0.5555555555555556,\"#d8576b\"],[0.6666666666666666,\"#ed7953\"],[0.7777777777777778,\"#fb9f3a\"],[0.8888888888888888,\"#fdca26\"],[1.0,\"#f0f921\"]],\"sequentialminus\":[[0.0,\"#0d0887\"],[0.1111111111111111,\"#46039f\"],[0.2222222222222222,\"#7201a8\"],[0.3333333333333333,\"#9c179e\"],[0.4444444444444444,\"#bd3786\"],[0.5555555555555556,\"#d8576b\"],[0.6666666666666666,\"#ed7953\"],[0.7777777777777778,\"#fb9f3a\"],[0.8888888888888888,\"#fdca26\"],[1.0,\"#f0f921\"]]},\"colorway\":[\"#636efa\",\"#EF553B\",\"#00cc96\",\"#ab63fa\",\"#FFA15A\",\"#19d3f3\",\"#FF6692\",\"#B6E880\",\"#FF97FF\",\"#FECB52\"],\"font\":{\"color\":\"#2a3f5f\"},\"geo\":{\"bgcolor\":\"white\",\"lakecolor\":\"white\",\"landcolor\":\"#E5ECF6\",\"showlakes\":true,\"showland\":true,\"subunitcolor\":\"white\"},\"hoverlabel\":{\"align\":\"left\"},\"hovermode\":\"closest\",\"mapbox\":{\"style\":\"light\"},\"paper_bgcolor\":\"white\",\"plot_bgcolor\":\"#E5ECF6\",\"polar\":{\"angularaxis\":{\"gridcolor\":\"white\",\"linecolor\":\"white\",\"ticks\":\"\"},\"bgcolor\":\"#E5ECF6\",\"radialaxis\":{\"gridcolor\":\"white\",\"linecolor\":\"white\",\"ticks\":\"\"}},\"scene\":{\"xaxis\":{\"backgroundcolor\":\"#E5ECF6\",\"gridcolor\":\"white\",\"gridwidth\":2,\"linecolor\":\"white\",\"showbackground\":true,\"ticks\":\"\",\"zerolinecolor\":\"white\"},\"yaxis\":{\"backgroundcolor\":\"#E5ECF6\",\"gridcolor\":\"white\",\"gridwidth\":2,\"linecolor\":\"white\",\"showbackground\":true,\"ticks\":\"\",\"zerolinecolor\":\"white\"},\"zaxis\":{\"backgroundcolor\":\"#E5ECF6\",\"gridcolor\":\"white\",\"gridwidth\":2,\"linecolor\":\"white\",\"showbackground\":true,\"ticks\":\"\",\"zerolinecolor\":\"white\"}},\"shapedefaults\":{\"line\":{\"color\":\"#2a3f5f\"}},\"ternary\":{\"aaxis\":{\"gridcolor\":\"white\",\"linecolor\":\"white\",\"ticks\":\"\"},\"baxis\":{\"gridcolor\":\"white\",\"linecolor\":\"white\",\"ticks\":\"\"},\"bgcolor\":\"#E5ECF6\",\"caxis\":{\"gridcolor\":\"white\",\"linecolor\":\"white\",\"ticks\":\"\"}},\"title\":{\"x\":0.05},\"xaxis\":{\"automargin\":true,\"gridcolor\":\"white\",\"linecolor\":\"white\",\"ticks\":\"\",\"title\":{\"standoff\":15},\"zerolinecolor\":\"white\",\"zerolinewidth\":2},\"yaxis\":{\"automargin\":true,\"gridcolor\":\"white\",\"linecolor\":\"white\",\"ticks\":\"\",\"title\":{\"standoff\":15},\"zerolinecolor\":\"white\",\"zerolinewidth\":2}}},\"xaxis\":{\"anchor\":\"y\",\"domain\":[0.0,1.0],\"title\":{\"text\":\"reporter_country Value in Billion US $\"}},\"yaxis\":{\"anchor\":\"x\",\"domain\":[0.0,1.0],\"title\":{\"text\":\"reporter_country\"}},\"coloraxis\":{\"colorbar\":{\"title\":{\"text\":\"reporter_country Value in Billion US $\"}},\"colorscale\":[[0.0,\"#0d0887\"],[0.1111111111111111,\"#46039f\"],[0.2222222222222222,\"#7201a8\"],[0.3333333333333333,\"#9c179e\"],[0.4444444444444444,\"#bd3786\"],[0.5555555555555556,\"#d8576b\"],[0.6666666666666666,\"#ed7953\"],[0.7777777777777778,\"#fb9f3a\"],[0.8888888888888888,\"#fdca26\"],[1.0,\"#f0f921\"]]},\"legend\":{\"tracegroupgap\":0},\"title\":{\"text\":\"Expensive countries Imports Between 2018-20 According to their Aggregate Value\"},\"barmode\":\"relative\"},                        {\"responsive\": true}                    ).then(function(){\n",
              "                            \n",
              "var gd = document.getElementById('7e168022-7d04-4b8b-9a16-163af74cf22e');\n",
              "var x = new MutationObserver(function (mutations, observer) {{\n",
              "        var display = window.getComputedStyle(gd).display;\n",
              "        if (!display || display === 'none') {{\n",
              "            console.log([gd, 'removed!']);\n",
              "            Plotly.purge(gd);\n",
              "            observer.disconnect();\n",
              "        }}\n",
              "}});\n",
              "\n",
              "// Listen for the removal of the full notebook cells\n",
              "var notebookContainer = gd.closest('#notebook-container');\n",
              "if (notebookContainer) {{\n",
              "    x.observe(notebookContainer, {childList: true});\n",
              "}}\n",
              "\n",
              "// Listen for the clearing of the current output cell\n",
              "var outputEl = gd.closest('.output');\n",
              "if (outputEl) {{\n",
              "    x.observe(outputEl, {childList: true});\n",
              "}}\n",
              "\n",
              "                        })                };                            </script>        </div>\n",
              "</body>\n",
              "</html>"
            ]
          },
          "metadata": {}
        }
      ]
    },
    {
      "cell_type": "code",
      "source": [
        "#@title Number fields { run: \"auto\" }\n",
        "df_export_temp['reporter_country'] = df_export_temp['reporter_country'].apply(lambda x:x.split()[0])\n",
        "Top_n_Export_Countries=20 #@param {type:\"number\"}\n",
        "px.bar(data_frame=df_export_temp.head(20),y='reporter_country', x='reporter_country_sum', orientation='h',\n",
        "       color='reporter_country_sum', title='Expensive countries exports Between 2018-20 According to their Aggregate Value',\n",
        "       labels={'reporter_country_sum':'reporter_country Value in Billion US $'})"
      ],
      "metadata": {
        "colab": {
          "base_uri": "https://localhost:8080/",
          "height": 542
        },
        "id": "CYLeA9Rzu5Q2",
        "outputId": "d5ff4622-8bc7-4341-9b7b-8100269b3ba1"
      },
      "execution_count": 206,
      "outputs": [
        {
          "output_type": "display_data",
          "data": {
            "text/html": [
              "<html>\n",
              "<head><meta charset=\"utf-8\" /></head>\n",
              "<body>\n",
              "    <div>            <script src=\"https://cdnjs.cloudflare.com/ajax/libs/mathjax/2.7.5/MathJax.js?config=TeX-AMS-MML_SVG\"></script><script type=\"text/javascript\">if (window.MathJax) {MathJax.Hub.Config({SVG: {font: \"STIX-Web\"}});}</script>                <script type=\"text/javascript\">window.PlotlyConfig = {MathJaxConfig: 'local'};</script>\n",
              "        <script src=\"https://cdn.plot.ly/plotly-2.8.3.min.js\"></script>                <div id=\"1421c571-7c28-4c6e-a711-e546a36fec82\" class=\"plotly-graph-div\" style=\"height:525px; width:100%;\"></div>            <script type=\"text/javascript\">                                    window.PLOTLYENV=window.PLOTLYENV || {};                                    if (document.getElementById(\"1421c571-7c28-4c6e-a711-e546a36fec82\")) {                    Plotly.newPlot(                        \"1421c571-7c28-4c6e-a711-e546a36fec82\",                        [{\"alignmentgroup\":\"True\",\"hovertemplate\":\"reporter_country Value in Billion US $=%{marker.color}<br>reporter_country=%{y}<extra></extra>\",\"legendgroup\":\"\",\"marker\":{\"color\":[7370241633,3171342101,3070370373,2939454118,2865892696,2808563428,2716007227,1851954491,1177905418,1170623142,899560367,885388974,880979116,874694017,761874829,744546325,616312882,576604975,544032882,433692103],\"coloraxis\":\"coloraxis\",\"pattern\":{\"shape\":\"\"}},\"name\":\"\",\"offsetgroup\":\"\",\"orientation\":\"h\",\"showlegend\":false,\"textposition\":\"auto\",\"x\":[7370241633,3171342101,3070370373,2939454118,2865892696,2808563428,2716007227,1851954491,1177905418,1170623142,899560367,885388974,880979116,874694017,761874829,744546325,616312882,576604975,544032882,433692103],\"xaxis\":\"x\",\"y\":[\"United\",\"United\",\"South\",\"Germany\",\"Canada\",\"Thailand\",\"Singapore\",\"Belgium\",\"Malaysia\",\"Netherlands\",\"Italy\",\"Sweden\",\"France\",\"India\",\"Brazil\",\"Hungary\",\"Czech\",\"Poland\",\"Egypt\",\"China\"],\"yaxis\":\"y\",\"type\":\"bar\"}],                        {\"template\":{\"data\":{\"bar\":[{\"error_x\":{\"color\":\"#2a3f5f\"},\"error_y\":{\"color\":\"#2a3f5f\"},\"marker\":{\"line\":{\"color\":\"#E5ECF6\",\"width\":0.5},\"pattern\":{\"fillmode\":\"overlay\",\"size\":10,\"solidity\":0.2}},\"type\":\"bar\"}],\"barpolar\":[{\"marker\":{\"line\":{\"color\":\"#E5ECF6\",\"width\":0.5},\"pattern\":{\"fillmode\":\"overlay\",\"size\":10,\"solidity\":0.2}},\"type\":\"barpolar\"}],\"carpet\":[{\"aaxis\":{\"endlinecolor\":\"#2a3f5f\",\"gridcolor\":\"white\",\"linecolor\":\"white\",\"minorgridcolor\":\"white\",\"startlinecolor\":\"#2a3f5f\"},\"baxis\":{\"endlinecolor\":\"#2a3f5f\",\"gridcolor\":\"white\",\"linecolor\":\"white\",\"minorgridcolor\":\"white\",\"startlinecolor\":\"#2a3f5f\"},\"type\":\"carpet\"}],\"choropleth\":[{\"colorbar\":{\"outlinewidth\":0,\"ticks\":\"\"},\"type\":\"choropleth\"}],\"contour\":[{\"colorbar\":{\"outlinewidth\":0,\"ticks\":\"\"},\"colorscale\":[[0.0,\"#0d0887\"],[0.1111111111111111,\"#46039f\"],[0.2222222222222222,\"#7201a8\"],[0.3333333333333333,\"#9c179e\"],[0.4444444444444444,\"#bd3786\"],[0.5555555555555556,\"#d8576b\"],[0.6666666666666666,\"#ed7953\"],[0.7777777777777778,\"#fb9f3a\"],[0.8888888888888888,\"#fdca26\"],[1.0,\"#f0f921\"]],\"type\":\"contour\"}],\"contourcarpet\":[{\"colorbar\":{\"outlinewidth\":0,\"ticks\":\"\"},\"type\":\"contourcarpet\"}],\"heatmap\":[{\"colorbar\":{\"outlinewidth\":0,\"ticks\":\"\"},\"colorscale\":[[0.0,\"#0d0887\"],[0.1111111111111111,\"#46039f\"],[0.2222222222222222,\"#7201a8\"],[0.3333333333333333,\"#9c179e\"],[0.4444444444444444,\"#bd3786\"],[0.5555555555555556,\"#d8576b\"],[0.6666666666666666,\"#ed7953\"],[0.7777777777777778,\"#fb9f3a\"],[0.8888888888888888,\"#fdca26\"],[1.0,\"#f0f921\"]],\"type\":\"heatmap\"}],\"heatmapgl\":[{\"colorbar\":{\"outlinewidth\":0,\"ticks\":\"\"},\"colorscale\":[[0.0,\"#0d0887\"],[0.1111111111111111,\"#46039f\"],[0.2222222222222222,\"#7201a8\"],[0.3333333333333333,\"#9c179e\"],[0.4444444444444444,\"#bd3786\"],[0.5555555555555556,\"#d8576b\"],[0.6666666666666666,\"#ed7953\"],[0.7777777777777778,\"#fb9f3a\"],[0.8888888888888888,\"#fdca26\"],[1.0,\"#f0f921\"]],\"type\":\"heatmapgl\"}],\"histogram\":[{\"marker\":{\"pattern\":{\"fillmode\":\"overlay\",\"size\":10,\"solidity\":0.2}},\"type\":\"histogram\"}],\"histogram2d\":[{\"colorbar\":{\"outlinewidth\":0,\"ticks\":\"\"},\"colorscale\":[[0.0,\"#0d0887\"],[0.1111111111111111,\"#46039f\"],[0.2222222222222222,\"#7201a8\"],[0.3333333333333333,\"#9c179e\"],[0.4444444444444444,\"#bd3786\"],[0.5555555555555556,\"#d8576b\"],[0.6666666666666666,\"#ed7953\"],[0.7777777777777778,\"#fb9f3a\"],[0.8888888888888888,\"#fdca26\"],[1.0,\"#f0f921\"]],\"type\":\"histogram2d\"}],\"histogram2dcontour\":[{\"colorbar\":{\"outlinewidth\":0,\"ticks\":\"\"},\"colorscale\":[[0.0,\"#0d0887\"],[0.1111111111111111,\"#46039f\"],[0.2222222222222222,\"#7201a8\"],[0.3333333333333333,\"#9c179e\"],[0.4444444444444444,\"#bd3786\"],[0.5555555555555556,\"#d8576b\"],[0.6666666666666666,\"#ed7953\"],[0.7777777777777778,\"#fb9f3a\"],[0.8888888888888888,\"#fdca26\"],[1.0,\"#f0f921\"]],\"type\":\"histogram2dcontour\"}],\"mesh3d\":[{\"colorbar\":{\"outlinewidth\":0,\"ticks\":\"\"},\"type\":\"mesh3d\"}],\"parcoords\":[{\"line\":{\"colorbar\":{\"outlinewidth\":0,\"ticks\":\"\"}},\"type\":\"parcoords\"}],\"pie\":[{\"automargin\":true,\"type\":\"pie\"}],\"scatter\":[{\"marker\":{\"colorbar\":{\"outlinewidth\":0,\"ticks\":\"\"}},\"type\":\"scatter\"}],\"scatter3d\":[{\"line\":{\"colorbar\":{\"outlinewidth\":0,\"ticks\":\"\"}},\"marker\":{\"colorbar\":{\"outlinewidth\":0,\"ticks\":\"\"}},\"type\":\"scatter3d\"}],\"scattercarpet\":[{\"marker\":{\"colorbar\":{\"outlinewidth\":0,\"ticks\":\"\"}},\"type\":\"scattercarpet\"}],\"scattergeo\":[{\"marker\":{\"colorbar\":{\"outlinewidth\":0,\"ticks\":\"\"}},\"type\":\"scattergeo\"}],\"scattergl\":[{\"marker\":{\"colorbar\":{\"outlinewidth\":0,\"ticks\":\"\"}},\"type\":\"scattergl\"}],\"scattermapbox\":[{\"marker\":{\"colorbar\":{\"outlinewidth\":0,\"ticks\":\"\"}},\"type\":\"scattermapbox\"}],\"scatterpolar\":[{\"marker\":{\"colorbar\":{\"outlinewidth\":0,\"ticks\":\"\"}},\"type\":\"scatterpolar\"}],\"scatterpolargl\":[{\"marker\":{\"colorbar\":{\"outlinewidth\":0,\"ticks\":\"\"}},\"type\":\"scatterpolargl\"}],\"scatterternary\":[{\"marker\":{\"colorbar\":{\"outlinewidth\":0,\"ticks\":\"\"}},\"type\":\"scatterternary\"}],\"surface\":[{\"colorbar\":{\"outlinewidth\":0,\"ticks\":\"\"},\"colorscale\":[[0.0,\"#0d0887\"],[0.1111111111111111,\"#46039f\"],[0.2222222222222222,\"#7201a8\"],[0.3333333333333333,\"#9c179e\"],[0.4444444444444444,\"#bd3786\"],[0.5555555555555556,\"#d8576b\"],[0.6666666666666666,\"#ed7953\"],[0.7777777777777778,\"#fb9f3a\"],[0.8888888888888888,\"#fdca26\"],[1.0,\"#f0f921\"]],\"type\":\"surface\"}],\"table\":[{\"cells\":{\"fill\":{\"color\":\"#EBF0F8\"},\"line\":{\"color\":\"white\"}},\"header\":{\"fill\":{\"color\":\"#C8D4E3\"},\"line\":{\"color\":\"white\"}},\"type\":\"table\"}]},\"layout\":{\"annotationdefaults\":{\"arrowcolor\":\"#2a3f5f\",\"arrowhead\":0,\"arrowwidth\":1},\"autotypenumbers\":\"strict\",\"coloraxis\":{\"colorbar\":{\"outlinewidth\":0,\"ticks\":\"\"}},\"colorscale\":{\"diverging\":[[0,\"#8e0152\"],[0.1,\"#c51b7d\"],[0.2,\"#de77ae\"],[0.3,\"#f1b6da\"],[0.4,\"#fde0ef\"],[0.5,\"#f7f7f7\"],[0.6,\"#e6f5d0\"],[0.7,\"#b8e186\"],[0.8,\"#7fbc41\"],[0.9,\"#4d9221\"],[1,\"#276419\"]],\"sequential\":[[0.0,\"#0d0887\"],[0.1111111111111111,\"#46039f\"],[0.2222222222222222,\"#7201a8\"],[0.3333333333333333,\"#9c179e\"],[0.4444444444444444,\"#bd3786\"],[0.5555555555555556,\"#d8576b\"],[0.6666666666666666,\"#ed7953\"],[0.7777777777777778,\"#fb9f3a\"],[0.8888888888888888,\"#fdca26\"],[1.0,\"#f0f921\"]],\"sequentialminus\":[[0.0,\"#0d0887\"],[0.1111111111111111,\"#46039f\"],[0.2222222222222222,\"#7201a8\"],[0.3333333333333333,\"#9c179e\"],[0.4444444444444444,\"#bd3786\"],[0.5555555555555556,\"#d8576b\"],[0.6666666666666666,\"#ed7953\"],[0.7777777777777778,\"#fb9f3a\"],[0.8888888888888888,\"#fdca26\"],[1.0,\"#f0f921\"]]},\"colorway\":[\"#636efa\",\"#EF553B\",\"#00cc96\",\"#ab63fa\",\"#FFA15A\",\"#19d3f3\",\"#FF6692\",\"#B6E880\",\"#FF97FF\",\"#FECB52\"],\"font\":{\"color\":\"#2a3f5f\"},\"geo\":{\"bgcolor\":\"white\",\"lakecolor\":\"white\",\"landcolor\":\"#E5ECF6\",\"showlakes\":true,\"showland\":true,\"subunitcolor\":\"white\"},\"hoverlabel\":{\"align\":\"left\"},\"hovermode\":\"closest\",\"mapbox\":{\"style\":\"light\"},\"paper_bgcolor\":\"white\",\"plot_bgcolor\":\"#E5ECF6\",\"polar\":{\"angularaxis\":{\"gridcolor\":\"white\",\"linecolor\":\"white\",\"ticks\":\"\"},\"bgcolor\":\"#E5ECF6\",\"radialaxis\":{\"gridcolor\":\"white\",\"linecolor\":\"white\",\"ticks\":\"\"}},\"scene\":{\"xaxis\":{\"backgroundcolor\":\"#E5ECF6\",\"gridcolor\":\"white\",\"gridwidth\":2,\"linecolor\":\"white\",\"showbackground\":true,\"ticks\":\"\",\"zerolinecolor\":\"white\"},\"yaxis\":{\"backgroundcolor\":\"#E5ECF6\",\"gridcolor\":\"white\",\"gridwidth\":2,\"linecolor\":\"white\",\"showbackground\":true,\"ticks\":\"\",\"zerolinecolor\":\"white\"},\"zaxis\":{\"backgroundcolor\":\"#E5ECF6\",\"gridcolor\":\"white\",\"gridwidth\":2,\"linecolor\":\"white\",\"showbackground\":true,\"ticks\":\"\",\"zerolinecolor\":\"white\"}},\"shapedefaults\":{\"line\":{\"color\":\"#2a3f5f\"}},\"ternary\":{\"aaxis\":{\"gridcolor\":\"white\",\"linecolor\":\"white\",\"ticks\":\"\"},\"baxis\":{\"gridcolor\":\"white\",\"linecolor\":\"white\",\"ticks\":\"\"},\"bgcolor\":\"#E5ECF6\",\"caxis\":{\"gridcolor\":\"white\",\"linecolor\":\"white\",\"ticks\":\"\"}},\"title\":{\"x\":0.05},\"xaxis\":{\"automargin\":true,\"gridcolor\":\"white\",\"linecolor\":\"white\",\"ticks\":\"\",\"title\":{\"standoff\":15},\"zerolinecolor\":\"white\",\"zerolinewidth\":2},\"yaxis\":{\"automargin\":true,\"gridcolor\":\"white\",\"linecolor\":\"white\",\"ticks\":\"\",\"title\":{\"standoff\":15},\"zerolinecolor\":\"white\",\"zerolinewidth\":2}}},\"xaxis\":{\"anchor\":\"y\",\"domain\":[0.0,1.0],\"title\":{\"text\":\"reporter_country Value in Billion US $\"}},\"yaxis\":{\"anchor\":\"x\",\"domain\":[0.0,1.0],\"title\":{\"text\":\"reporter_country\"}},\"coloraxis\":{\"colorbar\":{\"title\":{\"text\":\"reporter_country Value in Billion US $\"}},\"colorscale\":[[0.0,\"#0d0887\"],[0.1111111111111111,\"#46039f\"],[0.2222222222222222,\"#7201a8\"],[0.3333333333333333,\"#9c179e\"],[0.4444444444444444,\"#bd3786\"],[0.5555555555555556,\"#d8576b\"],[0.6666666666666666,\"#ed7953\"],[0.7777777777777778,\"#fb9f3a\"],[0.8888888888888888,\"#fdca26\"],[1.0,\"#f0f921\"]]},\"legend\":{\"tracegroupgap\":0},\"title\":{\"text\":\"Expensive countries exports Between 2018-20 According to their Aggregate Value\"},\"barmode\":\"relative\"},                        {\"responsive\": true}                    ).then(function(){\n",
              "                            \n",
              "var gd = document.getElementById('1421c571-7c28-4c6e-a711-e546a36fec82');\n",
              "var x = new MutationObserver(function (mutations, observer) {{\n",
              "        var display = window.getComputedStyle(gd).display;\n",
              "        if (!display || display === 'none') {{\n",
              "            console.log([gd, 'removed!']);\n",
              "            Plotly.purge(gd);\n",
              "            observer.disconnect();\n",
              "        }}\n",
              "}});\n",
              "\n",
              "// Listen for the removal of the full notebook cells\n",
              "var notebookContainer = gd.closest('#notebook-container');\n",
              "if (notebookContainer) {{\n",
              "    x.observe(notebookContainer, {childList: true});\n",
              "}}\n",
              "\n",
              "// Listen for the clearing of the current output cell\n",
              "var outputEl = gd.closest('.output');\n",
              "if (outputEl) {{\n",
              "    x.observe(outputEl, {childList: true});\n",
              "}}\n",
              "\n",
              "                        })                };                            </script>        </div>\n",
              "</body>\n",
              "</html>"
            ]
          },
          "metadata": {}
        }
      ]
    },
    {
      "cell_type": "code",
      "source": [
        "pd.DataFrame(df_interval1.groupby(df_interval1['reporter_country'])['value'].sum().sort_values(ascending=False).head(10))"
      ],
      "metadata": {
        "colab": {
          "base_uri": "https://localhost:8080/",
          "height": 394
        },
        "id": "IuRKNG2gYOi7",
        "outputId": "79328320-92f6-4b5d-ada5-eb04d7027c2b"
      },
      "execution_count": 207,
      "outputs": [
        {
          "output_type": "execute_result",
          "data": {
            "text/plain": [
              "                                value\n",
              "reporter_country                     \n",
              "China                     17105940723\n",
              "United States of America   2977806599\n",
              "Germany                    2805154828\n",
              "Italy                      1832518544\n",
              "Mexico                     1720641992\n",
              "Singapore                  1676340959\n",
              "Turkey                     1629987967\n",
              "United Kingdom             1606268566\n",
              "Vietnam                    1577071926\n",
              "Malaysia                   1568558811"
            ],
            "text/html": [
              "\n",
              "  <div id=\"df-17567f66-77de-4d03-ae1b-85510ce09855\">\n",
              "    <div class=\"colab-df-container\">\n",
              "      <div>\n",
              "<style scoped>\n",
              "    .dataframe tbody tr th:only-of-type {\n",
              "        vertical-align: middle;\n",
              "    }\n",
              "\n",
              "    .dataframe tbody tr th {\n",
              "        vertical-align: top;\n",
              "    }\n",
              "\n",
              "    .dataframe thead th {\n",
              "        text-align: right;\n",
              "    }\n",
              "</style>\n",
              "<table border=\"1\" class=\"dataframe\">\n",
              "  <thead>\n",
              "    <tr style=\"text-align: right;\">\n",
              "      <th></th>\n",
              "      <th>value</th>\n",
              "    </tr>\n",
              "    <tr>\n",
              "      <th>reporter_country</th>\n",
              "      <th></th>\n",
              "    </tr>\n",
              "  </thead>\n",
              "  <tbody>\n",
              "    <tr>\n",
              "      <th>China</th>\n",
              "      <td>17105940723</td>\n",
              "    </tr>\n",
              "    <tr>\n",
              "      <th>United States of America</th>\n",
              "      <td>2977806599</td>\n",
              "    </tr>\n",
              "    <tr>\n",
              "      <th>Germany</th>\n",
              "      <td>2805154828</td>\n",
              "    </tr>\n",
              "    <tr>\n",
              "      <th>Italy</th>\n",
              "      <td>1832518544</td>\n",
              "    </tr>\n",
              "    <tr>\n",
              "      <th>Mexico</th>\n",
              "      <td>1720641992</td>\n",
              "    </tr>\n",
              "    <tr>\n",
              "      <th>Singapore</th>\n",
              "      <td>1676340959</td>\n",
              "    </tr>\n",
              "    <tr>\n",
              "      <th>Turkey</th>\n",
              "      <td>1629987967</td>\n",
              "    </tr>\n",
              "    <tr>\n",
              "      <th>United Kingdom</th>\n",
              "      <td>1606268566</td>\n",
              "    </tr>\n",
              "    <tr>\n",
              "      <th>Vietnam</th>\n",
              "      <td>1577071926</td>\n",
              "    </tr>\n",
              "    <tr>\n",
              "      <th>Malaysia</th>\n",
              "      <td>1568558811</td>\n",
              "    </tr>\n",
              "  </tbody>\n",
              "</table>\n",
              "</div>\n",
              "      <button class=\"colab-df-convert\" onclick=\"convertToInteractive('df-17567f66-77de-4d03-ae1b-85510ce09855')\"\n",
              "              title=\"Convert this dataframe to an interactive table.\"\n",
              "              style=\"display:none;\">\n",
              "        \n",
              "  <svg xmlns=\"http://www.w3.org/2000/svg\" height=\"24px\"viewBox=\"0 0 24 24\"\n",
              "       width=\"24px\">\n",
              "    <path d=\"M0 0h24v24H0V0z\" fill=\"none\"/>\n",
              "    <path d=\"M18.56 5.44l.94 2.06.94-2.06 2.06-.94-2.06-.94-.94-2.06-.94 2.06-2.06.94zm-11 1L8.5 8.5l.94-2.06 2.06-.94-2.06-.94L8.5 2.5l-.94 2.06-2.06.94zm10 10l.94 2.06.94-2.06 2.06-.94-2.06-.94-.94-2.06-.94 2.06-2.06.94z\"/><path d=\"M17.41 7.96l-1.37-1.37c-.4-.4-.92-.59-1.43-.59-.52 0-1.04.2-1.43.59L10.3 9.45l-7.72 7.72c-.78.78-.78 2.05 0 2.83L4 21.41c.39.39.9.59 1.41.59.51 0 1.02-.2 1.41-.59l7.78-7.78 2.81-2.81c.8-.78.8-2.07 0-2.86zM5.41 20L4 18.59l7.72-7.72 1.47 1.35L5.41 20z\"/>\n",
              "  </svg>\n",
              "      </button>\n",
              "      \n",
              "  <style>\n",
              "    .colab-df-container {\n",
              "      display:flex;\n",
              "      flex-wrap:wrap;\n",
              "      gap: 12px;\n",
              "    }\n",
              "\n",
              "    .colab-df-convert {\n",
              "      background-color: #E8F0FE;\n",
              "      border: none;\n",
              "      border-radius: 50%;\n",
              "      cursor: pointer;\n",
              "      display: none;\n",
              "      fill: #1967D2;\n",
              "      height: 32px;\n",
              "      padding: 0 0 0 0;\n",
              "      width: 32px;\n",
              "    }\n",
              "\n",
              "    .colab-df-convert:hover {\n",
              "      background-color: #E2EBFA;\n",
              "      box-shadow: 0px 1px 2px rgba(60, 64, 67, 0.3), 0px 1px 3px 1px rgba(60, 64, 67, 0.15);\n",
              "      fill: #174EA6;\n",
              "    }\n",
              "\n",
              "    [theme=dark] .colab-df-convert {\n",
              "      background-color: #3B4455;\n",
              "      fill: #D2E3FC;\n",
              "    }\n",
              "\n",
              "    [theme=dark] .colab-df-convert:hover {\n",
              "      background-color: #434B5C;\n",
              "      box-shadow: 0px 1px 3px 1px rgba(0, 0, 0, 0.15);\n",
              "      filter: drop-shadow(0px 1px 2px rgba(0, 0, 0, 0.3));\n",
              "      fill: #FFFFFF;\n",
              "    }\n",
              "  </style>\n",
              "\n",
              "      <script>\n",
              "        const buttonEl =\n",
              "          document.querySelector('#df-17567f66-77de-4d03-ae1b-85510ce09855 button.colab-df-convert');\n",
              "        buttonEl.style.display =\n",
              "          google.colab.kernel.accessAllowed ? 'block' : 'none';\n",
              "\n",
              "        async function convertToInteractive(key) {\n",
              "          const element = document.querySelector('#df-17567f66-77de-4d03-ae1b-85510ce09855');\n",
              "          const dataTable =\n",
              "            await google.colab.kernel.invokeFunction('convertToInteractive',\n",
              "                                                     [key], {});\n",
              "          if (!dataTable) return;\n",
              "\n",
              "          const docLinkHtml = 'Like what you see? Visit the ' +\n",
              "            '<a target=\"_blank\" href=https://colab.research.google.com/notebooks/data_table.ipynb>data table notebook</a>'\n",
              "            + ' to learn more about interactive tables.';\n",
              "          element.innerHTML = '';\n",
              "          dataTable['output_type'] = 'display_data';\n",
              "          await google.colab.output.renderOutput(dataTable, element);\n",
              "          const docLink = document.createElement('div');\n",
              "          docLink.innerHTML = docLinkHtml;\n",
              "          element.appendChild(docLink);\n",
              "        }\n",
              "      </script>\n",
              "    </div>\n",
              "  </div>\n",
              "  "
            ]
          },
          "metadata": {},
          "execution_count": 207
        }
      ]
    },
    {
      "cell_type": "code",
      "source": [
        "pd.DataFrame(df_interval1e.groupby(df_interval1e['reporter_country'])['value'].sum().sort_values(ascending=False).head(10))"
      ],
      "metadata": {
        "colab": {
          "base_uri": "https://localhost:8080/",
          "height": 394
        },
        "id": "uEI6vN0hvJQW",
        "outputId": "877cc30f-c837-4bae-f457-635b796df760"
      },
      "execution_count": 208,
      "outputs": [
        {
          "output_type": "execute_result",
          "data": {
            "text/plain": [
              "                               value\n",
              "reporter_country                    \n",
              "United States of America  7370241633\n",
              "United Arab Emirates      3171342101\n",
              "South Korea               3070370373\n",
              "Germany                   2939454118\n",
              "Canada                    2865892696\n",
              "Thailand                  2808563428\n",
              "Singapore                 2716007227\n",
              "Belgium                   1851954491\n",
              "Malaysia                  1177905418\n",
              "Netherlands               1170623142"
            ],
            "text/html": [
              "\n",
              "  <div id=\"df-fd1c6556-f7de-4b65-8d59-f9b86e382123\">\n",
              "    <div class=\"colab-df-container\">\n",
              "      <div>\n",
              "<style scoped>\n",
              "    .dataframe tbody tr th:only-of-type {\n",
              "        vertical-align: middle;\n",
              "    }\n",
              "\n",
              "    .dataframe tbody tr th {\n",
              "        vertical-align: top;\n",
              "    }\n",
              "\n",
              "    .dataframe thead th {\n",
              "        text-align: right;\n",
              "    }\n",
              "</style>\n",
              "<table border=\"1\" class=\"dataframe\">\n",
              "  <thead>\n",
              "    <tr style=\"text-align: right;\">\n",
              "      <th></th>\n",
              "      <th>value</th>\n",
              "    </tr>\n",
              "    <tr>\n",
              "      <th>reporter_country</th>\n",
              "      <th></th>\n",
              "    </tr>\n",
              "  </thead>\n",
              "  <tbody>\n",
              "    <tr>\n",
              "      <th>United States of America</th>\n",
              "      <td>7370241633</td>\n",
              "    </tr>\n",
              "    <tr>\n",
              "      <th>United Arab Emirates</th>\n",
              "      <td>3171342101</td>\n",
              "    </tr>\n",
              "    <tr>\n",
              "      <th>South Korea</th>\n",
              "      <td>3070370373</td>\n",
              "    </tr>\n",
              "    <tr>\n",
              "      <th>Germany</th>\n",
              "      <td>2939454118</td>\n",
              "    </tr>\n",
              "    <tr>\n",
              "      <th>Canada</th>\n",
              "      <td>2865892696</td>\n",
              "    </tr>\n",
              "    <tr>\n",
              "      <th>Thailand</th>\n",
              "      <td>2808563428</td>\n",
              "    </tr>\n",
              "    <tr>\n",
              "      <th>Singapore</th>\n",
              "      <td>2716007227</td>\n",
              "    </tr>\n",
              "    <tr>\n",
              "      <th>Belgium</th>\n",
              "      <td>1851954491</td>\n",
              "    </tr>\n",
              "    <tr>\n",
              "      <th>Malaysia</th>\n",
              "      <td>1177905418</td>\n",
              "    </tr>\n",
              "    <tr>\n",
              "      <th>Netherlands</th>\n",
              "      <td>1170623142</td>\n",
              "    </tr>\n",
              "  </tbody>\n",
              "</table>\n",
              "</div>\n",
              "      <button class=\"colab-df-convert\" onclick=\"convertToInteractive('df-fd1c6556-f7de-4b65-8d59-f9b86e382123')\"\n",
              "              title=\"Convert this dataframe to an interactive table.\"\n",
              "              style=\"display:none;\">\n",
              "        \n",
              "  <svg xmlns=\"http://www.w3.org/2000/svg\" height=\"24px\"viewBox=\"0 0 24 24\"\n",
              "       width=\"24px\">\n",
              "    <path d=\"M0 0h24v24H0V0z\" fill=\"none\"/>\n",
              "    <path d=\"M18.56 5.44l.94 2.06.94-2.06 2.06-.94-2.06-.94-.94-2.06-.94 2.06-2.06.94zm-11 1L8.5 8.5l.94-2.06 2.06-.94-2.06-.94L8.5 2.5l-.94 2.06-2.06.94zm10 10l.94 2.06.94-2.06 2.06-.94-2.06-.94-.94-2.06-.94 2.06-2.06.94z\"/><path d=\"M17.41 7.96l-1.37-1.37c-.4-.4-.92-.59-1.43-.59-.52 0-1.04.2-1.43.59L10.3 9.45l-7.72 7.72c-.78.78-.78 2.05 0 2.83L4 21.41c.39.39.9.59 1.41.59.51 0 1.02-.2 1.41-.59l7.78-7.78 2.81-2.81c.8-.78.8-2.07 0-2.86zM5.41 20L4 18.59l7.72-7.72 1.47 1.35L5.41 20z\"/>\n",
              "  </svg>\n",
              "      </button>\n",
              "      \n",
              "  <style>\n",
              "    .colab-df-container {\n",
              "      display:flex;\n",
              "      flex-wrap:wrap;\n",
              "      gap: 12px;\n",
              "    }\n",
              "\n",
              "    .colab-df-convert {\n",
              "      background-color: #E8F0FE;\n",
              "      border: none;\n",
              "      border-radius: 50%;\n",
              "      cursor: pointer;\n",
              "      display: none;\n",
              "      fill: #1967D2;\n",
              "      height: 32px;\n",
              "      padding: 0 0 0 0;\n",
              "      width: 32px;\n",
              "    }\n",
              "\n",
              "    .colab-df-convert:hover {\n",
              "      background-color: #E2EBFA;\n",
              "      box-shadow: 0px 1px 2px rgba(60, 64, 67, 0.3), 0px 1px 3px 1px rgba(60, 64, 67, 0.15);\n",
              "      fill: #174EA6;\n",
              "    }\n",
              "\n",
              "    [theme=dark] .colab-df-convert {\n",
              "      background-color: #3B4455;\n",
              "      fill: #D2E3FC;\n",
              "    }\n",
              "\n",
              "    [theme=dark] .colab-df-convert:hover {\n",
              "      background-color: #434B5C;\n",
              "      box-shadow: 0px 1px 3px 1px rgba(0, 0, 0, 0.15);\n",
              "      filter: drop-shadow(0px 1px 2px rgba(0, 0, 0, 0.3));\n",
              "      fill: #FFFFFF;\n",
              "    }\n",
              "  </style>\n",
              "\n",
              "      <script>\n",
              "        const buttonEl =\n",
              "          document.querySelector('#df-fd1c6556-f7de-4b65-8d59-f9b86e382123 button.colab-df-convert');\n",
              "        buttonEl.style.display =\n",
              "          google.colab.kernel.accessAllowed ? 'block' : 'none';\n",
              "\n",
              "        async function convertToInteractive(key) {\n",
              "          const element = document.querySelector('#df-fd1c6556-f7de-4b65-8d59-f9b86e382123');\n",
              "          const dataTable =\n",
              "            await google.colab.kernel.invokeFunction('convertToInteractive',\n",
              "                                                     [key], {});\n",
              "          if (!dataTable) return;\n",
              "\n",
              "          const docLinkHtml = 'Like what you see? Visit the ' +\n",
              "            '<a target=\"_blank\" href=https://colab.research.google.com/notebooks/data_table.ipynb>data table notebook</a>'\n",
              "            + ' to learn more about interactive tables.';\n",
              "          element.innerHTML = '';\n",
              "          dataTable['output_type'] = 'display_data';\n",
              "          await google.colab.output.renderOutput(dataTable, element);\n",
              "          const docLink = document.createElement('div');\n",
              "          docLink.innerHTML = docLinkHtml;\n",
              "          element.appendChild(docLink);\n",
              "        }\n",
              "      </script>\n",
              "    </div>\n",
              "  </div>\n",
              "  "
            ]
          },
          "metadata": {},
          "execution_count": 208
        }
      ]
    },
    {
      "cell_type": "code",
      "source": [
        "exp_imports = pd.DataFrame(data=df_interval1[df_interval1.value>0])\n",
        "px.box(x=\"region\", y=\"value\", data_frame=exp_imports, title='Expensive imports region wise', \n",
        "            color='region', hover_name='value', height=700, width = 1400)"
      ],
      "metadata": {
        "colab": {
          "base_uri": "https://localhost:8080/",
          "height": 737
        },
        "id": "Vh2YOh_Seh7e",
        "outputId": "fb7e8b76-41a0-48e1-a714-29b36e3fe4dc"
      },
      "execution_count": 209,
      "outputs": [
        {
          "output_type": "display_data",
          "data": {
            "text/html": [
              "<html>\n",
              "<head><meta charset=\"utf-8\" /></head>\n",
              "<body>\n",
              "    <div>            <script src=\"https://cdnjs.cloudflare.com/ajax/libs/mathjax/2.7.5/MathJax.js?config=TeX-AMS-MML_SVG\"></script><script type=\"text/javascript\">if (window.MathJax) {MathJax.Hub.Config({SVG: {font: \"STIX-Web\"}});}</script>                <script type=\"text/javascript\">window.PlotlyConfig = {MathJaxConfig: 'local'};</script>\n",
              "        <script src=\"https://cdn.plot.ly/plotly-2.8.3.min.js\"></script>                <div id=\"c1b06eb4-ca3f-4ded-a1c5-6dee112a9065\" class=\"plotly-graph-div\" style=\"height:700px; width:1400px;\"></div>            <script type=\"text/javascript\">                                    window.PLOTLYENV=window.PLOTLYENV || {};                                    if (document.getElementById(\"c1b06eb4-ca3f-4ded-a1c5-6dee112a9065\")) {                    Plotly.newPlot(                        \"c1b06eb4-ca3f-4ded-a1c5-6dee112a9065\",                        [{\"alignmentgroup\":\"True\",\"hovertemplate\":\"<b>%{hovertext}</b><br><br>region=%{x}<br>value=%{y}<extra></extra>\",\"hovertext\":[1101583.0,2307606.0,866795.0,4376235.0,2099515.0,3247615.0,3686936.0,1639968.0,1068328.0,4101509.0,4157217.0,5291787.0,48884.0,86108.0,59593.0,161372.0,304051.0,467464.0,190693.0,288844.0,539971.0,395940.0,970010.0,155296.0,66985.0,251654.0,71293.0,19901.0,134260.0,83895.0,315436.0,93836.0,185473.0,5197.0,14982.0,121628.0,69199.0,110004.0,186821.0,145405.0,72480.0,109887.0,235234.0,62056.0,179778.0,134062.0,2555248.0,3393940.0,2143992.0,4076961.0,6838885.0,3983861.0,3269505.0,5902983.0,4486328.0,5990834.0,7464272.0,7849206.0,3840.0,9296.0,6341.0,5998.0,11400.0,2499.0,2467.0,15225.0,19029.0,9714659.0,6584328.0,9983400.0,8679389.0,17616377.0,14782324.0,14187954.0,13551620.0,9225076.0,11592595.0,13796726.0,14348460.0,5319973.0,6178933.0,6616860.0,7906419.0,5657669.0,6565631.0,10799552.0,6111726.0,8396700.0,7602106.0,9095770.0,7314542.0,349025.0,729819.0,863866.0,952591.0,746754.0,921217.0,3537695.0,2052696.0,557636.0,1394722.0,1337534.0,1109889.0,292604.0,565509.0,716753.0,917351.0,55082934.0,390504.0,1171403.0,732158.0,515811.0,793565.0,1044099.0,609447.0,538084.0,580528.0,386607.0,382273.0,830098.0,682638.0,908178.0,622829.0,1523551.0,240927.0,816085.0,1930893.0,12311360.0,10659793.0,8161079.0,469628.0,133183.0,192793.0,318232.0,611037.0,87085.0,277419.0,584955.0,721012.0,518295.0,328240.0,459540.0,534165.0,896829.0,945898.0,1178352.0,1265216.0,840800.0,1295898.0,1236149.0,1091274.0,1039679.0,647945.0,184122.0,54.0,16290882.0,13058393.0,15182544.0,14136668.0,12965315.0,11630702.0,13972850.0,17794286.0,15833663.0,13708256.0,13249503.0,8848720.0,1840230.0,1118976.0,1303547.0,859887.0,1351614.0,1301905.0,711064.0,1987078.0,1614354.0,1248470.0,1023575.0,1572515.0,1231302.0,604213.0,4528051.0,1252042.0,1630559.0,2697512.0,762643.0,2652082.0,1076186.0,1548472.0,1348471.0,2622436.0,349973.0,102745.0,1116065.0,41571.0,2577671.0,2572314.0,1238297.0,1151593.0,3270813.0,1804357.0,3037534.0,5019979.0,4063169.0,6515449.0,5820254.0,6685692.0,5104872.0,6898043.0,5671607.0,6288650.0,6178398.0,6335229.0,5017443.0,6039305.0,4624325.0,3272133.0,6486637.0,5519414.0,6589101.0,6665338.0,6812071.0,8027409.0,6401617.0,6667644.0,8280780.0,290708.0,357363.0,174469.0,224919.0,295150.0,333250.0,95994.0,86338.0,206487.0,613391.0,143498.0,193762.0,2421779.0,2154932.0,1947567.0,1348405.0,1449999.0,2374840.0,1821854.0,2905507.0,3435793.0,2786572.0,3348017.0,2087351.0,6167117.0,5525268.0,1713030.0,2221976.0,2494028.0,1287767.0,4169606.0,3822500.0,2921384.0,141329.0,234001.0,110744.0,262089.0,257355.0,84199.0,290358.0,266064.0,298330.0,217626.0,208606.0,58716.0,356.0,19664.0,21353.0,42104.0,16932.0,125916.0,56486.0,161.0,12827.0,49941.0,138602.0,20155.0,115473.0,69535.0,80265.0,40435.0,91564.0,95611.0,93482.0,193088.0,38495.0,145712.0,68327.0,6640.0,119921.0,10942.0,18158.0,6111.0,6043.0,6092.0,6107.0,12147.0,9949.0,13889.0,27695.0,11325183.0,11399502.0,13567493.0,11397726.0,10630202.0,9743630.0,7621219.0,8741188.0,4204628.0,8982813.0,5408246.0,6041765.0,9168102.0,6850669.0,1519146.0,1001318.0,797525.0,1338550.0,1110175.0,923798.0,1094181.0,525837.0,436099.0,728636.0,564318.0,511801.0,712401.0,131658.0,554285.0,576507.0,685855.0,754419.0,863579.0,712579.0,698128.0,763567.0,341991.0,631941.0,440679.0,278619.0,638884.0,462042.0,406076.0,99327.0,237748.0,660338.0,226616.0,375031.0,542380.0,473899.0,1306462.0,1202714.0,816505.0,1247324.0,709494.0,774684.0,1238184.0,707378.0,862118.0,671380.0,1218336.0,495512.0,6.0,12576008.0,8008851.0,7889495.0,9510947.0,11072128.0,7419895.0,11630094.0,7355329.0,9712381.0,10903188.0,9768026.0,6341549.0,1503448.0,578110.0,570478.0,797012.0,979336.0,753771.0,1466385.0,594558.0,572299.0,887259.0,1070838.0,719301.0,2878384.0,2091224.0,3251111.0,4492160.0,1351893.0,1766665.0,5723900.0,1984942.0,1727601.0,2067207.0,2843982.0,2925130.0,5236131.0,6866313.0,5777240.0,4768594.0,6007766.0,5168583.0,5120617.0,8090554.0,6092103.0,6342520.0,7613792.0,5325925.0,5454154.0,5141876.0,4855606.0,107850.0,91710.0,290492.0,36748.0,81186.0,75004.0,8312.0,7633.0,94347.0,203384.0,232970.0,27591.0,2212495.0,2054003.0,1270566.0,2165394.0,2782252.0,3820766.0,3371556.0,2765971.0,3009105.0,3934474.0,2831440.0,3246240.0],\"legendgroup\":\"Sub-Saharan Africa\",\"marker\":{\"color\":\"#636efa\"},\"name\":\"Sub-Saharan Africa\",\"notched\":false,\"offsetgroup\":\"Sub-Saharan Africa\",\"orientation\":\"v\",\"showlegend\":true,\"x\":[\"Sub-Saharan Africa\",\"Sub-Saharan Africa\",\"Sub-Saharan Africa\",\"Sub-Saharan Africa\",\"Sub-Saharan Africa\",\"Sub-Saharan Africa\",\"Sub-Saharan Africa\",\"Sub-Saharan Africa\",\"Sub-Saharan Africa\",\"Sub-Saharan Africa\",\"Sub-Saharan Africa\",\"Sub-Saharan Africa\",\"Sub-Saharan Africa\",\"Sub-Saharan Africa\",\"Sub-Saharan Africa\",\"Sub-Saharan Africa\",\"Sub-Saharan Africa\",\"Sub-Saharan Africa\",\"Sub-Saharan Africa\",\"Sub-Saharan Africa\",\"Sub-Saharan Africa\",\"Sub-Saharan Africa\",\"Sub-Saharan Africa\",\"Sub-Saharan Africa\",\"Sub-Saharan Africa\",\"Sub-Saharan Africa\",\"Sub-Saharan Africa\",\"Sub-Saharan Africa\",\"Sub-Saharan Africa\",\"Sub-Saharan Africa\",\"Sub-Saharan Africa\",\"Sub-Saharan Africa\",\"Sub-Saharan Africa\",\"Sub-Saharan Africa\",\"Sub-Saharan Africa\",\"Sub-Saharan Africa\",\"Sub-Saharan Africa\",\"Sub-Saharan Africa\",\"Sub-Saharan Africa\",\"Sub-Saharan Africa\",\"Sub-Saharan Africa\",\"Sub-Saharan Africa\",\"Sub-Saharan Africa\",\"Sub-Saharan Africa\",\"Sub-Saharan Africa\",\"Sub-Saharan Africa\",\"Sub-Saharan Africa\",\"Sub-Saharan Africa\",\"Sub-Saharan Africa\",\"Sub-Saharan Africa\",\"Sub-Saharan Africa\",\"Sub-Saharan Africa\",\"Sub-Saharan Africa\",\"Sub-Saharan Africa\",\"Sub-Saharan Africa\",\"Sub-Saharan Africa\",\"Sub-Saharan Africa\",\"Sub-Saharan Africa\",\"Sub-Saharan Africa\",\"Sub-Saharan Africa\",\"Sub-Saharan Africa\",\"Sub-Saharan Africa\",\"Sub-Saharan Africa\",\"Sub-Saharan Africa\",\"Sub-Saharan Africa\",\"Sub-Saharan Africa\",\"Sub-Saharan Africa\",\"Sub-Saharan Africa\",\"Sub-Saharan Africa\",\"Sub-Saharan Africa\",\"Sub-Saharan Africa\",\"Sub-Saharan Africa\",\"Sub-Saharan Africa\",\"Sub-Saharan Africa\",\"Sub-Saharan Africa\",\"Sub-Saharan Africa\",\"Sub-Saharan Africa\",\"Sub-Saharan Africa\",\"Sub-Saharan Africa\",\"Sub-Saharan Africa\",\"Sub-Saharan Africa\",\"Sub-Saharan Africa\",\"Sub-Saharan Africa\",\"Sub-Saharan Africa\",\"Sub-Saharan Africa\",\"Sub-Saharan Africa\",\"Sub-Saharan Africa\",\"Sub-Saharan Africa\",\"Sub-Saharan Africa\",\"Sub-Saharan Africa\",\"Sub-Saharan Africa\",\"Sub-Saharan Africa\",\"Sub-Saharan Africa\",\"Sub-Saharan Africa\",\"Sub-Saharan Africa\",\"Sub-Saharan Africa\",\"Sub-Saharan Africa\",\"Sub-Saharan Africa\",\"Sub-Saharan Africa\",\"Sub-Saharan Africa\",\"Sub-Saharan Africa\",\"Sub-Saharan Africa\",\"Sub-Saharan Africa\",\"Sub-Saharan Africa\",\"Sub-Saharan Africa\",\"Sub-Saharan Africa\",\"Sub-Saharan Africa\",\"Sub-Saharan Africa\",\"Sub-Saharan Africa\",\"Sub-Saharan Africa\",\"Sub-Saharan Africa\",\"Sub-Saharan Africa\",\"Sub-Saharan Africa\",\"Sub-Saharan Africa\",\"Sub-Saharan Africa\",\"Sub-Saharan Africa\",\"Sub-Saharan Africa\",\"Sub-Saharan Africa\",\"Sub-Saharan Africa\",\"Sub-Saharan Africa\",\"Sub-Saharan Africa\",\"Sub-Saharan Africa\",\"Sub-Saharan Africa\",\"Sub-Saharan Africa\",\"Sub-Saharan Africa\",\"Sub-Saharan Africa\",\"Sub-Saharan Africa\",\"Sub-Saharan Africa\",\"Sub-Saharan Africa\",\"Sub-Saharan Africa\",\"Sub-Saharan Africa\",\"Sub-Saharan Africa\",\"Sub-Saharan Africa\",\"Sub-Saharan Africa\",\"Sub-Saharan Africa\",\"Sub-Saharan Africa\",\"Sub-Saharan Africa\",\"Sub-Saharan Africa\",\"Sub-Saharan Africa\",\"Sub-Saharan Africa\",\"Sub-Saharan Africa\",\"Sub-Saharan Africa\",\"Sub-Saharan Africa\",\"Sub-Saharan Africa\",\"Sub-Saharan Africa\",\"Sub-Saharan Africa\",\"Sub-Saharan Africa\",\"Sub-Saharan Africa\",\"Sub-Saharan Africa\",\"Sub-Saharan Africa\",\"Sub-Saharan Africa\",\"Sub-Saharan Africa\",\"Sub-Saharan Africa\",\"Sub-Saharan Africa\",\"Sub-Saharan Africa\",\"Sub-Saharan Africa\",\"Sub-Saharan Africa\",\"Sub-Saharan Africa\",\"Sub-Saharan Africa\",\"Sub-Saharan Africa\",\"Sub-Saharan Africa\",\"Sub-Saharan Africa\",\"Sub-Saharan Africa\",\"Sub-Saharan Africa\",\"Sub-Saharan Africa\",\"Sub-Saharan Africa\",\"Sub-Saharan Africa\",\"Sub-Saharan Africa\",\"Sub-Saharan Africa\",\"Sub-Saharan Africa\",\"Sub-Saharan Africa\",\"Sub-Saharan Africa\",\"Sub-Saharan Africa\",\"Sub-Saharan Africa\",\"Sub-Saharan Africa\",\"Sub-Saharan Africa\",\"Sub-Saharan Africa\",\"Sub-Saharan Africa\",\"Sub-Saharan Africa\",\"Sub-Saharan Africa\",\"Sub-Saharan Africa\",\"Sub-Saharan Africa\",\"Sub-Saharan Africa\",\"Sub-Saharan Africa\",\"Sub-Saharan Africa\",\"Sub-Saharan Africa\",\"Sub-Saharan Africa\",\"Sub-Saharan Africa\",\"Sub-Saharan Africa\",\"Sub-Saharan Africa\",\"Sub-Saharan Africa\",\"Sub-Saharan Africa\",\"Sub-Saharan Africa\",\"Sub-Saharan Africa\",\"Sub-Saharan Africa\",\"Sub-Saharan Africa\",\"Sub-Saharan Africa\",\"Sub-Saharan Africa\",\"Sub-Saharan Africa\",\"Sub-Saharan Africa\",\"Sub-Saharan Africa\",\"Sub-Saharan Africa\",\"Sub-Saharan Africa\",\"Sub-Saharan Africa\",\"Sub-Saharan Africa\",\"Sub-Saharan Africa\",\"Sub-Saharan Africa\",\"Sub-Saharan Africa\",\"Sub-Saharan Africa\",\"Sub-Saharan Africa\",\"Sub-Saharan Africa\",\"Sub-Saharan Africa\",\"Sub-Saharan Africa\",\"Sub-Saharan Africa\",\"Sub-Saharan Africa\",\"Sub-Saharan Africa\",\"Sub-Saharan Africa\",\"Sub-Saharan Africa\",\"Sub-Saharan Africa\",\"Sub-Saharan Africa\",\"Sub-Saharan Africa\",\"Sub-Saharan Africa\",\"Sub-Saharan Africa\",\"Sub-Saharan Africa\",\"Sub-Saharan Africa\",\"Sub-Saharan Africa\",\"Sub-Saharan Africa\",\"Sub-Saharan Africa\",\"Sub-Saharan Africa\",\"Sub-Saharan Africa\",\"Sub-Saharan Africa\",\"Sub-Saharan Africa\",\"Sub-Saharan Africa\",\"Sub-Saharan Africa\",\"Sub-Saharan Africa\",\"Sub-Saharan Africa\",\"Sub-Saharan Africa\",\"Sub-Saharan Africa\",\"Sub-Saharan Africa\",\"Sub-Saharan Africa\",\"Sub-Saharan Africa\",\"Sub-Saharan Africa\",\"Sub-Saharan Africa\",\"Sub-Saharan Africa\",\"Sub-Saharan Africa\",\"Sub-Saharan Africa\",\"Sub-Saharan Africa\",\"Sub-Saharan Africa\",\"Sub-Saharan Africa\",\"Sub-Saharan Africa\",\"Sub-Saharan Africa\",\"Sub-Saharan Africa\",\"Sub-Saharan Africa\",\"Sub-Saharan Africa\",\"Sub-Saharan Africa\",\"Sub-Saharan Africa\",\"Sub-Saharan Africa\",\"Sub-Saharan Africa\",\"Sub-Saharan Africa\",\"Sub-Saharan Africa\",\"Sub-Saharan Africa\",\"Sub-Saharan Africa\",\"Sub-Saharan Africa\",\"Sub-Saharan Africa\",\"Sub-Saharan Africa\",\"Sub-Saharan Africa\",\"Sub-Saharan Africa\",\"Sub-Saharan Africa\",\"Sub-Saharan Africa\",\"Sub-Saharan Africa\",\"Sub-Saharan Africa\",\"Sub-Saharan Africa\",\"Sub-Saharan Africa\",\"Sub-Saharan Africa\",\"Sub-Saharan Africa\",\"Sub-Saharan Africa\",\"Sub-Saharan Africa\",\"Sub-Saharan Africa\",\"Sub-Saharan Africa\",\"Sub-Saharan Africa\",\"Sub-Saharan Africa\",\"Sub-Saharan Africa\",\"Sub-Saharan Africa\",\"Sub-Saharan Africa\",\"Sub-Saharan Africa\",\"Sub-Saharan Africa\",\"Sub-Saharan Africa\",\"Sub-Saharan Africa\",\"Sub-Saharan Africa\",\"Sub-Saharan Africa\",\"Sub-Saharan Africa\",\"Sub-Saharan Africa\",\"Sub-Saharan Africa\",\"Sub-Saharan Africa\",\"Sub-Saharan Africa\",\"Sub-Saharan Africa\",\"Sub-Saharan Africa\",\"Sub-Saharan Africa\",\"Sub-Saharan Africa\",\"Sub-Saharan Africa\",\"Sub-Saharan Africa\",\"Sub-Saharan Africa\",\"Sub-Saharan Africa\",\"Sub-Saharan Africa\",\"Sub-Saharan Africa\",\"Sub-Saharan Africa\",\"Sub-Saharan Africa\",\"Sub-Saharan Africa\",\"Sub-Saharan Africa\",\"Sub-Saharan Africa\",\"Sub-Saharan Africa\",\"Sub-Saharan Africa\",\"Sub-Saharan Africa\",\"Sub-Saharan Africa\",\"Sub-Saharan Africa\",\"Sub-Saharan Africa\",\"Sub-Saharan Africa\",\"Sub-Saharan Africa\",\"Sub-Saharan Africa\",\"Sub-Saharan Africa\",\"Sub-Saharan Africa\",\"Sub-Saharan Africa\",\"Sub-Saharan Africa\",\"Sub-Saharan Africa\",\"Sub-Saharan Africa\",\"Sub-Saharan Africa\",\"Sub-Saharan Africa\",\"Sub-Saharan Africa\",\"Sub-Saharan Africa\",\"Sub-Saharan Africa\",\"Sub-Saharan Africa\",\"Sub-Saharan Africa\",\"Sub-Saharan Africa\",\"Sub-Saharan Africa\",\"Sub-Saharan Africa\",\"Sub-Saharan Africa\",\"Sub-Saharan Africa\",\"Sub-Saharan Africa\",\"Sub-Saharan Africa\",\"Sub-Saharan Africa\",\"Sub-Saharan Africa\",\"Sub-Saharan Africa\",\"Sub-Saharan Africa\",\"Sub-Saharan Africa\",\"Sub-Saharan Africa\",\"Sub-Saharan Africa\",\"Sub-Saharan Africa\",\"Sub-Saharan Africa\",\"Sub-Saharan Africa\",\"Sub-Saharan Africa\",\"Sub-Saharan Africa\",\"Sub-Saharan Africa\",\"Sub-Saharan Africa\",\"Sub-Saharan Africa\",\"Sub-Saharan Africa\",\"Sub-Saharan Africa\",\"Sub-Saharan Africa\",\"Sub-Saharan Africa\",\"Sub-Saharan Africa\",\"Sub-Saharan Africa\",\"Sub-Saharan Africa\",\"Sub-Saharan Africa\",\"Sub-Saharan Africa\",\"Sub-Saharan Africa\",\"Sub-Saharan Africa\",\"Sub-Saharan Africa\",\"Sub-Saharan Africa\",\"Sub-Saharan Africa\",\"Sub-Saharan Africa\",\"Sub-Saharan Africa\",\"Sub-Saharan Africa\",\"Sub-Saharan Africa\",\"Sub-Saharan Africa\",\"Sub-Saharan Africa\",\"Sub-Saharan Africa\",\"Sub-Saharan Africa\",\"Sub-Saharan Africa\",\"Sub-Saharan Africa\",\"Sub-Saharan Africa\",\"Sub-Saharan Africa\",\"Sub-Saharan Africa\",\"Sub-Saharan Africa\",\"Sub-Saharan Africa\",\"Sub-Saharan Africa\",\"Sub-Saharan Africa\",\"Sub-Saharan Africa\",\"Sub-Saharan Africa\",\"Sub-Saharan Africa\",\"Sub-Saharan Africa\",\"Sub-Saharan Africa\",\"Sub-Saharan Africa\",\"Sub-Saharan Africa\",\"Sub-Saharan Africa\",\"Sub-Saharan Africa\",\"Sub-Saharan Africa\",\"Sub-Saharan Africa\",\"Sub-Saharan Africa\",\"Sub-Saharan Africa\",\"Sub-Saharan Africa\",\"Sub-Saharan Africa\",\"Sub-Saharan Africa\",\"Sub-Saharan Africa\",\"Sub-Saharan Africa\",\"Sub-Saharan Africa\",\"Sub-Saharan Africa\",\"Sub-Saharan Africa\",\"Sub-Saharan Africa\",\"Sub-Saharan Africa\",\"Sub-Saharan Africa\",\"Sub-Saharan Africa\",\"Sub-Saharan Africa\",\"Sub-Saharan Africa\",\"Sub-Saharan Africa\",\"Sub-Saharan Africa\",\"Sub-Saharan Africa\",\"Sub-Saharan Africa\",\"Sub-Saharan Africa\",\"Sub-Saharan Africa\",\"Sub-Saharan Africa\",\"Sub-Saharan Africa\",\"Sub-Saharan Africa\",\"Sub-Saharan Africa\",\"Sub-Saharan Africa\",\"Sub-Saharan Africa\",\"Sub-Saharan Africa\",\"Sub-Saharan Africa\",\"Sub-Saharan Africa\",\"Sub-Saharan Africa\",\"Sub-Saharan Africa\",\"Sub-Saharan Africa\",\"Sub-Saharan Africa\",\"Sub-Saharan Africa\",\"Sub-Saharan Africa\",\"Sub-Saharan Africa\",\"Sub-Saharan Africa\",\"Sub-Saharan Africa\",\"Sub-Saharan Africa\",\"Sub-Saharan Africa\",\"Sub-Saharan Africa\",\"Sub-Saharan Africa\",\"Sub-Saharan Africa\",\"Sub-Saharan Africa\",\"Sub-Saharan Africa\",\"Sub-Saharan Africa\"],\"x0\":\" \",\"xaxis\":\"x\",\"y\":[1101583,2307606,866795,4376235,2099515,3247615,3686936,1639968,1068328,4101509,4157217,5291787,48884,86108,59593,161372,304051,467464,190693,288844,539971,395940,970010,155296,66985,251654,71293,19901,134260,83895,315436,93836,185473,5197,14982,121628,69199,110004,186821,145405,72480,109887,235234,62056,179778,134062,2555248,3393940,2143992,4076961,6838885,3983861,3269505,5902983,4486328,5990834,7464272,7849206,3840,9296,6341,5998,11400,2499,2467,15225,19029,9714659,6584328,9983400,8679389,17616377,14782324,14187954,13551620,9225076,11592595,13796726,14348460,5319973,6178933,6616860,7906419,5657669,6565631,10799552,6111726,8396700,7602106,9095770,7314542,349025,729819,863866,952591,746754,921217,3537695,2052696,557636,1394722,1337534,1109889,292604,565509,716753,917351,55082934,390504,1171403,732158,515811,793565,1044099,609447,538084,580528,386607,382273,830098,682638,908178,622829,1523551,240927,816085,1930893,12311360,10659793,8161079,469628,133183,192793,318232,611037,87085,277419,584955,721012,518295,328240,459540,534165,896829,945898,1178352,1265216,840800,1295898,1236149,1091274,1039679,647945,184122,54,16290882,13058393,15182544,14136668,12965315,11630702,13972850,17794286,15833663,13708256,13249503,8848720,1840230,1118976,1303547,859887,1351614,1301905,711064,1987078,1614354,1248470,1023575,1572515,1231302,604213,4528051,1252042,1630559,2697512,762643,2652082,1076186,1548472,1348471,2622436,349973,102745,1116065,41571,2577671,2572314,1238297,1151593,3270813,1804357,3037534,5019979,4063169,6515449,5820254,6685692,5104872,6898043,5671607,6288650,6178398,6335229,5017443,6039305,4624325,3272133,6486637,5519414,6589101,6665338,6812071,8027409,6401617,6667644,8280780,290708,357363,174469,224919,295150,333250,95994,86338,206487,613391,143498,193762,2421779,2154932,1947567,1348405,1449999,2374840,1821854,2905507,3435793,2786572,3348017,2087351,6167117,5525268,1713030,2221976,2494028,1287767,4169606,3822500,2921384,141329,234001,110744,262089,257355,84199,290358,266064,298330,217626,208606,58716,356,19664,21353,42104,16932,125916,56486,161,12827,49941,138602,20155,115473,69535,80265,40435,91564,95611,93482,193088,38495,145712,68327,6640,119921,10942,18158,6111,6043,6092,6107,12147,9949,13889,27695,11325183,11399502,13567493,11397726,10630202,9743630,7621219,8741188,4204628,8982813,5408246,6041765,9168102,6850669,1519146,1001318,797525,1338550,1110175,923798,1094181,525837,436099,728636,564318,511801,712401,131658,554285,576507,685855,754419,863579,712579,698128,763567,341991,631941,440679,278619,638884,462042,406076,99327,237748,660338,226616,375031,542380,473899,1306462,1202714,816505,1247324,709494,774684,1238184,707378,862118,671380,1218336,495512,6,12576008,8008851,7889495,9510947,11072128,7419895,11630094,7355329,9712381,10903188,9768026,6341549,1503448,578110,570478,797012,979336,753771,1466385,594558,572299,887259,1070838,719301,2878384,2091224,3251111,4492160,1351893,1766665,5723900,1984942,1727601,2067207,2843982,2925130,5236131,6866313,5777240,4768594,6007766,5168583,5120617,8090554,6092103,6342520,7613792,5325925,5454154,5141876,4855606,107850,91710,290492,36748,81186,75004,8312,7633,94347,203384,232970,27591,2212495,2054003,1270566,2165394,2782252,3820766,3371556,2765971,3009105,3934474,2831440,3246240],\"y0\":\" \",\"yaxis\":\"y\",\"type\":\"box\"},{\"alignmentgroup\":\"True\",\"hovertemplate\":\"<b>%{hovertext}</b><br><br>region=%{x}<br>value=%{y}<extra></extra>\",\"hovertext\":[2826188.0,2679343.0,2780672.0,3266338.0,5547943.0,3416338.0,3197792.0,2879645.0,4442807.0,5248498.0,4986434.0,3040597.0,705511.0,789163.0,1438057.0,823651.0,1275584.0,1229141.0,830739.0,656533.0,680295.0,1301968.0,1185975.0,1169650.0,35456695.0,36464276.0,36862193.0,39226987.0,37728575.0,28010910.0,37156414.0,42597101.0,41504631.0,40818207.0,48281698.0,42447296.0,1211270.0,1423664.0,1342172.0,1632753.0,1372101.0,1192468.0,1630435.0,1499860.0,1572855.0,1781365.0,1421321.0,1237825.0,4431716.0,4718572.0,3451665.0,3592268.0,4202038.0,4011592.0,4472430.0,4492331.0,3452361.0,4378788.0,4026251.0,3260272.0,7690600.0,6057000.0,7027600.0,5740000.0,6179400.0,5362000.0,6143600.0,5584900.0,5799900.0,6881900.0,6100100.0,6627900.0,3420774.0,3929871.0,4359064.0,3894900.0,4039912.0,3240267.0,3925161.0,3992645.0,3276136.0,4489220.0,4205346.0,3582478.0,1508334.0,1685691.0,1821435.0,1115048.0,1109127.0,782152.0,1356897.0,915911.0,1468299.0,1104727.0,1036833.0,1380954.0,15724053.0,15183044.0,16331671.0,15336816.0,15649253.0,15627899.0,19434703.0,15128613.0,13426781.0,15076054.0,14388643.0,11219158.0,10424497.0,10829453.0,10598436.0,10757081.0,9792486.0,10112277.0,8344587.0,12913561.0,9847382.0,10832138.0,11315015.0,8368758.0,2417529.0,2455373.0,2221997.0,2135696.0,2045887.0,1837745.0,1820522.0,2724524.0,2919688.0,2453274.0,2304399.0,1660106.0,8998833.0,7655376.0,9259096.0,8430725.0,6498042.0,8704369.0,7451517.0,8154240.0,8443991.0,9515824.0,9932933.0,5108773.0,73997562.0,64410225.0,71239301.0,66923805.0,64221842.0,70293255.0,67656831.0,53285050.0,61518525.0,1864643.0,67516895.0,48480978.0,1245862.0,2243577.0,1184225.0,702570.0,1543260.0,2532183.0,1526629.0,1042505.0,1417383.0,1179123.0,1871728.0,2725020.0,110816099.0,130183432.0,133780302.0,128948614.0,130451552.0,128496502.0,135355042.0,124161361.0,119022345.0,128266017.0,108064568.0,102475748.0,12612773.0,10365899.0,13148784.0,11636475.0,13887256.0,16460503.0,11767743.0,10773714.0,11554918.0,14518308.0,13506609.0,10797699.0,2246.0,8380.0,2509.0,7769582.0,8645956.0,10041884.0,10200677.0,8344189.0,9369615.0,8231866.0,7871240.0,10514521.0,9486416.0,8214044.0,5463006.0,316483.0,373650.0,49719.0,139029.0,375390.0,90642.0,437810.0,131223.0,216852.0,203234.0,25.0,170914.0,8716922.0,7550521.0,8194409.0,7677846.0,7211084.0,8184812.0,9855769.0,8999838.0,7994874.0,7206003.0,8113204.0,6187307.0,78535959.0,80008127.0,85404238.0,80444024.0,90787302.0,85552765.0,86307580.0,63052915.0,81444307.0,89345184.0,82828315.0,65556010.0,10248311.0,11529374.0,11024160.0,14537530.0,14670980.0,12621568.0,14011073.0,10198451.0,14270905.0,12706332.0,15400230.0,13692190.0,586759.0,61922.0,298294.0,490555.0,410535.0,357394.0,518201.0,287121.0,304612.0,364666.0,613335.0,390720.0,1409281.0,2266561.0,2212696.0,1393701.0,2068241.0,1472576.0,1555687.0,1302477.0,1556564.0,2758983.0,1351221.0,1273548.0,3793141.0,4166017.0,3189792.0,3614522.0,4407243.0,3147060.0,5477294.0,4754823.0,4700086.0,5050540.0,4217314.0,5301418.0,7721376.0,6863589.0,7016366.0,7596904.0,5821715.0,7003164.0,4318932.0,6895205.0,7595342.0,8807483.0,6317085.0,4942122.0,553895.0,550140.0,611106.0,774577.0,1029781.0,1025268.0,847700.0,990998.0,644705.0,1049650.0,970969.0,877927.0,129341.0,63568.0,202635.0,114356.0,176870.0,43435.0,109323.0,246814.0,181139.0,69955.0,175056.0,119641.0,22943352.0,22183356.0,24100537.0,24240257.0,25194644.0,20694276.0,23307338.0,20978685.0,21163476.0,26194852.0,23193432.0,20624029.0,11819566.0,11109826.0,10823238.0,11570818.0,8735394.0,9420463.0,7655053.0,10686648.0,10402548.0,9460531.0,9526956.0,6037461.0,39804929.0,46506698.0,44334451.0,44853400.0,49289925.0,52234864.0,37127838.0,34830230.0,35224219.0,45885855.0,34039342.0,28550079.0,13291189.0,12864333.0,10338277.0,11407102.0,13325811.0,10280245.0,13033795.0,9467395.0,12686245.0,15537343.0,14229656.0,10837461.0,11187350.0,10430876.0,11385911.0,10670992.0,11941253.0,14799887.0,13999238.0,13272757.0,12976417.0,13943279.0,16325929.0,10155251.0,26683396.0,23471291.0,28930621.0,28659620.0,26404614.0,55714350.0,27210378.0,28478367.0,29034188.0,30877426.0,32628797.0,30937001.0,2731088.0,2729723.0,4226232.0,3567733.0,3259033.0,5400245.0,4025547.0,4685191.0,4043410.0,4595519.0,5944322.0,6329563.0,3619575.0,4823446.0,4960594.0,4528849.0,5201738.0,3809056.0,5291044.0,5015137.0,5312522.0,5129341.0,5467748.0,4358419.0,8039223.0,6180286.0,5722933.0,6373741.0,6944541.0,6982163.0,7399367.0,5432964.0,5932279.0,7055049.0,6068401.0,5825749.0,55169545.0,56982078.0,56425714.0,59761531.0,59875193.0,53283153.0,60290062.0,52868315.0,58022045.0,55875871.0,53202998.0,48861765.0,16167979.0,14716115.0,14653326.0,12725659.0,12970245.0,13301559.0,7884781.0,14681244.0,14040574.0,16008128.0,12831454.0,10243697.0,11508154.0,11776192.0,13661343.0,14244816.0,13261065.0,14103036.0,13687862.0,13450262.0,14186760.0,13577719.0,11655147.0,7785387.0,78210181.0,96215311.0,107718199.0,93270323.0,104568517.0,74040542.0,76123178.0,61042746.0,59775805.0,55833811.0,53696876.0,105139864.0,8573459.0,10735457.0,6670159.0,6458422.0,10089720.0,8493305.0,9255200.0,9603873.0,7011121.0,11764060.0,10129816.0,12510473.0,2241696.0,2093004.0,2258549.0,2611012.0,2685354.0,3390672.0,2711601.0,2235669.0,2638525.0,2872972.0,2493192.0,1502577.0,69410707.0,61132016.0,62223486.0,69871509.0,59439113.0,67239838.0,71459861.0,68356904.0,68736998.0,70627907.0,68014215.0,54447760.0,2350617.0,3417486.0,3681225.0,3327877.0,4777274.0,2464996.0,4861255.0,5919230.0,1674075.0,3186412.0,3417541.0,2666658.0,228085.0,404842.0,1414663.0,512992.0,962151.0,619781.0,636062.0,1094212.0,793815.0,1538212.0,989820.0,2019807.0,52910742.0,49428163.0,48724178.0,55959995.0,52328381.0,40435490.0,46168319.0,46534261.0,47471183.0,51390345.0,47914258.0,46816594.0,1474644.0,1657367.0,1629122.0,1656188.0,1488086.0,1645904.0,1544682.0,1579108.0,1694166.0,1659662.0,1400244.0,1312128.0,3615713.0,4169039.0,4543352.0,4064069.0,3499088.0,3388814.0,4434905.0,2907376.0,3297405.0,3240606.0,3756866.0,2304211.0,5764400.0,3993500.0,5991100.0,7857500.0,8567100.0,6585300.0,9403100.0,9236500.0,7170700.0,7417600.0,7579200.0,7674700.0,3857975.0,4729953.0,4375031.0,4189071.0,4111242.0,4274281.0,4120522.0,3575065.0,3399334.0,3576873.0,3295274.0,2983806.0,1728593.0,975661.0,781385.0,904871.0,1741693.0,1093066.0,1118873.0,929214.0,1255422.0,904531.0,509030.0,440144.0,14629428.0,13480116.0,15121974.0,13772157.0,16052769.0,12816694.0,13946528.0,12988536.0,11295769.0,11143061.0,13051157.0,9706536.0,13053198.0,9345032.0,11570621.0,10292037.0,12225290.0,10847560.0,9335105.0,10514261.0,10055157.0,11234417.0,10972161.0,8596102.0,1603877.0,2403912.0,2999082.0,2096852.0,2901581.0,2461309.0,2506969.0,2745086.0,3104633.0,1752312.0,2393791.0,8067005.0,6728171.0,8414485.0,9713331.0,10104692.0,8050284.0,6902025.0,9102291.0,7811027.0,8345769.0,6899383.0,5224488.0,61239954.0,62794323.0,63953932.0,70815398.0,63381019.0,59775346.0,60910361.0,36887123.0,49490257.0,53452684.0,43070443.0,37306673.0,847244.0,963467.0,1685468.0,1041725.0,1333093.0,1976083.0,2166143.0,1046683.0,1090690.0,2730666.0,1316037.0,1690217.0,111455496.0,111729749.0,125917135.0,123568836.0,124104749.0,118627849.0,119158074.0,104644346.0,108555268.0,106896782.0,94972712.0,75502250.0,13244956.0,10368237.0,10570277.0,10813185.0,11990524.0,10628407.0,12120051.0,8925277.0,12349389.0,11499328.0,11365018.0,9314188.0,7419892.0,7525631.0,9202933.0,8808523.0,11027693.0,8404892.0,11160941.0,8448000.0,9027406.0,8895732.0,7455238.0,6764119.0,278090.0,281927.0,118140.0,211057.0,92900.0,335150.0,250824.0,442871.0,677.0,193739.0,89192.0,71288.0,10171093.0,7415821.0,7985226.0,7185262.0,6131035.0,6761746.0,8489194.0,6099476.0,7673048.0,6597361.0,5877517.0,4217922.0,81946477.0,73129412.0,79332908.0,76750077.0,81056377.0,74747008.0,85000940.0,60420178.0,70237034.0,73116332.0,60953798.0,46561277.0,13518999.0,11478757.0,10330973.0,14756306.0,11662057.0,15679214.0,20610552.0,9923786.0,12364374.0,10663721.0,11117186.0,18363902.0,217998.0,93465.0,153050.0,148383.0,281744.0,226513.0,264830.0,305409.0,324800.0,362699.0,2200203.0,1599962.0,1625476.0,2478977.0,3083052.0,1764325.0,2048853.0,830583.0,1270165.0,978744.0,568104.0,852598.0,5059578.0,3408428.0,4329478.0,4494229.0,4612778.0,4078300.0,4675884.0,3086181.0,4351004.0,3084181.0,3434914.0,3982883.0,5084465.0,6215243.0,6332380.0,1208143.0,5734741.0,5854325.0,1294643.0,3759032.0,5248020.0,5652705.0,1157412.0,4751353.0,552525.0,752977.0,847012.0,1152700.0,578095.0,572257.0,927485.0,818763.0,1110413.0,743859.0,741047.0,916597.0,66918.0,83790.0,134309.0,49893.0,132897.0,69003.0,95587.0,130344.0,97237.0,83897.0,25177123.0,23620796.0,25057385.0,25013210.0,26553805.0,23835974.0,25073636.0,19806546.0,23202376.0,24547444.0,18111464.0,15636275.0,11067839.0,9955875.0,10905802.0,9494254.0,9261175.0,10236911.0,6008512.0,8810184.0,9152334.0,9374164.0,9459174.0,7371812.0,39777313.0,40204671.0,42002937.0,45575813.0,45330472.0,40685771.0,35524404.0,36280043.0,36337063.0,37770986.0,35416692.0,29304017.0,17979270.0,14937120.0,13255694.0,10107758.0,11234924.0,9013319.0,11705680.0,7208039.0,6680189.0,7176367.0,8479906.0,6608067.0,10007625.0,12080132.0,12244971.0,12892491.0,14238347.0,12358295.0,13115153.0,12594369.0,12914071.0,12092687.0,13122559.0,9924283.0,27798143.0,29915027.0,40958262.0,37153976.0,36297203.0,38692063.0,43539075.0,47462114.0,48343449.0,40840436.0,39656272.0,44588694.0,6716644.0,7324560.0,7416590.0,4842355.0,3695703.0,3819349.0,3694996.0,4157423.0,3823824.0,3047825.0,5341147.0,4713767.0,3881367.0,2628215.0,3273409.0,3512567.0,4921489.0,2854417.0,3113476.0,2856187.0,2746753.0,2449166.0,3236579.0,1990608.0,6363990.0,5531589.0,6361943.0,5881387.0,5096786.0,5136097.0,5478759.0,3975767.0,4565106.0,4838149.0,3684386.0,3574736.0,56958237.0,57971464.0,59579194.0,58362009.0,69164131.0,55159629.0,68579965.0,42343117.0,45092149.0,45541928.0,37686687.0,37469635.0,12623257.0,11617691.0,14989856.0,11812948.0,14197984.0,12811354.0,8400577.0,10006658.0,11606950.0,11671513.0,10986528.0,7004981.0,11486120.0,11877213.0,11603931.0,12242732.0,13202656.0,11274840.0,12272671.0,10032261.0,11923486.0,11690795.0,9441345.0,7531267.0,69062096.0,57986125.0,56746254.0,62262334.0,65787593.0,49747747.0,63617095.0,50160400.0,45780297.0,55124943.0,45273744.0,42803986.0,8884388.0,8432515.0,12303431.0,11849564.0,11098600.0,8632569.0,9465152.0,8875941.0,10322161.0,7631860.0,8820378.0,7374569.0,2122584.0,3210288.0,1899550.0,2978174.0,3062907.0,2108155.0,3040996.0,3141093.0,2532035.0,2357727.0,1950549.0,1666256.0,79066490.0,72098659.0,82276655.0,60992140.0,64557934.0,57128824.0,67370379.0,65383645.0,68441589.0,71780192.0,77403311.0,48808434.0,2683974.0,3546703.0,4190508.0,3950141.0,4046768.0,1636393.0,5209263.0,4066628.0,2755970.0,2411107.0,1543693.0,4067422.0],\"legendgroup\":\"Europe & Central Asia\",\"marker\":{\"color\":\"#EF553B\"},\"name\":\"Europe & Central Asia\",\"notched\":false,\"offsetgroup\":\"Europe & Central Asia\",\"orientation\":\"v\",\"showlegend\":true,\"x\":[\"Europe & Central Asia\",\"Europe & Central Asia\",\"Europe & Central Asia\",\"Europe & Central Asia\",\"Europe & Central Asia\",\"Europe & Central Asia\",\"Europe & Central Asia\",\"Europe & Central Asia\",\"Europe & Central Asia\",\"Europe & Central Asia\",\"Europe & Central Asia\",\"Europe & Central Asia\",\"Europe & Central Asia\",\"Europe & Central Asia\",\"Europe & Central Asia\",\"Europe & Central Asia\",\"Europe & Central Asia\",\"Europe & Central Asia\",\"Europe & Central Asia\",\"Europe & Central Asia\",\"Europe & Central Asia\",\"Europe & Central Asia\",\"Europe & Central Asia\",\"Europe & Central Asia\",\"Europe & Central Asia\",\"Europe & Central Asia\",\"Europe & Central Asia\",\"Europe & Central Asia\",\"Europe & Central Asia\",\"Europe & Central Asia\",\"Europe & Central Asia\",\"Europe & Central Asia\",\"Europe & Central Asia\",\"Europe & Central Asia\",\"Europe & Central Asia\",\"Europe & Central Asia\",\"Europe & Central Asia\",\"Europe & Central Asia\",\"Europe & Central Asia\",\"Europe & Central Asia\",\"Europe & Central Asia\",\"Europe & Central Asia\",\"Europe & Central Asia\",\"Europe & Central Asia\",\"Europe & Central Asia\",\"Europe & Central Asia\",\"Europe & Central Asia\",\"Europe & Central Asia\",\"Europe & Central Asia\",\"Europe & Central Asia\",\"Europe & Central Asia\",\"Europe & Central Asia\",\"Europe & Central Asia\",\"Europe & Central Asia\",\"Europe & Central Asia\",\"Europe & Central Asia\",\"Europe & Central Asia\",\"Europe & Central Asia\",\"Europe & Central Asia\",\"Europe & Central Asia\",\"Europe & Central Asia\",\"Europe & Central Asia\",\"Europe & Central Asia\",\"Europe & Central Asia\",\"Europe & Central Asia\",\"Europe & Central Asia\",\"Europe & Central Asia\",\"Europe & Central Asia\",\"Europe & Central Asia\",\"Europe & Central Asia\",\"Europe & Central Asia\",\"Europe & Central Asia\",\"Europe & Central Asia\",\"Europe & Central Asia\",\"Europe & Central Asia\",\"Europe & Central Asia\",\"Europe & Central Asia\",\"Europe & Central Asia\",\"Europe & Central Asia\",\"Europe & Central Asia\",\"Europe & Central Asia\",\"Europe & Central Asia\",\"Europe & Central Asia\",\"Europe & Central Asia\",\"Europe & Central Asia\",\"Europe & Central Asia\",\"Europe & Central Asia\",\"Europe & Central Asia\",\"Europe & Central Asia\",\"Europe & Central Asia\",\"Europe & Central Asia\",\"Europe & Central Asia\",\"Europe & Central Asia\",\"Europe & Central Asia\",\"Europe & Central Asia\",\"Europe & Central Asia\",\"Europe & Central Asia\",\"Europe & Central Asia\",\"Europe & Central Asia\",\"Europe & Central Asia\",\"Europe & Central Asia\",\"Europe & Central Asia\",\"Europe & Central Asia\",\"Europe & Central Asia\",\"Europe & Central Asia\",\"Europe & Central Asia\",\"Europe & Central Asia\",\"Europe & Central Asia\",\"Europe & Central Asia\",\"Europe & Central Asia\",\"Europe & Central Asia\",\"Europe & Central Asia\",\"Europe & Central Asia\",\"Europe & Central Asia\",\"Europe & Central Asia\",\"Europe & Central Asia\",\"Europe & Central Asia\",\"Europe & Central Asia\",\"Europe & Central Asia\",\"Europe & Central Asia\",\"Europe & Central Asia\",\"Europe & Central Asia\",\"Europe & Central Asia\",\"Europe & Central Asia\",\"Europe & Central Asia\",\"Europe & Central Asia\",\"Europe & Central Asia\",\"Europe & Central Asia\",\"Europe & Central Asia\",\"Europe & Central Asia\",\"Europe & Central Asia\",\"Europe & Central Asia\",\"Europe & Central Asia\",\"Europe & Central Asia\",\"Europe & Central Asia\",\"Europe & Central Asia\",\"Europe & Central Asia\",\"Europe & Central Asia\",\"Europe & Central Asia\",\"Europe & Central Asia\",\"Europe & Central Asia\",\"Europe & Central Asia\",\"Europe & Central Asia\",\"Europe & Central Asia\",\"Europe & Central Asia\",\"Europe & Central Asia\",\"Europe & Central Asia\",\"Europe & Central Asia\",\"Europe & Central Asia\",\"Europe & Central Asia\",\"Europe & Central Asia\",\"Europe & Central Asia\",\"Europe & Central Asia\",\"Europe & Central Asia\",\"Europe & Central Asia\",\"Europe & Central Asia\",\"Europe & Central Asia\",\"Europe & Central Asia\",\"Europe & Central Asia\",\"Europe & Central Asia\",\"Europe & Central Asia\",\"Europe & Central Asia\",\"Europe & Central Asia\",\"Europe & Central Asia\",\"Europe & Central Asia\",\"Europe & Central Asia\",\"Europe & Central Asia\",\"Europe & Central Asia\",\"Europe & Central Asia\",\"Europe & Central Asia\",\"Europe & Central Asia\",\"Europe & Central Asia\",\"Europe & Central Asia\",\"Europe & Central Asia\",\"Europe & Central Asia\",\"Europe & Central Asia\",\"Europe & Central Asia\",\"Europe & Central Asia\",\"Europe & Central Asia\",\"Europe & Central Asia\",\"Europe & Central Asia\",\"Europe & Central Asia\",\"Europe & Central Asia\",\"Europe & Central Asia\",\"Europe & Central Asia\",\"Europe & Central Asia\",\"Europe & Central Asia\",\"Europe & Central Asia\",\"Europe & Central Asia\",\"Europe & Central Asia\",\"Europe & Central Asia\",\"Europe & Central Asia\",\"Europe & Central Asia\",\"Europe & Central Asia\",\"Europe & Central Asia\",\"Europe & Central Asia\",\"Europe & Central Asia\",\"Europe & Central Asia\",\"Europe & Central Asia\",\"Europe & Central Asia\",\"Europe & Central Asia\",\"Europe & Central Asia\",\"Europe & Central Asia\",\"Europe & Central Asia\",\"Europe & Central Asia\",\"Europe & Central Asia\",\"Europe & Central Asia\",\"Europe & Central Asia\",\"Europe & Central Asia\",\"Europe & Central Asia\",\"Europe & Central Asia\",\"Europe & Central Asia\",\"Europe & Central Asia\",\"Europe & Central Asia\",\"Europe & Central Asia\",\"Europe & Central Asia\",\"Europe & Central Asia\",\"Europe & Central Asia\",\"Europe & Central Asia\",\"Europe & Central Asia\",\"Europe & Central Asia\",\"Europe & Central Asia\",\"Europe & Central Asia\",\"Europe & Central Asia\",\"Europe & Central Asia\",\"Europe & Central Asia\",\"Europe & Central Asia\",\"Europe & Central Asia\",\"Europe & Central Asia\",\"Europe & Central Asia\",\"Europe & Central Asia\",\"Europe & Central Asia\",\"Europe & Central Asia\",\"Europe & Central Asia\",\"Europe & Central Asia\",\"Europe & Central Asia\",\"Europe & Central Asia\",\"Europe & Central Asia\",\"Europe & Central Asia\",\"Europe & Central Asia\",\"Europe & Central Asia\",\"Europe & Central Asia\",\"Europe & Central Asia\",\"Europe & Central Asia\",\"Europe & Central Asia\",\"Europe & Central Asia\",\"Europe & Central Asia\",\"Europe & Central Asia\",\"Europe & Central Asia\",\"Europe & Central Asia\",\"Europe & Central Asia\",\"Europe & Central Asia\",\"Europe & Central Asia\",\"Europe & Central Asia\",\"Europe & Central Asia\",\"Europe & Central Asia\",\"Europe & Central Asia\",\"Europe & Central Asia\",\"Europe & Central Asia\",\"Europe & Central Asia\",\"Europe & Central Asia\",\"Europe & Central Asia\",\"Europe & Central Asia\",\"Europe & Central Asia\",\"Europe & Central Asia\",\"Europe & Central Asia\",\"Europe & Central Asia\",\"Europe & Central Asia\",\"Europe & Central Asia\",\"Europe & Central Asia\",\"Europe & Central Asia\",\"Europe & Central Asia\",\"Europe & Central Asia\",\"Europe & Central Asia\",\"Europe & Central Asia\",\"Europe & Central Asia\",\"Europe & Central Asia\",\"Europe & Central Asia\",\"Europe & Central Asia\",\"Europe & Central Asia\",\"Europe & Central Asia\",\"Europe & Central Asia\",\"Europe & Central Asia\",\"Europe & Central Asia\",\"Europe & Central Asia\",\"Europe & Central Asia\",\"Europe & Central Asia\",\"Europe & Central Asia\",\"Europe & Central Asia\",\"Europe & Central Asia\",\"Europe & Central Asia\",\"Europe & Central Asia\",\"Europe & Central Asia\",\"Europe & Central Asia\",\"Europe & Central Asia\",\"Europe & Central Asia\",\"Europe & Central Asia\",\"Europe & Central Asia\",\"Europe & Central Asia\",\"Europe & Central Asia\",\"Europe & Central Asia\",\"Europe & Central Asia\",\"Europe & Central Asia\",\"Europe & Central Asia\",\"Europe & Central Asia\",\"Europe & Central Asia\",\"Europe & Central Asia\",\"Europe & Central Asia\",\"Europe & Central Asia\",\"Europe & Central Asia\",\"Europe & Central Asia\",\"Europe & Central Asia\",\"Europe & Central Asia\",\"Europe & Central Asia\",\"Europe & Central Asia\",\"Europe & Central Asia\",\"Europe & Central Asia\",\"Europe & Central Asia\",\"Europe & Central Asia\",\"Europe & Central Asia\",\"Europe & Central Asia\",\"Europe & Central Asia\",\"Europe & Central Asia\",\"Europe & Central Asia\",\"Europe & Central Asia\",\"Europe & Central Asia\",\"Europe & Central Asia\",\"Europe & Central Asia\",\"Europe & Central Asia\",\"Europe & Central Asia\",\"Europe & Central Asia\",\"Europe & Central Asia\",\"Europe & Central Asia\",\"Europe & Central Asia\",\"Europe & Central Asia\",\"Europe & Central Asia\",\"Europe & Central Asia\",\"Europe & Central Asia\",\"Europe & Central Asia\",\"Europe & Central Asia\",\"Europe & Central Asia\",\"Europe & Central Asia\",\"Europe & Central Asia\",\"Europe & Central Asia\",\"Europe & Central Asia\",\"Europe & Central Asia\",\"Europe & Central Asia\",\"Europe & Central Asia\",\"Europe & Central Asia\",\"Europe & Central Asia\",\"Europe & Central Asia\",\"Europe & Central Asia\",\"Europe & Central Asia\",\"Europe & Central Asia\",\"Europe & Central Asia\",\"Europe & Central Asia\",\"Europe & Central Asia\",\"Europe & Central Asia\",\"Europe & Central Asia\",\"Europe & Central Asia\",\"Europe & Central Asia\",\"Europe & Central Asia\",\"Europe & Central Asia\",\"Europe & Central Asia\",\"Europe & Central Asia\",\"Europe & Central Asia\",\"Europe & Central Asia\",\"Europe & Central Asia\",\"Europe & Central Asia\",\"Europe & Central Asia\",\"Europe & Central Asia\",\"Europe & Central Asia\",\"Europe & Central Asia\",\"Europe & Central Asia\",\"Europe & Central Asia\",\"Europe & Central Asia\",\"Europe & Central Asia\",\"Europe & Central Asia\",\"Europe & Central Asia\",\"Europe & Central Asia\",\"Europe & Central Asia\",\"Europe & Central Asia\",\"Europe & Central Asia\",\"Europe & Central Asia\",\"Europe & Central Asia\",\"Europe & Central Asia\",\"Europe & Central Asia\",\"Europe & Central Asia\",\"Europe & Central Asia\",\"Europe & Central Asia\",\"Europe & Central Asia\",\"Europe & Central Asia\",\"Europe & Central Asia\",\"Europe & Central Asia\",\"Europe & Central Asia\",\"Europe & Central Asia\",\"Europe & Central Asia\",\"Europe & Central Asia\",\"Europe & Central Asia\",\"Europe & Central Asia\",\"Europe & Central Asia\",\"Europe & Central Asia\",\"Europe & Central Asia\",\"Europe & Central Asia\",\"Europe & Central Asia\",\"Europe & Central Asia\",\"Europe & Central Asia\",\"Europe & Central Asia\",\"Europe & Central Asia\",\"Europe & Central Asia\",\"Europe & Central Asia\",\"Europe & Central Asia\",\"Europe & Central Asia\",\"Europe & Central Asia\",\"Europe & Central Asia\",\"Europe & Central Asia\",\"Europe & Central Asia\",\"Europe & Central Asia\",\"Europe & Central Asia\",\"Europe & Central Asia\",\"Europe & Central Asia\",\"Europe & Central Asia\",\"Europe & Central Asia\",\"Europe & Central Asia\",\"Europe & Central Asia\",\"Europe & Central Asia\",\"Europe & Central Asia\",\"Europe & Central Asia\",\"Europe & Central Asia\",\"Europe & Central Asia\",\"Europe & Central Asia\",\"Europe & Central Asia\",\"Europe & Central Asia\",\"Europe & Central Asia\",\"Europe & Central Asia\",\"Europe & Central Asia\",\"Europe & Central Asia\",\"Europe & Central Asia\",\"Europe & Central Asia\",\"Europe & Central Asia\",\"Europe & Central Asia\",\"Europe & Central Asia\",\"Europe & Central Asia\",\"Europe & Central Asia\",\"Europe & Central Asia\",\"Europe & Central Asia\",\"Europe & Central Asia\",\"Europe & Central Asia\",\"Europe & Central Asia\",\"Europe & Central Asia\",\"Europe & Central Asia\",\"Europe & Central Asia\",\"Europe & Central Asia\",\"Europe & Central Asia\",\"Europe & Central Asia\",\"Europe & Central Asia\",\"Europe & Central Asia\",\"Europe & Central Asia\",\"Europe & Central Asia\",\"Europe & Central Asia\",\"Europe & Central Asia\",\"Europe & Central Asia\",\"Europe & Central Asia\",\"Europe & Central Asia\",\"Europe & Central Asia\",\"Europe & Central Asia\",\"Europe & Central Asia\",\"Europe & Central Asia\",\"Europe & Central Asia\",\"Europe & Central Asia\",\"Europe & Central Asia\",\"Europe & Central Asia\",\"Europe & Central Asia\",\"Europe & Central Asia\",\"Europe & Central Asia\",\"Europe & Central Asia\",\"Europe & Central Asia\",\"Europe & Central Asia\",\"Europe & Central Asia\",\"Europe & Central Asia\",\"Europe & Central Asia\",\"Europe & Central Asia\",\"Europe & Central Asia\",\"Europe & Central Asia\",\"Europe & Central Asia\",\"Europe & Central Asia\",\"Europe & Central Asia\",\"Europe & Central Asia\",\"Europe & Central Asia\",\"Europe & Central Asia\",\"Europe & Central Asia\",\"Europe & Central Asia\",\"Europe & Central Asia\",\"Europe & Central Asia\",\"Europe & Central Asia\",\"Europe & Central Asia\",\"Europe & Central Asia\",\"Europe & Central Asia\",\"Europe & Central Asia\",\"Europe & Central Asia\",\"Europe & Central Asia\",\"Europe & Central Asia\",\"Europe & Central Asia\",\"Europe & Central Asia\",\"Europe & Central Asia\",\"Europe & Central Asia\",\"Europe & Central Asia\",\"Europe & Central Asia\",\"Europe & Central Asia\",\"Europe & Central Asia\",\"Europe & Central Asia\",\"Europe & Central Asia\",\"Europe & Central Asia\",\"Europe & Central Asia\",\"Europe & Central Asia\",\"Europe & Central Asia\",\"Europe & Central Asia\",\"Europe & Central Asia\",\"Europe & Central Asia\",\"Europe & Central Asia\",\"Europe & Central Asia\",\"Europe & Central Asia\",\"Europe & Central Asia\",\"Europe & Central Asia\",\"Europe & Central Asia\",\"Europe & Central Asia\",\"Europe & Central Asia\",\"Europe & Central Asia\",\"Europe & Central Asia\",\"Europe & Central Asia\",\"Europe & Central Asia\",\"Europe & Central Asia\",\"Europe & Central Asia\",\"Europe & Central Asia\",\"Europe & Central Asia\",\"Europe & Central Asia\",\"Europe & Central Asia\",\"Europe & Central Asia\",\"Europe & Central Asia\",\"Europe & Central Asia\",\"Europe & Central Asia\",\"Europe & Central Asia\",\"Europe & Central Asia\",\"Europe & Central Asia\",\"Europe & Central Asia\",\"Europe & Central Asia\",\"Europe & Central Asia\",\"Europe & Central Asia\",\"Europe & Central Asia\",\"Europe & Central Asia\",\"Europe & Central Asia\",\"Europe & Central Asia\",\"Europe & Central Asia\",\"Europe & Central Asia\",\"Europe & Central Asia\",\"Europe & Central Asia\",\"Europe & Central Asia\",\"Europe & Central Asia\",\"Europe & Central Asia\",\"Europe & Central Asia\",\"Europe & Central Asia\",\"Europe & Central Asia\",\"Europe & Central Asia\",\"Europe & Central Asia\",\"Europe & Central Asia\",\"Europe & Central Asia\",\"Europe & Central Asia\",\"Europe & Central Asia\",\"Europe & Central Asia\",\"Europe & Central Asia\",\"Europe & Central Asia\",\"Europe & Central Asia\",\"Europe & Central Asia\",\"Europe & Central Asia\",\"Europe & Central Asia\",\"Europe & Central Asia\",\"Europe & Central Asia\",\"Europe & Central Asia\",\"Europe & Central Asia\",\"Europe & Central Asia\",\"Europe & Central Asia\",\"Europe & Central Asia\",\"Europe & Central Asia\",\"Europe & Central Asia\",\"Europe & Central Asia\",\"Europe & Central Asia\",\"Europe & Central Asia\",\"Europe & Central Asia\",\"Europe & Central Asia\",\"Europe & Central Asia\",\"Europe & Central Asia\",\"Europe & Central Asia\",\"Europe & Central Asia\",\"Europe & Central Asia\",\"Europe & Central Asia\",\"Europe & Central Asia\",\"Europe & Central Asia\",\"Europe & Central Asia\",\"Europe & Central Asia\",\"Europe & Central Asia\",\"Europe & Central Asia\",\"Europe & Central Asia\",\"Europe & Central Asia\",\"Europe & Central Asia\",\"Europe & Central Asia\",\"Europe & Central Asia\",\"Europe & Central Asia\",\"Europe & Central Asia\",\"Europe & Central Asia\",\"Europe & Central Asia\",\"Europe & Central Asia\",\"Europe & Central Asia\",\"Europe & Central Asia\",\"Europe & Central Asia\",\"Europe & Central Asia\",\"Europe & Central Asia\",\"Europe & Central Asia\",\"Europe & Central Asia\",\"Europe & Central Asia\",\"Europe & Central Asia\",\"Europe & Central Asia\",\"Europe & Central Asia\",\"Europe & Central Asia\",\"Europe & Central Asia\",\"Europe & Central Asia\",\"Europe & Central Asia\",\"Europe & Central Asia\",\"Europe & Central Asia\",\"Europe & Central Asia\",\"Europe & Central Asia\",\"Europe & Central Asia\",\"Europe & Central Asia\",\"Europe & Central Asia\",\"Europe & Central Asia\",\"Europe & Central Asia\",\"Europe & Central Asia\",\"Europe & Central Asia\",\"Europe & Central Asia\",\"Europe & Central Asia\",\"Europe & Central Asia\",\"Europe & Central Asia\",\"Europe & Central Asia\",\"Europe & Central Asia\",\"Europe & Central Asia\",\"Europe & Central Asia\",\"Europe & Central Asia\",\"Europe & Central Asia\",\"Europe & Central Asia\",\"Europe & Central Asia\",\"Europe & Central Asia\",\"Europe & Central Asia\",\"Europe & Central Asia\",\"Europe & Central Asia\",\"Europe & Central Asia\",\"Europe & Central Asia\",\"Europe & Central Asia\",\"Europe & Central Asia\",\"Europe & Central Asia\",\"Europe & Central Asia\",\"Europe & Central Asia\",\"Europe & Central Asia\",\"Europe & Central Asia\",\"Europe & Central Asia\",\"Europe & Central Asia\",\"Europe & Central Asia\",\"Europe & Central Asia\",\"Europe & Central Asia\",\"Europe & Central Asia\",\"Europe & Central Asia\",\"Europe & Central Asia\",\"Europe & Central Asia\",\"Europe & Central Asia\",\"Europe & Central Asia\",\"Europe & Central Asia\",\"Europe & Central Asia\",\"Europe & Central Asia\",\"Europe & Central Asia\",\"Europe & Central Asia\",\"Europe & Central Asia\",\"Europe & Central Asia\",\"Europe & Central Asia\",\"Europe & Central Asia\",\"Europe & Central Asia\",\"Europe & Central Asia\",\"Europe & Central Asia\",\"Europe & Central Asia\",\"Europe & Central Asia\",\"Europe & Central Asia\",\"Europe & Central Asia\",\"Europe & Central Asia\",\"Europe & Central Asia\",\"Europe & Central Asia\",\"Europe & Central Asia\",\"Europe & Central Asia\",\"Europe & Central Asia\",\"Europe & Central Asia\",\"Europe & Central Asia\",\"Europe & Central Asia\",\"Europe & Central Asia\",\"Europe & Central Asia\",\"Europe & Central Asia\",\"Europe & Central Asia\",\"Europe & Central Asia\",\"Europe & Central Asia\",\"Europe & Central Asia\",\"Europe & Central Asia\",\"Europe & Central Asia\",\"Europe & Central Asia\",\"Europe & Central Asia\",\"Europe & Central Asia\",\"Europe & Central Asia\",\"Europe & Central Asia\",\"Europe & Central Asia\",\"Europe & Central Asia\",\"Europe & Central Asia\",\"Europe & Central Asia\",\"Europe & Central Asia\",\"Europe & Central Asia\",\"Europe & Central Asia\",\"Europe & Central Asia\",\"Europe & Central Asia\",\"Europe & Central Asia\",\"Europe & Central Asia\",\"Europe & Central Asia\",\"Europe & Central Asia\",\"Europe & Central Asia\",\"Europe & Central Asia\",\"Europe & Central Asia\",\"Europe & Central Asia\",\"Europe & Central Asia\",\"Europe & Central Asia\",\"Europe & Central Asia\",\"Europe & Central Asia\",\"Europe & Central Asia\",\"Europe & Central Asia\",\"Europe & Central Asia\",\"Europe & Central Asia\",\"Europe & Central Asia\",\"Europe & Central Asia\",\"Europe & Central Asia\",\"Europe & Central Asia\",\"Europe & Central Asia\",\"Europe & Central Asia\",\"Europe & Central Asia\",\"Europe & Central Asia\",\"Europe & Central Asia\",\"Europe & Central Asia\",\"Europe & Central Asia\",\"Europe & Central Asia\",\"Europe & Central Asia\",\"Europe & Central Asia\",\"Europe & Central Asia\",\"Europe & Central Asia\",\"Europe & Central Asia\",\"Europe & Central Asia\",\"Europe & Central Asia\",\"Europe & Central Asia\",\"Europe & Central Asia\",\"Europe & Central Asia\",\"Europe & Central Asia\",\"Europe & Central Asia\",\"Europe & Central Asia\",\"Europe & Central Asia\",\"Europe & Central Asia\",\"Europe & Central Asia\",\"Europe & Central Asia\",\"Europe & Central Asia\",\"Europe & Central Asia\",\"Europe & Central Asia\",\"Europe & Central Asia\",\"Europe & Central Asia\",\"Europe & Central Asia\",\"Europe & Central Asia\",\"Europe & Central Asia\",\"Europe & Central Asia\",\"Europe & Central Asia\",\"Europe & Central Asia\",\"Europe & Central Asia\",\"Europe & Central Asia\",\"Europe & Central Asia\",\"Europe & Central Asia\",\"Europe & Central Asia\",\"Europe & Central Asia\",\"Europe & Central Asia\",\"Europe & Central Asia\",\"Europe & Central Asia\",\"Europe & Central Asia\",\"Europe & Central Asia\",\"Europe & Central Asia\",\"Europe & Central Asia\",\"Europe & Central Asia\",\"Europe & Central Asia\",\"Europe & Central Asia\",\"Europe & Central Asia\",\"Europe & Central Asia\",\"Europe & Central Asia\",\"Europe & Central Asia\",\"Europe & Central Asia\",\"Europe & Central Asia\",\"Europe & Central Asia\",\"Europe & Central Asia\",\"Europe & Central Asia\",\"Europe & Central Asia\",\"Europe & Central Asia\",\"Europe & Central Asia\",\"Europe & Central Asia\",\"Europe & Central Asia\",\"Europe & Central Asia\",\"Europe & Central Asia\",\"Europe & Central Asia\",\"Europe & Central Asia\",\"Europe & Central Asia\",\"Europe & Central Asia\",\"Europe & Central Asia\",\"Europe & Central Asia\",\"Europe & Central Asia\",\"Europe & Central Asia\",\"Europe & Central Asia\",\"Europe & Central Asia\",\"Europe & Central Asia\",\"Europe & Central Asia\",\"Europe & Central Asia\",\"Europe & Central Asia\",\"Europe & Central Asia\",\"Europe & Central Asia\",\"Europe & Central Asia\",\"Europe & Central Asia\",\"Europe & Central Asia\",\"Europe & Central Asia\",\"Europe & Central Asia\",\"Europe & Central Asia\",\"Europe & Central Asia\",\"Europe & Central Asia\",\"Europe & Central Asia\",\"Europe & Central Asia\",\"Europe & Central Asia\",\"Europe & Central Asia\",\"Europe & Central Asia\",\"Europe & Central Asia\",\"Europe & Central Asia\",\"Europe & Central Asia\",\"Europe & Central Asia\",\"Europe & Central Asia\",\"Europe & Central Asia\",\"Europe & Central Asia\",\"Europe & Central Asia\",\"Europe & Central Asia\",\"Europe & Central Asia\",\"Europe & Central Asia\",\"Europe & Central Asia\",\"Europe & Central Asia\",\"Europe & Central Asia\",\"Europe & Central Asia\",\"Europe & Central Asia\",\"Europe & Central Asia\",\"Europe & Central Asia\",\"Europe & Central Asia\",\"Europe & Central Asia\",\"Europe & Central Asia\",\"Europe & Central Asia\",\"Europe & Central Asia\",\"Europe & Central Asia\",\"Europe & Central Asia\",\"Europe & Central Asia\",\"Europe & Central Asia\",\"Europe & Central Asia\",\"Europe & Central Asia\",\"Europe & Central Asia\",\"Europe & Central Asia\",\"Europe & Central Asia\",\"Europe & Central Asia\",\"Europe & Central Asia\",\"Europe & Central Asia\",\"Europe & Central Asia\",\"Europe & Central Asia\",\"Europe & Central Asia\",\"Europe & Central Asia\",\"Europe & Central Asia\",\"Europe & Central Asia\",\"Europe & Central Asia\",\"Europe & Central Asia\",\"Europe & Central Asia\",\"Europe & Central Asia\",\"Europe & Central Asia\",\"Europe & Central Asia\",\"Europe & Central Asia\",\"Europe & Central Asia\",\"Europe & Central Asia\",\"Europe & Central Asia\",\"Europe & Central Asia\",\"Europe & Central Asia\",\"Europe & Central Asia\",\"Europe & Central Asia\",\"Europe & Central Asia\",\"Europe & Central Asia\",\"Europe & Central Asia\",\"Europe & Central Asia\",\"Europe & Central Asia\",\"Europe & Central Asia\",\"Europe & Central Asia\",\"Europe & Central Asia\",\"Europe & Central Asia\",\"Europe & Central Asia\",\"Europe & Central Asia\",\"Europe & Central Asia\",\"Europe & Central Asia\",\"Europe & Central Asia\",\"Europe & Central Asia\",\"Europe & Central Asia\",\"Europe & Central Asia\",\"Europe & Central Asia\",\"Europe & Central Asia\",\"Europe & Central Asia\",\"Europe & Central Asia\",\"Europe & Central Asia\",\"Europe & Central Asia\",\"Europe & Central Asia\",\"Europe & Central Asia\",\"Europe & Central Asia\",\"Europe & Central Asia\",\"Europe & Central Asia\",\"Europe & Central Asia\",\"Europe & Central Asia\",\"Europe & Central Asia\",\"Europe & Central Asia\",\"Europe & Central Asia\",\"Europe & Central Asia\",\"Europe & Central Asia\",\"Europe & Central Asia\",\"Europe & Central Asia\",\"Europe & Central Asia\",\"Europe & Central Asia\",\"Europe & Central Asia\",\"Europe & Central Asia\",\"Europe & Central Asia\",\"Europe & Central Asia\",\"Europe & Central Asia\",\"Europe & Central Asia\",\"Europe & Central Asia\",\"Europe & Central Asia\",\"Europe & Central Asia\",\"Europe & Central Asia\",\"Europe & Central Asia\",\"Europe & Central Asia\",\"Europe & Central Asia\",\"Europe & Central Asia\",\"Europe & Central Asia\",\"Europe & Central Asia\",\"Europe & Central Asia\",\"Europe & Central Asia\",\"Europe & Central Asia\",\"Europe & Central Asia\",\"Europe & Central Asia\",\"Europe & Central Asia\",\"Europe & Central Asia\",\"Europe & Central Asia\",\"Europe & Central Asia\",\"Europe & Central Asia\",\"Europe & Central Asia\",\"Europe & Central Asia\",\"Europe & Central Asia\",\"Europe & Central Asia\",\"Europe & Central Asia\",\"Europe & Central Asia\",\"Europe & Central Asia\",\"Europe & Central Asia\",\"Europe & Central Asia\",\"Europe & Central Asia\",\"Europe & Central Asia\",\"Europe & Central Asia\",\"Europe & Central Asia\",\"Europe & Central Asia\",\"Europe & Central Asia\",\"Europe & Central Asia\",\"Europe & Central Asia\",\"Europe & Central Asia\",\"Europe & Central Asia\",\"Europe & Central Asia\",\"Europe & Central Asia\",\"Europe & Central Asia\",\"Europe & Central Asia\",\"Europe & Central Asia\",\"Europe & Central Asia\",\"Europe & Central Asia\",\"Europe & Central Asia\",\"Europe & Central Asia\",\"Europe & Central Asia\",\"Europe & Central Asia\",\"Europe & Central Asia\",\"Europe & Central Asia\",\"Europe & Central Asia\",\"Europe & Central Asia\",\"Europe & Central Asia\",\"Europe & Central Asia\",\"Europe & Central Asia\",\"Europe & Central Asia\",\"Europe & Central Asia\",\"Europe & Central Asia\",\"Europe & Central Asia\",\"Europe & Central Asia\",\"Europe & Central Asia\",\"Europe & Central Asia\",\"Europe & Central Asia\",\"Europe & Central Asia\",\"Europe & Central Asia\",\"Europe & Central Asia\",\"Europe & Central Asia\",\"Europe & Central Asia\",\"Europe & Central Asia\",\"Europe & Central Asia\",\"Europe & Central Asia\",\"Europe & Central Asia\",\"Europe & Central Asia\",\"Europe & Central Asia\",\"Europe & Central Asia\",\"Europe & Central Asia\",\"Europe & Central Asia\",\"Europe & Central Asia\",\"Europe & Central Asia\",\"Europe & Central Asia\",\"Europe & Central Asia\",\"Europe & Central Asia\",\"Europe & Central Asia\",\"Europe & Central Asia\",\"Europe & Central Asia\",\"Europe & Central Asia\",\"Europe & Central Asia\",\"Europe & Central Asia\",\"Europe & Central Asia\",\"Europe & Central Asia\",\"Europe & Central Asia\",\"Europe & Central Asia\",\"Europe & Central Asia\",\"Europe & Central Asia\",\"Europe & Central Asia\",\"Europe & Central Asia\",\"Europe & Central Asia\",\"Europe & Central Asia\",\"Europe & Central Asia\",\"Europe & Central Asia\",\"Europe & Central Asia\",\"Europe & Central Asia\"],\"x0\":\" \",\"xaxis\":\"x\",\"y\":[2826188,2679343,2780672,3266338,5547943,3416338,3197792,2879645,4442807,5248498,4986434,3040597,705511,789163,1438057,823651,1275584,1229141,830739,656533,680295,1301968,1185975,1169650,35456695,36464276,36862193,39226987,37728575,28010910,37156414,42597101,41504631,40818207,48281698,42447296,1211270,1423664,1342172,1632753,1372101,1192468,1630435,1499860,1572855,1781365,1421321,1237825,4431716,4718572,3451665,3592268,4202038,4011592,4472430,4492331,3452361,4378788,4026251,3260272,7690600,6057000,7027600,5740000,6179400,5362000,6143600,5584900,5799900,6881900,6100100,6627900,3420774,3929871,4359064,3894900,4039912,3240267,3925161,3992645,3276136,4489220,4205346,3582478,1508334,1685691,1821435,1115048,1109127,782152,1356897,915911,1468299,1104727,1036833,1380954,15724053,15183044,16331671,15336816,15649253,15627899,19434703,15128613,13426781,15076054,14388643,11219158,10424497,10829453,10598436,10757081,9792486,10112277,8344587,12913561,9847382,10832138,11315015,8368758,2417529,2455373,2221997,2135696,2045887,1837745,1820522,2724524,2919688,2453274,2304399,1660106,8998833,7655376,9259096,8430725,6498042,8704369,7451517,8154240,8443991,9515824,9932933,5108773,73997562,64410225,71239301,66923805,64221842,70293255,67656831,53285050,61518525,1864643,67516895,48480978,1245862,2243577,1184225,702570,1543260,2532183,1526629,1042505,1417383,1179123,1871728,2725020,110816099,130183432,133780302,128948614,130451552,128496502,135355042,124161361,119022345,128266017,108064568,102475748,12612773,10365899,13148784,11636475,13887256,16460503,11767743,10773714,11554918,14518308,13506609,10797699,2246,8380,2509,7769582,8645956,10041884,10200677,8344189,9369615,8231866,7871240,10514521,9486416,8214044,5463006,316483,373650,49719,139029,375390,90642,437810,131223,216852,203234,25,170914,8716922,7550521,8194409,7677846,7211084,8184812,9855769,8999838,7994874,7206003,8113204,6187307,78535959,80008127,85404238,80444024,90787302,85552765,86307580,63052915,81444307,89345184,82828315,65556010,10248311,11529374,11024160,14537530,14670980,12621568,14011073,10198451,14270905,12706332,15400230,13692190,586759,61922,298294,490555,410535,357394,518201,287121,304612,364666,613335,390720,1409281,2266561,2212696,1393701,2068241,1472576,1555687,1302477,1556564,2758983,1351221,1273548,3793141,4166017,3189792,3614522,4407243,3147060,5477294,4754823,4700086,5050540,4217314,5301418,7721376,6863589,7016366,7596904,5821715,7003164,4318932,6895205,7595342,8807483,6317085,4942122,553895,550140,611106,774577,1029781,1025268,847700,990998,644705,1049650,970969,877927,129341,63568,202635,114356,176870,43435,109323,246814,181139,69955,175056,119641,22943352,22183356,24100537,24240257,25194644,20694276,23307338,20978685,21163476,26194852,23193432,20624029,11819566,11109826,10823238,11570818,8735394,9420463,7655053,10686648,10402548,9460531,9526956,6037461,39804929,46506698,44334451,44853400,49289925,52234864,37127838,34830230,35224219,45885855,34039342,28550079,13291189,12864333,10338277,11407102,13325811,10280245,13033795,9467395,12686245,15537343,14229656,10837461,11187350,10430876,11385911,10670992,11941253,14799887,13999238,13272757,12976417,13943279,16325929,10155251,26683396,23471291,28930621,28659620,26404614,55714350,27210378,28478367,29034188,30877426,32628797,30937001,2731088,2729723,4226232,3567733,3259033,5400245,4025547,4685191,4043410,4595519,5944322,6329563,3619575,4823446,4960594,4528849,5201738,3809056,5291044,5015137,5312522,5129341,5467748,4358419,8039223,6180286,5722933,6373741,6944541,6982163,7399367,5432964,5932279,7055049,6068401,5825749,55169545,56982078,56425714,59761531,59875193,53283153,60290062,52868315,58022045,55875871,53202998,48861765,16167979,14716115,14653326,12725659,12970245,13301559,7884781,14681244,14040574,16008128,12831454,10243697,11508154,11776192,13661343,14244816,13261065,14103036,13687862,13450262,14186760,13577719,11655147,7785387,78210181,96215311,107718199,93270323,104568517,74040542,76123178,61042746,59775805,55833811,53696876,105139864,8573459,10735457,6670159,6458422,10089720,8493305,9255200,9603873,7011121,11764060,10129816,12510473,2241696,2093004,2258549,2611012,2685354,3390672,2711601,2235669,2638525,2872972,2493192,1502577,69410707,61132016,62223486,69871509,59439113,67239838,71459861,68356904,68736998,70627907,68014215,54447760,2350617,3417486,3681225,3327877,4777274,2464996,4861255,5919230,1674075,3186412,3417541,2666658,228085,404842,1414663,512992,962151,619781,636062,1094212,793815,1538212,989820,2019807,52910742,49428163,48724178,55959995,52328381,40435490,46168319,46534261,47471183,51390345,47914258,46816594,1474644,1657367,1629122,1656188,1488086,1645904,1544682,1579108,1694166,1659662,1400244,1312128,3615713,4169039,4543352,4064069,3499088,3388814,4434905,2907376,3297405,3240606,3756866,2304211,5764400,3993500,5991100,7857500,8567100,6585300,9403100,9236500,7170700,7417600,7579200,7674700,3857975,4729953,4375031,4189071,4111242,4274281,4120522,3575065,3399334,3576873,3295274,2983806,1728593,975661,781385,904871,1741693,1093066,1118873,929214,1255422,904531,509030,440144,14629428,13480116,15121974,13772157,16052769,12816694,13946528,12988536,11295769,11143061,13051157,9706536,13053198,9345032,11570621,10292037,12225290,10847560,9335105,10514261,10055157,11234417,10972161,8596102,1603877,2403912,2999082,2096852,2901581,2461309,2506969,2745086,3104633,1752312,2393791,8067005,6728171,8414485,9713331,10104692,8050284,6902025,9102291,7811027,8345769,6899383,5224488,61239954,62794323,63953932,70815398,63381019,59775346,60910361,36887123,49490257,53452684,43070443,37306673,847244,963467,1685468,1041725,1333093,1976083,2166143,1046683,1090690,2730666,1316037,1690217,111455496,111729749,125917135,123568836,124104749,118627849,119158074,104644346,108555268,106896782,94972712,75502250,13244956,10368237,10570277,10813185,11990524,10628407,12120051,8925277,12349389,11499328,11365018,9314188,7419892,7525631,9202933,8808523,11027693,8404892,11160941,8448000,9027406,8895732,7455238,6764119,278090,281927,118140,211057,92900,335150,250824,442871,677,193739,89192,71288,10171093,7415821,7985226,7185262,6131035,6761746,8489194,6099476,7673048,6597361,5877517,4217922,81946477,73129412,79332908,76750077,81056377,74747008,85000940,60420178,70237034,73116332,60953798,46561277,13518999,11478757,10330973,14756306,11662057,15679214,20610552,9923786,12364374,10663721,11117186,18363902,217998,93465,153050,148383,281744,226513,264830,305409,324800,362699,2200203,1599962,1625476,2478977,3083052,1764325,2048853,830583,1270165,978744,568104,852598,5059578,3408428,4329478,4494229,4612778,4078300,4675884,3086181,4351004,3084181,3434914,3982883,5084465,6215243,6332380,1208143,5734741,5854325,1294643,3759032,5248020,5652705,1157412,4751353,552525,752977,847012,1152700,578095,572257,927485,818763,1110413,743859,741047,916597,66918,83790,134309,49893,132897,69003,95587,130344,97237,83897,25177123,23620796,25057385,25013210,26553805,23835974,25073636,19806546,23202376,24547444,18111464,15636275,11067839,9955875,10905802,9494254,9261175,10236911,6008512,8810184,9152334,9374164,9459174,7371812,39777313,40204671,42002937,45575813,45330472,40685771,35524404,36280043,36337063,37770986,35416692,29304017,17979270,14937120,13255694,10107758,11234924,9013319,11705680,7208039,6680189,7176367,8479906,6608067,10007625,12080132,12244971,12892491,14238347,12358295,13115153,12594369,12914071,12092687,13122559,9924283,27798143,29915027,40958262,37153976,36297203,38692063,43539075,47462114,48343449,40840436,39656272,44588694,6716644,7324560,7416590,4842355,3695703,3819349,3694996,4157423,3823824,3047825,5341147,4713767,3881367,2628215,3273409,3512567,4921489,2854417,3113476,2856187,2746753,2449166,3236579,1990608,6363990,5531589,6361943,5881387,5096786,5136097,5478759,3975767,4565106,4838149,3684386,3574736,56958237,57971464,59579194,58362009,69164131,55159629,68579965,42343117,45092149,45541928,37686687,37469635,12623257,11617691,14989856,11812948,14197984,12811354,8400577,10006658,11606950,11671513,10986528,7004981,11486120,11877213,11603931,12242732,13202656,11274840,12272671,10032261,11923486,11690795,9441345,7531267,69062096,57986125,56746254,62262334,65787593,49747747,63617095,50160400,45780297,55124943,45273744,42803986,8884388,8432515,12303431,11849564,11098600,8632569,9465152,8875941,10322161,7631860,8820378,7374569,2122584,3210288,1899550,2978174,3062907,2108155,3040996,3141093,2532035,2357727,1950549,1666256,79066490,72098659,82276655,60992140,64557934,57128824,67370379,65383645,68441589,71780192,77403311,48808434,2683974,3546703,4190508,3950141,4046768,1636393,5209263,4066628,2755970,2411107,1543693,4067422],\"y0\":\" \",\"yaxis\":\"y\",\"type\":\"box\"},{\"alignmentgroup\":\"True\",\"hovertemplate\":\"<b>%{hovertext}</b><br><br>region=%{x}<br>value=%{y}<extra></extra>\",\"hovertext\":[12597085.0,11130431.0,11844484.0,15224040.0,12426119.0,14009064.0,13183523.0,12295658.0,9428372.0,13008352.0,9256067.0,9896388.0,25510.0,214099.0,27388.0,174780.0,36589.0,27774.0,68592.0,120080.0,36012.0,28054.0,77287.0,2740709.0,2783355.0,3561892.0,4433633.0,3879382.0,4117153.0,3786174.0,3953742.0,3496579.0,5148938.0,4290089.0,3412409.0,28885359.0,20576979.0,29761072.0,30393781.0,22147805.0,29516596.0,23295694.0,31994923.0,30924149.0,32120911.0,44138132.0,27001425.0,51218.0,36894.0,26211.0,68698.0,25498.0,1369.0,29457.0,17282132.0,13421385.0,18485750.0,25280607.0,22594408.0,21419869.0,21898530.0,20332561.0,17260787.0,23220175.0,13544737.0,22252550.0,18012292.0,14525836.0,23623672.0,26005383.0,23528910.0,19539414.0,24088808.0,21424931.0,18903266.0,25688016.0,22600562.0,16831984.0,2513286.0,2220367.0,6877315.0,4956054.0,5370626.0,3864021.0,4998593.0,5743609.0,6208097.0,6051028.0,6094747.0,7537372.0,5840302.0,4816026.0,10813741.0,6647862.0,7508726.0,11731843.0,13157521.0,11297641.0,13322905.0,11032004.0,10401469.0,11237882.0,8199398.0,6525342.0,3429804.0,3332329.0,2513016.0,3175291.0,3255592.0,3534452.0,3062747.0,2540716.0,2838495.0,3784351.0,1799603.0,2860678.0,6823879.0,60758.0,39571.0,937.0,77895.0,77815.0,66549225.0,62953673.0,77882504.0,85798141.0,88286440.0,90009201.0,82242440.0,91280198.0,74992441.0,68558615.0,73834633.0,67403291.0,185836.0,209178.0,372698.0,410751.0,284833.0,535922.0,522153.0,125842.0,316734.0,277265.0,215027.0,103841.0,2764842.0,1703270.0,3774582.0,2701556.0,2867997.0,3753466.0,3456452.0,3593379.0,2816375.0,2302290.0,3034241.0,2191762.0,17976125.0,15018884.0,17407372.0,26244228.0,24230305.0,20825531.0,21596571.0,13823281.0,18672797.0,18598985.0,18065313.0,14364429.0,130646.0,106709.0,132820.0,356169.0,108044.0,242059.0,222399.0,366255.0,283941.0,62753.0,126238.0,86701.0,1438295.0,10552503.0,10325871.0,10947495.0,9684457.0,11479825.0,7884650.0,14013602.0,13869935.0,13017827.0,15371390.0,12132848.0,12061247.0,45263.0,96195.0,53215.0,26257.0,48858.0,82229.0,45095.0,63650.0,39551.0,61928.0,95890.0,3966517.0,1806144.0,4028942.0,3251681.0,3105428.0,2952384.0,2947944.0,5514166.0,3494573.0,3911423.0,3774906.0,5769850.0,37905366.0,31185310.0,26995415.0,24937234.0,23995474.0,20371682.0,23810921.0,20270452.0,23275923.0,24745927.0,21670192.0,27173222.0,46150.0,40953.0,21616.0,69579.0,43477.0,70663.0,89305.0,16117.0,1512.0,403.0,18291389.0,20486376.0,18053035.0,17305520.0,13931146.0,12255887.0,13436258.0,15348931.0,12657923.0,12530100.0,17085275.0,13198367.0,20897169.0,17287991.0,18247078.0,18994627.0,20440772.0,20077314.0,19032276.0,14001990.0,13860430.0,17085813.0,17789397.0,11054850.0,4412772.0,3333682.0,4015102.0,4709895.0,4070193.0,4263873.0,4331716.0,4963963.0,4091515.0,3405422.0,4418453.0,3314264.0,6211863.0,7424111.0,7282758.0,8014613.0,7466059.0,5325092.0,6465959.0,5662750.0,3696418.0,5582435.0,6175308.0,6162248.0,2733306.0,2610802.0,3472979.0,1640622.0,3798691.0,2732514.0,1696430.0,2720238.0,3142036.0,2296788.0,2193215.0,1775122.0,6496196.0,6049947.0,6451305.0,5977668.0,7215135.0,4795278.0,5205638.0,6593361.0,5012487.0,5740520.0,4762552.0,3691346.0,25002.0,132911.0,2687.0,22230.0,21605.0,118598.0,79403.0,37475.0,76806485.0,67039207.0,71682630.0,64584863.0,73125005.0,61147618.0,73398136.0,69653239.0,56705409.0,62200240.0,51400925.0,63107433.0,88076.0,242834.0,136161.0,161962.0,111696.0,102738.0,33630.0,117633.0,72762.0,121765.0,100368.0,184717.0,271618.0,272725.0,208379.0,436977.0,316033.0,364255.0,263191.0,200729.0,107760.0,245759.0,130821.0,2499748.0,2546855.0,2096377.0,1555280.0,1497013.0,1690978.0,2928937.0,2069653.0,2968833.0,2354843.0,2375063.0,22168193.0,21521928.0,15626585.0,14812910.0,16496972.0,13758814.0,15686069.0,12985473.0,13359577.0,12378844.0,9043964.0,9096985.0,106488.0,159344.0,382427.0,378590.0,86568.0,232943.0,172097.0,293789.0,162717.0,152155.0,151532.0,756597.0,1506092.0,1154623.0,908319.0,476205.0,1137694.0,1070954.0,1110093.0,833130.0,1011381.0,1104200.0,1518750.0,845026.0],\"legendgroup\":\"Latin America & Caribbean\",\"marker\":{\"color\":\"#00cc96\"},\"name\":\"Latin America & Caribbean\",\"notched\":false,\"offsetgroup\":\"Latin America & Caribbean\",\"orientation\":\"v\",\"showlegend\":true,\"x\":[\"Latin America & Caribbean\",\"Latin America & Caribbean\",\"Latin America & Caribbean\",\"Latin America & Caribbean\",\"Latin America & Caribbean\",\"Latin America & Caribbean\",\"Latin America & Caribbean\",\"Latin America & Caribbean\",\"Latin America & Caribbean\",\"Latin America & Caribbean\",\"Latin America & Caribbean\",\"Latin America & Caribbean\",\"Latin America & Caribbean\",\"Latin America & Caribbean\",\"Latin America & Caribbean\",\"Latin America & Caribbean\",\"Latin America & Caribbean\",\"Latin America & Caribbean\",\"Latin America & Caribbean\",\"Latin America & Caribbean\",\"Latin America & Caribbean\",\"Latin America & Caribbean\",\"Latin America & Caribbean\",\"Latin America & Caribbean\",\"Latin America & Caribbean\",\"Latin America & Caribbean\",\"Latin America & Caribbean\",\"Latin America & Caribbean\",\"Latin America & Caribbean\",\"Latin America & Caribbean\",\"Latin America & Caribbean\",\"Latin America & Caribbean\",\"Latin America & Caribbean\",\"Latin America & Caribbean\",\"Latin America & Caribbean\",\"Latin America & Caribbean\",\"Latin America & Caribbean\",\"Latin America & Caribbean\",\"Latin America & Caribbean\",\"Latin America & Caribbean\",\"Latin America & Caribbean\",\"Latin America & Caribbean\",\"Latin America & Caribbean\",\"Latin America & Caribbean\",\"Latin America & Caribbean\",\"Latin America & Caribbean\",\"Latin America & Caribbean\",\"Latin America & Caribbean\",\"Latin America & Caribbean\",\"Latin America & Caribbean\",\"Latin America & Caribbean\",\"Latin America & Caribbean\",\"Latin America & Caribbean\",\"Latin America & Caribbean\",\"Latin America & Caribbean\",\"Latin America & Caribbean\",\"Latin America & Caribbean\",\"Latin America & Caribbean\",\"Latin America & Caribbean\",\"Latin America & Caribbean\",\"Latin America & Caribbean\",\"Latin America & Caribbean\",\"Latin America & Caribbean\",\"Latin America & Caribbean\",\"Latin America & Caribbean\",\"Latin America & Caribbean\",\"Latin America & Caribbean\",\"Latin America & Caribbean\",\"Latin America & Caribbean\",\"Latin America & Caribbean\",\"Latin America & Caribbean\",\"Latin America & Caribbean\",\"Latin America & Caribbean\",\"Latin America & Caribbean\",\"Latin America & Caribbean\",\"Latin America & Caribbean\",\"Latin America & Caribbean\",\"Latin America & Caribbean\",\"Latin America & Caribbean\",\"Latin America & Caribbean\",\"Latin America & Caribbean\",\"Latin America & Caribbean\",\"Latin America & Caribbean\",\"Latin America & Caribbean\",\"Latin America & Caribbean\",\"Latin America & Caribbean\",\"Latin America & Caribbean\",\"Latin America & Caribbean\",\"Latin America & Caribbean\",\"Latin America & Caribbean\",\"Latin America & Caribbean\",\"Latin America & Caribbean\",\"Latin America & Caribbean\",\"Latin America & Caribbean\",\"Latin America & Caribbean\",\"Latin America & Caribbean\",\"Latin America & Caribbean\",\"Latin America & Caribbean\",\"Latin America & Caribbean\",\"Latin America & Caribbean\",\"Latin America & Caribbean\",\"Latin America & Caribbean\",\"Latin America & Caribbean\",\"Latin America & Caribbean\",\"Latin America & Caribbean\",\"Latin America & Caribbean\",\"Latin America & Caribbean\",\"Latin America & Caribbean\",\"Latin America & Caribbean\",\"Latin America & Caribbean\",\"Latin America & Caribbean\",\"Latin America & Caribbean\",\"Latin America & Caribbean\",\"Latin America & Caribbean\",\"Latin America & Caribbean\",\"Latin America & Caribbean\",\"Latin America & Caribbean\",\"Latin America & Caribbean\",\"Latin America & Caribbean\",\"Latin America & Caribbean\",\"Latin America & Caribbean\",\"Latin America & Caribbean\",\"Latin America & Caribbean\",\"Latin America & Caribbean\",\"Latin America & Caribbean\",\"Latin America & Caribbean\",\"Latin America & Caribbean\",\"Latin America & Caribbean\",\"Latin America & Caribbean\",\"Latin America & Caribbean\",\"Latin America & Caribbean\",\"Latin America & Caribbean\",\"Latin America & Caribbean\",\"Latin America & Caribbean\",\"Latin America & Caribbean\",\"Latin America & Caribbean\",\"Latin America & Caribbean\",\"Latin America & Caribbean\",\"Latin America & Caribbean\",\"Latin America & Caribbean\",\"Latin America & Caribbean\",\"Latin America & Caribbean\",\"Latin America & Caribbean\",\"Latin America & Caribbean\",\"Latin America & Caribbean\",\"Latin America & Caribbean\",\"Latin America & Caribbean\",\"Latin America & Caribbean\",\"Latin America & Caribbean\",\"Latin America & Caribbean\",\"Latin America & Caribbean\",\"Latin America & Caribbean\",\"Latin America & Caribbean\",\"Latin America & Caribbean\",\"Latin America & Caribbean\",\"Latin America & Caribbean\",\"Latin America & Caribbean\",\"Latin America & Caribbean\",\"Latin America & Caribbean\",\"Latin America & Caribbean\",\"Latin America & Caribbean\",\"Latin America & Caribbean\",\"Latin America & Caribbean\",\"Latin America & Caribbean\",\"Latin America & Caribbean\",\"Latin America & Caribbean\",\"Latin America & Caribbean\",\"Latin America & Caribbean\",\"Latin America & Caribbean\",\"Latin America & Caribbean\",\"Latin America & Caribbean\",\"Latin America & Caribbean\",\"Latin America & Caribbean\",\"Latin America & Caribbean\",\"Latin America & Caribbean\",\"Latin America & Caribbean\",\"Latin America & Caribbean\",\"Latin America & Caribbean\",\"Latin America & Caribbean\",\"Latin America & Caribbean\",\"Latin America & Caribbean\",\"Latin America & Caribbean\",\"Latin America & Caribbean\",\"Latin America & Caribbean\",\"Latin America & Caribbean\",\"Latin America & Caribbean\",\"Latin America & Caribbean\",\"Latin America & Caribbean\",\"Latin America & Caribbean\",\"Latin America & Caribbean\",\"Latin America & Caribbean\",\"Latin America & Caribbean\",\"Latin America & Caribbean\",\"Latin America & Caribbean\",\"Latin America & Caribbean\",\"Latin America & Caribbean\",\"Latin America & Caribbean\",\"Latin America & Caribbean\",\"Latin America & Caribbean\",\"Latin America & Caribbean\",\"Latin America & Caribbean\",\"Latin America & Caribbean\",\"Latin America & Caribbean\",\"Latin America & Caribbean\",\"Latin America & Caribbean\",\"Latin America & Caribbean\",\"Latin America & Caribbean\",\"Latin America & Caribbean\",\"Latin America & Caribbean\",\"Latin America & Caribbean\",\"Latin America & Caribbean\",\"Latin America & Caribbean\",\"Latin America & Caribbean\",\"Latin America & Caribbean\",\"Latin America & Caribbean\",\"Latin America & Caribbean\",\"Latin America & Caribbean\",\"Latin America & Caribbean\",\"Latin America & Caribbean\",\"Latin America & Caribbean\",\"Latin America & Caribbean\",\"Latin America & Caribbean\",\"Latin America & Caribbean\",\"Latin America & Caribbean\",\"Latin America & Caribbean\",\"Latin America & Caribbean\",\"Latin America & Caribbean\",\"Latin America & Caribbean\",\"Latin America & Caribbean\",\"Latin America & Caribbean\",\"Latin America & Caribbean\",\"Latin America & Caribbean\",\"Latin America & Caribbean\",\"Latin America & Caribbean\",\"Latin America & Caribbean\",\"Latin America & Caribbean\",\"Latin America & Caribbean\",\"Latin America & Caribbean\",\"Latin America & Caribbean\",\"Latin America & Caribbean\",\"Latin America & Caribbean\",\"Latin America & Caribbean\",\"Latin America & Caribbean\",\"Latin America & Caribbean\",\"Latin America & Caribbean\",\"Latin America & Caribbean\",\"Latin America & Caribbean\",\"Latin America & Caribbean\",\"Latin America & Caribbean\",\"Latin America & Caribbean\",\"Latin America & Caribbean\",\"Latin America & Caribbean\",\"Latin America & Caribbean\",\"Latin America & Caribbean\",\"Latin America & Caribbean\",\"Latin America & Caribbean\",\"Latin America & Caribbean\",\"Latin America & Caribbean\",\"Latin America & Caribbean\",\"Latin America & Caribbean\",\"Latin America & Caribbean\",\"Latin America & Caribbean\",\"Latin America & Caribbean\",\"Latin America & Caribbean\",\"Latin America & Caribbean\",\"Latin America & Caribbean\",\"Latin America & Caribbean\",\"Latin America & Caribbean\",\"Latin America & Caribbean\",\"Latin America & Caribbean\",\"Latin America & Caribbean\",\"Latin America & Caribbean\",\"Latin America & Caribbean\",\"Latin America & Caribbean\",\"Latin America & Caribbean\",\"Latin America & Caribbean\",\"Latin America & Caribbean\",\"Latin America & Caribbean\",\"Latin America & Caribbean\",\"Latin America & Caribbean\",\"Latin America & Caribbean\",\"Latin America & Caribbean\",\"Latin America & Caribbean\",\"Latin America & Caribbean\",\"Latin America & Caribbean\",\"Latin America & Caribbean\",\"Latin America & Caribbean\",\"Latin America & Caribbean\",\"Latin America & Caribbean\",\"Latin America & Caribbean\",\"Latin America & Caribbean\",\"Latin America & Caribbean\",\"Latin America & Caribbean\",\"Latin America & Caribbean\",\"Latin America & Caribbean\",\"Latin America & Caribbean\",\"Latin America & Caribbean\",\"Latin America & Caribbean\",\"Latin America & Caribbean\",\"Latin America & Caribbean\",\"Latin America & Caribbean\",\"Latin America & Caribbean\",\"Latin America & Caribbean\",\"Latin America & Caribbean\",\"Latin America & Caribbean\",\"Latin America & Caribbean\",\"Latin America & Caribbean\",\"Latin America & Caribbean\",\"Latin America & Caribbean\",\"Latin America & Caribbean\",\"Latin America & Caribbean\",\"Latin America & Caribbean\",\"Latin America & Caribbean\",\"Latin America & Caribbean\",\"Latin America & Caribbean\",\"Latin America & Caribbean\",\"Latin America & Caribbean\",\"Latin America & Caribbean\",\"Latin America & Caribbean\",\"Latin America & Caribbean\",\"Latin America & Caribbean\",\"Latin America & Caribbean\",\"Latin America & Caribbean\",\"Latin America & Caribbean\",\"Latin America & Caribbean\",\"Latin America & Caribbean\",\"Latin America & Caribbean\",\"Latin America & Caribbean\",\"Latin America & Caribbean\",\"Latin America & Caribbean\",\"Latin America & Caribbean\",\"Latin America & Caribbean\",\"Latin America & Caribbean\",\"Latin America & Caribbean\",\"Latin America & Caribbean\",\"Latin America & Caribbean\",\"Latin America & Caribbean\",\"Latin America & Caribbean\",\"Latin America & Caribbean\",\"Latin America & Caribbean\",\"Latin America & Caribbean\",\"Latin America & Caribbean\",\"Latin America & Caribbean\",\"Latin America & Caribbean\",\"Latin America & Caribbean\",\"Latin America & Caribbean\",\"Latin America & Caribbean\",\"Latin America & Caribbean\",\"Latin America & Caribbean\",\"Latin America & Caribbean\",\"Latin America & Caribbean\",\"Latin America & Caribbean\",\"Latin America & Caribbean\",\"Latin America & Caribbean\",\"Latin America & Caribbean\",\"Latin America & Caribbean\",\"Latin America & Caribbean\",\"Latin America & Caribbean\",\"Latin America & Caribbean\",\"Latin America & Caribbean\",\"Latin America & Caribbean\",\"Latin America & Caribbean\",\"Latin America & Caribbean\",\"Latin America & Caribbean\",\"Latin America & Caribbean\",\"Latin America & Caribbean\",\"Latin America & Caribbean\",\"Latin America & Caribbean\",\"Latin America & Caribbean\",\"Latin America & Caribbean\",\"Latin America & Caribbean\",\"Latin America & Caribbean\",\"Latin America & Caribbean\",\"Latin America & Caribbean\",\"Latin America & Caribbean\",\"Latin America & Caribbean\",\"Latin America & Caribbean\",\"Latin America & Caribbean\",\"Latin America & Caribbean\",\"Latin America & Caribbean\",\"Latin America & Caribbean\",\"Latin America & Caribbean\",\"Latin America & Caribbean\",\"Latin America & Caribbean\",\"Latin America & Caribbean\",\"Latin America & Caribbean\",\"Latin America & Caribbean\",\"Latin America & Caribbean\",\"Latin America & Caribbean\",\"Latin America & Caribbean\",\"Latin America & Caribbean\",\"Latin America & Caribbean\",\"Latin America & Caribbean\",\"Latin America & Caribbean\",\"Latin America & Caribbean\",\"Latin America & Caribbean\",\"Latin America & Caribbean\",\"Latin America & Caribbean\",\"Latin America & Caribbean\",\"Latin America & Caribbean\",\"Latin America & Caribbean\",\"Latin America & Caribbean\"],\"x0\":\" \",\"xaxis\":\"x\",\"y\":[12597085,11130431,11844484,15224040,12426119,14009064,13183523,12295658,9428372,13008352,9256067,9896388,25510,214099,27388,174780,36589,27774,68592,120080,36012,28054,77287,2740709,2783355,3561892,4433633,3879382,4117153,3786174,3953742,3496579,5148938,4290089,3412409,28885359,20576979,29761072,30393781,22147805,29516596,23295694,31994923,30924149,32120911,44138132,27001425,51218,36894,26211,68698,25498,1369,29457,17282132,13421385,18485750,25280607,22594408,21419869,21898530,20332561,17260787,23220175,13544737,22252550,18012292,14525836,23623672,26005383,23528910,19539414,24088808,21424931,18903266,25688016,22600562,16831984,2513286,2220367,6877315,4956054,5370626,3864021,4998593,5743609,6208097,6051028,6094747,7537372,5840302,4816026,10813741,6647862,7508726,11731843,13157521,11297641,13322905,11032004,10401469,11237882,8199398,6525342,3429804,3332329,2513016,3175291,3255592,3534452,3062747,2540716,2838495,3784351,1799603,2860678,6823879,60758,39571,937,77895,77815,66549225,62953673,77882504,85798141,88286440,90009201,82242440,91280198,74992441,68558615,73834633,67403291,185836,209178,372698,410751,284833,535922,522153,125842,316734,277265,215027,103841,2764842,1703270,3774582,2701556,2867997,3753466,3456452,3593379,2816375,2302290,3034241,2191762,17976125,15018884,17407372,26244228,24230305,20825531,21596571,13823281,18672797,18598985,18065313,14364429,130646,106709,132820,356169,108044,242059,222399,366255,283941,62753,126238,86701,1438295,10552503,10325871,10947495,9684457,11479825,7884650,14013602,13869935,13017827,15371390,12132848,12061247,45263,96195,53215,26257,48858,82229,45095,63650,39551,61928,95890,3966517,1806144,4028942,3251681,3105428,2952384,2947944,5514166,3494573,3911423,3774906,5769850,37905366,31185310,26995415,24937234,23995474,20371682,23810921,20270452,23275923,24745927,21670192,27173222,46150,40953,21616,69579,43477,70663,89305,16117,1512,403,18291389,20486376,18053035,17305520,13931146,12255887,13436258,15348931,12657923,12530100,17085275,13198367,20897169,17287991,18247078,18994627,20440772,20077314,19032276,14001990,13860430,17085813,17789397,11054850,4412772,3333682,4015102,4709895,4070193,4263873,4331716,4963963,4091515,3405422,4418453,3314264,6211863,7424111,7282758,8014613,7466059,5325092,6465959,5662750,3696418,5582435,6175308,6162248,2733306,2610802,3472979,1640622,3798691,2732514,1696430,2720238,3142036,2296788,2193215,1775122,6496196,6049947,6451305,5977668,7215135,4795278,5205638,6593361,5012487,5740520,4762552,3691346,25002,132911,2687,22230,21605,118598,79403,37475,76806485,67039207,71682630,64584863,73125005,61147618,73398136,69653239,56705409,62200240,51400925,63107433,88076,242834,136161,161962,111696,102738,33630,117633,72762,121765,100368,184717,271618,272725,208379,436977,316033,364255,263191,200729,107760,245759,130821,2499748,2546855,2096377,1555280,1497013,1690978,2928937,2069653,2968833,2354843,2375063,22168193,21521928,15626585,14812910,16496972,13758814,15686069,12985473,13359577,12378844,9043964,9096985,106488,159344,382427,378590,86568,232943,172097,293789,162717,152155,151532,756597,1506092,1154623,908319,476205,1137694,1070954,1110093,833130,1011381,1104200,1518750,845026],\"y0\":\" \",\"yaxis\":\"y\",\"type\":\"box\"},{\"alignmentgroup\":\"True\",\"hovertemplate\":\"<b>%{hovertext}</b><br><br>region=%{x}<br>value=%{y}<extra></extra>\",\"hovertext\":[22251076.0,20276993.0,14438022.0,778841.0,1298315.0,1064030.0,1815343.0,1806640.0,3813083.0,3375275.0,4897805.0,3960098.0,2515609.0,3056510.0,3301068.0,859361918.0,492583672.0,886559172.0,703379816.0,822852727.0,716261824.0,762147880.0,766860326.0,748670980.0,727187626.0,699953919.0,644488951.0,26317.0,115811.0,26016.0,55823.0,53843.0,29014.0,82690.0,58338.0,155951.0,17781.0,58849.0,61530.0,25818.0,72728.0,48763.0,19272436.0,7514457.0,17682883.0,22183995.0,17462136.0,22298293.0,18449613.0,19234706.0,12664626.0,21724364.0,14001182.0,18955424.0,45158921.0,44173063.0,53557899.0,55954094.0,61129058.0,28594531.0,58805671.0,55816602.0,50662257.0,76591843.0,59521880.0,49578164.0,26792552.0,29372703.0,25118406.0,27820914.0,25215756.0,24397456.0,25939839.0,23225514.0,21615409.0,26078589.0,25848966.0,21291154.0,10136194.0,8004479.0,8415631.0,8999919.0,7838797.0,10448235.0,9651252.0,9102962.0,9527874.0,9172843.0,10281134.0,11088639.0,72280901.0,42995125.0,55406923.0,73153289.0,71235965.0,67136350.0,75224903.0,80457470.0,58381066.0,71226622.0,65032431.0,72826741.0,110720.0,456310.0,179971.0,83859.0,331311.0,72821.0,124560.0,186851.0,247960.0,214160.0,307311.0,59050.0,7157383.0,6264778.0,7008073.0,6694772.0,9249121.0,8893619.0,8362470.0,7582524.0,6807571.0,9072174.0,10302832.0,5112325.0,9047083.0,6083681.0,7910595.0,9257354.0,9815541.0,12230464.0,10113805.0,11580187.0,12470219.0,12172230.0,8756302.0,8049376.0,62054346.0,46039499.0,64547569.0,42750200.0,49772537.0,63218521.0,59797239.0,76352449.0,53570813.0,80769952.0,74118237.0,93044015.0,65143647.0,46495274.0,77485368.0,58224436.0,70030566.0,74222003.0,57552226.0,74934274.0,61960891.0,70532829.0,81074540.0,73609886.0,17731091.0,15908992.0,17622493.0,17570926.0,19976615.0,17732579.0,18988937.0,19059580.0,13121617.0,16455667.0,16710747.0,35121504.0,117.0,12840231.0,380.0,9.0,563.0,4147130.0,4161335.0,4224085.0,3467940.0,3906979.0,2724431.0,3723629.0,4386116.0,2756598.0,3359124.0,3761181.0,2441639.0,2495.0,20867.0,1642.0,402.0,5500.0,11290.0,557.0,736003023.0,579896766.0,766564548.0,774737144.0,750845421.0,656818576.0,699879666.0,736235197.0,645803325.0,609494981.0,654140232.0,665213033.0,22590.0,46133.0,44076.0,65740.0,4743.0,42201.0,96731.0,82906.0,31812.0,26224.0,80124.0,28899.0,9472.0,75051.0,124501.0,69100.0,10997.0,13575008.0,9447916.0,14349935.0,18206402.0,17560065.0,14818951.0,16811356.0,15235400.0,9139629.0,18763623.0,17290048.0,12851921.0,43181658.0,38067866.0,40920632.0,43783703.0,36160193.0,28033580.0,48410111.0,40898172.0,42931676.0,34193497.0,32523031.0,38149658.0,24221788.0,21618333.0,20834135.0,20489479.0,22193057.0,20439368.0,23943046.0,19288038.0,19761817.0,19496386.0,21282890.0,15308706.0,9873001.0,9544050.0,11017162.0,12523827.0,13390734.0,14347021.0,15243791.0,14959226.0,15989720.0,18645876.0,16412451.0,17939075.0,2495.0,20867.0,1642.0,402.0,5500.0,11290.0,557.0,81444357.0,48226082.0,48927510.0,51389829.0,63542424.0,56609997.0,68886580.0,58657462.0,71952576.0,71983132.0,75135631.0,66445445.0,161180.0,56180.0,284726.0,159633.0,122923.0,97163.0,271983.0,127228.0,146420.0,49384.0,295546.0,27850.0,7338452.0,5871278.0,5097075.0,7784667.0,7233303.0,5523449.0,8425171.0,8833708.0,6621120.0,6357052.0,7869331.0,6173808.0,12165598.0,8603486.0,11299054.0,10503046.0,9319640.0,12422185.0,8848529.0,11425687.0,9941737.0,13502748.0,5883275.0,109402033.0,60637055.0,65493947.0,84967615.0,61085005.0,99026290.0,87245168.0,47601140.0,64776735.0,53241730.0,86968045.0,89860819.0,75440393.0,46062729.0,62789024.0,55676770.0,63102616.0,58191981.0,82581504.0,75736388.0,66722011.0,59566196.0,58916586.0,61019788.0,16893161.0,35824334.0,15941522.0,14655294.0,18740374.0,16029675.0,19264446.0,16024251.0,14073811.0,13268482.0,15172894.0],\"legendgroup\":\"East Asia & Pacific\",\"marker\":{\"color\":\"#ab63fa\"},\"name\":\"East Asia & Pacific\",\"notched\":false,\"offsetgroup\":\"East Asia & Pacific\",\"orientation\":\"v\",\"showlegend\":true,\"x\":[\"East Asia & Pacific\",\"East Asia & Pacific\",\"East Asia & Pacific\",\"East Asia & Pacific\",\"East Asia & Pacific\",\"East Asia & Pacific\",\"East Asia & Pacific\",\"East Asia & Pacific\",\"East Asia & Pacific\",\"East Asia & Pacific\",\"East Asia & Pacific\",\"East Asia & Pacific\",\"East Asia & Pacific\",\"East Asia & Pacific\",\"East Asia & Pacific\",\"East Asia & Pacific\",\"East Asia & Pacific\",\"East Asia & Pacific\",\"East Asia & Pacific\",\"East Asia & Pacific\",\"East Asia & Pacific\",\"East Asia & Pacific\",\"East Asia & Pacific\",\"East Asia & Pacific\",\"East Asia & Pacific\",\"East Asia & Pacific\",\"East Asia & Pacific\",\"East Asia & Pacific\",\"East Asia & Pacific\",\"East Asia & Pacific\",\"East Asia & Pacific\",\"East Asia & Pacific\",\"East Asia & Pacific\",\"East Asia & Pacific\",\"East Asia & Pacific\",\"East Asia & Pacific\",\"East Asia & Pacific\",\"East Asia & Pacific\",\"East Asia & Pacific\",\"East Asia & Pacific\",\"East Asia & Pacific\",\"East Asia & Pacific\",\"East Asia & Pacific\",\"East Asia & Pacific\",\"East Asia & Pacific\",\"East Asia & Pacific\",\"East Asia & Pacific\",\"East Asia & Pacific\",\"East Asia & Pacific\",\"East Asia & Pacific\",\"East Asia & Pacific\",\"East Asia & Pacific\",\"East Asia & Pacific\",\"East Asia & Pacific\",\"East Asia & Pacific\",\"East Asia & Pacific\",\"East Asia & Pacific\",\"East Asia & Pacific\",\"East Asia & Pacific\",\"East Asia & Pacific\",\"East Asia & Pacific\",\"East Asia & Pacific\",\"East Asia & Pacific\",\"East Asia & Pacific\",\"East Asia & Pacific\",\"East Asia & Pacific\",\"East Asia & Pacific\",\"East Asia & Pacific\",\"East Asia & Pacific\",\"East Asia & Pacific\",\"East Asia & Pacific\",\"East Asia & Pacific\",\"East Asia & Pacific\",\"East Asia & Pacific\",\"East Asia & Pacific\",\"East Asia & Pacific\",\"East Asia & Pacific\",\"East Asia & Pacific\",\"East Asia & Pacific\",\"East Asia & Pacific\",\"East Asia & Pacific\",\"East Asia & Pacific\",\"East Asia & Pacific\",\"East Asia & Pacific\",\"East Asia & Pacific\",\"East Asia & Pacific\",\"East Asia & Pacific\",\"East Asia & Pacific\",\"East Asia & Pacific\",\"East Asia & Pacific\",\"East Asia & Pacific\",\"East Asia & Pacific\",\"East Asia & Pacific\",\"East Asia & Pacific\",\"East Asia & Pacific\",\"East Asia & Pacific\",\"East Asia & Pacific\",\"East Asia & Pacific\",\"East Asia & Pacific\",\"East Asia & Pacific\",\"East Asia & Pacific\",\"East Asia & Pacific\",\"East Asia & Pacific\",\"East Asia & Pacific\",\"East Asia & Pacific\",\"East Asia & Pacific\",\"East Asia & Pacific\",\"East Asia & Pacific\",\"East Asia & Pacific\",\"East Asia & Pacific\",\"East Asia & Pacific\",\"East Asia & Pacific\",\"East Asia & Pacific\",\"East Asia & Pacific\",\"East Asia & Pacific\",\"East Asia & Pacific\",\"East Asia & Pacific\",\"East Asia & Pacific\",\"East Asia & Pacific\",\"East Asia & Pacific\",\"East Asia & Pacific\",\"East Asia & Pacific\",\"East Asia & Pacific\",\"East Asia & Pacific\",\"East Asia & Pacific\",\"East Asia & Pacific\",\"East Asia & Pacific\",\"East Asia & Pacific\",\"East Asia & Pacific\",\"East Asia & Pacific\",\"East Asia & Pacific\",\"East Asia & Pacific\",\"East Asia & Pacific\",\"East Asia & Pacific\",\"East Asia & Pacific\",\"East Asia & Pacific\",\"East Asia & Pacific\",\"East Asia & Pacific\",\"East Asia & Pacific\",\"East Asia & Pacific\",\"East Asia & Pacific\",\"East Asia & Pacific\",\"East Asia & Pacific\",\"East Asia & Pacific\",\"East Asia & Pacific\",\"East Asia & Pacific\",\"East Asia & Pacific\",\"East Asia & Pacific\",\"East Asia & Pacific\",\"East Asia & Pacific\",\"East Asia & Pacific\",\"East Asia & Pacific\",\"East Asia & Pacific\",\"East Asia & Pacific\",\"East Asia & Pacific\",\"East Asia & Pacific\",\"East Asia & Pacific\",\"East Asia & Pacific\",\"East Asia & Pacific\",\"East Asia & Pacific\",\"East Asia & Pacific\",\"East Asia & Pacific\",\"East Asia & Pacific\",\"East Asia & Pacific\",\"East Asia & Pacific\",\"East Asia & Pacific\",\"East Asia & Pacific\",\"East Asia & Pacific\",\"East Asia & Pacific\",\"East Asia & Pacific\",\"East Asia & Pacific\",\"East Asia & Pacific\",\"East Asia & Pacific\",\"East Asia & Pacific\",\"East Asia & Pacific\",\"East Asia & Pacific\",\"East Asia & Pacific\",\"East Asia & Pacific\",\"East Asia & Pacific\",\"East Asia & Pacific\",\"East Asia & Pacific\",\"East Asia & Pacific\",\"East Asia & Pacific\",\"East Asia & Pacific\",\"East Asia & Pacific\",\"East Asia & Pacific\",\"East Asia & Pacific\",\"East Asia & Pacific\",\"East Asia & Pacific\",\"East Asia & Pacific\",\"East Asia & Pacific\",\"East Asia & Pacific\",\"East Asia & Pacific\",\"East Asia & Pacific\",\"East Asia & Pacific\",\"East Asia & Pacific\",\"East Asia & Pacific\",\"East Asia & Pacific\",\"East Asia & Pacific\",\"East Asia & Pacific\",\"East Asia & Pacific\",\"East Asia & Pacific\",\"East Asia & Pacific\",\"East Asia & Pacific\",\"East Asia & Pacific\",\"East Asia & Pacific\",\"East Asia & Pacific\",\"East Asia & Pacific\",\"East Asia & Pacific\",\"East Asia & Pacific\",\"East Asia & Pacific\",\"East Asia & Pacific\",\"East Asia & Pacific\",\"East Asia & Pacific\",\"East Asia & Pacific\",\"East Asia & Pacific\",\"East Asia & Pacific\",\"East Asia & Pacific\",\"East Asia & Pacific\",\"East Asia & Pacific\",\"East Asia & Pacific\",\"East Asia & Pacific\",\"East Asia & Pacific\",\"East Asia & Pacific\",\"East Asia & Pacific\",\"East Asia & Pacific\",\"East Asia & Pacific\",\"East Asia & Pacific\",\"East Asia & Pacific\",\"East Asia & Pacific\",\"East Asia & Pacific\",\"East Asia & Pacific\",\"East Asia & Pacific\",\"East Asia & Pacific\",\"East Asia & Pacific\",\"East Asia & Pacific\",\"East Asia & Pacific\",\"East Asia & Pacific\",\"East Asia & Pacific\",\"East Asia & Pacific\",\"East Asia & Pacific\",\"East Asia & Pacific\",\"East Asia & Pacific\",\"East Asia & Pacific\",\"East Asia & Pacific\",\"East Asia & Pacific\",\"East Asia & Pacific\",\"East Asia & Pacific\",\"East Asia & Pacific\",\"East Asia & Pacific\",\"East Asia & Pacific\",\"East Asia & Pacific\",\"East Asia & Pacific\",\"East Asia & Pacific\",\"East Asia & Pacific\",\"East Asia & Pacific\",\"East Asia & Pacific\",\"East Asia & Pacific\",\"East Asia & Pacific\",\"East Asia & Pacific\",\"East Asia & Pacific\",\"East Asia & Pacific\",\"East Asia & Pacific\",\"East Asia & Pacific\",\"East Asia & Pacific\",\"East Asia & Pacific\",\"East Asia & Pacific\",\"East Asia & Pacific\",\"East Asia & Pacific\",\"East Asia & Pacific\",\"East Asia & Pacific\",\"East Asia & Pacific\",\"East Asia & Pacific\",\"East Asia & Pacific\",\"East Asia & Pacific\",\"East Asia & Pacific\",\"East Asia & Pacific\",\"East Asia & Pacific\",\"East Asia & Pacific\",\"East Asia & Pacific\",\"East Asia & Pacific\",\"East Asia & Pacific\",\"East Asia & Pacific\",\"East Asia & Pacific\",\"East Asia & Pacific\",\"East Asia & Pacific\",\"East Asia & Pacific\",\"East Asia & Pacific\",\"East Asia & Pacific\",\"East Asia & Pacific\",\"East Asia & Pacific\",\"East Asia & Pacific\",\"East Asia & Pacific\",\"East Asia & Pacific\",\"East Asia & Pacific\",\"East Asia & Pacific\",\"East Asia & Pacific\",\"East Asia & Pacific\",\"East Asia & Pacific\",\"East Asia & Pacific\",\"East Asia & Pacific\",\"East Asia & Pacific\",\"East Asia & Pacific\",\"East Asia & Pacific\",\"East Asia & Pacific\",\"East Asia & Pacific\",\"East Asia & Pacific\",\"East Asia & Pacific\",\"East Asia & Pacific\",\"East Asia & Pacific\",\"East Asia & Pacific\",\"East Asia & Pacific\",\"East Asia & Pacific\",\"East Asia & Pacific\",\"East Asia & Pacific\",\"East Asia & Pacific\",\"East Asia & Pacific\",\"East Asia & Pacific\",\"East Asia & Pacific\",\"East Asia & Pacific\",\"East Asia & Pacific\",\"East Asia & Pacific\",\"East Asia & Pacific\",\"East Asia & Pacific\",\"East Asia & Pacific\",\"East Asia & Pacific\",\"East Asia & Pacific\",\"East Asia & Pacific\",\"East Asia & Pacific\",\"East Asia & Pacific\",\"East Asia & Pacific\",\"East Asia & Pacific\",\"East Asia & Pacific\",\"East Asia & Pacific\",\"East Asia & Pacific\",\"East Asia & Pacific\",\"East Asia & Pacific\",\"East Asia & Pacific\",\"East Asia & Pacific\",\"East Asia & Pacific\",\"East Asia & Pacific\",\"East Asia & Pacific\",\"East Asia & Pacific\",\"East Asia & Pacific\",\"East Asia & Pacific\",\"East Asia & Pacific\",\"East Asia & Pacific\",\"East Asia & Pacific\",\"East Asia & Pacific\",\"East Asia & Pacific\",\"East Asia & Pacific\",\"East Asia & Pacific\",\"East Asia & Pacific\",\"East Asia & Pacific\",\"East Asia & Pacific\",\"East Asia & Pacific\",\"East Asia & Pacific\",\"East Asia & Pacific\",\"East Asia & Pacific\",\"East Asia & Pacific\",\"East Asia & Pacific\",\"East Asia & Pacific\",\"East Asia & Pacific\",\"East Asia & Pacific\"],\"x0\":\" \",\"xaxis\":\"x\",\"y\":[22251076,20276993,14438022,778841,1298315,1064030,1815343,1806640,3813083,3375275,4897805,3960098,2515609,3056510,3301068,859361918,492583672,886559172,703379816,822852727,716261824,762147880,766860326,748670980,727187626,699953919,644488951,26317,115811,26016,55823,53843,29014,82690,58338,155951,17781,58849,61530,25818,72728,48763,19272436,7514457,17682883,22183995,17462136,22298293,18449613,19234706,12664626,21724364,14001182,18955424,45158921,44173063,53557899,55954094,61129058,28594531,58805671,55816602,50662257,76591843,59521880,49578164,26792552,29372703,25118406,27820914,25215756,24397456,25939839,23225514,21615409,26078589,25848966,21291154,10136194,8004479,8415631,8999919,7838797,10448235,9651252,9102962,9527874,9172843,10281134,11088639,72280901,42995125,55406923,73153289,71235965,67136350,75224903,80457470,58381066,71226622,65032431,72826741,110720,456310,179971,83859,331311,72821,124560,186851,247960,214160,307311,59050,7157383,6264778,7008073,6694772,9249121,8893619,8362470,7582524,6807571,9072174,10302832,5112325,9047083,6083681,7910595,9257354,9815541,12230464,10113805,11580187,12470219,12172230,8756302,8049376,62054346,46039499,64547569,42750200,49772537,63218521,59797239,76352449,53570813,80769952,74118237,93044015,65143647,46495274,77485368,58224436,70030566,74222003,57552226,74934274,61960891,70532829,81074540,73609886,17731091,15908992,17622493,17570926,19976615,17732579,18988937,19059580,13121617,16455667,16710747,35121504,117,12840231,380,9,563,4147130,4161335,4224085,3467940,3906979,2724431,3723629,4386116,2756598,3359124,3761181,2441639,2495,20867,1642,402,5500,11290,557,736003023,579896766,766564548,774737144,750845421,656818576,699879666,736235197,645803325,609494981,654140232,665213033,22590,46133,44076,65740,4743,42201,96731,82906,31812,26224,80124,28899,9472,75051,124501,69100,10997,13575008,9447916,14349935,18206402,17560065,14818951,16811356,15235400,9139629,18763623,17290048,12851921,43181658,38067866,40920632,43783703,36160193,28033580,48410111,40898172,42931676,34193497,32523031,38149658,24221788,21618333,20834135,20489479,22193057,20439368,23943046,19288038,19761817,19496386,21282890,15308706,9873001,9544050,11017162,12523827,13390734,14347021,15243791,14959226,15989720,18645876,16412451,17939075,2495,20867,1642,402,5500,11290,557,81444357,48226082,48927510,51389829,63542424,56609997,68886580,58657462,71952576,71983132,75135631,66445445,161180,56180,284726,159633,122923,97163,271983,127228,146420,49384,295546,27850,7338452,5871278,5097075,7784667,7233303,5523449,8425171,8833708,6621120,6357052,7869331,6173808,12165598,8603486,11299054,10503046,9319640,12422185,8848529,11425687,9941737,13502748,5883275,109402033,60637055,65493947,84967615,61085005,99026290,87245168,47601140,64776735,53241730,86968045,89860819,75440393,46062729,62789024,55676770,63102616,58191981,82581504,75736388,66722011,59566196,58916586,61019788,16893161,35824334,15941522,14655294,18740374,16029675,19264446,16024251,14073811,13268482,15172894],\"y0\":\" \",\"yaxis\":\"y\",\"type\":\"box\"},{\"alignmentgroup\":\"True\",\"hovertemplate\":\"<b>%{hovertext}</b><br><br>region=%{x}<br>value=%{y}<extra></extra>\",\"hovertext\":[1169005.0,902665.0,1652490.0,1069648.0,1811188.0,1832639.0,1952964.0,1728097.0,1537303.0,1676709.0,1536772.0,1665488.0,1601242.0,2026799.0,1689149.0,2210425.0,2025242.0,1075852.0,2652310.0,2005089.0,1498241.0,1918105.0,1814448.0,3056050.0,20980000.0,20877000.0,22476000.0,21356000.0,21540000.0,22275000.0,25501000.0,21975000.0,13473000.0,19872000.0,22291000.0,17839000.0,6830928.0,8097750.0,7544770.0,8802150.0,12073212.0,10373484.0,10971843.0,10544857.0,12668799.0,9899627.0,12677576.0,12460710.0,6825302.0,7140982.0,11092459.0,10870948.0,6737318.0,6108949.0,6128247.0,5532010.0,7776270.0,9459937.0,5603328.0,6212650.0,3391990.0,2047735.0,3571122.0,2077739.0,3950700.0,4494894.0,3227358.0,2175364.0,382203.0,1873095.0,3161306.0,3946481.0,17719476.0,28580977.0,26372061.0,30995075.0,24602499.0,24382436.0,28336064.0,20642618.0,24376183.0,29757692.0,24345717.0,21676199.0,18607560.0,16399608.0,22159395.0,24817390.0,25614226.0,25848140.0,28255289.0,28346156.0,27705949.0,28373195.0,26890187.0,26291014.0,296383.0,294407.0,201173.0,214091.0,232187.0,478146.0,241501.0,206324.0,295693.0,200656.0,136987.0,113555.0,1699441.0,1604431.0,2431580.0,2298749.0,1531771.0,2181193.0,1923008.0,1832068.0,1086424.0,2143782.0,2791878.0,1773863.0,21406000.0,19256000.0,18765000.0,24535000.0,21309000.0,13569000.0,19496000.0,15412000.0,15954000.0,19812000.0,16561000.0,14393000.0,180633.0,118741.0,8745.0,174162.0,175981.0,100927.0,282392.0,6658.0,44701.0,291917.0,241496.0,98.0,7819084.0,9933268.0,9414279.0,15418753.0,12150856.0,9668880.0,8106629.0,9953078.0,9355622.0,9329933.0,10260663.0,11634493.0,3660457.0,1249394.0,1411508.0,1950609.0,1091597.0,864435.0,1362643.0,638582.0,738911.0,1331192.0,2229105.0,2123421.0,22210936.0,27320578.0,19126829.0,30149512.0,29622938.0,27183992.0,26924136.0,20824043.0,26243591.0,23090900.0,34879854.0,25570501.0,23863167.0,32334840.0,35758923.0,28581956.0,30334431.0,27209491.0,24766605.0,22220019.0,24379500.0,23513888.0,22169660.0,14855996.0,211224.0,424858.0,363780.0,286191.0,508647.0,196843.0,204002.0,207938.0,396250.0,421392.0,311381.0,571874.0],\"legendgroup\":\"Middle East & North Africa\",\"marker\":{\"color\":\"#FFA15A\"},\"name\":\"Middle East & North Africa\",\"notched\":false,\"offsetgroup\":\"Middle East & North Africa\",\"orientation\":\"v\",\"showlegend\":true,\"x\":[\"Middle East & North Africa\",\"Middle East & North Africa\",\"Middle East & North Africa\",\"Middle East & North Africa\",\"Middle East & North Africa\",\"Middle East & North Africa\",\"Middle East & North Africa\",\"Middle East & North Africa\",\"Middle East & North Africa\",\"Middle East & North Africa\",\"Middle East & North Africa\",\"Middle East & North Africa\",\"Middle East & North Africa\",\"Middle East & North Africa\",\"Middle East & North Africa\",\"Middle East & North Africa\",\"Middle East & North Africa\",\"Middle East & North Africa\",\"Middle East & North Africa\",\"Middle East & North Africa\",\"Middle East & North Africa\",\"Middle East & North Africa\",\"Middle East & North Africa\",\"Middle East & North Africa\",\"Middle East & North Africa\",\"Middle East & North Africa\",\"Middle East & North Africa\",\"Middle East & North Africa\",\"Middle East & North Africa\",\"Middle East & North Africa\",\"Middle East & North Africa\",\"Middle East & North Africa\",\"Middle East & North Africa\",\"Middle East & North Africa\",\"Middle East & North Africa\",\"Middle East & North Africa\",\"Middle East & North Africa\",\"Middle East & North Africa\",\"Middle East & North Africa\",\"Middle East & North Africa\",\"Middle East & North Africa\",\"Middle East & North Africa\",\"Middle East & North Africa\",\"Middle East & North Africa\",\"Middle East & North Africa\",\"Middle East & North Africa\",\"Middle East & North Africa\",\"Middle East & North Africa\",\"Middle East & North Africa\",\"Middle East & North Africa\",\"Middle East & North Africa\",\"Middle East & North Africa\",\"Middle East & North Africa\",\"Middle East & North Africa\",\"Middle East & North Africa\",\"Middle East & North Africa\",\"Middle East & North Africa\",\"Middle East & North Africa\",\"Middle East & North Africa\",\"Middle East & North Africa\",\"Middle East & North Africa\",\"Middle East & North Africa\",\"Middle East & North Africa\",\"Middle East & North Africa\",\"Middle East & North Africa\",\"Middle East & North Africa\",\"Middle East & North Africa\",\"Middle East & North Africa\",\"Middle East & North Africa\",\"Middle East & North Africa\",\"Middle East & North Africa\",\"Middle East & North Africa\",\"Middle East & North Africa\",\"Middle East & North Africa\",\"Middle East & North Africa\",\"Middle East & North Africa\",\"Middle East & North Africa\",\"Middle East & North Africa\",\"Middle East & North Africa\",\"Middle East & North Africa\",\"Middle East & North Africa\",\"Middle East & North Africa\",\"Middle East & North Africa\",\"Middle East & North Africa\",\"Middle East & North Africa\",\"Middle East & North Africa\",\"Middle East & North Africa\",\"Middle East & North Africa\",\"Middle East & North Africa\",\"Middle East & North Africa\",\"Middle East & North Africa\",\"Middle East & North Africa\",\"Middle East & North Africa\",\"Middle East & North Africa\",\"Middle East & North Africa\",\"Middle East & North Africa\",\"Middle East & North Africa\",\"Middle East & North Africa\",\"Middle East & North Africa\",\"Middle East & North Africa\",\"Middle East & North Africa\",\"Middle East & North Africa\",\"Middle East & North Africa\",\"Middle East & North Africa\",\"Middle East & North Africa\",\"Middle East & North Africa\",\"Middle East & North Africa\",\"Middle East & North Africa\",\"Middle East & North Africa\",\"Middle East & North Africa\",\"Middle East & North Africa\",\"Middle East & North Africa\",\"Middle East & North Africa\",\"Middle East & North Africa\",\"Middle East & North Africa\",\"Middle East & North Africa\",\"Middle East & North Africa\",\"Middle East & North Africa\",\"Middle East & North Africa\",\"Middle East & North Africa\",\"Middle East & North Africa\",\"Middle East & North Africa\",\"Middle East & North Africa\",\"Middle East & North Africa\",\"Middle East & North Africa\",\"Middle East & North Africa\",\"Middle East & North Africa\",\"Middle East & North Africa\",\"Middle East & North Africa\",\"Middle East & North Africa\",\"Middle East & North Africa\",\"Middle East & North Africa\",\"Middle East & North Africa\",\"Middle East & North Africa\",\"Middle East & North Africa\",\"Middle East & North Africa\",\"Middle East & North Africa\",\"Middle East & North Africa\",\"Middle East & North Africa\",\"Middle East & North Africa\",\"Middle East & North Africa\",\"Middle East & North Africa\",\"Middle East & North Africa\",\"Middle East & North Africa\",\"Middle East & North Africa\",\"Middle East & North Africa\",\"Middle East & North Africa\",\"Middle East & North Africa\",\"Middle East & North Africa\",\"Middle East & North Africa\",\"Middle East & North Africa\",\"Middle East & North Africa\",\"Middle East & North Africa\",\"Middle East & North Africa\",\"Middle East & North Africa\",\"Middle East & North Africa\",\"Middle East & North Africa\",\"Middle East & North Africa\",\"Middle East & North Africa\",\"Middle East & North Africa\",\"Middle East & North Africa\",\"Middle East & North Africa\",\"Middle East & North Africa\",\"Middle East & North Africa\",\"Middle East & North Africa\",\"Middle East & North Africa\",\"Middle East & North Africa\",\"Middle East & North Africa\",\"Middle East & North Africa\",\"Middle East & North Africa\",\"Middle East & North Africa\",\"Middle East & North Africa\",\"Middle East & North Africa\",\"Middle East & North Africa\",\"Middle East & North Africa\",\"Middle East & North Africa\",\"Middle East & North Africa\",\"Middle East & North Africa\",\"Middle East & North Africa\",\"Middle East & North Africa\",\"Middle East & North Africa\",\"Middle East & North Africa\",\"Middle East & North Africa\",\"Middle East & North Africa\",\"Middle East & North Africa\",\"Middle East & North Africa\",\"Middle East & North Africa\",\"Middle East & North Africa\",\"Middle East & North Africa\",\"Middle East & North Africa\",\"Middle East & North Africa\",\"Middle East & North Africa\",\"Middle East & North Africa\",\"Middle East & North Africa\",\"Middle East & North Africa\",\"Middle East & North Africa\",\"Middle East & North Africa\",\"Middle East & North Africa\",\"Middle East & North Africa\",\"Middle East & North Africa\",\"Middle East & North Africa\",\"Middle East & North Africa\",\"Middle East & North Africa\",\"Middle East & North Africa\"],\"x0\":\" \",\"xaxis\":\"x\",\"y\":[1169005,902665,1652490,1069648,1811188,1832639,1952964,1728097,1537303,1676709,1536772,1665488,1601242,2026799,1689149,2210425,2025242,1075852,2652310,2005089,1498241,1918105,1814448,3056050,20980000,20877000,22476000,21356000,21540000,22275000,25501000,21975000,13473000,19872000,22291000,17839000,6830928,8097750,7544770,8802150,12073212,10373484,10971843,10544857,12668799,9899627,12677576,12460710,6825302,7140982,11092459,10870948,6737318,6108949,6128247,5532010,7776270,9459937,5603328,6212650,3391990,2047735,3571122,2077739,3950700,4494894,3227358,2175364,382203,1873095,3161306,3946481,17719476,28580977,26372061,30995075,24602499,24382436,28336064,20642618,24376183,29757692,24345717,21676199,18607560,16399608,22159395,24817390,25614226,25848140,28255289,28346156,27705949,28373195,26890187,26291014,296383,294407,201173,214091,232187,478146,241501,206324,295693,200656,136987,113555,1699441,1604431,2431580,2298749,1531771,2181193,1923008,1832068,1086424,2143782,2791878,1773863,21406000,19256000,18765000,24535000,21309000,13569000,19496000,15412000,15954000,19812000,16561000,14393000,180633,118741,8745,174162,175981,100927,282392,6658,44701,291917,241496,98,7819084,9933268,9414279,15418753,12150856,9668880,8106629,9953078,9355622,9329933,10260663,11634493,3660457,1249394,1411508,1950609,1091597,864435,1362643,638582,738911,1331192,2229105,2123421,22210936,27320578,19126829,30149512,29622938,27183992,26924136,20824043,26243591,23090900,34879854,25570501,23863167,32334840,35758923,28581956,30334431,27209491,24766605,22220019,24379500,23513888,22169660,14855996,211224,424858,363780,286191,508647,196843,204002,207938,396250,421392,311381,571874],\"y0\":\" \",\"yaxis\":\"y\",\"type\":\"box\"},{\"alignmentgroup\":\"True\",\"hovertemplate\":\"<b>%{hovertext}</b><br><br>region=%{x}<br>value=%{y}<extra></extra>\",\"hovertext\":[44617776.0,47817917.0,53323575.0,50941393.0,54442357.0,53813886.0,47077129.0,52073212.0,55763746.0,56271095.0,46749243.0,43610111.0,141408606.0,105149496.0,125775090.0,130014242.0,140427247.0,110482151.0,143902524.0,141371849.0,126476459.0,117183571.0,122389713.0,113118355.0,46458314.0,43595424.0,43877086.0,41030383.0,40827368.0,39398332.0,41272955.0,36705313.0,37771637.0,40774449.0,33481525.0,34113611.0,108772031.0,119173602.0,135591295.0,138897451.0,153702548.0,116751172.0,134063384.0,116628272.0,113947116.0,109790468.0,96516853.0,116273104.0],\"legendgroup\":\"North America\",\"marker\":{\"color\":\"#19d3f3\"},\"name\":\"North America\",\"notched\":false,\"offsetgroup\":\"North America\",\"orientation\":\"v\",\"showlegend\":true,\"x\":[\"North America\",\"North America\",\"North America\",\"North America\",\"North America\",\"North America\",\"North America\",\"North America\",\"North America\",\"North America\",\"North America\",\"North America\",\"North America\",\"North America\",\"North America\",\"North America\",\"North America\",\"North America\",\"North America\",\"North America\",\"North America\",\"North America\",\"North America\",\"North America\",\"North America\",\"North America\",\"North America\",\"North America\",\"North America\",\"North America\",\"North America\",\"North America\",\"North America\",\"North America\",\"North America\",\"North America\",\"North America\",\"North America\",\"North America\",\"North America\",\"North America\",\"North America\",\"North America\",\"North America\",\"North America\",\"North America\",\"North America\",\"North America\"],\"x0\":\" \",\"xaxis\":\"x\",\"y\":[44617776,47817917,53323575,50941393,54442357,53813886,47077129,52073212,55763746,56271095,46749243,43610111,141408606,105149496,125775090,130014242,140427247,110482151,143902524,141371849,126476459,117183571,122389713,113118355,46458314,43595424,43877086,41030383,40827368,39398332,41272955,36705313,37771637,40774449,33481525,34113611,108772031,119173602,135591295,138897451,153702548,116751172,134063384,116628272,113947116,109790468,96516853,116273104],\"y0\":\" \",\"yaxis\":\"y\",\"type\":\"box\"},{\"alignmentgroup\":\"True\",\"hovertemplate\":\"<b>%{hovertext}</b><br><br>region=%{x}<br>value=%{y}<extra></extra>\",\"hovertext\":[70424.0,21375.0,23806.0,183097.0,90407.0,94594.0,334304.0,97912.0,131203.0,79117.0,10502.0,29292465.0,22099335.0,35758570.0,23434910.0,36804475.0,20753914.0,24049536.0,30943293.0,17137822.0,19898701.0,17550948.0,22759779.0,60943621.0,58767700.0,69510587.0,64570492.0,67661237.0,72670277.0,78222462.0,86689359.0,72873093.0,69745175.0,65644456.0,57986337.0,25252771.0,24669598.0,24584511.0,29225596.0,22214798.0,15969666.0,17034297.0,18115231.0,16034625.0,17536246.0,18659826.0,16024933.0,67956129.0,49418363.0,56968605.0,54319369.0,54428852.0,52313560.0,44705009.0,51548235.0,39262235.0,40662282.0,46535138.0,41756822.0],\"legendgroup\":\"South Asia\",\"marker\":{\"color\":\"#FF6692\"},\"name\":\"South Asia\",\"notched\":false,\"offsetgroup\":\"South Asia\",\"orientation\":\"v\",\"showlegend\":true,\"x\":[\"South Asia\",\"South Asia\",\"South Asia\",\"South Asia\",\"South Asia\",\"South Asia\",\"South Asia\",\"South Asia\",\"South Asia\",\"South Asia\",\"South Asia\",\"South Asia\",\"South Asia\",\"South Asia\",\"South Asia\",\"South Asia\",\"South Asia\",\"South Asia\",\"South Asia\",\"South Asia\",\"South Asia\",\"South Asia\",\"South Asia\",\"South Asia\",\"South Asia\",\"South Asia\",\"South Asia\",\"South Asia\",\"South Asia\",\"South Asia\",\"South Asia\",\"South Asia\",\"South Asia\",\"South Asia\",\"South Asia\",\"South Asia\",\"South Asia\",\"South Asia\",\"South Asia\",\"South Asia\",\"South Asia\",\"South Asia\",\"South Asia\",\"South Asia\",\"South Asia\",\"South Asia\",\"South Asia\",\"South Asia\",\"South Asia\",\"South Asia\",\"South Asia\",\"South Asia\",\"South Asia\",\"South Asia\",\"South Asia\",\"South Asia\",\"South Asia\",\"South Asia\",\"South Asia\"],\"x0\":\" \",\"xaxis\":\"x\",\"y\":[70424,21375,23806,183097,90407,94594,334304,97912,131203,79117,10502,29292465,22099335,35758570,23434910,36804475,20753914,24049536,30943293,17137822,19898701,17550948,22759779,60943621,58767700,69510587,64570492,67661237,72670277,78222462,86689359,72873093,69745175,65644456,57986337,25252771,24669598,24584511,29225596,22214798,15969666,17034297,18115231,16034625,17536246,18659826,16024933,67956129,49418363,56968605,54319369,54428852,52313560,44705009,51548235,39262235,40662282,46535138,41756822],\"y0\":\" \",\"yaxis\":\"y\",\"type\":\"box\"}],                        {\"template\":{\"data\":{\"bar\":[{\"error_x\":{\"color\":\"#2a3f5f\"},\"error_y\":{\"color\":\"#2a3f5f\"},\"marker\":{\"line\":{\"color\":\"#E5ECF6\",\"width\":0.5},\"pattern\":{\"fillmode\":\"overlay\",\"size\":10,\"solidity\":0.2}},\"type\":\"bar\"}],\"barpolar\":[{\"marker\":{\"line\":{\"color\":\"#E5ECF6\",\"width\":0.5},\"pattern\":{\"fillmode\":\"overlay\",\"size\":10,\"solidity\":0.2}},\"type\":\"barpolar\"}],\"carpet\":[{\"aaxis\":{\"endlinecolor\":\"#2a3f5f\",\"gridcolor\":\"white\",\"linecolor\":\"white\",\"minorgridcolor\":\"white\",\"startlinecolor\":\"#2a3f5f\"},\"baxis\":{\"endlinecolor\":\"#2a3f5f\",\"gridcolor\":\"white\",\"linecolor\":\"white\",\"minorgridcolor\":\"white\",\"startlinecolor\":\"#2a3f5f\"},\"type\":\"carpet\"}],\"choropleth\":[{\"colorbar\":{\"outlinewidth\":0,\"ticks\":\"\"},\"type\":\"choropleth\"}],\"contour\":[{\"colorbar\":{\"outlinewidth\":0,\"ticks\":\"\"},\"colorscale\":[[0.0,\"#0d0887\"],[0.1111111111111111,\"#46039f\"],[0.2222222222222222,\"#7201a8\"],[0.3333333333333333,\"#9c179e\"],[0.4444444444444444,\"#bd3786\"],[0.5555555555555556,\"#d8576b\"],[0.6666666666666666,\"#ed7953\"],[0.7777777777777778,\"#fb9f3a\"],[0.8888888888888888,\"#fdca26\"],[1.0,\"#f0f921\"]],\"type\":\"contour\"}],\"contourcarpet\":[{\"colorbar\":{\"outlinewidth\":0,\"ticks\":\"\"},\"type\":\"contourcarpet\"}],\"heatmap\":[{\"colorbar\":{\"outlinewidth\":0,\"ticks\":\"\"},\"colorscale\":[[0.0,\"#0d0887\"],[0.1111111111111111,\"#46039f\"],[0.2222222222222222,\"#7201a8\"],[0.3333333333333333,\"#9c179e\"],[0.4444444444444444,\"#bd3786\"],[0.5555555555555556,\"#d8576b\"],[0.6666666666666666,\"#ed7953\"],[0.7777777777777778,\"#fb9f3a\"],[0.8888888888888888,\"#fdca26\"],[1.0,\"#f0f921\"]],\"type\":\"heatmap\"}],\"heatmapgl\":[{\"colorbar\":{\"outlinewidth\":0,\"ticks\":\"\"},\"colorscale\":[[0.0,\"#0d0887\"],[0.1111111111111111,\"#46039f\"],[0.2222222222222222,\"#7201a8\"],[0.3333333333333333,\"#9c179e\"],[0.4444444444444444,\"#bd3786\"],[0.5555555555555556,\"#d8576b\"],[0.6666666666666666,\"#ed7953\"],[0.7777777777777778,\"#fb9f3a\"],[0.8888888888888888,\"#fdca26\"],[1.0,\"#f0f921\"]],\"type\":\"heatmapgl\"}],\"histogram\":[{\"marker\":{\"pattern\":{\"fillmode\":\"overlay\",\"size\":10,\"solidity\":0.2}},\"type\":\"histogram\"}],\"histogram2d\":[{\"colorbar\":{\"outlinewidth\":0,\"ticks\":\"\"},\"colorscale\":[[0.0,\"#0d0887\"],[0.1111111111111111,\"#46039f\"],[0.2222222222222222,\"#7201a8\"],[0.3333333333333333,\"#9c179e\"],[0.4444444444444444,\"#bd3786\"],[0.5555555555555556,\"#d8576b\"],[0.6666666666666666,\"#ed7953\"],[0.7777777777777778,\"#fb9f3a\"],[0.8888888888888888,\"#fdca26\"],[1.0,\"#f0f921\"]],\"type\":\"histogram2d\"}],\"histogram2dcontour\":[{\"colorbar\":{\"outlinewidth\":0,\"ticks\":\"\"},\"colorscale\":[[0.0,\"#0d0887\"],[0.1111111111111111,\"#46039f\"],[0.2222222222222222,\"#7201a8\"],[0.3333333333333333,\"#9c179e\"],[0.4444444444444444,\"#bd3786\"],[0.5555555555555556,\"#d8576b\"],[0.6666666666666666,\"#ed7953\"],[0.7777777777777778,\"#fb9f3a\"],[0.8888888888888888,\"#fdca26\"],[1.0,\"#f0f921\"]],\"type\":\"histogram2dcontour\"}],\"mesh3d\":[{\"colorbar\":{\"outlinewidth\":0,\"ticks\":\"\"},\"type\":\"mesh3d\"}],\"parcoords\":[{\"line\":{\"colorbar\":{\"outlinewidth\":0,\"ticks\":\"\"}},\"type\":\"parcoords\"}],\"pie\":[{\"automargin\":true,\"type\":\"pie\"}],\"scatter\":[{\"marker\":{\"colorbar\":{\"outlinewidth\":0,\"ticks\":\"\"}},\"type\":\"scatter\"}],\"scatter3d\":[{\"line\":{\"colorbar\":{\"outlinewidth\":0,\"ticks\":\"\"}},\"marker\":{\"colorbar\":{\"outlinewidth\":0,\"ticks\":\"\"}},\"type\":\"scatter3d\"}],\"scattercarpet\":[{\"marker\":{\"colorbar\":{\"outlinewidth\":0,\"ticks\":\"\"}},\"type\":\"scattercarpet\"}],\"scattergeo\":[{\"marker\":{\"colorbar\":{\"outlinewidth\":0,\"ticks\":\"\"}},\"type\":\"scattergeo\"}],\"scattergl\":[{\"marker\":{\"colorbar\":{\"outlinewidth\":0,\"ticks\":\"\"}},\"type\":\"scattergl\"}],\"scattermapbox\":[{\"marker\":{\"colorbar\":{\"outlinewidth\":0,\"ticks\":\"\"}},\"type\":\"scattermapbox\"}],\"scatterpolar\":[{\"marker\":{\"colorbar\":{\"outlinewidth\":0,\"ticks\":\"\"}},\"type\":\"scatterpolar\"}],\"scatterpolargl\":[{\"marker\":{\"colorbar\":{\"outlinewidth\":0,\"ticks\":\"\"}},\"type\":\"scatterpolargl\"}],\"scatterternary\":[{\"marker\":{\"colorbar\":{\"outlinewidth\":0,\"ticks\":\"\"}},\"type\":\"scatterternary\"}],\"surface\":[{\"colorbar\":{\"outlinewidth\":0,\"ticks\":\"\"},\"colorscale\":[[0.0,\"#0d0887\"],[0.1111111111111111,\"#46039f\"],[0.2222222222222222,\"#7201a8\"],[0.3333333333333333,\"#9c179e\"],[0.4444444444444444,\"#bd3786\"],[0.5555555555555556,\"#d8576b\"],[0.6666666666666666,\"#ed7953\"],[0.7777777777777778,\"#fb9f3a\"],[0.8888888888888888,\"#fdca26\"],[1.0,\"#f0f921\"]],\"type\":\"surface\"}],\"table\":[{\"cells\":{\"fill\":{\"color\":\"#EBF0F8\"},\"line\":{\"color\":\"white\"}},\"header\":{\"fill\":{\"color\":\"#C8D4E3\"},\"line\":{\"color\":\"white\"}},\"type\":\"table\"}]},\"layout\":{\"annotationdefaults\":{\"arrowcolor\":\"#2a3f5f\",\"arrowhead\":0,\"arrowwidth\":1},\"autotypenumbers\":\"strict\",\"coloraxis\":{\"colorbar\":{\"outlinewidth\":0,\"ticks\":\"\"}},\"colorscale\":{\"diverging\":[[0,\"#8e0152\"],[0.1,\"#c51b7d\"],[0.2,\"#de77ae\"],[0.3,\"#f1b6da\"],[0.4,\"#fde0ef\"],[0.5,\"#f7f7f7\"],[0.6,\"#e6f5d0\"],[0.7,\"#b8e186\"],[0.8,\"#7fbc41\"],[0.9,\"#4d9221\"],[1,\"#276419\"]],\"sequential\":[[0.0,\"#0d0887\"],[0.1111111111111111,\"#46039f\"],[0.2222222222222222,\"#7201a8\"],[0.3333333333333333,\"#9c179e\"],[0.4444444444444444,\"#bd3786\"],[0.5555555555555556,\"#d8576b\"],[0.6666666666666666,\"#ed7953\"],[0.7777777777777778,\"#fb9f3a\"],[0.8888888888888888,\"#fdca26\"],[1.0,\"#f0f921\"]],\"sequentialminus\":[[0.0,\"#0d0887\"],[0.1111111111111111,\"#46039f\"],[0.2222222222222222,\"#7201a8\"],[0.3333333333333333,\"#9c179e\"],[0.4444444444444444,\"#bd3786\"],[0.5555555555555556,\"#d8576b\"],[0.6666666666666666,\"#ed7953\"],[0.7777777777777778,\"#fb9f3a\"],[0.8888888888888888,\"#fdca26\"],[1.0,\"#f0f921\"]]},\"colorway\":[\"#636efa\",\"#EF553B\",\"#00cc96\",\"#ab63fa\",\"#FFA15A\",\"#19d3f3\",\"#FF6692\",\"#B6E880\",\"#FF97FF\",\"#FECB52\"],\"font\":{\"color\":\"#2a3f5f\"},\"geo\":{\"bgcolor\":\"white\",\"lakecolor\":\"white\",\"landcolor\":\"#E5ECF6\",\"showlakes\":true,\"showland\":true,\"subunitcolor\":\"white\"},\"hoverlabel\":{\"align\":\"left\"},\"hovermode\":\"closest\",\"mapbox\":{\"style\":\"light\"},\"paper_bgcolor\":\"white\",\"plot_bgcolor\":\"#E5ECF6\",\"polar\":{\"angularaxis\":{\"gridcolor\":\"white\",\"linecolor\":\"white\",\"ticks\":\"\"},\"bgcolor\":\"#E5ECF6\",\"radialaxis\":{\"gridcolor\":\"white\",\"linecolor\":\"white\",\"ticks\":\"\"}},\"scene\":{\"xaxis\":{\"backgroundcolor\":\"#E5ECF6\",\"gridcolor\":\"white\",\"gridwidth\":2,\"linecolor\":\"white\",\"showbackground\":true,\"ticks\":\"\",\"zerolinecolor\":\"white\"},\"yaxis\":{\"backgroundcolor\":\"#E5ECF6\",\"gridcolor\":\"white\",\"gridwidth\":2,\"linecolor\":\"white\",\"showbackground\":true,\"ticks\":\"\",\"zerolinecolor\":\"white\"},\"zaxis\":{\"backgroundcolor\":\"#E5ECF6\",\"gridcolor\":\"white\",\"gridwidth\":2,\"linecolor\":\"white\",\"showbackground\":true,\"ticks\":\"\",\"zerolinecolor\":\"white\"}},\"shapedefaults\":{\"line\":{\"color\":\"#2a3f5f\"}},\"ternary\":{\"aaxis\":{\"gridcolor\":\"white\",\"linecolor\":\"white\",\"ticks\":\"\"},\"baxis\":{\"gridcolor\":\"white\",\"linecolor\":\"white\",\"ticks\":\"\"},\"bgcolor\":\"#E5ECF6\",\"caxis\":{\"gridcolor\":\"white\",\"linecolor\":\"white\",\"ticks\":\"\"}},\"title\":{\"x\":0.05},\"xaxis\":{\"automargin\":true,\"gridcolor\":\"white\",\"linecolor\":\"white\",\"ticks\":\"\",\"title\":{\"standoff\":15},\"zerolinecolor\":\"white\",\"zerolinewidth\":2},\"yaxis\":{\"automargin\":true,\"gridcolor\":\"white\",\"linecolor\":\"white\",\"ticks\":\"\",\"title\":{\"standoff\":15},\"zerolinecolor\":\"white\",\"zerolinewidth\":2}}},\"xaxis\":{\"anchor\":\"y\",\"domain\":[0.0,1.0],\"title\":{\"text\":\"region\"},\"categoryorder\":\"array\",\"categoryarray\":[\"Sub-Saharan Africa\",\"Europe & Central Asia\",\"Latin America & Caribbean\",\"East Asia & Pacific\",\"Middle East & North Africa\",\"North America\",\"South Asia\"]},\"yaxis\":{\"anchor\":\"x\",\"domain\":[0.0,1.0],\"title\":{\"text\":\"value\"}},\"legend\":{\"title\":{\"text\":\"region\"},\"tracegroupgap\":0},\"title\":{\"text\":\"Expensive imports region wise\"},\"boxmode\":\"overlay\",\"height\":700,\"width\":1400},                        {\"responsive\": true}                    ).then(function(){\n",
              "                            \n",
              "var gd = document.getElementById('c1b06eb4-ca3f-4ded-a1c5-6dee112a9065');\n",
              "var x = new MutationObserver(function (mutations, observer) {{\n",
              "        var display = window.getComputedStyle(gd).display;\n",
              "        if (!display || display === 'none') {{\n",
              "            console.log([gd, 'removed!']);\n",
              "            Plotly.purge(gd);\n",
              "            observer.disconnect();\n",
              "        }}\n",
              "}});\n",
              "\n",
              "// Listen for the removal of the full notebook cells\n",
              "var notebookContainer = gd.closest('#notebook-container');\n",
              "if (notebookContainer) {{\n",
              "    x.observe(notebookContainer, {childList: true});\n",
              "}}\n",
              "\n",
              "// Listen for the clearing of the current output cell\n",
              "var outputEl = gd.closest('.output');\n",
              "if (outputEl) {{\n",
              "    x.observe(outputEl, {childList: true});\n",
              "}}\n",
              "\n",
              "                        })                };                            </script>        </div>\n",
              "</body>\n",
              "</html>"
            ]
          },
          "metadata": {}
        }
      ]
    },
    {
      "cell_type": "code",
      "source": [
        "exp_exports = pd.DataFrame(data=df_interval1e[df_interval1e.value>0])\n",
        "px.box(x=\"region\", y=\"value\", data_frame=exp_exports, title='Expensive exports region wise', \n",
        "            color='region', hover_name='value', height=700, width = 1400)"
      ],
      "metadata": {
        "colab": {
          "base_uri": "https://localhost:8080/",
          "height": 737
        },
        "id": "wNF6tT1tvQde",
        "outputId": "08ddf884-aafb-4830-da03-da0ba6380c98"
      },
      "execution_count": 210,
      "outputs": [
        {
          "output_type": "display_data",
          "data": {
            "text/html": [
              "<html>\n",
              "<head><meta charset=\"utf-8\" /></head>\n",
              "<body>\n",
              "    <div>            <script src=\"https://cdnjs.cloudflare.com/ajax/libs/mathjax/2.7.5/MathJax.js?config=TeX-AMS-MML_SVG\"></script><script type=\"text/javascript\">if (window.MathJax) {MathJax.Hub.Config({SVG: {font: \"STIX-Web\"}});}</script>                <script type=\"text/javascript\">window.PlotlyConfig = {MathJaxConfig: 'local'};</script>\n",
              "        <script src=\"https://cdn.plot.ly/plotly-2.8.3.min.js\"></script>                <div id=\"e9c08db4-a1aa-4852-b738-a54015052ab8\" class=\"plotly-graph-div\" style=\"height:700px; width:1400px;\"></div>            <script type=\"text/javascript\">                                    window.PLOTLYENV=window.PLOTLYENV || {};                                    if (document.getElementById(\"e9c08db4-a1aa-4852-b738-a54015052ab8\")) {                    Plotly.newPlot(                        \"e9c08db4-a1aa-4852-b738-a54015052ab8\",                        [{\"alignmentgroup\":\"True\",\"hovertemplate\":\"<b>%{hovertext}</b><br><br>region=%{x}<br>value=%{y}<extra></extra>\",\"hovertext\":[52419.0,223364.0,134555.0,73583.0,87171.0,89113.0,59037.0,58674.0,44252.0,30208.0,8225.0,155299.0,160022.0,493273.0,150121.0,210015.0,590488.0,233234.0,204208.0,594010.0,223570.0,212610.0,19673.0,16665.0,16301.0,6178.0,224944.0,14517.0,26829.0,7675.0,15770.0,15967.0,7990.0,9912853.0,5370780.0,14610834.0,43115.0,43007.0,253657.0,22625.0,148778.0,120193.0,115121.0,109774.0,77853.0,120648.0,85234.0,205146.0,154493.0,146532.0,1103811.0,1327676.0,1370030.0,1792370.0,1836235.0,1978824.0,1741255.0,1377695.0,1449701.0,2022871.0,2043532.0,968981.0,634.0,44311.0,84706.0,3391.0,43231.0,28886.0,67238.0,146783.0,9990.0,51952.0,39640.0,7428.0,21964.0,11380.0,7889.0,9097.0,1221.0,1612.0,4618.0,10457.0,122207.0,60572.0,3014.0,18025.0,76258.0,36003.0,35281.0,17208.0,35855.0,5680.0,34257.0,2695.0,128926.0,87405.0,81348.0,52738.0,54089.0,295259.0,21449.0,4394.0,6966.0,5919.0,996.0,17529.0,40620.0,15416.0,57973.0,36165.0,64218.0,63779.0,91086.0,95649.0,154759.0,125921.0,72754.0,160890.0,54093.0,224214.0,42710.0,131189.0,67692.0,908900.0,1812408.0,1339762.0,1459670.0,2826686.0,2282332.0,3611369.0,2308320.0,3347356.0,3260444.0,2545688.0,2667469.0,3115.0,82796.0,7747.0,7624.0,28649.0,1550.0,152859.0,36834.0,110498.0,41996.0,1050.0,7744.0,45247.0,49266.0,1286.0,54470.0],\"legendgroup\":\"Sub-Saharan Africa\",\"marker\":{\"color\":\"#636efa\"},\"name\":\"Sub-Saharan Africa\",\"notched\":false,\"offsetgroup\":\"Sub-Saharan Africa\",\"orientation\":\"v\",\"showlegend\":true,\"x\":[\"Sub-Saharan Africa\",\"Sub-Saharan Africa\",\"Sub-Saharan Africa\",\"Sub-Saharan Africa\",\"Sub-Saharan Africa\",\"Sub-Saharan Africa\",\"Sub-Saharan Africa\",\"Sub-Saharan Africa\",\"Sub-Saharan Africa\",\"Sub-Saharan Africa\",\"Sub-Saharan Africa\",\"Sub-Saharan Africa\",\"Sub-Saharan Africa\",\"Sub-Saharan Africa\",\"Sub-Saharan Africa\",\"Sub-Saharan Africa\",\"Sub-Saharan Africa\",\"Sub-Saharan Africa\",\"Sub-Saharan Africa\",\"Sub-Saharan Africa\",\"Sub-Saharan Africa\",\"Sub-Saharan Africa\",\"Sub-Saharan Africa\",\"Sub-Saharan Africa\",\"Sub-Saharan Africa\",\"Sub-Saharan Africa\",\"Sub-Saharan Africa\",\"Sub-Saharan Africa\",\"Sub-Saharan Africa\",\"Sub-Saharan Africa\",\"Sub-Saharan Africa\",\"Sub-Saharan Africa\",\"Sub-Saharan Africa\",\"Sub-Saharan Africa\",\"Sub-Saharan Africa\",\"Sub-Saharan Africa\",\"Sub-Saharan Africa\",\"Sub-Saharan Africa\",\"Sub-Saharan Africa\",\"Sub-Saharan Africa\",\"Sub-Saharan Africa\",\"Sub-Saharan Africa\",\"Sub-Saharan Africa\",\"Sub-Saharan Africa\",\"Sub-Saharan Africa\",\"Sub-Saharan Africa\",\"Sub-Saharan Africa\",\"Sub-Saharan Africa\",\"Sub-Saharan Africa\",\"Sub-Saharan Africa\",\"Sub-Saharan Africa\",\"Sub-Saharan Africa\",\"Sub-Saharan Africa\",\"Sub-Saharan Africa\",\"Sub-Saharan Africa\",\"Sub-Saharan Africa\",\"Sub-Saharan Africa\",\"Sub-Saharan Africa\",\"Sub-Saharan Africa\",\"Sub-Saharan Africa\",\"Sub-Saharan Africa\",\"Sub-Saharan Africa\",\"Sub-Saharan Africa\",\"Sub-Saharan Africa\",\"Sub-Saharan Africa\",\"Sub-Saharan Africa\",\"Sub-Saharan Africa\",\"Sub-Saharan Africa\",\"Sub-Saharan Africa\",\"Sub-Saharan Africa\",\"Sub-Saharan Africa\",\"Sub-Saharan Africa\",\"Sub-Saharan Africa\",\"Sub-Saharan Africa\",\"Sub-Saharan Africa\",\"Sub-Saharan Africa\",\"Sub-Saharan Africa\",\"Sub-Saharan Africa\",\"Sub-Saharan Africa\",\"Sub-Saharan Africa\",\"Sub-Saharan Africa\",\"Sub-Saharan Africa\",\"Sub-Saharan Africa\",\"Sub-Saharan Africa\",\"Sub-Saharan Africa\",\"Sub-Saharan Africa\",\"Sub-Saharan Africa\",\"Sub-Saharan Africa\",\"Sub-Saharan Africa\",\"Sub-Saharan Africa\",\"Sub-Saharan Africa\",\"Sub-Saharan Africa\",\"Sub-Saharan Africa\",\"Sub-Saharan Africa\",\"Sub-Saharan Africa\",\"Sub-Saharan Africa\",\"Sub-Saharan Africa\",\"Sub-Saharan Africa\",\"Sub-Saharan Africa\",\"Sub-Saharan Africa\",\"Sub-Saharan Africa\",\"Sub-Saharan Africa\",\"Sub-Saharan Africa\",\"Sub-Saharan Africa\",\"Sub-Saharan Africa\",\"Sub-Saharan Africa\",\"Sub-Saharan Africa\",\"Sub-Saharan Africa\",\"Sub-Saharan Africa\",\"Sub-Saharan Africa\",\"Sub-Saharan Africa\",\"Sub-Saharan Africa\",\"Sub-Saharan Africa\",\"Sub-Saharan Africa\",\"Sub-Saharan Africa\",\"Sub-Saharan Africa\",\"Sub-Saharan Africa\",\"Sub-Saharan Africa\",\"Sub-Saharan Africa\",\"Sub-Saharan Africa\",\"Sub-Saharan Africa\",\"Sub-Saharan Africa\",\"Sub-Saharan Africa\",\"Sub-Saharan Africa\",\"Sub-Saharan Africa\",\"Sub-Saharan Africa\",\"Sub-Saharan Africa\",\"Sub-Saharan Africa\",\"Sub-Saharan Africa\",\"Sub-Saharan Africa\",\"Sub-Saharan Africa\",\"Sub-Saharan Africa\",\"Sub-Saharan Africa\",\"Sub-Saharan Africa\",\"Sub-Saharan Africa\",\"Sub-Saharan Africa\",\"Sub-Saharan Africa\",\"Sub-Saharan Africa\",\"Sub-Saharan Africa\",\"Sub-Saharan Africa\",\"Sub-Saharan Africa\",\"Sub-Saharan Africa\",\"Sub-Saharan Africa\",\"Sub-Saharan Africa\",\"Sub-Saharan Africa\",\"Sub-Saharan Africa\",\"Sub-Saharan Africa\",\"Sub-Saharan Africa\",\"Sub-Saharan Africa\",\"Sub-Saharan Africa\",\"Sub-Saharan Africa\"],\"x0\":\" \",\"xaxis\":\"x\",\"y\":[52419,223364,134555,73583,87171,89113,59037,58674,44252,30208,8225,155299,160022,493273,150121,210015,590488,233234,204208,594010,223570,212610,19673,16665,16301,6178,224944,14517,26829,7675,15770,15967,7990,9912853,5370780,14610834,43115,43007,253657,22625,148778,120193,115121,109774,77853,120648,85234,205146,154493,146532,1103811,1327676,1370030,1792370,1836235,1978824,1741255,1377695,1449701,2022871,2043532,968981,634,44311,84706,3391,43231,28886,67238,146783,9990,51952,39640,7428,21964,11380,7889,9097,1221,1612,4618,10457,122207,60572,3014,18025,76258,36003,35281,17208,35855,5680,34257,2695,128926,87405,81348,52738,54089,295259,21449,4394,6966,5919,996,17529,40620,15416,57973,36165,64218,63779,91086,95649,154759,125921,72754,160890,54093,224214,42710,131189,67692,908900,1812408,1339762,1459670,2826686,2282332,3611369,2308320,3347356,3260444,2545688,2667469,3115,82796,7747,7624,28649,1550,152859,36834,110498,41996,1050,7744,45247,49266,1286,54470],\"y0\":\" \",\"yaxis\":\"y\",\"type\":\"box\"},{\"alignmentgroup\":\"True\",\"hovertemplate\":\"<b>%{hovertext}</b><br><br>region=%{x}<br>value=%{y}<extra></extra>\",\"hovertext\":[15866484.0,9925305.0,22344.0,22344.0,22344.0,55860.0,46025981.0,35562374.0,37172805.0,39143329.0,36981207.0,27315890.0,32910392.0,43972277.0,39416285.0,42631592.0,28684628.0,36202803.0,70470.0,114692.0,71745.0,33294.0,658.0,1036.0,48685.0,89410.0,52991.0,33576.0,45835.0,45385.0,45071.0,15200.0,126153.0,160820.0,57825.0,188575.0,27858.0,143175.0,15340.0,51641.0,491.0,41277.0,50473.0,24592.0,47321.0,15995.0,54037.0,13564.0,81353.0,54617.0,28601.0,146527.0,36887.0,64637.0,53610.0,8430.0,59496.0,27933.0,30773.0,27848.0,30233.0,18577.0,71520.0,58523.0,4034.0,5894.0,117033.0,60694.0,70111.0,129786.0,44664.0,996.0,41460.0,64993.0,37888.0,406100.0,8659565.0,20468693.0,10733102.0,10965126.0,9838854.0,13478831.0,11279842.0,24932120.0,12826513.0,17164119.0,15466190.0,21346906.0,73510.0,48098.0,80312.0,61428.0,72842.0,15246.0,50603.0,44830.0,49939.0,2217.0,282706.0,56466.0,191965.0,154922.0,38985.0,321146.0,31586.0,8540.0,2555.0,185295.0,37178.0,177317.0,235788.0,40500.0,51614.0,47348.0,47348.0,23674.0,11837.0,32462873.0,29367982.0,26997797.0,24655884.0,28126202.0,26283663.0,30487579.0,31694629.0,18521966.0,23508516.0,25674718.0,18073457.0,44582.0,1289.0,433988.0,86200.0,13970.0,113056.0,274262.0,237150.0,28992.0,224527.0,74386.0,43311.0,71684.0,32265.0,48871.0,27441.0,103415.0,19736.0,163705.0,60944.0,75401.0,95551.0,90466.0,11963.0,29684.0,740.0,254091.0,12389.0,35412.0,17880.0,70875.0,34670.0,18275.0,17855.0,17210.0,227826.0,18920.0,50058.0,104655.0,1802.0,18024.0,34258.0,27448.0,19344.0,2001.0,50633.0,5600.0,25722.0,84647.0,119822.0,59054.0,99231.0,93703.0,7741.0,57374.0,89278.0,42995.0,71627.0,7991048.0,13015718.0,23655903.0,21065619.0,19624584.0,11330981.0,12585581.0,11272152.0,13704409.0,14757628.0,6336632.0,13578885.0,8000.0,6672.0,12700.0,12700.0,8400.0,12700.0,12300.0,24958.0,38888.0,142764.0,30025.0,31188.0,57373.0,19627.0,13409.0,11161.0,28560.0,3694.0,115330.0,81518.0,6973.0,81002.0,134630.0,22909.0,291012.0,35002.0,23281.0,57824.0,65735.0,5744.0,7192.0,19383.0,272.0,25568.0],\"legendgroup\":\"Latin America & Caribbean\",\"marker\":{\"color\":\"#EF553B\"},\"name\":\"Latin America & Caribbean\",\"notched\":false,\"offsetgroup\":\"Latin America & Caribbean\",\"orientation\":\"v\",\"showlegend\":true,\"x\":[\"Latin America & Caribbean\",\"Latin America & Caribbean\",\"Latin America & Caribbean\",\"Latin America & Caribbean\",\"Latin America & Caribbean\",\"Latin America & Caribbean\",\"Latin America & Caribbean\",\"Latin America & Caribbean\",\"Latin America & Caribbean\",\"Latin America & Caribbean\",\"Latin America & Caribbean\",\"Latin America & Caribbean\",\"Latin America & Caribbean\",\"Latin America & Caribbean\",\"Latin America & Caribbean\",\"Latin America & Caribbean\",\"Latin America & Caribbean\",\"Latin America & Caribbean\",\"Latin America & Caribbean\",\"Latin America & Caribbean\",\"Latin America & Caribbean\",\"Latin America & Caribbean\",\"Latin America & Caribbean\",\"Latin America & Caribbean\",\"Latin America & Caribbean\",\"Latin America & Caribbean\",\"Latin America & Caribbean\",\"Latin America & Caribbean\",\"Latin America & Caribbean\",\"Latin America & Caribbean\",\"Latin America & Caribbean\",\"Latin America & Caribbean\",\"Latin America & Caribbean\",\"Latin America & Caribbean\",\"Latin America & Caribbean\",\"Latin America & Caribbean\",\"Latin America & Caribbean\",\"Latin America & Caribbean\",\"Latin America & Caribbean\",\"Latin America & Caribbean\",\"Latin America & Caribbean\",\"Latin America & Caribbean\",\"Latin America & Caribbean\",\"Latin America & Caribbean\",\"Latin America & Caribbean\",\"Latin America & Caribbean\",\"Latin America & Caribbean\",\"Latin America & Caribbean\",\"Latin America & Caribbean\",\"Latin America & Caribbean\",\"Latin America & Caribbean\",\"Latin America & Caribbean\",\"Latin America & Caribbean\",\"Latin America & Caribbean\",\"Latin America & Caribbean\",\"Latin America & Caribbean\",\"Latin America & Caribbean\",\"Latin America & Caribbean\",\"Latin America & Caribbean\",\"Latin America & Caribbean\",\"Latin America & Caribbean\",\"Latin America & Caribbean\",\"Latin America & Caribbean\",\"Latin America & Caribbean\",\"Latin America & Caribbean\",\"Latin America & Caribbean\",\"Latin America & Caribbean\",\"Latin America & Caribbean\",\"Latin America & Caribbean\",\"Latin America & Caribbean\",\"Latin America & Caribbean\",\"Latin America & Caribbean\",\"Latin America & Caribbean\",\"Latin America & Caribbean\",\"Latin America & Caribbean\",\"Latin America & Caribbean\",\"Latin America & Caribbean\",\"Latin America & Caribbean\",\"Latin America & Caribbean\",\"Latin America & Caribbean\",\"Latin America & Caribbean\",\"Latin America & Caribbean\",\"Latin America & Caribbean\",\"Latin America & Caribbean\",\"Latin America & Caribbean\",\"Latin America & Caribbean\",\"Latin America & Caribbean\",\"Latin America & Caribbean\",\"Latin America & Caribbean\",\"Latin America & Caribbean\",\"Latin America & Caribbean\",\"Latin America & Caribbean\",\"Latin America & Caribbean\",\"Latin America & Caribbean\",\"Latin America & Caribbean\",\"Latin America & Caribbean\",\"Latin America & Caribbean\",\"Latin America & Caribbean\",\"Latin America & Caribbean\",\"Latin America & Caribbean\",\"Latin America & Caribbean\",\"Latin America & Caribbean\",\"Latin America & Caribbean\",\"Latin America & Caribbean\",\"Latin America & Caribbean\",\"Latin America & Caribbean\",\"Latin America & Caribbean\",\"Latin America & Caribbean\",\"Latin America & Caribbean\",\"Latin America & Caribbean\",\"Latin America & Caribbean\",\"Latin America & Caribbean\",\"Latin America & Caribbean\",\"Latin America & Caribbean\",\"Latin America & Caribbean\",\"Latin America & Caribbean\",\"Latin America & Caribbean\",\"Latin America & Caribbean\",\"Latin America & Caribbean\",\"Latin America & Caribbean\",\"Latin America & Caribbean\",\"Latin America & Caribbean\",\"Latin America & Caribbean\",\"Latin America & Caribbean\",\"Latin America & Caribbean\",\"Latin America & Caribbean\",\"Latin America & Caribbean\",\"Latin America & Caribbean\",\"Latin America & Caribbean\",\"Latin America & Caribbean\",\"Latin America & Caribbean\",\"Latin America & Caribbean\",\"Latin America & Caribbean\",\"Latin America & Caribbean\",\"Latin America & Caribbean\",\"Latin America & Caribbean\",\"Latin America & Caribbean\",\"Latin America & Caribbean\",\"Latin America & Caribbean\",\"Latin America & Caribbean\",\"Latin America & Caribbean\",\"Latin America & Caribbean\",\"Latin America & Caribbean\",\"Latin America & Caribbean\",\"Latin America & Caribbean\",\"Latin America & Caribbean\",\"Latin America & Caribbean\",\"Latin America & Caribbean\",\"Latin America & Caribbean\",\"Latin America & Caribbean\",\"Latin America & Caribbean\",\"Latin America & Caribbean\",\"Latin America & Caribbean\",\"Latin America & Caribbean\",\"Latin America & Caribbean\",\"Latin America & Caribbean\",\"Latin America & Caribbean\",\"Latin America & Caribbean\",\"Latin America & Caribbean\",\"Latin America & Caribbean\",\"Latin America & Caribbean\",\"Latin America & Caribbean\",\"Latin America & Caribbean\",\"Latin America & Caribbean\",\"Latin America & Caribbean\",\"Latin America & Caribbean\",\"Latin America & Caribbean\",\"Latin America & Caribbean\",\"Latin America & Caribbean\",\"Latin America & Caribbean\",\"Latin America & Caribbean\",\"Latin America & Caribbean\",\"Latin America & Caribbean\",\"Latin America & Caribbean\",\"Latin America & Caribbean\",\"Latin America & Caribbean\",\"Latin America & Caribbean\",\"Latin America & Caribbean\",\"Latin America & Caribbean\",\"Latin America & Caribbean\",\"Latin America & Caribbean\",\"Latin America & Caribbean\",\"Latin America & Caribbean\",\"Latin America & Caribbean\",\"Latin America & Caribbean\",\"Latin America & Caribbean\",\"Latin America & Caribbean\",\"Latin America & Caribbean\",\"Latin America & Caribbean\",\"Latin America & Caribbean\",\"Latin America & Caribbean\",\"Latin America & Caribbean\",\"Latin America & Caribbean\",\"Latin America & Caribbean\",\"Latin America & Caribbean\",\"Latin America & Caribbean\",\"Latin America & Caribbean\",\"Latin America & Caribbean\",\"Latin America & Caribbean\",\"Latin America & Caribbean\",\"Latin America & Caribbean\",\"Latin America & Caribbean\",\"Latin America & Caribbean\",\"Latin America & Caribbean\",\"Latin America & Caribbean\",\"Latin America & Caribbean\",\"Latin America & Caribbean\",\"Latin America & Caribbean\",\"Latin America & Caribbean\",\"Latin America & Caribbean\",\"Latin America & Caribbean\",\"Latin America & Caribbean\",\"Latin America & Caribbean\",\"Latin America & Caribbean\",\"Latin America & Caribbean\",\"Latin America & Caribbean\",\"Latin America & Caribbean\",\"Latin America & Caribbean\",\"Latin America & Caribbean\",\"Latin America & Caribbean\",\"Latin America & Caribbean\",\"Latin America & Caribbean\",\"Latin America & Caribbean\",\"Latin America & Caribbean\",\"Latin America & Caribbean\",\"Latin America & Caribbean\",\"Latin America & Caribbean\",\"Latin America & Caribbean\",\"Latin America & Caribbean\",\"Latin America & Caribbean\",\"Latin America & Caribbean\",\"Latin America & Caribbean\",\"Latin America & Caribbean\"],\"x0\":\" \",\"xaxis\":\"x\",\"y\":[15866484,9925305,22344,22344,22344,55860,46025981,35562374,37172805,39143329,36981207,27315890,32910392,43972277,39416285,42631592,28684628,36202803,70470,114692,71745,33294,658,1036,48685,89410,52991,33576,45835,45385,45071,15200,126153,160820,57825,188575,27858,143175,15340,51641,491,41277,50473,24592,47321,15995,54037,13564,81353,54617,28601,146527,36887,64637,53610,8430,59496,27933,30773,27848,30233,18577,71520,58523,4034,5894,117033,60694,70111,129786,44664,996,41460,64993,37888,406100,8659565,20468693,10733102,10965126,9838854,13478831,11279842,24932120,12826513,17164119,15466190,21346906,73510,48098,80312,61428,72842,15246,50603,44830,49939,2217,282706,56466,191965,154922,38985,321146,31586,8540,2555,185295,37178,177317,235788,40500,51614,47348,47348,23674,11837,32462873,29367982,26997797,24655884,28126202,26283663,30487579,31694629,18521966,23508516,25674718,18073457,44582,1289,433988,86200,13970,113056,274262,237150,28992,224527,74386,43311,71684,32265,48871,27441,103415,19736,163705,60944,75401,95551,90466,11963,29684,740,254091,12389,35412,17880,70875,34670,18275,17855,17210,227826,18920,50058,104655,1802,18024,34258,27448,19344,2001,50633,5600,25722,84647,119822,59054,99231,93703,7741,57374,89278,42995,71627,7991048,13015718,23655903,21065619,19624584,11330981,12585581,11272152,13704409,14757628,6336632,13578885,8000,6672,12700,12700,8400,12700,12300,24958,38888,142764,30025,31188,57373,19627,13409,11161,28560,3694,115330,81518,6973,81002,134630,22909,291012,35002,23281,57824,65735,5744,7192,19383,272,25568],\"y0\":\" \",\"yaxis\":\"y\",\"type\":\"box\"},{\"alignmentgroup\":\"True\",\"hovertemplate\":\"<b>%{hovertext}</b><br><br>region=%{x}<br>value=%{y}<extra></extra>\",\"hovertext\":[34650.0,47025.0,37372.0,5179.0,4309.0,1136720.0,54977.0,490288.0,205806.0,95611.0,223093.0,403000.0,542000.0,307000.0,561000.0,463000.0,290000.0,611000.0,393000.0,332000.0,228000.0,475000.0,1017000.0,248708.0,192909.0,488309.0,222805.0,201642.0,112184.0,197367.0,75401.0,161863.0,105210.0,343009.0,84817.0,52127.0,96843.0,74707.0,92442.0,41121.0,65719.0,129581.0,68096.0,226512.0,133964.0,81961.0,130875036.0,170342581.0,154924387.0,99319932.0,115377750.0,83789051.0,176573358.0,137317840.0,191857771.0,185953046.0,140668991.0,122768266.0,21892054.0,24699872.0,12707715.0,21175649.0,26465729.0,20204750.0,25443856.0,30195040.0,21645042.0,23288783.0,17155350.0,36437256.0,39000.0,591000.0,854000.0,437000.0,441000.0,362000.0,248000.0,162000.0,285000.0,125000.0,138000.0,129000.0,65676.0,11270.0,36184.0,13632.0,63458.0,70586.0,18982.0,134184.0,247263.0,34733.0,167137010.0,142832144.0,134912487.0,143756484.0,98762465.0,80805330.0,123777235.0,144947239.0,59702320.0,87016046.0,129655590.0,148269742.0,16636708.0,14260409.0,22624189.0,28716975.0,18158244.0,16381572.0,35204755.0,22146719.0,30750166.0,21005554.0,18855719.0,17980776.0],\"legendgroup\":\"Middle East & North Africa\",\"marker\":{\"color\":\"#00cc96\"},\"name\":\"Middle East & North Africa\",\"notched\":false,\"offsetgroup\":\"Middle East & North Africa\",\"orientation\":\"v\",\"showlegend\":true,\"x\":[\"Middle East & North Africa\",\"Middle East & North Africa\",\"Middle East & North Africa\",\"Middle East & North Africa\",\"Middle East & North Africa\",\"Middle East & North Africa\",\"Middle East & North Africa\",\"Middle East & North Africa\",\"Middle East & North Africa\",\"Middle East & North Africa\",\"Middle East & North Africa\",\"Middle East & North Africa\",\"Middle East & North Africa\",\"Middle East & North Africa\",\"Middle East & North Africa\",\"Middle East & North Africa\",\"Middle East & North Africa\",\"Middle East & North Africa\",\"Middle East & North Africa\",\"Middle East & North Africa\",\"Middle East & North Africa\",\"Middle East & North Africa\",\"Middle East & North Africa\",\"Middle East & North Africa\",\"Middle East & North Africa\",\"Middle East & North Africa\",\"Middle East & North Africa\",\"Middle East & North Africa\",\"Middle East & North Africa\",\"Middle East & North Africa\",\"Middle East & North Africa\",\"Middle East & North Africa\",\"Middle East & North Africa\",\"Middle East & North Africa\",\"Middle East & North Africa\",\"Middle East & North Africa\",\"Middle East & North Africa\",\"Middle East & North Africa\",\"Middle East & North Africa\",\"Middle East & North Africa\",\"Middle East & North Africa\",\"Middle East & North Africa\",\"Middle East & North Africa\",\"Middle East & North Africa\",\"Middle East & North Africa\",\"Middle East & North Africa\",\"Middle East & North Africa\",\"Middle East & North Africa\",\"Middle East & North Africa\",\"Middle East & North Africa\",\"Middle East & North Africa\",\"Middle East & North Africa\",\"Middle East & North Africa\",\"Middle East & North Africa\",\"Middle East & North Africa\",\"Middle East & North Africa\",\"Middle East & North Africa\",\"Middle East & North Africa\",\"Middle East & North Africa\",\"Middle East & North Africa\",\"Middle East & North Africa\",\"Middle East & North Africa\",\"Middle East & North Africa\",\"Middle East & North Africa\",\"Middle East & North Africa\",\"Middle East & North Africa\",\"Middle East & North Africa\",\"Middle East & North Africa\",\"Middle East & North Africa\",\"Middle East & North Africa\",\"Middle East & North Africa\",\"Middle East & North Africa\",\"Middle East & North Africa\",\"Middle East & North Africa\",\"Middle East & North Africa\",\"Middle East & North Africa\",\"Middle East & North Africa\",\"Middle East & North Africa\",\"Middle East & North Africa\",\"Middle East & North Africa\",\"Middle East & North Africa\",\"Middle East & North Africa\",\"Middle East & North Africa\",\"Middle East & North Africa\",\"Middle East & North Africa\",\"Middle East & North Africa\",\"Middle East & North Africa\",\"Middle East & North Africa\",\"Middle East & North Africa\",\"Middle East & North Africa\",\"Middle East & North Africa\",\"Middle East & North Africa\",\"Middle East & North Africa\",\"Middle East & North Africa\",\"Middle East & North Africa\",\"Middle East & North Africa\",\"Middle East & North Africa\",\"Middle East & North Africa\",\"Middle East & North Africa\",\"Middle East & North Africa\",\"Middle East & North Africa\",\"Middle East & North Africa\",\"Middle East & North Africa\",\"Middle East & North Africa\",\"Middle East & North Africa\",\"Middle East & North Africa\",\"Middle East & North Africa\",\"Middle East & North Africa\",\"Middle East & North Africa\",\"Middle East & North Africa\",\"Middle East & North Africa\",\"Middle East & North Africa\",\"Middle East & North Africa\",\"Middle East & North Africa\",\"Middle East & North Africa\",\"Middle East & North Africa\"],\"x0\":\" \",\"xaxis\":\"x\",\"y\":[34650,47025,37372,5179,4309,1136720,54977,490288,205806,95611,223093,403000,542000,307000,561000,463000,290000,611000,393000,332000,228000,475000,1017000,248708,192909,488309,222805,201642,112184,197367,75401,161863,105210,343009,84817,52127,96843,74707,92442,41121,65719,129581,68096,226512,133964,81961,130875036,170342581,154924387,99319932,115377750,83789051,176573358,137317840,191857771,185953046,140668991,122768266,21892054,24699872,12707715,21175649,26465729,20204750,25443856,30195040,21645042,23288783,17155350,36437256,39000,591000,854000,437000,441000,362000,248000,162000,285000,125000,138000,129000,65676,11270,36184,13632,63458,70586,18982,134184,247263,34733,167137010,142832144,134912487,143756484,98762465,80805330,123777235,144947239,59702320,87016046,129655590,148269742,16636708,14260409,22624189,28716975,18158244,16381572,35204755,22146719,30750166,21005554,18855719,17980776],\"y0\":\" \",\"yaxis\":\"y\",\"type\":\"box\"},{\"alignmentgroup\":\"True\",\"hovertemplate\":\"<b>%{hovertext}</b><br><br>region=%{x}<br>value=%{y}<extra></extra>\",\"hovertext\":[86946062.0,78949493.0,86811346.0,88757210.0,85855262.0,82813041.0,83971446.0,80829945.0,77400708.0,78061145.0,68857021.0,57083489.0,1237.0,16402.0,61010.0,24793.0,1828.0,1533064.0,1102025.0,1516601.0,1573347.0,1032877.0,1433256.0,1291243.0,1145054.0,1698103.0,2036912.0,1771858.0,1680725.0,2591800.0,2022700.0,1333400.0,859700.0,629100.0,419300.0,826700.0,1319100.0,934400.0,974800.0,466600.0,628800.0,265289.0,326577.0,392574.0,1052959.0,301692.0,142392.0,216157.0,258809.0,244968.0,368271.0,322000.0,627984.0,17311.0,33640175.0,33319668.0,31410869.0,29135959.0,32398948.0,31872217.0,31606359.0,28136709.0,27487789.0,25806304.0,26371987.0,19471949.0,1088028.0,1785349.0,1391141.0,1364741.0,1532253.0,1271105.0,1109683.0,2038448.0,1811665.0,1924542.0,2034606.0,1257503.0,119000.0,171379.0,155701.0,120513.0,167222.0,101389.0,95214.0,97259.0,100931.0,320826.0,472537.0,329850.0,8224236.0,7064123.0,6784048.0,9871763.0,9162275.0,13142807.0,5897221.0,8359951.0,10729977.0,15156279.0,8218423.0,4119724.0,45117545.0,46452301.0,46523902.0,43855196.0,43145415.0,42320090.0,35775161.0,38135767.0,41216608.0,5766231.0,34610600.0,25745806.0,10747.0,458190.0,64482.0,183399.0,65365.0,203327.0,55240.0,264278.0,246520.0,194329.0,458189.0,150814621.0,156836461.0,154557679.0,144434054.0,134612662.0,148777099.0,123436794.0,114339376.0,122017345.0,130280737.0,116925600.0,74584907.0,521708.0,317092.0,979084.0,589684.0,1065887.0,853358.0,391044.0,649405.0,767617.0,744362.0,628200.0,412591.0,33727772.0,33043239.0,34476162.0,32336709.0,36166144.0,35891273.0,34866785.0,32129529.0,32701778.0,35578541.0,35258276.0,31139235.0,3100954.0,3162478.0,2022701.0,2403217.0,2565224.0,3306562.0,1060503.0,2787160.0,2445281.0,3461571.0,3205782.0,2021788.0,36899687.0,38870676.0,44307733.0,40161508.0,44119563.0,42689702.0,45552511.0,33535363.0,33210426.0,43253659.0,42716851.0,32207826.0,33000.0,30010.0,15072.0,98.0,116465.0,531777.0,50518.0,35700.0,90757.0,59080.0,66000.0,753941.0,595175.0,614853.0,878104.0,896508.0,805514.0,849873.0,508473.0,836713.0,1140014.0,828013.0,667336.0,2220898.0,2193204.0,2168370.0,2108979.0,2329285.0,2472066.0,2405244.0,2470201.0,2137425.0,2377920.0,1911340.0,1630732.0,271228.0,347142.0,432899.0,157249.0,211462.0,162301.0,200165.0,192059.0,190051.0,471174.0,625865.0,68808.0,52955803.0,53994278.0,55534371.0,49431019.0,48224240.0,51566530.0,50528664.0,47722801.0,46753280.0,55745976.0,54049535.0,45040782.0,25098870.0,23534321.0,24283921.0,30633292.0,34206192.0,33140842.0,26977514.0,20767811.0,20976749.0,21079010.0,17674967.0,20120171.0,19359848.0,17427548.0,15861182.0,15367180.0,14643687.0,13165688.0,16641912.0,14140552.0,17130702.0,17942156.0,16410005.0,12615399.0,535074.0,299902.0,524078.0,658322.0,1545690.0,1029411.0,1327313.0,663200.0,1098828.0,1675335.0,761732.0,863574.0,11042468.0,16535336.0,17292526.0,21484167.0,19877632.0,20118320.0,14454259.0,9147851.0,10989958.0,15487931.0,20142824.0,17092528.0,11348472.0,10653193.0,7639914.0,5011329.0,6548142.0,7165947.0,8738726.0,7651700.0,7478729.0,7949640.0,7498819.0,5109323.0,2144595.0,1456718.0,1673693.0,1629643.0,1672869.0,1841594.0,2275341.0,1782529.0,2495584.0,2352062.0,2688058.0,2020353.0,4320995.0,3188404.0,2778590.0,2310446.0,2557337.0,3327239.0,4094039.0,1718671.0,3154837.0,3259313.0,2899437.0,2867408.0,15752417.0,12851557.0,13992135.0,14018242.0,16601197.0,17764283.0,14147448.0,17322505.0,17072832.0,16957544.0,16946049.0,10193692.0,45989603.0,40001296.0,41891291.0,47515020.0,44427037.0,41898347.0,39592143.0,37088169.0,41839726.0,34714836.0,36086779.0,22092873.0,655521.0,1262204.0,1017940.0,685674.0,933408.0,926530.0,791301.0,652194.0,935157.0,1051395.0,933450.0,742724.0,2394502.0,4593585.0,4150002.0,4413602.0,6532668.0,5168966.0,3611441.0,2736783.0,5981092.0,7725116.0,3541041.0,7231218.0,6548914.0,5504661.0,4970480.0,3669113.0,8860109.0,4475187.0,3289500.0,5121386.0,5718114.0,4965355.0,529992.0,2045832.0,37868.0,55535.0,55825.0,39500.0,120784.0,105321.0,72390.0,16898.0,18344.0,11309.0,48301.0,126665.0,5153640.0,7200607.0,7450410.0,6516854.0,6024166.0,8082047.0,5937164.0,7748391.0,5252541.0,5851757.0,7253379.0,5631481.0,208424.0,2785535.0,89186.0,32980.0,34047.0,2487566.0,91173.0,83252216.0,77035660.0,81909567.0,84565841.0,89586749.0,74602327.0,73759168.0,66825557.0,69764735.0,80191668.0,64273838.0,49850997.0,11338.0,5767.0,9778.0,896.0,12923.0,1641106.0,1711411.0,2063495.0,2113941.0,2133593.0,2558062.0,1860022.0,1519429.0,1341902.0,2576999.0,2558405.0,1554137.0,644000.0,928600.0,1549900.0,1733300.0,1495900.0,1723100.0,2908600.0,2074400.0,3820000.0,3276700.0,2134500.0,2525100.0,557907.0,1232964.0,858185.0,675942.0,507017.0,691025.0,507938.0,369586.0,341798.0,174367.0,160255.0,354510.0,2368.0,3646.0,39292.0,24704900.0,26312032.0,25680106.0,28535883.0,27902978.0,22046133.0,24588952.0,15977778.0,19901968.0,20567724.0,17238986.0,12196509.0,1694579.0,1768150.0,2050051.0,1500381.0,2548583.0,2272160.0,992351.0,1567816.0,1294834.0,1612763.0,1770533.0,1245367.0,220248.0,209371.0,376041.0,182620.0,626597.0,167489.0,118575.0,362267.0,719817.0,314839.0,632040.0,8283803.0,8306384.0,7459578.0,9845355.0,9593806.0,7858506.0,11338896.0,7887514.0,8646846.0,9394551.0,10264637.0,6400519.0,30815773.0,32396290.0,35719909.0,36504517.0,42730502.0,40751254.0,38147035.0,37051592.0,38206443.0,39174952.0,32704375.0,28111852.0,103373.0,67800.0,56576.0,173621.0,31928.0,27500.0,51473.0,143218.0,284133.0,132898.0,338589.0,126246814.0,122338709.0,127625316.0,128089167.0,136247947.0,105155935.0,114229885.0,100403221.0,111929802.0,116771285.0,102739832.0,76058870.0,380959.0,565767.0,499090.0,631164.0,641699.0,909061.0,715622.0,341120.0,978917.0,680065.0,665245.0,258547.0,33890149.0,32320631.0,31601417.0,29813527.0,32274343.0,31606039.0,31719585.0,23875393.0,24518063.0,20894566.0,23682092.0,21035077.0,1713.0,5715.0,2515166.0,2808748.0,2791609.0,2304582.0,2830965.0,2047184.0,2282270.0,2338578.0,2082398.0,2402768.0,2002372.0,1441759.0,42842903.0,41069648.0,38212128.0,39795746.0,38643020.0,37508026.0,43059742.0,25979676.0,29690340.0,30813797.0,31409983.0,23009853.0,186126.0,452182.0,652897.0,767245.0,1384358.0,828747.0,1224130.0,93400.0,154626.0,216530.0,55998.0,645988.0,30000.0,30000.0,30000.0,798032.0,599274.0,668588.0,965892.0,1337572.0,667947.0,1065993.0,650683.0,1069417.0,989794.0,803895.0,774499.0,1591220.0,1607406.0,1761714.0,1809490.0,2158173.0,1872353.0,2111527.0,1737498.0,1802596.0,2138659.0,1653815.0,1242436.0,149641.0,119094.0,86135.0,154055.0,38802.0,107875.0,162310.0,128856.0,81107.0,146397.0,129533.0,116619.0,27.0,1359.0,54356060.0,48504490.0,57771386.0,49276587.0,48419960.0,43052391.0,41156488.0,46308732.0,43936625.0,51788837.0,36259949.0,38244358.0,30157181.0,26321516.0,24881336.0,24116866.0,23375381.0,24355334.0,25961238.0,19865899.0,23964471.0,20195492.0,19263936.0,15652665.0,16707724.0,17935088.0,14522290.0,14540286.0,14723485.0,12996795.0,14435749.0,12343776.0,15004641.0,14825567.0,12506220.0,10378234.0,1046568.0,1346458.0,1337508.0,705233.0,849140.0,829493.0,576763.0,333756.0,370554.0,698586.0,625399.0,407656.0,15383811.0,11945694.0,16532735.0,22805848.0,12768851.0,18449984.0,15815245.0,15126401.0,11538017.0,9430455.0,14049891.0,13725898.0,5815404.0,5458172.0,6801978.0,5450504.0,4569909.0,5069081.0,6471412.0,5250520.0,6092504.0,6117682.0,5125824.0,4099063.0,1436730.0,684806.0,1058306.0,1049699.0,1544858.0,1116333.0,754768.0,788234.0,821048.0,933793.0,760165.0,655789.0,3388876.0,2916248.0,3056860.0,2415842.0,2605563.0,1967822.0,2079738.0,1349730.0,2160205.0,2473111.0,1921131.0,1397171.0,11574655.0,9927820.0,8222404.0,12656580.0,15849839.0,12579354.0,19848006.0,10377653.0,15898951.0,13496483.0,11974379.0,8132953.0,34434209.0,35413442.0,42123652.0,39771995.0,38953754.0,36054051.0,35238105.0,29873745.0,36022662.0,31621768.0,28919627.0,23824844.0,1079035.0,704460.0,1185089.0,703992.0,1130702.0,786400.0,1162294.0,393276.0,534711.0,808716.0,945034.0,723388.0,4395350.0,4907958.0,3790184.0,2105013.0,2677812.0,1039279.0,3870195.0,1639291.0,2080077.0,1807127.0,2194514.0,1707525.0,2588295.0,508500.0,5906906.0,4814406.0,5875868.0,5968807.0,5935354.0,6790149.0,6242529.0,5183256.0,5890029.0,4506095.0,90398.0,107497.0,57028.0,52320.0,29116.0,44447.0,146454.0,148151.0,146582.0,94358.0,36460.0,77852.0,6367947.0,6314193.0,7674565.0,6680601.0,5560437.0,5035280.0,7107380.0,5826608.0,6135050.0,4668494.0,5179367.0,3949469.0,30339856.0,29532379.0,31956184.0,29539719.0,36542053.0,34278515.0,32234206.0,27521105.0,30181501.0,22459606.0,29649802.0,29411327.0],\"legendgroup\":\"Europe & Central Asia\",\"marker\":{\"color\":\"#ab63fa\"},\"name\":\"Europe & Central Asia\",\"notched\":false,\"offsetgroup\":\"Europe & Central Asia\",\"orientation\":\"v\",\"showlegend\":true,\"x\":[\"Europe & Central Asia\",\"Europe & Central Asia\",\"Europe & Central Asia\",\"Europe & Central Asia\",\"Europe & Central Asia\",\"Europe & Central Asia\",\"Europe & Central Asia\",\"Europe & Central Asia\",\"Europe & Central Asia\",\"Europe & Central Asia\",\"Europe & Central Asia\",\"Europe & Central Asia\",\"Europe & Central Asia\",\"Europe & Central Asia\",\"Europe & Central Asia\",\"Europe & Central Asia\",\"Europe & Central Asia\",\"Europe & Central Asia\",\"Europe & Central Asia\",\"Europe & Central Asia\",\"Europe & Central Asia\",\"Europe & Central Asia\",\"Europe & Central Asia\",\"Europe & Central Asia\",\"Europe & Central Asia\",\"Europe & Central Asia\",\"Europe & Central Asia\",\"Europe & Central Asia\",\"Europe & Central Asia\",\"Europe & Central Asia\",\"Europe & Central Asia\",\"Europe & Central Asia\",\"Europe & Central Asia\",\"Europe & Central Asia\",\"Europe & Central Asia\",\"Europe & Central Asia\",\"Europe & Central Asia\",\"Europe & Central Asia\",\"Europe & Central Asia\",\"Europe & Central Asia\",\"Europe & Central Asia\",\"Europe & Central Asia\",\"Europe & Central Asia\",\"Europe & Central Asia\",\"Europe & Central Asia\",\"Europe & Central Asia\",\"Europe & Central Asia\",\"Europe & Central Asia\",\"Europe & Central Asia\",\"Europe & Central Asia\",\"Europe & Central Asia\",\"Europe & Central Asia\",\"Europe & Central Asia\",\"Europe & Central Asia\",\"Europe & Central Asia\",\"Europe & Central Asia\",\"Europe & Central Asia\",\"Europe & Central Asia\",\"Europe & Central Asia\",\"Europe & Central Asia\",\"Europe & Central Asia\",\"Europe & Central Asia\",\"Europe & Central Asia\",\"Europe & Central Asia\",\"Europe & Central Asia\",\"Europe & Central Asia\",\"Europe & Central Asia\",\"Europe & Central Asia\",\"Europe & Central Asia\",\"Europe & Central Asia\",\"Europe & Central Asia\",\"Europe & Central Asia\",\"Europe & Central Asia\",\"Europe & Central Asia\",\"Europe & Central Asia\",\"Europe & Central Asia\",\"Europe & Central Asia\",\"Europe & Central Asia\",\"Europe & Central Asia\",\"Europe & Central Asia\",\"Europe & Central Asia\",\"Europe & Central Asia\",\"Europe & Central Asia\",\"Europe & Central Asia\",\"Europe & Central Asia\",\"Europe & Central Asia\",\"Europe & Central Asia\",\"Europe & Central Asia\",\"Europe & Central Asia\",\"Europe & Central Asia\",\"Europe & Central Asia\",\"Europe & Central Asia\",\"Europe & Central Asia\",\"Europe & Central Asia\",\"Europe & Central Asia\",\"Europe & Central Asia\",\"Europe & Central Asia\",\"Europe & Central Asia\",\"Europe & Central Asia\",\"Europe & Central Asia\",\"Europe & Central Asia\",\"Europe & Central Asia\",\"Europe & Central Asia\",\"Europe & Central Asia\",\"Europe & Central Asia\",\"Europe & Central Asia\",\"Europe & Central Asia\",\"Europe & Central Asia\",\"Europe & Central Asia\",\"Europe & Central Asia\",\"Europe & Central Asia\",\"Europe & Central Asia\",\"Europe & Central Asia\",\"Europe & Central Asia\",\"Europe & Central Asia\",\"Europe & Central Asia\",\"Europe & Central Asia\",\"Europe & Central Asia\",\"Europe & Central Asia\",\"Europe & Central Asia\",\"Europe & Central Asia\",\"Europe & Central Asia\",\"Europe & Central Asia\",\"Europe & Central Asia\",\"Europe & Central Asia\",\"Europe & Central Asia\",\"Europe & Central Asia\",\"Europe & Central Asia\",\"Europe & Central Asia\",\"Europe & Central Asia\",\"Europe & Central Asia\",\"Europe & Central Asia\",\"Europe & Central Asia\",\"Europe & Central Asia\",\"Europe & Central Asia\",\"Europe & Central Asia\",\"Europe & Central Asia\",\"Europe & Central Asia\",\"Europe & Central Asia\",\"Europe & Central Asia\",\"Europe & Central Asia\",\"Europe & Central Asia\",\"Europe & Central Asia\",\"Europe & Central Asia\",\"Europe & Central Asia\",\"Europe & Central Asia\",\"Europe & Central Asia\",\"Europe & Central Asia\",\"Europe & Central Asia\",\"Europe & Central Asia\",\"Europe & Central Asia\",\"Europe & Central Asia\",\"Europe & Central Asia\",\"Europe & Central Asia\",\"Europe & Central Asia\",\"Europe & Central Asia\",\"Europe & Central Asia\",\"Europe & Central Asia\",\"Europe & Central Asia\",\"Europe & Central Asia\",\"Europe & Central Asia\",\"Europe & Central Asia\",\"Europe & Central Asia\",\"Europe & Central Asia\",\"Europe & Central Asia\",\"Europe & Central Asia\",\"Europe & Central Asia\",\"Europe & Central Asia\",\"Europe & Central Asia\",\"Europe & Central Asia\",\"Europe & Central Asia\",\"Europe & Central Asia\",\"Europe & Central Asia\",\"Europe & Central Asia\",\"Europe & Central Asia\",\"Europe & Central Asia\",\"Europe & Central Asia\",\"Europe & Central Asia\",\"Europe & Central Asia\",\"Europe & Central Asia\",\"Europe & Central Asia\",\"Europe & Central Asia\",\"Europe & Central Asia\",\"Europe & Central Asia\",\"Europe & Central Asia\",\"Europe & Central Asia\",\"Europe & Central Asia\",\"Europe & Central Asia\",\"Europe & Central Asia\",\"Europe & Central Asia\",\"Europe & Central Asia\",\"Europe & Central Asia\",\"Europe & Central Asia\",\"Europe & Central Asia\",\"Europe & Central Asia\",\"Europe & Central Asia\",\"Europe & Central Asia\",\"Europe & Central Asia\",\"Europe & Central Asia\",\"Europe & Central Asia\",\"Europe & Central Asia\",\"Europe & Central Asia\",\"Europe & Central Asia\",\"Europe & Central Asia\",\"Europe & Central Asia\",\"Europe & Central Asia\",\"Europe & Central Asia\",\"Europe & Central Asia\",\"Europe & Central Asia\",\"Europe & Central Asia\",\"Europe & Central Asia\",\"Europe & Central Asia\",\"Europe & Central Asia\",\"Europe & Central Asia\",\"Europe & Central Asia\",\"Europe & Central Asia\",\"Europe & Central Asia\",\"Europe & Central Asia\",\"Europe & Central Asia\",\"Europe & Central Asia\",\"Europe & Central Asia\",\"Europe & Central Asia\",\"Europe & Central Asia\",\"Europe & Central Asia\",\"Europe & Central Asia\",\"Europe & Central Asia\",\"Europe & Central Asia\",\"Europe & Central Asia\",\"Europe & Central Asia\",\"Europe & Central Asia\",\"Europe & Central Asia\",\"Europe & Central Asia\",\"Europe & Central Asia\",\"Europe & Central Asia\",\"Europe & Central Asia\",\"Europe & Central Asia\",\"Europe & Central Asia\",\"Europe & Central Asia\",\"Europe & Central Asia\",\"Europe & Central Asia\",\"Europe & Central Asia\",\"Europe & Central Asia\",\"Europe & Central Asia\",\"Europe & Central Asia\",\"Europe & Central Asia\",\"Europe & Central Asia\",\"Europe & Central Asia\",\"Europe & Central Asia\",\"Europe & Central Asia\",\"Europe & Central Asia\",\"Europe & Central Asia\",\"Europe & Central Asia\",\"Europe & Central Asia\",\"Europe & Central Asia\",\"Europe & Central Asia\",\"Europe & Central Asia\",\"Europe & Central Asia\",\"Europe & Central Asia\",\"Europe & Central Asia\",\"Europe & Central Asia\",\"Europe & Central Asia\",\"Europe & Central Asia\",\"Europe & Central Asia\",\"Europe & Central Asia\",\"Europe & Central Asia\",\"Europe & Central Asia\",\"Europe & Central Asia\",\"Europe & Central Asia\",\"Europe & Central Asia\",\"Europe & Central Asia\",\"Europe & Central Asia\",\"Europe & Central Asia\",\"Europe & Central Asia\",\"Europe & Central Asia\",\"Europe & Central Asia\",\"Europe & Central Asia\",\"Europe & Central Asia\",\"Europe & Central Asia\",\"Europe & Central Asia\",\"Europe & Central Asia\",\"Europe & Central Asia\",\"Europe & Central Asia\",\"Europe & Central Asia\",\"Europe & Central Asia\",\"Europe & Central Asia\",\"Europe & Central Asia\",\"Europe & Central Asia\",\"Europe & Central Asia\",\"Europe & Central Asia\",\"Europe & Central Asia\",\"Europe & Central Asia\",\"Europe & Central Asia\",\"Europe & Central Asia\",\"Europe & Central Asia\",\"Europe & Central Asia\",\"Europe & Central Asia\",\"Europe & Central Asia\",\"Europe & Central Asia\",\"Europe & Central Asia\",\"Europe & Central Asia\",\"Europe & Central Asia\",\"Europe & Central Asia\",\"Europe & Central Asia\",\"Europe & Central Asia\",\"Europe & Central Asia\",\"Europe & Central Asia\",\"Europe & Central Asia\",\"Europe & Central Asia\",\"Europe & Central Asia\",\"Europe & Central Asia\",\"Europe & Central Asia\",\"Europe & Central Asia\",\"Europe & Central Asia\",\"Europe & Central Asia\",\"Europe & Central Asia\",\"Europe & Central Asia\",\"Europe & Central Asia\",\"Europe & Central Asia\",\"Europe & Central Asia\",\"Europe & Central Asia\",\"Europe & Central Asia\",\"Europe & Central Asia\",\"Europe & Central Asia\",\"Europe & Central Asia\",\"Europe & Central Asia\",\"Europe & Central Asia\",\"Europe & Central Asia\",\"Europe & Central Asia\",\"Europe & Central Asia\",\"Europe & Central Asia\",\"Europe & Central Asia\",\"Europe & Central Asia\",\"Europe & Central Asia\",\"Europe & Central Asia\",\"Europe & Central Asia\",\"Europe & Central Asia\",\"Europe & Central Asia\",\"Europe & Central Asia\",\"Europe & Central Asia\",\"Europe & Central Asia\",\"Europe & Central Asia\",\"Europe & Central Asia\",\"Europe & Central Asia\",\"Europe & Central Asia\",\"Europe & Central Asia\",\"Europe & Central Asia\",\"Europe & Central Asia\",\"Europe & Central Asia\",\"Europe & Central Asia\",\"Europe & Central Asia\",\"Europe & Central Asia\",\"Europe & Central Asia\",\"Europe & Central Asia\",\"Europe & Central Asia\",\"Europe & Central Asia\",\"Europe & Central Asia\",\"Europe & Central Asia\",\"Europe & Central Asia\",\"Europe & Central Asia\",\"Europe & Central Asia\",\"Europe & Central Asia\",\"Europe & Central Asia\",\"Europe & Central Asia\",\"Europe & Central Asia\",\"Europe & Central Asia\",\"Europe & Central Asia\",\"Europe & Central Asia\",\"Europe & Central Asia\",\"Europe & Central Asia\",\"Europe & Central Asia\",\"Europe & Central Asia\",\"Europe & Central Asia\",\"Europe & Central Asia\",\"Europe & Central Asia\",\"Europe & Central Asia\",\"Europe & Central Asia\",\"Europe & Central Asia\",\"Europe & Central Asia\",\"Europe & Central Asia\",\"Europe & Central Asia\",\"Europe & Central Asia\",\"Europe & Central Asia\",\"Europe & Central Asia\",\"Europe & Central Asia\",\"Europe & Central Asia\",\"Europe & Central Asia\",\"Europe & Central Asia\",\"Europe & Central Asia\",\"Europe & Central Asia\",\"Europe & Central Asia\",\"Europe & Central Asia\",\"Europe & Central Asia\",\"Europe & Central Asia\",\"Europe & Central Asia\",\"Europe & Central Asia\",\"Europe & Central Asia\",\"Europe & Central Asia\",\"Europe & Central Asia\",\"Europe & Central Asia\",\"Europe & Central Asia\",\"Europe & Central Asia\",\"Europe & Central Asia\",\"Europe & Central Asia\",\"Europe & Central Asia\",\"Europe & Central Asia\",\"Europe & Central Asia\",\"Europe & Central Asia\",\"Europe & Central Asia\",\"Europe & Central Asia\",\"Europe & Central Asia\",\"Europe & Central Asia\",\"Europe & Central Asia\",\"Europe & Central Asia\",\"Europe & Central Asia\",\"Europe & Central Asia\",\"Europe & Central Asia\",\"Europe & Central Asia\",\"Europe & Central Asia\",\"Europe & Central Asia\",\"Europe & Central Asia\",\"Europe & Central Asia\",\"Europe & Central Asia\",\"Europe & Central Asia\",\"Europe & Central Asia\",\"Europe & Central Asia\",\"Europe & Central Asia\",\"Europe & Central Asia\",\"Europe & Central Asia\",\"Europe & Central Asia\",\"Europe & Central Asia\",\"Europe & Central Asia\",\"Europe & Central Asia\",\"Europe & Central Asia\",\"Europe & Central Asia\",\"Europe & Central Asia\",\"Europe & Central Asia\",\"Europe & Central Asia\",\"Europe & Central Asia\",\"Europe & Central Asia\",\"Europe & Central Asia\",\"Europe & Central Asia\",\"Europe & Central Asia\",\"Europe & Central Asia\",\"Europe & Central Asia\",\"Europe & Central Asia\",\"Europe & Central Asia\",\"Europe & Central Asia\",\"Europe & Central Asia\",\"Europe & Central Asia\",\"Europe & Central Asia\",\"Europe & Central Asia\",\"Europe & Central Asia\",\"Europe & Central Asia\",\"Europe & Central Asia\",\"Europe & Central Asia\",\"Europe & Central Asia\",\"Europe & Central Asia\",\"Europe & Central Asia\",\"Europe & Central Asia\",\"Europe & Central Asia\",\"Europe & Central Asia\",\"Europe & Central Asia\",\"Europe & Central Asia\",\"Europe & Central Asia\",\"Europe & Central Asia\",\"Europe & Central Asia\",\"Europe & Central Asia\",\"Europe & Central Asia\",\"Europe & Central Asia\",\"Europe & Central Asia\",\"Europe & Central Asia\",\"Europe & Central Asia\",\"Europe & Central Asia\",\"Europe & Central Asia\",\"Europe & Central Asia\",\"Europe & Central Asia\",\"Europe & Central Asia\",\"Europe & Central Asia\",\"Europe & Central Asia\",\"Europe & Central Asia\",\"Europe & Central Asia\",\"Europe & Central Asia\",\"Europe & Central Asia\",\"Europe & Central Asia\",\"Europe & Central Asia\",\"Europe & Central Asia\",\"Europe & Central Asia\",\"Europe & Central Asia\",\"Europe & Central Asia\",\"Europe & Central Asia\",\"Europe & Central Asia\",\"Europe & Central Asia\",\"Europe & Central Asia\",\"Europe & Central Asia\",\"Europe & Central Asia\",\"Europe & Central Asia\",\"Europe & Central Asia\",\"Europe & Central Asia\",\"Europe & Central Asia\",\"Europe & Central Asia\",\"Europe & Central Asia\",\"Europe & Central Asia\",\"Europe & Central Asia\",\"Europe & Central Asia\",\"Europe & Central Asia\",\"Europe & Central Asia\",\"Europe & Central Asia\",\"Europe & Central Asia\",\"Europe & Central Asia\",\"Europe & Central Asia\",\"Europe & Central Asia\",\"Europe & Central Asia\",\"Europe & Central Asia\",\"Europe & Central Asia\",\"Europe & Central Asia\",\"Europe & Central Asia\",\"Europe & Central Asia\",\"Europe & Central Asia\",\"Europe & Central Asia\",\"Europe & Central Asia\",\"Europe & Central Asia\",\"Europe & Central Asia\",\"Europe & Central Asia\",\"Europe & Central Asia\",\"Europe & Central Asia\",\"Europe & Central Asia\",\"Europe & Central Asia\",\"Europe & Central Asia\",\"Europe & Central Asia\",\"Europe & Central Asia\",\"Europe & Central Asia\",\"Europe & Central Asia\",\"Europe & Central Asia\",\"Europe & Central Asia\",\"Europe & Central Asia\",\"Europe & Central Asia\",\"Europe & Central Asia\",\"Europe & Central Asia\",\"Europe & Central Asia\",\"Europe & Central Asia\",\"Europe & Central Asia\",\"Europe & Central Asia\",\"Europe & Central Asia\",\"Europe & Central Asia\",\"Europe & Central Asia\",\"Europe & Central Asia\",\"Europe & Central Asia\",\"Europe & Central Asia\",\"Europe & Central Asia\",\"Europe & Central Asia\",\"Europe & Central Asia\",\"Europe & Central Asia\",\"Europe & Central Asia\",\"Europe & Central Asia\",\"Europe & Central Asia\",\"Europe & Central Asia\",\"Europe & Central Asia\",\"Europe & Central Asia\",\"Europe & Central Asia\",\"Europe & Central Asia\",\"Europe & Central Asia\",\"Europe & Central Asia\",\"Europe & Central Asia\",\"Europe & Central Asia\",\"Europe & Central Asia\",\"Europe & Central Asia\",\"Europe & Central Asia\",\"Europe & Central Asia\",\"Europe & Central Asia\",\"Europe & Central Asia\",\"Europe & Central Asia\",\"Europe & Central Asia\",\"Europe & Central Asia\",\"Europe & Central Asia\",\"Europe & Central Asia\",\"Europe & Central Asia\",\"Europe & Central Asia\",\"Europe & Central Asia\",\"Europe & Central Asia\",\"Europe & Central Asia\",\"Europe & Central Asia\",\"Europe & Central Asia\",\"Europe & Central Asia\",\"Europe & Central Asia\",\"Europe & Central Asia\",\"Europe & Central Asia\",\"Europe & Central Asia\",\"Europe & Central Asia\",\"Europe & Central Asia\",\"Europe & Central Asia\",\"Europe & Central Asia\",\"Europe & Central Asia\",\"Europe & Central Asia\",\"Europe & Central Asia\",\"Europe & Central Asia\",\"Europe & Central Asia\",\"Europe & Central Asia\",\"Europe & Central Asia\",\"Europe & Central Asia\",\"Europe & Central Asia\",\"Europe & Central Asia\",\"Europe & Central Asia\",\"Europe & Central Asia\",\"Europe & Central Asia\",\"Europe & Central Asia\",\"Europe & Central Asia\",\"Europe & Central Asia\",\"Europe & Central Asia\",\"Europe & Central Asia\",\"Europe & Central Asia\",\"Europe & Central Asia\",\"Europe & Central Asia\",\"Europe & Central Asia\",\"Europe & Central Asia\",\"Europe & Central Asia\",\"Europe & Central Asia\",\"Europe & Central Asia\",\"Europe & Central Asia\",\"Europe & Central Asia\",\"Europe & Central Asia\",\"Europe & Central Asia\",\"Europe & Central Asia\",\"Europe & Central Asia\",\"Europe & Central Asia\",\"Europe & Central Asia\",\"Europe & Central Asia\",\"Europe & Central Asia\",\"Europe & Central Asia\",\"Europe & Central Asia\",\"Europe & Central Asia\",\"Europe & Central Asia\",\"Europe & Central Asia\",\"Europe & Central Asia\",\"Europe & Central Asia\",\"Europe & Central Asia\",\"Europe & Central Asia\",\"Europe & Central Asia\",\"Europe & Central Asia\",\"Europe & Central Asia\",\"Europe & Central Asia\",\"Europe & Central Asia\",\"Europe & Central Asia\",\"Europe & Central Asia\",\"Europe & Central Asia\",\"Europe & Central Asia\",\"Europe & Central Asia\",\"Europe & Central Asia\",\"Europe & Central Asia\",\"Europe & Central Asia\",\"Europe & Central Asia\",\"Europe & Central Asia\",\"Europe & Central Asia\",\"Europe & Central Asia\",\"Europe & Central Asia\",\"Europe & Central Asia\",\"Europe & Central Asia\",\"Europe & Central Asia\",\"Europe & Central Asia\",\"Europe & Central Asia\",\"Europe & Central Asia\",\"Europe & Central Asia\",\"Europe & Central Asia\",\"Europe & Central Asia\",\"Europe & Central Asia\",\"Europe & Central Asia\",\"Europe & Central Asia\",\"Europe & Central Asia\",\"Europe & Central Asia\",\"Europe & Central Asia\",\"Europe & Central Asia\",\"Europe & Central Asia\",\"Europe & Central Asia\",\"Europe & Central Asia\",\"Europe & Central Asia\",\"Europe & Central Asia\",\"Europe & Central Asia\",\"Europe & Central Asia\",\"Europe & Central Asia\",\"Europe & Central Asia\",\"Europe & Central Asia\",\"Europe & Central Asia\",\"Europe & Central Asia\",\"Europe & Central Asia\",\"Europe & Central Asia\",\"Europe & Central Asia\",\"Europe & Central Asia\",\"Europe & Central Asia\",\"Europe & Central Asia\",\"Europe & Central Asia\",\"Europe & Central Asia\",\"Europe & Central Asia\",\"Europe & Central Asia\",\"Europe & Central Asia\",\"Europe & Central Asia\",\"Europe & Central Asia\",\"Europe & Central Asia\",\"Europe & Central Asia\",\"Europe & Central Asia\",\"Europe & Central Asia\",\"Europe & Central Asia\",\"Europe & Central Asia\",\"Europe & Central Asia\",\"Europe & Central Asia\",\"Europe & Central Asia\",\"Europe & Central Asia\",\"Europe & Central Asia\",\"Europe & Central Asia\",\"Europe & Central Asia\",\"Europe & Central Asia\",\"Europe & Central Asia\",\"Europe & Central Asia\",\"Europe & Central Asia\",\"Europe & Central Asia\",\"Europe & Central Asia\",\"Europe & Central Asia\",\"Europe & Central Asia\",\"Europe & Central Asia\",\"Europe & Central Asia\",\"Europe & Central Asia\",\"Europe & Central Asia\",\"Europe & Central Asia\",\"Europe & Central Asia\",\"Europe & Central Asia\",\"Europe & Central Asia\",\"Europe & Central Asia\",\"Europe & Central Asia\",\"Europe & Central Asia\",\"Europe & Central Asia\",\"Europe & Central Asia\",\"Europe & Central Asia\",\"Europe & Central Asia\",\"Europe & Central Asia\",\"Europe & Central Asia\",\"Europe & Central Asia\",\"Europe & Central Asia\",\"Europe & Central Asia\",\"Europe & Central Asia\",\"Europe & Central Asia\",\"Europe & Central Asia\",\"Europe & Central Asia\",\"Europe & Central Asia\",\"Europe & Central Asia\",\"Europe & Central Asia\",\"Europe & Central Asia\",\"Europe & Central Asia\",\"Europe & Central Asia\",\"Europe & Central Asia\",\"Europe & Central Asia\",\"Europe & Central Asia\",\"Europe & Central Asia\",\"Europe & Central Asia\",\"Europe & Central Asia\",\"Europe & Central Asia\",\"Europe & Central Asia\",\"Europe & Central Asia\",\"Europe & Central Asia\",\"Europe & Central Asia\",\"Europe & Central Asia\",\"Europe & Central Asia\",\"Europe & Central Asia\",\"Europe & Central Asia\",\"Europe & Central Asia\",\"Europe & Central Asia\",\"Europe & Central Asia\",\"Europe & Central Asia\",\"Europe & Central Asia\",\"Europe & Central Asia\",\"Europe & Central Asia\",\"Europe & Central Asia\",\"Europe & Central Asia\",\"Europe & Central Asia\",\"Europe & Central Asia\",\"Europe & Central Asia\",\"Europe & Central Asia\",\"Europe & Central Asia\",\"Europe & Central Asia\",\"Europe & Central Asia\",\"Europe & Central Asia\",\"Europe & Central Asia\",\"Europe & Central Asia\",\"Europe & Central Asia\",\"Europe & Central Asia\",\"Europe & Central Asia\",\"Europe & Central Asia\",\"Europe & Central Asia\",\"Europe & Central Asia\",\"Europe & Central Asia\",\"Europe & Central Asia\",\"Europe & Central Asia\",\"Europe & Central Asia\",\"Europe & Central Asia\",\"Europe & Central Asia\",\"Europe & Central Asia\",\"Europe & Central Asia\",\"Europe & Central Asia\",\"Europe & Central Asia\",\"Europe & Central Asia\",\"Europe & Central Asia\",\"Europe & Central Asia\",\"Europe & Central Asia\",\"Europe & Central Asia\",\"Europe & Central Asia\",\"Europe & Central Asia\",\"Europe & Central Asia\",\"Europe & Central Asia\",\"Europe & Central Asia\",\"Europe & Central Asia\",\"Europe & Central Asia\",\"Europe & Central Asia\",\"Europe & Central Asia\",\"Europe & Central Asia\",\"Europe & Central Asia\",\"Europe & Central Asia\",\"Europe & Central Asia\",\"Europe & Central Asia\",\"Europe & Central Asia\",\"Europe & Central Asia\",\"Europe & Central Asia\",\"Europe & Central Asia\",\"Europe & Central Asia\",\"Europe & Central Asia\",\"Europe & Central Asia\",\"Europe & Central Asia\",\"Europe & Central Asia\",\"Europe & Central Asia\",\"Europe & Central Asia\",\"Europe & Central Asia\",\"Europe & Central Asia\",\"Europe & Central Asia\",\"Europe & Central Asia\",\"Europe & Central Asia\",\"Europe & Central Asia\",\"Europe & Central Asia\",\"Europe & Central Asia\",\"Europe & Central Asia\",\"Europe & Central Asia\",\"Europe & Central Asia\",\"Europe & Central Asia\",\"Europe & Central Asia\",\"Europe & Central Asia\",\"Europe & Central Asia\",\"Europe & Central Asia\",\"Europe & Central Asia\",\"Europe & Central Asia\",\"Europe & Central Asia\",\"Europe & Central Asia\",\"Europe & Central Asia\",\"Europe & Central Asia\",\"Europe & Central Asia\",\"Europe & Central Asia\",\"Europe & Central Asia\",\"Europe & Central Asia\"],\"x0\":\" \",\"xaxis\":\"x\",\"y\":[86946062,78949493,86811346,88757210,85855262,82813041,83971446,80829945,77400708,78061145,68857021,57083489,1237,16402,61010,24793,1828,1533064,1102025,1516601,1573347,1032877,1433256,1291243,1145054,1698103,2036912,1771858,1680725,2591800,2022700,1333400,859700,629100,419300,826700,1319100,934400,974800,466600,628800,265289,326577,392574,1052959,301692,142392,216157,258809,244968,368271,322000,627984,17311,33640175,33319668,31410869,29135959,32398948,31872217,31606359,28136709,27487789,25806304,26371987,19471949,1088028,1785349,1391141,1364741,1532253,1271105,1109683,2038448,1811665,1924542,2034606,1257503,119000,171379,155701,120513,167222,101389,95214,97259,100931,320826,472537,329850,8224236,7064123,6784048,9871763,9162275,13142807,5897221,8359951,10729977,15156279,8218423,4119724,45117545,46452301,46523902,43855196,43145415,42320090,35775161,38135767,41216608,5766231,34610600,25745806,10747,458190,64482,183399,65365,203327,55240,264278,246520,194329,458189,150814621,156836461,154557679,144434054,134612662,148777099,123436794,114339376,122017345,130280737,116925600,74584907,521708,317092,979084,589684,1065887,853358,391044,649405,767617,744362,628200,412591,33727772,33043239,34476162,32336709,36166144,35891273,34866785,32129529,32701778,35578541,35258276,31139235,3100954,3162478,2022701,2403217,2565224,3306562,1060503,2787160,2445281,3461571,3205782,2021788,36899687,38870676,44307733,40161508,44119563,42689702,45552511,33535363,33210426,43253659,42716851,32207826,33000,30010,15072,98,116465,531777,50518,35700,90757,59080,66000,753941,595175,614853,878104,896508,805514,849873,508473,836713,1140014,828013,667336,2220898,2193204,2168370,2108979,2329285,2472066,2405244,2470201,2137425,2377920,1911340,1630732,271228,347142,432899,157249,211462,162301,200165,192059,190051,471174,625865,68808,52955803,53994278,55534371,49431019,48224240,51566530,50528664,47722801,46753280,55745976,54049535,45040782,25098870,23534321,24283921,30633292,34206192,33140842,26977514,20767811,20976749,21079010,17674967,20120171,19359848,17427548,15861182,15367180,14643687,13165688,16641912,14140552,17130702,17942156,16410005,12615399,535074,299902,524078,658322,1545690,1029411,1327313,663200,1098828,1675335,761732,863574,11042468,16535336,17292526,21484167,19877632,20118320,14454259,9147851,10989958,15487931,20142824,17092528,11348472,10653193,7639914,5011329,6548142,7165947,8738726,7651700,7478729,7949640,7498819,5109323,2144595,1456718,1673693,1629643,1672869,1841594,2275341,1782529,2495584,2352062,2688058,2020353,4320995,3188404,2778590,2310446,2557337,3327239,4094039,1718671,3154837,3259313,2899437,2867408,15752417,12851557,13992135,14018242,16601197,17764283,14147448,17322505,17072832,16957544,16946049,10193692,45989603,40001296,41891291,47515020,44427037,41898347,39592143,37088169,41839726,34714836,36086779,22092873,655521,1262204,1017940,685674,933408,926530,791301,652194,935157,1051395,933450,742724,2394502,4593585,4150002,4413602,6532668,5168966,3611441,2736783,5981092,7725116,3541041,7231218,6548914,5504661,4970480,3669113,8860109,4475187,3289500,5121386,5718114,4965355,529992,2045832,37868,55535,55825,39500,120784,105321,72390,16898,18344,11309,48301,126665,5153640,7200607,7450410,6516854,6024166,8082047,5937164,7748391,5252541,5851757,7253379,5631481,208424,2785535,89186,32980,34047,2487566,91173,83252216,77035660,81909567,84565841,89586749,74602327,73759168,66825557,69764735,80191668,64273838,49850997,11338,5767,9778,896,12923,1641106,1711411,2063495,2113941,2133593,2558062,1860022,1519429,1341902,2576999,2558405,1554137,644000,928600,1549900,1733300,1495900,1723100,2908600,2074400,3820000,3276700,2134500,2525100,557907,1232964,858185,675942,507017,691025,507938,369586,341798,174367,160255,354510,2368,3646,39292,24704900,26312032,25680106,28535883,27902978,22046133,24588952,15977778,19901968,20567724,17238986,12196509,1694579,1768150,2050051,1500381,2548583,2272160,992351,1567816,1294834,1612763,1770533,1245367,220248,209371,376041,182620,626597,167489,118575,362267,719817,314839,632040,8283803,8306384,7459578,9845355,9593806,7858506,11338896,7887514,8646846,9394551,10264637,6400519,30815773,32396290,35719909,36504517,42730502,40751254,38147035,37051592,38206443,39174952,32704375,28111852,103373,67800,56576,173621,31928,27500,51473,143218,284133,132898,338589,126246814,122338709,127625316,128089167,136247947,105155935,114229885,100403221,111929802,116771285,102739832,76058870,380959,565767,499090,631164,641699,909061,715622,341120,978917,680065,665245,258547,33890149,32320631,31601417,29813527,32274343,31606039,31719585,23875393,24518063,20894566,23682092,21035077,1713,5715,2515166,2808748,2791609,2304582,2830965,2047184,2282270,2338578,2082398,2402768,2002372,1441759,42842903,41069648,38212128,39795746,38643020,37508026,43059742,25979676,29690340,30813797,31409983,23009853,186126,452182,652897,767245,1384358,828747,1224130,93400,154626,216530,55998,645988,30000,30000,30000,798032,599274,668588,965892,1337572,667947,1065993,650683,1069417,989794,803895,774499,1591220,1607406,1761714,1809490,2158173,1872353,2111527,1737498,1802596,2138659,1653815,1242436,149641,119094,86135,154055,38802,107875,162310,128856,81107,146397,129533,116619,27,1359,54356060,48504490,57771386,49276587,48419960,43052391,41156488,46308732,43936625,51788837,36259949,38244358,30157181,26321516,24881336,24116866,23375381,24355334,25961238,19865899,23964471,20195492,19263936,15652665,16707724,17935088,14522290,14540286,14723485,12996795,14435749,12343776,15004641,14825567,12506220,10378234,1046568,1346458,1337508,705233,849140,829493,576763,333756,370554,698586,625399,407656,15383811,11945694,16532735,22805848,12768851,18449984,15815245,15126401,11538017,9430455,14049891,13725898,5815404,5458172,6801978,5450504,4569909,5069081,6471412,5250520,6092504,6117682,5125824,4099063,1436730,684806,1058306,1049699,1544858,1116333,754768,788234,821048,933793,760165,655789,3388876,2916248,3056860,2415842,2605563,1967822,2079738,1349730,2160205,2473111,1921131,1397171,11574655,9927820,8222404,12656580,15849839,12579354,19848006,10377653,15898951,13496483,11974379,8132953,34434209,35413442,42123652,39771995,38953754,36054051,35238105,29873745,36022662,31621768,28919627,23824844,1079035,704460,1185089,703992,1130702,786400,1162294,393276,534711,808716,945034,723388,4395350,4907958,3790184,2105013,2677812,1039279,3870195,1639291,2080077,1807127,2194514,1707525,2588295,508500,5906906,4814406,5875868,5968807,5935354,6790149,6242529,5183256,5890029,4506095,90398,107497,57028,52320,29116,44447,146454,148151,146582,94358,36460,77852,6367947,6314193,7674565,6680601,5560437,5035280,7107380,5826608,6135050,4668494,5179367,3949469,30339856,29532379,31956184,29539719,36542053,34278515,32234206,27521105,30181501,22459606,29649802,29411327],\"y0\":\" \",\"yaxis\":\"y\",\"type\":\"box\"},{\"alignmentgroup\":\"True\",\"hovertemplate\":\"<b>%{hovertext}</b><br><br>region=%{x}<br>value=%{y}<extra></extra>\",\"hovertext\":[7500.0,143430.0,14631089.0,8487342.0,15116555.0,26389730.0,18482625.0,17611892.0,19966564.0,16709840.0,10310583.0,18956297.0,21238137.0,16089982.0,22727078.0,7314510.0,17128187.0,16914902.0,23020945.0,16595671.0,4670995.0,19964143.0,11475702.0,22612707.0,16950494.0,17524882.0,2984168.0,2146536.0,4418051.0,6557700.0,6381630.0,3179290.0,6031497.0,4981071.0,4522445.0,5069953.0,4064987.0,3090480.0,14604230.0,15044413.0,16774227.0,14233895.0,14624750.0,16680693.0,16429614.0,16534343.0,17352649.0,18168089.0,18785747.0,20689935.0,143983899.0,137608522.0,140086813.0,152660494.0,160441632.0,148038628.0,134688649.0,123384290.0,122928990.0,135121105.0,113747442.0,129801696.0,7500.0,143430.0,46573976.0,34322124.0,40198812.0,37439658.0,41002665.0,48447822.0,43918211.0,57091881.0,63741494.0,64758491.0,53142054.0,59164061.0,52097.0,95806.0,131420.0,83162.0,112654.0,133267.0,107900.0,553503.0,189218.0,161226.0,280932.0,71818.0,2591770.0,4025259.0,2606910.0,3337172.0,5361680.0,4596215.0,4840287.0,2959749.0,431260.0,1463802.0,1673952.0,386946.0,97293221.0,97615277.0,127257844.0,127221235.0,121355793.0,94963935.0,96520781.0,97038593.0,98985697.0,136025905.0,127790722.0,154043152.0,240817.0,424878.0,269656.0,485745.0,1432069.0,338766.0,454356.0,1281734.0,741684.0,809443.0,784043.0,687595.0,150009174.0,116951366.0,143909151.0,130302467.0,152232129.0,143197895.0,134941913.0,143056701.0,134241862.0,149323739.0,140600266.0,121245152.0,126360.0,42120.0,42120.0,97740.0,98550.0,39420.0,18720.0,36400.0,21000.0,14840.0,29120.0,61300.0,16655249.0,12412380.0,21043957.0,21644106.0,20628290.0,14170835.0,23909032.0,20234715.0,10863742.0,21184324.0,22651264.0,24303573.0,21640907.0,10450402.0,16975606.0,19257505.0,21881412.0,15065443.0,18780418.0,16262315.0,12038557.0,20349365.0,19212562.0,16595003.0,5168665.0,6000183.0,4884602.0,5026319.0,6144912.0,4438017.0,7179639.0,4045900.0,2550835.0,2115696.0,2989020.0,2167054.0,13709490.0,19388747.0,21725670.0,19208285.0,16925000.0,16748688.0,14744564.0,14269523.0,14065836.0,17778711.0,18004274.0,16536641.0,132711286.0,107756746.0,119380030.0,122844962.0,118647810.0,108192133.0,125964951.0,124692339.0,115290359.0,117454798.0,116582381.0,118360418.0,18720.0,36400.0,21000.0,14840.0,29120.0,61300.0,60243540.0,61877573.0,45505934.0,38340756.0,44425836.0,42364375.0,51961685.0,46346302.0,47068187.0,55466810.0,43832240.0,50670931.0,30144.0,115501.0,24517.0,48440.0,133814.0,94913.0,25900.0,61236.0,24986.0,89326.0,55251.0,1699.0,3855690.0,5098162.0,7609367.0,4654431.0,5163031.0,1090040.0,5265420.0,245073.0,177118.0,1080000.0,3530243.0,110853114.0,192623365.0,111844309.0,140835694.0,97729068.0,115747984.0,118420581.0,95229267.0,85082436.0,89978120.0,94585870.0,86965264.0,403395.0,231540.0,311504.0,1842688.0,1073669.0,1301413.0,1355901.0,1147040.0,3404557.0,3106918.0,3424978.0,2866543.0,119349675.0,101205387.0,100969981.0,118735811.0,96405370.0,111594355.0,121995295.0,108363370.0,90655870.0,96814364.0,82462135.0],\"legendgroup\":\"East Asia & Pacific\",\"marker\":{\"color\":\"#FFA15A\"},\"name\":\"East Asia & Pacific\",\"notched\":false,\"offsetgroup\":\"East Asia & Pacific\",\"orientation\":\"v\",\"showlegend\":true,\"x\":[\"East Asia & Pacific\",\"East Asia & Pacific\",\"East Asia & Pacific\",\"East Asia & Pacific\",\"East Asia & Pacific\",\"East Asia & Pacific\",\"East Asia & Pacific\",\"East Asia & Pacific\",\"East Asia & Pacific\",\"East Asia & Pacific\",\"East Asia & Pacific\",\"East Asia & Pacific\",\"East Asia & Pacific\",\"East Asia & Pacific\",\"East Asia & Pacific\",\"East Asia & Pacific\",\"East Asia & Pacific\",\"East Asia & Pacific\",\"East Asia & Pacific\",\"East Asia & Pacific\",\"East Asia & Pacific\",\"East Asia & Pacific\",\"East Asia & Pacific\",\"East Asia & Pacific\",\"East Asia & Pacific\",\"East Asia & Pacific\",\"East Asia & Pacific\",\"East Asia & Pacific\",\"East Asia & Pacific\",\"East Asia & Pacific\",\"East Asia & Pacific\",\"East Asia & Pacific\",\"East Asia & Pacific\",\"East Asia & Pacific\",\"East Asia & Pacific\",\"East Asia & Pacific\",\"East Asia & Pacific\",\"East Asia & Pacific\",\"East Asia & Pacific\",\"East Asia & Pacific\",\"East Asia & Pacific\",\"East Asia & Pacific\",\"East Asia & Pacific\",\"East Asia & Pacific\",\"East Asia & Pacific\",\"East Asia & Pacific\",\"East Asia & Pacific\",\"East Asia & Pacific\",\"East Asia & Pacific\",\"East Asia & Pacific\",\"East Asia & Pacific\",\"East Asia & Pacific\",\"East Asia & Pacific\",\"East Asia & Pacific\",\"East Asia & Pacific\",\"East Asia & Pacific\",\"East Asia & Pacific\",\"East Asia & Pacific\",\"East Asia & Pacific\",\"East Asia & Pacific\",\"East Asia & Pacific\",\"East Asia & Pacific\",\"East Asia & Pacific\",\"East Asia & Pacific\",\"East Asia & Pacific\",\"East Asia & Pacific\",\"East Asia & Pacific\",\"East Asia & Pacific\",\"East Asia & Pacific\",\"East Asia & Pacific\",\"East Asia & Pacific\",\"East Asia & Pacific\",\"East Asia & Pacific\",\"East Asia & Pacific\",\"East Asia & Pacific\",\"East Asia & Pacific\",\"East Asia & Pacific\",\"East Asia & Pacific\",\"East Asia & Pacific\",\"East Asia & Pacific\",\"East Asia & Pacific\",\"East Asia & Pacific\",\"East Asia & Pacific\",\"East Asia & Pacific\",\"East Asia & Pacific\",\"East Asia & Pacific\",\"East Asia & Pacific\",\"East Asia & Pacific\",\"East Asia & Pacific\",\"East Asia & Pacific\",\"East Asia & Pacific\",\"East Asia & Pacific\",\"East Asia & Pacific\",\"East Asia & Pacific\",\"East Asia & Pacific\",\"East Asia & Pacific\",\"East Asia & Pacific\",\"East Asia & Pacific\",\"East Asia & Pacific\",\"East Asia & Pacific\",\"East Asia & Pacific\",\"East Asia & Pacific\",\"East Asia & Pacific\",\"East Asia & Pacific\",\"East Asia & Pacific\",\"East Asia & Pacific\",\"East Asia & Pacific\",\"East Asia & Pacific\",\"East Asia & Pacific\",\"East Asia & Pacific\",\"East Asia & Pacific\",\"East Asia & Pacific\",\"East Asia & Pacific\",\"East Asia & Pacific\",\"East Asia & Pacific\",\"East Asia & Pacific\",\"East Asia & Pacific\",\"East Asia & Pacific\",\"East Asia & Pacific\",\"East Asia & Pacific\",\"East Asia & Pacific\",\"East Asia & Pacific\",\"East Asia & Pacific\",\"East Asia & Pacific\",\"East Asia & Pacific\",\"East Asia & Pacific\",\"East Asia & Pacific\",\"East Asia & Pacific\",\"East Asia & Pacific\",\"East Asia & Pacific\",\"East Asia & Pacific\",\"East Asia & Pacific\",\"East Asia & Pacific\",\"East Asia & Pacific\",\"East Asia & Pacific\",\"East Asia & Pacific\",\"East Asia & Pacific\",\"East Asia & Pacific\",\"East Asia & Pacific\",\"East Asia & Pacific\",\"East Asia & Pacific\",\"East Asia & Pacific\",\"East Asia & Pacific\",\"East Asia & Pacific\",\"East Asia & Pacific\",\"East Asia & Pacific\",\"East Asia & Pacific\",\"East Asia & Pacific\",\"East Asia & Pacific\",\"East Asia & Pacific\",\"East Asia & Pacific\",\"East Asia & Pacific\",\"East Asia & Pacific\",\"East Asia & Pacific\",\"East Asia & Pacific\",\"East Asia & Pacific\",\"East Asia & Pacific\",\"East Asia & Pacific\",\"East Asia & Pacific\",\"East Asia & Pacific\",\"East Asia & Pacific\",\"East Asia & Pacific\",\"East Asia & Pacific\",\"East Asia & Pacific\",\"East Asia & Pacific\",\"East Asia & Pacific\",\"East Asia & Pacific\",\"East Asia & Pacific\",\"East Asia & Pacific\",\"East Asia & Pacific\",\"East Asia & Pacific\",\"East Asia & Pacific\",\"East Asia & Pacific\",\"East Asia & Pacific\",\"East Asia & Pacific\",\"East Asia & Pacific\",\"East Asia & Pacific\",\"East Asia & Pacific\",\"East Asia & Pacific\",\"East Asia & Pacific\",\"East Asia & Pacific\",\"East Asia & Pacific\",\"East Asia & Pacific\",\"East Asia & Pacific\",\"East Asia & Pacific\",\"East Asia & Pacific\",\"East Asia & Pacific\",\"East Asia & Pacific\",\"East Asia & Pacific\",\"East Asia & Pacific\",\"East Asia & Pacific\",\"East Asia & Pacific\",\"East Asia & Pacific\",\"East Asia & Pacific\",\"East Asia & Pacific\",\"East Asia & Pacific\",\"East Asia & Pacific\",\"East Asia & Pacific\",\"East Asia & Pacific\",\"East Asia & Pacific\",\"East Asia & Pacific\",\"East Asia & Pacific\",\"East Asia & Pacific\",\"East Asia & Pacific\",\"East Asia & Pacific\",\"East Asia & Pacific\",\"East Asia & Pacific\",\"East Asia & Pacific\",\"East Asia & Pacific\",\"East Asia & Pacific\",\"East Asia & Pacific\",\"East Asia & Pacific\",\"East Asia & Pacific\",\"East Asia & Pacific\",\"East Asia & Pacific\",\"East Asia & Pacific\",\"East Asia & Pacific\",\"East Asia & Pacific\",\"East Asia & Pacific\",\"East Asia & Pacific\",\"East Asia & Pacific\",\"East Asia & Pacific\",\"East Asia & Pacific\",\"East Asia & Pacific\",\"East Asia & Pacific\",\"East Asia & Pacific\",\"East Asia & Pacific\",\"East Asia & Pacific\",\"East Asia & Pacific\",\"East Asia & Pacific\",\"East Asia & Pacific\",\"East Asia & Pacific\",\"East Asia & Pacific\",\"East Asia & Pacific\",\"East Asia & Pacific\",\"East Asia & Pacific\",\"East Asia & Pacific\",\"East Asia & Pacific\",\"East Asia & Pacific\",\"East Asia & Pacific\",\"East Asia & Pacific\",\"East Asia & Pacific\",\"East Asia & Pacific\",\"East Asia & Pacific\",\"East Asia & Pacific\",\"East Asia & Pacific\",\"East Asia & Pacific\",\"East Asia & Pacific\",\"East Asia & Pacific\",\"East Asia & Pacific\",\"East Asia & Pacific\",\"East Asia & Pacific\",\"East Asia & Pacific\",\"East Asia & Pacific\",\"East Asia & Pacific\",\"East Asia & Pacific\",\"East Asia & Pacific\",\"East Asia & Pacific\",\"East Asia & Pacific\",\"East Asia & Pacific\",\"East Asia & Pacific\",\"East Asia & Pacific\",\"East Asia & Pacific\",\"East Asia & Pacific\",\"East Asia & Pacific\",\"East Asia & Pacific\",\"East Asia & Pacific\",\"East Asia & Pacific\",\"East Asia & Pacific\",\"East Asia & Pacific\",\"East Asia & Pacific\",\"East Asia & Pacific\",\"East Asia & Pacific\",\"East Asia & Pacific\",\"East Asia & Pacific\",\"East Asia & Pacific\",\"East Asia & Pacific\",\"East Asia & Pacific\",\"East Asia & Pacific\",\"East Asia & Pacific\",\"East Asia & Pacific\",\"East Asia & Pacific\",\"East Asia & Pacific\",\"East Asia & Pacific\"],\"x0\":\" \",\"xaxis\":\"x\",\"y\":[7500,143430,14631089,8487342,15116555,26389730,18482625,17611892,19966564,16709840,10310583,18956297,21238137,16089982,22727078,7314510,17128187,16914902,23020945,16595671,4670995,19964143,11475702,22612707,16950494,17524882,2984168,2146536,4418051,6557700,6381630,3179290,6031497,4981071,4522445,5069953,4064987,3090480,14604230,15044413,16774227,14233895,14624750,16680693,16429614,16534343,17352649,18168089,18785747,20689935,143983899,137608522,140086813,152660494,160441632,148038628,134688649,123384290,122928990,135121105,113747442,129801696,7500,143430,46573976,34322124,40198812,37439658,41002665,48447822,43918211,57091881,63741494,64758491,53142054,59164061,52097,95806,131420,83162,112654,133267,107900,553503,189218,161226,280932,71818,2591770,4025259,2606910,3337172,5361680,4596215,4840287,2959749,431260,1463802,1673952,386946,97293221,97615277,127257844,127221235,121355793,94963935,96520781,97038593,98985697,136025905,127790722,154043152,240817,424878,269656,485745,1432069,338766,454356,1281734,741684,809443,784043,687595,150009174,116951366,143909151,130302467,152232129,143197895,134941913,143056701,134241862,149323739,140600266,121245152,126360,42120,42120,97740,98550,39420,18720,36400,21000,14840,29120,61300,16655249,12412380,21043957,21644106,20628290,14170835,23909032,20234715,10863742,21184324,22651264,24303573,21640907,10450402,16975606,19257505,21881412,15065443,18780418,16262315,12038557,20349365,19212562,16595003,5168665,6000183,4884602,5026319,6144912,4438017,7179639,4045900,2550835,2115696,2989020,2167054,13709490,19388747,21725670,19208285,16925000,16748688,14744564,14269523,14065836,17778711,18004274,16536641,132711286,107756746,119380030,122844962,118647810,108192133,125964951,124692339,115290359,117454798,116582381,118360418,18720,36400,21000,14840,29120,61300,60243540,61877573,45505934,38340756,44425836,42364375,51961685,46346302,47068187,55466810,43832240,50670931,30144,115501,24517,48440,133814,94913,25900,61236,24986,89326,55251,1699,3855690,5098162,7609367,4654431,5163031,1090040,5265420,245073,177118,1080000,3530243,110853114,192623365,111844309,140835694,97729068,115747984,118420581,95229267,85082436,89978120,94585870,86965264,403395,231540,311504,1842688,1073669,1301413,1355901,1147040,3404557,3106918,3424978,2866543,119349675,101205387,100969981,118735811,96405370,111594355,121995295,108363370,90655870,96814364,82462135],\"y0\":\" \",\"yaxis\":\"y\",\"type\":\"box\"},{\"alignmentgroup\":\"True\",\"hovertemplate\":\"<b>%{hovertext}</b><br><br>region=%{x}<br>value=%{y}<extra></extra>\",\"hovertext\":[143401562.0,103909176.0,122330678.0,126268633.0,137722452.0,112064198.0,141160535.0,142726809.0,119229537.0,109716872.0,113835123.0,110489685.0,232734053.0,265599511.0,259964470.0,255014329.0,290489297.0,342839383.0,300539287.0,299774797.0,310842969.0,343522055.0,292161731.0,295953327.0,112128280.0,114893274.0,138285411.0,132813501.0,132159170.0,109496158.0,129423268.0,114772325.0,103573085.0,97322938.0,86449146.0,111720880.0,312774174.0,295477141.0,314866355.0,314363477.0,332723733.0,346765618.0,327495712.0,368726811.0,322181305.0,358169749.0,284841716.0,302420633.0],\"legendgroup\":\"North America\",\"marker\":{\"color\":\"#19d3f3\"},\"name\":\"North America\",\"notched\":false,\"offsetgroup\":\"North America\",\"orientation\":\"v\",\"showlegend\":true,\"x\":[\"North America\",\"North America\",\"North America\",\"North America\",\"North America\",\"North America\",\"North America\",\"North America\",\"North America\",\"North America\",\"North America\",\"North America\",\"North America\",\"North America\",\"North America\",\"North America\",\"North America\",\"North America\",\"North America\",\"North America\",\"North America\",\"North America\",\"North America\",\"North America\",\"North America\",\"North America\",\"North America\",\"North America\",\"North America\",\"North America\",\"North America\",\"North America\",\"North America\",\"North America\",\"North America\",\"North America\",\"North America\",\"North America\",\"North America\",\"North America\",\"North America\",\"North America\",\"North America\",\"North America\",\"North America\",\"North America\",\"North America\",\"North America\"],\"x0\":\" \",\"xaxis\":\"x\",\"y\":[143401562,103909176,122330678,126268633,137722452,112064198,141160535,142726809,119229537,109716872,113835123,110489685,232734053,265599511,259964470,255014329,290489297,342839383,300539287,299774797,310842969,343522055,292161731,295953327,112128280,114893274,138285411,132813501,132159170,109496158,129423268,114772325,103573085,97322938,86449146,111720880,312774174,295477141,314866355,314363477,332723733,346765618,327495712,368726811,322181305,358169749,284841716,302420633],\"y0\":\" \",\"yaxis\":\"y\",\"type\":\"box\"},{\"alignmentgroup\":\"True\",\"hovertemplate\":\"<b>%{hovertext}</b><br><br>region=%{x}<br>value=%{y}<extra></extra>\",\"hovertext\":[9418.0,18856402.0,8717652.0,28392668.0,19667206.0,17357890.0,17645498.0,25198524.0,35849971.0,47661218.0,45661349.0,60491134.0,44477407.0,250.0,15393.0,5697.0,2116.0,9074.0,48006455.0,58469172.0,58777728.0,41646731.0,38861222.0,34790925.0,48865600.0,36736203.0,29764852.0,28414748.0,47539898.0,32843564.0],\"legendgroup\":\"South Asia\",\"marker\":{\"color\":\"#FF6692\"},\"name\":\"South Asia\",\"notched\":false,\"offsetgroup\":\"South Asia\",\"orientation\":\"v\",\"showlegend\":true,\"x\":[\"South Asia\",\"South Asia\",\"South Asia\",\"South Asia\",\"South Asia\",\"South Asia\",\"South Asia\",\"South Asia\",\"South Asia\",\"South Asia\",\"South Asia\",\"South Asia\",\"South Asia\",\"South Asia\",\"South Asia\",\"South Asia\",\"South Asia\",\"South Asia\",\"South Asia\",\"South Asia\",\"South Asia\",\"South Asia\",\"South Asia\",\"South Asia\",\"South Asia\",\"South Asia\",\"South Asia\",\"South Asia\",\"South Asia\",\"South Asia\"],\"x0\":\" \",\"xaxis\":\"x\",\"y\":[9418,18856402,8717652,28392668,19667206,17357890,17645498,25198524,35849971,47661218,45661349,60491134,44477407,250,15393,5697,2116,9074,48006455,58469172,58777728,41646731,38861222,34790925,48865600,36736203,29764852,28414748,47539898,32843564],\"y0\":\" \",\"yaxis\":\"y\",\"type\":\"box\"}],                        {\"template\":{\"data\":{\"bar\":[{\"error_x\":{\"color\":\"#2a3f5f\"},\"error_y\":{\"color\":\"#2a3f5f\"},\"marker\":{\"line\":{\"color\":\"#E5ECF6\",\"width\":0.5},\"pattern\":{\"fillmode\":\"overlay\",\"size\":10,\"solidity\":0.2}},\"type\":\"bar\"}],\"barpolar\":[{\"marker\":{\"line\":{\"color\":\"#E5ECF6\",\"width\":0.5},\"pattern\":{\"fillmode\":\"overlay\",\"size\":10,\"solidity\":0.2}},\"type\":\"barpolar\"}],\"carpet\":[{\"aaxis\":{\"endlinecolor\":\"#2a3f5f\",\"gridcolor\":\"white\",\"linecolor\":\"white\",\"minorgridcolor\":\"white\",\"startlinecolor\":\"#2a3f5f\"},\"baxis\":{\"endlinecolor\":\"#2a3f5f\",\"gridcolor\":\"white\",\"linecolor\":\"white\",\"minorgridcolor\":\"white\",\"startlinecolor\":\"#2a3f5f\"},\"type\":\"carpet\"}],\"choropleth\":[{\"colorbar\":{\"outlinewidth\":0,\"ticks\":\"\"},\"type\":\"choropleth\"}],\"contour\":[{\"colorbar\":{\"outlinewidth\":0,\"ticks\":\"\"},\"colorscale\":[[0.0,\"#0d0887\"],[0.1111111111111111,\"#46039f\"],[0.2222222222222222,\"#7201a8\"],[0.3333333333333333,\"#9c179e\"],[0.4444444444444444,\"#bd3786\"],[0.5555555555555556,\"#d8576b\"],[0.6666666666666666,\"#ed7953\"],[0.7777777777777778,\"#fb9f3a\"],[0.8888888888888888,\"#fdca26\"],[1.0,\"#f0f921\"]],\"type\":\"contour\"}],\"contourcarpet\":[{\"colorbar\":{\"outlinewidth\":0,\"ticks\":\"\"},\"type\":\"contourcarpet\"}],\"heatmap\":[{\"colorbar\":{\"outlinewidth\":0,\"ticks\":\"\"},\"colorscale\":[[0.0,\"#0d0887\"],[0.1111111111111111,\"#46039f\"],[0.2222222222222222,\"#7201a8\"],[0.3333333333333333,\"#9c179e\"],[0.4444444444444444,\"#bd3786\"],[0.5555555555555556,\"#d8576b\"],[0.6666666666666666,\"#ed7953\"],[0.7777777777777778,\"#fb9f3a\"],[0.8888888888888888,\"#fdca26\"],[1.0,\"#f0f921\"]],\"type\":\"heatmap\"}],\"heatmapgl\":[{\"colorbar\":{\"outlinewidth\":0,\"ticks\":\"\"},\"colorscale\":[[0.0,\"#0d0887\"],[0.1111111111111111,\"#46039f\"],[0.2222222222222222,\"#7201a8\"],[0.3333333333333333,\"#9c179e\"],[0.4444444444444444,\"#bd3786\"],[0.5555555555555556,\"#d8576b\"],[0.6666666666666666,\"#ed7953\"],[0.7777777777777778,\"#fb9f3a\"],[0.8888888888888888,\"#fdca26\"],[1.0,\"#f0f921\"]],\"type\":\"heatmapgl\"}],\"histogram\":[{\"marker\":{\"pattern\":{\"fillmode\":\"overlay\",\"size\":10,\"solidity\":0.2}},\"type\":\"histogram\"}],\"histogram2d\":[{\"colorbar\":{\"outlinewidth\":0,\"ticks\":\"\"},\"colorscale\":[[0.0,\"#0d0887\"],[0.1111111111111111,\"#46039f\"],[0.2222222222222222,\"#7201a8\"],[0.3333333333333333,\"#9c179e\"],[0.4444444444444444,\"#bd3786\"],[0.5555555555555556,\"#d8576b\"],[0.6666666666666666,\"#ed7953\"],[0.7777777777777778,\"#fb9f3a\"],[0.8888888888888888,\"#fdca26\"],[1.0,\"#f0f921\"]],\"type\":\"histogram2d\"}],\"histogram2dcontour\":[{\"colorbar\":{\"outlinewidth\":0,\"ticks\":\"\"},\"colorscale\":[[0.0,\"#0d0887\"],[0.1111111111111111,\"#46039f\"],[0.2222222222222222,\"#7201a8\"],[0.3333333333333333,\"#9c179e\"],[0.4444444444444444,\"#bd3786\"],[0.5555555555555556,\"#d8576b\"],[0.6666666666666666,\"#ed7953\"],[0.7777777777777778,\"#fb9f3a\"],[0.8888888888888888,\"#fdca26\"],[1.0,\"#f0f921\"]],\"type\":\"histogram2dcontour\"}],\"mesh3d\":[{\"colorbar\":{\"outlinewidth\":0,\"ticks\":\"\"},\"type\":\"mesh3d\"}],\"parcoords\":[{\"line\":{\"colorbar\":{\"outlinewidth\":0,\"ticks\":\"\"}},\"type\":\"parcoords\"}],\"pie\":[{\"automargin\":true,\"type\":\"pie\"}],\"scatter\":[{\"marker\":{\"colorbar\":{\"outlinewidth\":0,\"ticks\":\"\"}},\"type\":\"scatter\"}],\"scatter3d\":[{\"line\":{\"colorbar\":{\"outlinewidth\":0,\"ticks\":\"\"}},\"marker\":{\"colorbar\":{\"outlinewidth\":0,\"ticks\":\"\"}},\"type\":\"scatter3d\"}],\"scattercarpet\":[{\"marker\":{\"colorbar\":{\"outlinewidth\":0,\"ticks\":\"\"}},\"type\":\"scattercarpet\"}],\"scattergeo\":[{\"marker\":{\"colorbar\":{\"outlinewidth\":0,\"ticks\":\"\"}},\"type\":\"scattergeo\"}],\"scattergl\":[{\"marker\":{\"colorbar\":{\"outlinewidth\":0,\"ticks\":\"\"}},\"type\":\"scattergl\"}],\"scattermapbox\":[{\"marker\":{\"colorbar\":{\"outlinewidth\":0,\"ticks\":\"\"}},\"type\":\"scattermapbox\"}],\"scatterpolar\":[{\"marker\":{\"colorbar\":{\"outlinewidth\":0,\"ticks\":\"\"}},\"type\":\"scatterpolar\"}],\"scatterpolargl\":[{\"marker\":{\"colorbar\":{\"outlinewidth\":0,\"ticks\":\"\"}},\"type\":\"scatterpolargl\"}],\"scatterternary\":[{\"marker\":{\"colorbar\":{\"outlinewidth\":0,\"ticks\":\"\"}},\"type\":\"scatterternary\"}],\"surface\":[{\"colorbar\":{\"outlinewidth\":0,\"ticks\":\"\"},\"colorscale\":[[0.0,\"#0d0887\"],[0.1111111111111111,\"#46039f\"],[0.2222222222222222,\"#7201a8\"],[0.3333333333333333,\"#9c179e\"],[0.4444444444444444,\"#bd3786\"],[0.5555555555555556,\"#d8576b\"],[0.6666666666666666,\"#ed7953\"],[0.7777777777777778,\"#fb9f3a\"],[0.8888888888888888,\"#fdca26\"],[1.0,\"#f0f921\"]],\"type\":\"surface\"}],\"table\":[{\"cells\":{\"fill\":{\"color\":\"#EBF0F8\"},\"line\":{\"color\":\"white\"}},\"header\":{\"fill\":{\"color\":\"#C8D4E3\"},\"line\":{\"color\":\"white\"}},\"type\":\"table\"}]},\"layout\":{\"annotationdefaults\":{\"arrowcolor\":\"#2a3f5f\",\"arrowhead\":0,\"arrowwidth\":1},\"autotypenumbers\":\"strict\",\"coloraxis\":{\"colorbar\":{\"outlinewidth\":0,\"ticks\":\"\"}},\"colorscale\":{\"diverging\":[[0,\"#8e0152\"],[0.1,\"#c51b7d\"],[0.2,\"#de77ae\"],[0.3,\"#f1b6da\"],[0.4,\"#fde0ef\"],[0.5,\"#f7f7f7\"],[0.6,\"#e6f5d0\"],[0.7,\"#b8e186\"],[0.8,\"#7fbc41\"],[0.9,\"#4d9221\"],[1,\"#276419\"]],\"sequential\":[[0.0,\"#0d0887\"],[0.1111111111111111,\"#46039f\"],[0.2222222222222222,\"#7201a8\"],[0.3333333333333333,\"#9c179e\"],[0.4444444444444444,\"#bd3786\"],[0.5555555555555556,\"#d8576b\"],[0.6666666666666666,\"#ed7953\"],[0.7777777777777778,\"#fb9f3a\"],[0.8888888888888888,\"#fdca26\"],[1.0,\"#f0f921\"]],\"sequentialminus\":[[0.0,\"#0d0887\"],[0.1111111111111111,\"#46039f\"],[0.2222222222222222,\"#7201a8\"],[0.3333333333333333,\"#9c179e\"],[0.4444444444444444,\"#bd3786\"],[0.5555555555555556,\"#d8576b\"],[0.6666666666666666,\"#ed7953\"],[0.7777777777777778,\"#fb9f3a\"],[0.8888888888888888,\"#fdca26\"],[1.0,\"#f0f921\"]]},\"colorway\":[\"#636efa\",\"#EF553B\",\"#00cc96\",\"#ab63fa\",\"#FFA15A\",\"#19d3f3\",\"#FF6692\",\"#B6E880\",\"#FF97FF\",\"#FECB52\"],\"font\":{\"color\":\"#2a3f5f\"},\"geo\":{\"bgcolor\":\"white\",\"lakecolor\":\"white\",\"landcolor\":\"#E5ECF6\",\"showlakes\":true,\"showland\":true,\"subunitcolor\":\"white\"},\"hoverlabel\":{\"align\":\"left\"},\"hovermode\":\"closest\",\"mapbox\":{\"style\":\"light\"},\"paper_bgcolor\":\"white\",\"plot_bgcolor\":\"#E5ECF6\",\"polar\":{\"angularaxis\":{\"gridcolor\":\"white\",\"linecolor\":\"white\",\"ticks\":\"\"},\"bgcolor\":\"#E5ECF6\",\"radialaxis\":{\"gridcolor\":\"white\",\"linecolor\":\"white\",\"ticks\":\"\"}},\"scene\":{\"xaxis\":{\"backgroundcolor\":\"#E5ECF6\",\"gridcolor\":\"white\",\"gridwidth\":2,\"linecolor\":\"white\",\"showbackground\":true,\"ticks\":\"\",\"zerolinecolor\":\"white\"},\"yaxis\":{\"backgroundcolor\":\"#E5ECF6\",\"gridcolor\":\"white\",\"gridwidth\":2,\"linecolor\":\"white\",\"showbackground\":true,\"ticks\":\"\",\"zerolinecolor\":\"white\"},\"zaxis\":{\"backgroundcolor\":\"#E5ECF6\",\"gridcolor\":\"white\",\"gridwidth\":2,\"linecolor\":\"white\",\"showbackground\":true,\"ticks\":\"\",\"zerolinecolor\":\"white\"}},\"shapedefaults\":{\"line\":{\"color\":\"#2a3f5f\"}},\"ternary\":{\"aaxis\":{\"gridcolor\":\"white\",\"linecolor\":\"white\",\"ticks\":\"\"},\"baxis\":{\"gridcolor\":\"white\",\"linecolor\":\"white\",\"ticks\":\"\"},\"bgcolor\":\"#E5ECF6\",\"caxis\":{\"gridcolor\":\"white\",\"linecolor\":\"white\",\"ticks\":\"\"}},\"title\":{\"x\":0.05},\"xaxis\":{\"automargin\":true,\"gridcolor\":\"white\",\"linecolor\":\"white\",\"ticks\":\"\",\"title\":{\"standoff\":15},\"zerolinecolor\":\"white\",\"zerolinewidth\":2},\"yaxis\":{\"automargin\":true,\"gridcolor\":\"white\",\"linecolor\":\"white\",\"ticks\":\"\",\"title\":{\"standoff\":15},\"zerolinecolor\":\"white\",\"zerolinewidth\":2}}},\"xaxis\":{\"anchor\":\"y\",\"domain\":[0.0,1.0],\"title\":{\"text\":\"region\"},\"categoryorder\":\"array\",\"categoryarray\":[\"Sub-Saharan Africa\",\"Latin America & Caribbean\",\"Middle East & North Africa\",\"Europe & Central Asia\",\"East Asia & Pacific\",\"North America\",\"South Asia\"]},\"yaxis\":{\"anchor\":\"x\",\"domain\":[0.0,1.0],\"title\":{\"text\":\"value\"}},\"legend\":{\"title\":{\"text\":\"region\"},\"tracegroupgap\":0},\"title\":{\"text\":\"Expensive exports region wise\"},\"boxmode\":\"overlay\",\"height\":700,\"width\":1400},                        {\"responsive\": true}                    ).then(function(){\n",
              "                            \n",
              "var gd = document.getElementById('e9c08db4-a1aa-4852-b738-a54015052ab8');\n",
              "var x = new MutationObserver(function (mutations, observer) {{\n",
              "        var display = window.getComputedStyle(gd).display;\n",
              "        if (!display || display === 'none') {{\n",
              "            console.log([gd, 'removed!']);\n",
              "            Plotly.purge(gd);\n",
              "            observer.disconnect();\n",
              "        }}\n",
              "}});\n",
              "\n",
              "// Listen for the removal of the full notebook cells\n",
              "var notebookContainer = gd.closest('#notebook-container');\n",
              "if (notebookContainer) {{\n",
              "    x.observe(notebookContainer, {childList: true});\n",
              "}}\n",
              "\n",
              "// Listen for the clearing of the current output cell\n",
              "var outputEl = gd.closest('.output');\n",
              "if (outputEl) {{\n",
              "    x.observe(outputEl, {childList: true});\n",
              "}}\n",
              "\n",
              "                        })                };                            </script>        </div>\n",
              "</body>\n",
              "</html>"
            ]
          },
          "metadata": {}
        }
      ]
    },
    {
      "cell_type": "code",
      "source": [
        "df_import_temp.head()\n",
        "df_import_temp=df_import_temp.rename(columns = {'reporter_country_sum':'reporter_country_sum_imports'})"
      ],
      "metadata": {
        "id": "aXE9wk_g6LJa"
      },
      "execution_count": 211,
      "outputs": []
    },
    {
      "cell_type": "code",
      "source": [
        "df_export_temp.head()\n",
        "df_export_temp=df_export_temp.rename(columns = {'reporter_country_sum':'reporter_country_sum_exports'})"
      ],
      "metadata": {
        "id": "jy87ZV4w6LF4"
      },
      "execution_count": 212,
      "outputs": []
    },
    {
      "cell_type": "code",
      "source": [
        "res = pd.merge(df_import_temp, df_export_temp, how='inner', on=['reporter_country'])\n",
        "res"
      ],
      "metadata": {
        "colab": {
          "base_uri": "https://localhost:8080/",
          "height": 468
        },
        "id": "60u5YT6w6LDt",
        "outputId": "811a2be3-7549-4009-c014-a83aaa5331e8"
      },
      "execution_count": 213,
      "outputs": [
        {
          "output_type": "execute_result",
          "data": {
            "text/plain": [
              "    reporter_country  reporter_country_sum_imports  \\\n",
              "0              China                   17105940723   \n",
              "1             United                    2977806599   \n",
              "2             United                    2977806599   \n",
              "3             United                    2977806599   \n",
              "4             United                    1606268566   \n",
              "..               ...                           ...   \n",
              "99             Costa                       4733653   \n",
              "100       Montenegro                       2576008   \n",
              "101        Nicaragua                       1474342   \n",
              "102             Laos                         42753   \n",
              "103         Cambodia                         42753   \n",
              "\n",
              "     reporter_country_sum_exports  \n",
              "0                       433692103  \n",
              "1                      7370241633  \n",
              "2                      3171342101  \n",
              "3                       148601828  \n",
              "4                      7370241633  \n",
              "..                            ...  \n",
              "99                          52132  \n",
              "100                          1359  \n",
              "101                         73472  \n",
              "102                        332310  \n",
              "103                        332310  \n",
              "\n",
              "[104 rows x 3 columns]"
            ],
            "text/html": [
              "\n",
              "  <div id=\"df-e9795192-1232-4390-81d0-e7de7d60cd01\">\n",
              "    <div class=\"colab-df-container\">\n",
              "      <div>\n",
              "<style scoped>\n",
              "    .dataframe tbody tr th:only-of-type {\n",
              "        vertical-align: middle;\n",
              "    }\n",
              "\n",
              "    .dataframe tbody tr th {\n",
              "        vertical-align: top;\n",
              "    }\n",
              "\n",
              "    .dataframe thead th {\n",
              "        text-align: right;\n",
              "    }\n",
              "</style>\n",
              "<table border=\"1\" class=\"dataframe\">\n",
              "  <thead>\n",
              "    <tr style=\"text-align: right;\">\n",
              "      <th></th>\n",
              "      <th>reporter_country</th>\n",
              "      <th>reporter_country_sum_imports</th>\n",
              "      <th>reporter_country_sum_exports</th>\n",
              "    </tr>\n",
              "  </thead>\n",
              "  <tbody>\n",
              "    <tr>\n",
              "      <th>0</th>\n",
              "      <td>China</td>\n",
              "      <td>17105940723</td>\n",
              "      <td>433692103</td>\n",
              "    </tr>\n",
              "    <tr>\n",
              "      <th>1</th>\n",
              "      <td>United</td>\n",
              "      <td>2977806599</td>\n",
              "      <td>7370241633</td>\n",
              "    </tr>\n",
              "    <tr>\n",
              "      <th>2</th>\n",
              "      <td>United</td>\n",
              "      <td>2977806599</td>\n",
              "      <td>3171342101</td>\n",
              "    </tr>\n",
              "    <tr>\n",
              "      <th>3</th>\n",
              "      <td>United</td>\n",
              "      <td>2977806599</td>\n",
              "      <td>148601828</td>\n",
              "    </tr>\n",
              "    <tr>\n",
              "      <th>4</th>\n",
              "      <td>United</td>\n",
              "      <td>1606268566</td>\n",
              "      <td>7370241633</td>\n",
              "    </tr>\n",
              "    <tr>\n",
              "      <th>...</th>\n",
              "      <td>...</td>\n",
              "      <td>...</td>\n",
              "      <td>...</td>\n",
              "    </tr>\n",
              "    <tr>\n",
              "      <th>99</th>\n",
              "      <td>Costa</td>\n",
              "      <td>4733653</td>\n",
              "      <td>52132</td>\n",
              "    </tr>\n",
              "    <tr>\n",
              "      <th>100</th>\n",
              "      <td>Montenegro</td>\n",
              "      <td>2576008</td>\n",
              "      <td>1359</td>\n",
              "    </tr>\n",
              "    <tr>\n",
              "      <th>101</th>\n",
              "      <td>Nicaragua</td>\n",
              "      <td>1474342</td>\n",
              "      <td>73472</td>\n",
              "    </tr>\n",
              "    <tr>\n",
              "      <th>102</th>\n",
              "      <td>Laos</td>\n",
              "      <td>42753</td>\n",
              "      <td>332310</td>\n",
              "    </tr>\n",
              "    <tr>\n",
              "      <th>103</th>\n",
              "      <td>Cambodia</td>\n",
              "      <td>42753</td>\n",
              "      <td>332310</td>\n",
              "    </tr>\n",
              "  </tbody>\n",
              "</table>\n",
              "<p>104 rows × 3 columns</p>\n",
              "</div>\n",
              "      <button class=\"colab-df-convert\" onclick=\"convertToInteractive('df-e9795192-1232-4390-81d0-e7de7d60cd01')\"\n",
              "              title=\"Convert this dataframe to an interactive table.\"\n",
              "              style=\"display:none;\">\n",
              "        \n",
              "  <svg xmlns=\"http://www.w3.org/2000/svg\" height=\"24px\"viewBox=\"0 0 24 24\"\n",
              "       width=\"24px\">\n",
              "    <path d=\"M0 0h24v24H0V0z\" fill=\"none\"/>\n",
              "    <path d=\"M18.56 5.44l.94 2.06.94-2.06 2.06-.94-2.06-.94-.94-2.06-.94 2.06-2.06.94zm-11 1L8.5 8.5l.94-2.06 2.06-.94-2.06-.94L8.5 2.5l-.94 2.06-2.06.94zm10 10l.94 2.06.94-2.06 2.06-.94-2.06-.94-.94-2.06-.94 2.06-2.06.94z\"/><path d=\"M17.41 7.96l-1.37-1.37c-.4-.4-.92-.59-1.43-.59-.52 0-1.04.2-1.43.59L10.3 9.45l-7.72 7.72c-.78.78-.78 2.05 0 2.83L4 21.41c.39.39.9.59 1.41.59.51 0 1.02-.2 1.41-.59l7.78-7.78 2.81-2.81c.8-.78.8-2.07 0-2.86zM5.41 20L4 18.59l7.72-7.72 1.47 1.35L5.41 20z\"/>\n",
              "  </svg>\n",
              "      </button>\n",
              "      \n",
              "  <style>\n",
              "    .colab-df-container {\n",
              "      display:flex;\n",
              "      flex-wrap:wrap;\n",
              "      gap: 12px;\n",
              "    }\n",
              "\n",
              "    .colab-df-convert {\n",
              "      background-color: #E8F0FE;\n",
              "      border: none;\n",
              "      border-radius: 50%;\n",
              "      cursor: pointer;\n",
              "      display: none;\n",
              "      fill: #1967D2;\n",
              "      height: 32px;\n",
              "      padding: 0 0 0 0;\n",
              "      width: 32px;\n",
              "    }\n",
              "\n",
              "    .colab-df-convert:hover {\n",
              "      background-color: #E2EBFA;\n",
              "      box-shadow: 0px 1px 2px rgba(60, 64, 67, 0.3), 0px 1px 3px 1px rgba(60, 64, 67, 0.15);\n",
              "      fill: #174EA6;\n",
              "    }\n",
              "\n",
              "    [theme=dark] .colab-df-convert {\n",
              "      background-color: #3B4455;\n",
              "      fill: #D2E3FC;\n",
              "    }\n",
              "\n",
              "    [theme=dark] .colab-df-convert:hover {\n",
              "      background-color: #434B5C;\n",
              "      box-shadow: 0px 1px 3px 1px rgba(0, 0, 0, 0.15);\n",
              "      filter: drop-shadow(0px 1px 2px rgba(0, 0, 0, 0.3));\n",
              "      fill: #FFFFFF;\n",
              "    }\n",
              "  </style>\n",
              "\n",
              "      <script>\n",
              "        const buttonEl =\n",
              "          document.querySelector('#df-e9795192-1232-4390-81d0-e7de7d60cd01 button.colab-df-convert');\n",
              "        buttonEl.style.display =\n",
              "          google.colab.kernel.accessAllowed ? 'block' : 'none';\n",
              "\n",
              "        async function convertToInteractive(key) {\n",
              "          const element = document.querySelector('#df-e9795192-1232-4390-81d0-e7de7d60cd01');\n",
              "          const dataTable =\n",
              "            await google.colab.kernel.invokeFunction('convertToInteractive',\n",
              "                                                     [key], {});\n",
              "          if (!dataTable) return;\n",
              "\n",
              "          const docLinkHtml = 'Like what you see? Visit the ' +\n",
              "            '<a target=\"_blank\" href=https://colab.research.google.com/notebooks/data_table.ipynb>data table notebook</a>'\n",
              "            + ' to learn more about interactive tables.';\n",
              "          element.innerHTML = '';\n",
              "          dataTable['output_type'] = 'display_data';\n",
              "          await google.colab.output.renderOutput(dataTable, element);\n",
              "          const docLink = document.createElement('div');\n",
              "          docLink.innerHTML = docLinkHtml;\n",
              "          element.appendChild(docLink);\n",
              "        }\n",
              "      </script>\n",
              "    </div>\n",
              "  </div>\n",
              "  "
            ]
          },
          "metadata": {},
          "execution_count": 213
        }
      ]
    },
    {
      "cell_type": "markdown",
      "source": [
        "##Countries trends "
      ],
      "metadata": {
        "id": "FGYBksoIgLrO"
      }
    },
    {
      "cell_type": "code",
      "source": [
        "exp_temp = df_interval1.copy()\n",
        "exp_temp.drop(['region'], axis=1, inplace=True)\n",
        "exp_temp['reporter_country'] = exp_temp['reporter_country'].apply(lambda x:x.split(';')[0])\n",
        "exp_temp.set_index('reporter_country', inplace=True)\n",
        "exp_temp"
      ],
      "metadata": {
        "colab": {
          "base_uri": "https://localhost:8080/",
          "height": 455
        },
        "id": "svg3HFNdeh4N",
        "outputId": "230416f1-1330-4aab-86a3-b983bd8c3306"
      },
      "execution_count": 214,
      "outputs": [
        {
          "output_type": "execute_result",
          "data": {
            "text/plain": [
              "                  timestamp    value\n",
              "reporter_country                    \n",
              "Angola           2018-01-01  1101583\n",
              "Angola           2018-02-01  2307606\n",
              "Angola           2018-03-01   866795\n",
              "Angola           2018-04-01  4376235\n",
              "Angola           2018-05-01  2099515\n",
              "...                     ...      ...\n",
              "Zambia           2019-08-01  2765971\n",
              "Zambia           2019-09-01  3009105\n",
              "Zambia           2019-10-01  3934474\n",
              "Zambia           2019-11-01  2831440\n",
              "Zambia           2019-12-01  3246240\n",
              "\n",
              "[2563 rows x 2 columns]"
            ],
            "text/html": [
              "\n",
              "  <div id=\"df-7730f0a8-fd51-41ad-8767-52132ee20796\">\n",
              "    <div class=\"colab-df-container\">\n",
              "      <div>\n",
              "<style scoped>\n",
              "    .dataframe tbody tr th:only-of-type {\n",
              "        vertical-align: middle;\n",
              "    }\n",
              "\n",
              "    .dataframe tbody tr th {\n",
              "        vertical-align: top;\n",
              "    }\n",
              "\n",
              "    .dataframe thead th {\n",
              "        text-align: right;\n",
              "    }\n",
              "</style>\n",
              "<table border=\"1\" class=\"dataframe\">\n",
              "  <thead>\n",
              "    <tr style=\"text-align: right;\">\n",
              "      <th></th>\n",
              "      <th>timestamp</th>\n",
              "      <th>value</th>\n",
              "    </tr>\n",
              "    <tr>\n",
              "      <th>reporter_country</th>\n",
              "      <th></th>\n",
              "      <th></th>\n",
              "    </tr>\n",
              "  </thead>\n",
              "  <tbody>\n",
              "    <tr>\n",
              "      <th>Angola</th>\n",
              "      <td>2018-01-01</td>\n",
              "      <td>1101583</td>\n",
              "    </tr>\n",
              "    <tr>\n",
              "      <th>Angola</th>\n",
              "      <td>2018-02-01</td>\n",
              "      <td>2307606</td>\n",
              "    </tr>\n",
              "    <tr>\n",
              "      <th>Angola</th>\n",
              "      <td>2018-03-01</td>\n",
              "      <td>866795</td>\n",
              "    </tr>\n",
              "    <tr>\n",
              "      <th>Angola</th>\n",
              "      <td>2018-04-01</td>\n",
              "      <td>4376235</td>\n",
              "    </tr>\n",
              "    <tr>\n",
              "      <th>Angola</th>\n",
              "      <td>2018-05-01</td>\n",
              "      <td>2099515</td>\n",
              "    </tr>\n",
              "    <tr>\n",
              "      <th>...</th>\n",
              "      <td>...</td>\n",
              "      <td>...</td>\n",
              "    </tr>\n",
              "    <tr>\n",
              "      <th>Zambia</th>\n",
              "      <td>2019-08-01</td>\n",
              "      <td>2765971</td>\n",
              "    </tr>\n",
              "    <tr>\n",
              "      <th>Zambia</th>\n",
              "      <td>2019-09-01</td>\n",
              "      <td>3009105</td>\n",
              "    </tr>\n",
              "    <tr>\n",
              "      <th>Zambia</th>\n",
              "      <td>2019-10-01</td>\n",
              "      <td>3934474</td>\n",
              "    </tr>\n",
              "    <tr>\n",
              "      <th>Zambia</th>\n",
              "      <td>2019-11-01</td>\n",
              "      <td>2831440</td>\n",
              "    </tr>\n",
              "    <tr>\n",
              "      <th>Zambia</th>\n",
              "      <td>2019-12-01</td>\n",
              "      <td>3246240</td>\n",
              "    </tr>\n",
              "  </tbody>\n",
              "</table>\n",
              "<p>2563 rows × 2 columns</p>\n",
              "</div>\n",
              "      <button class=\"colab-df-convert\" onclick=\"convertToInteractive('df-7730f0a8-fd51-41ad-8767-52132ee20796')\"\n",
              "              title=\"Convert this dataframe to an interactive table.\"\n",
              "              style=\"display:none;\">\n",
              "        \n",
              "  <svg xmlns=\"http://www.w3.org/2000/svg\" height=\"24px\"viewBox=\"0 0 24 24\"\n",
              "       width=\"24px\">\n",
              "    <path d=\"M0 0h24v24H0V0z\" fill=\"none\"/>\n",
              "    <path d=\"M18.56 5.44l.94 2.06.94-2.06 2.06-.94-2.06-.94-.94-2.06-.94 2.06-2.06.94zm-11 1L8.5 8.5l.94-2.06 2.06-.94-2.06-.94L8.5 2.5l-.94 2.06-2.06.94zm10 10l.94 2.06.94-2.06 2.06-.94-2.06-.94-.94-2.06-.94 2.06-2.06.94z\"/><path d=\"M17.41 7.96l-1.37-1.37c-.4-.4-.92-.59-1.43-.59-.52 0-1.04.2-1.43.59L10.3 9.45l-7.72 7.72c-.78.78-.78 2.05 0 2.83L4 21.41c.39.39.9.59 1.41.59.51 0 1.02-.2 1.41-.59l7.78-7.78 2.81-2.81c.8-.78.8-2.07 0-2.86zM5.41 20L4 18.59l7.72-7.72 1.47 1.35L5.41 20z\"/>\n",
              "  </svg>\n",
              "      </button>\n",
              "      \n",
              "  <style>\n",
              "    .colab-df-container {\n",
              "      display:flex;\n",
              "      flex-wrap:wrap;\n",
              "      gap: 12px;\n",
              "    }\n",
              "\n",
              "    .colab-df-convert {\n",
              "      background-color: #E8F0FE;\n",
              "      border: none;\n",
              "      border-radius: 50%;\n",
              "      cursor: pointer;\n",
              "      display: none;\n",
              "      fill: #1967D2;\n",
              "      height: 32px;\n",
              "      padding: 0 0 0 0;\n",
              "      width: 32px;\n",
              "    }\n",
              "\n",
              "    .colab-df-convert:hover {\n",
              "      background-color: #E2EBFA;\n",
              "      box-shadow: 0px 1px 2px rgba(60, 64, 67, 0.3), 0px 1px 3px 1px rgba(60, 64, 67, 0.15);\n",
              "      fill: #174EA6;\n",
              "    }\n",
              "\n",
              "    [theme=dark] .colab-df-convert {\n",
              "      background-color: #3B4455;\n",
              "      fill: #D2E3FC;\n",
              "    }\n",
              "\n",
              "    [theme=dark] .colab-df-convert:hover {\n",
              "      background-color: #434B5C;\n",
              "      box-shadow: 0px 1px 3px 1px rgba(0, 0, 0, 0.15);\n",
              "      filter: drop-shadow(0px 1px 2px rgba(0, 0, 0, 0.3));\n",
              "      fill: #FFFFFF;\n",
              "    }\n",
              "  </style>\n",
              "\n",
              "      <script>\n",
              "        const buttonEl =\n",
              "          document.querySelector('#df-7730f0a8-fd51-41ad-8767-52132ee20796 button.colab-df-convert');\n",
              "        buttonEl.style.display =\n",
              "          google.colab.kernel.accessAllowed ? 'block' : 'none';\n",
              "\n",
              "        async function convertToInteractive(key) {\n",
              "          const element = document.querySelector('#df-7730f0a8-fd51-41ad-8767-52132ee20796');\n",
              "          const dataTable =\n",
              "            await google.colab.kernel.invokeFunction('convertToInteractive',\n",
              "                                                     [key], {});\n",
              "          if (!dataTable) return;\n",
              "\n",
              "          const docLinkHtml = 'Like what you see? Visit the ' +\n",
              "            '<a target=\"_blank\" href=https://colab.research.google.com/notebooks/data_table.ipynb>data table notebook</a>'\n",
              "            + ' to learn more about interactive tables.';\n",
              "          element.innerHTML = '';\n",
              "          dataTable['output_type'] = 'display_data';\n",
              "          await google.colab.output.renderOutput(dataTable, element);\n",
              "          const docLink = document.createElement('div');\n",
              "          docLink.innerHTML = docLinkHtml;\n",
              "          element.appendChild(docLink);\n",
              "        }\n",
              "      </script>\n",
              "    </div>\n",
              "  </div>\n",
              "  "
            ]
          },
          "metadata": {},
          "execution_count": 214
        }
      ]
    },
    {
      "cell_type": "code",
      "source": [
        "export_temp = df_interval1e.copy()\n",
        "export_temp.drop(['region'], axis=1, inplace=True)\n",
        "export_temp['reporter_country'] = export_temp['reporter_country'].apply(lambda x:x.split(';')[0])\n",
        "export_temp.set_index('reporter_country', inplace=True)\n",
        "export_temp"
      ],
      "metadata": {
        "colab": {
          "base_uri": "https://localhost:8080/",
          "height": 455
        },
        "id": "_EM-ed4-vibS",
        "outputId": "54dd6643-05a4-46dc-eeb4-1f45effd211a"
      },
      "execution_count": 215,
      "outputs": [
        {
          "output_type": "execute_result",
          "data": {
            "text/plain": [
              "                  timestamp     value\n",
              "reporter_country                     \n",
              "Angola           2018-01-01     52419\n",
              "Angola           2018-02-01    223364\n",
              "Angola           2018-03-01    134555\n",
              "Angola           2018-04-01     73583\n",
              "Angola           2018-05-01     87171\n",
              "...                     ...       ...\n",
              "Uzbekistan       2019-11-01  29649802\n",
              "Uzbekistan       2019-12-01  29411327\n",
              "Zambia           2019-03-01     49266\n",
              "Zambia           2019-06-01      1286\n",
              "Zambia           2019-12-01     54470\n",
              "\n",
              "[1714 rows x 2 columns]"
            ],
            "text/html": [
              "\n",
              "  <div id=\"df-2c0fcca5-f303-40bc-b716-e1d30b1ccf55\">\n",
              "    <div class=\"colab-df-container\">\n",
              "      <div>\n",
              "<style scoped>\n",
              "    .dataframe tbody tr th:only-of-type {\n",
              "        vertical-align: middle;\n",
              "    }\n",
              "\n",
              "    .dataframe tbody tr th {\n",
              "        vertical-align: top;\n",
              "    }\n",
              "\n",
              "    .dataframe thead th {\n",
              "        text-align: right;\n",
              "    }\n",
              "</style>\n",
              "<table border=\"1\" class=\"dataframe\">\n",
              "  <thead>\n",
              "    <tr style=\"text-align: right;\">\n",
              "      <th></th>\n",
              "      <th>timestamp</th>\n",
              "      <th>value</th>\n",
              "    </tr>\n",
              "    <tr>\n",
              "      <th>reporter_country</th>\n",
              "      <th></th>\n",
              "      <th></th>\n",
              "    </tr>\n",
              "  </thead>\n",
              "  <tbody>\n",
              "    <tr>\n",
              "      <th>Angola</th>\n",
              "      <td>2018-01-01</td>\n",
              "      <td>52419</td>\n",
              "    </tr>\n",
              "    <tr>\n",
              "      <th>Angola</th>\n",
              "      <td>2018-02-01</td>\n",
              "      <td>223364</td>\n",
              "    </tr>\n",
              "    <tr>\n",
              "      <th>Angola</th>\n",
              "      <td>2018-03-01</td>\n",
              "      <td>134555</td>\n",
              "    </tr>\n",
              "    <tr>\n",
              "      <th>Angola</th>\n",
              "      <td>2018-04-01</td>\n",
              "      <td>73583</td>\n",
              "    </tr>\n",
              "    <tr>\n",
              "      <th>Angola</th>\n",
              "      <td>2018-05-01</td>\n",
              "      <td>87171</td>\n",
              "    </tr>\n",
              "    <tr>\n",
              "      <th>...</th>\n",
              "      <td>...</td>\n",
              "      <td>...</td>\n",
              "    </tr>\n",
              "    <tr>\n",
              "      <th>Uzbekistan</th>\n",
              "      <td>2019-11-01</td>\n",
              "      <td>29649802</td>\n",
              "    </tr>\n",
              "    <tr>\n",
              "      <th>Uzbekistan</th>\n",
              "      <td>2019-12-01</td>\n",
              "      <td>29411327</td>\n",
              "    </tr>\n",
              "    <tr>\n",
              "      <th>Zambia</th>\n",
              "      <td>2019-03-01</td>\n",
              "      <td>49266</td>\n",
              "    </tr>\n",
              "    <tr>\n",
              "      <th>Zambia</th>\n",
              "      <td>2019-06-01</td>\n",
              "      <td>1286</td>\n",
              "    </tr>\n",
              "    <tr>\n",
              "      <th>Zambia</th>\n",
              "      <td>2019-12-01</td>\n",
              "      <td>54470</td>\n",
              "    </tr>\n",
              "  </tbody>\n",
              "</table>\n",
              "<p>1714 rows × 2 columns</p>\n",
              "</div>\n",
              "      <button class=\"colab-df-convert\" onclick=\"convertToInteractive('df-2c0fcca5-f303-40bc-b716-e1d30b1ccf55')\"\n",
              "              title=\"Convert this dataframe to an interactive table.\"\n",
              "              style=\"display:none;\">\n",
              "        \n",
              "  <svg xmlns=\"http://www.w3.org/2000/svg\" height=\"24px\"viewBox=\"0 0 24 24\"\n",
              "       width=\"24px\">\n",
              "    <path d=\"M0 0h24v24H0V0z\" fill=\"none\"/>\n",
              "    <path d=\"M18.56 5.44l.94 2.06.94-2.06 2.06-.94-2.06-.94-.94-2.06-.94 2.06-2.06.94zm-11 1L8.5 8.5l.94-2.06 2.06-.94-2.06-.94L8.5 2.5l-.94 2.06-2.06.94zm10 10l.94 2.06.94-2.06 2.06-.94-2.06-.94-.94-2.06-.94 2.06-2.06.94z\"/><path d=\"M17.41 7.96l-1.37-1.37c-.4-.4-.92-.59-1.43-.59-.52 0-1.04.2-1.43.59L10.3 9.45l-7.72 7.72c-.78.78-.78 2.05 0 2.83L4 21.41c.39.39.9.59 1.41.59.51 0 1.02-.2 1.41-.59l7.78-7.78 2.81-2.81c.8-.78.8-2.07 0-2.86zM5.41 20L4 18.59l7.72-7.72 1.47 1.35L5.41 20z\"/>\n",
              "  </svg>\n",
              "      </button>\n",
              "      \n",
              "  <style>\n",
              "    .colab-df-container {\n",
              "      display:flex;\n",
              "      flex-wrap:wrap;\n",
              "      gap: 12px;\n",
              "    }\n",
              "\n",
              "    .colab-df-convert {\n",
              "      background-color: #E8F0FE;\n",
              "      border: none;\n",
              "      border-radius: 50%;\n",
              "      cursor: pointer;\n",
              "      display: none;\n",
              "      fill: #1967D2;\n",
              "      height: 32px;\n",
              "      padding: 0 0 0 0;\n",
              "      width: 32px;\n",
              "    }\n",
              "\n",
              "    .colab-df-convert:hover {\n",
              "      background-color: #E2EBFA;\n",
              "      box-shadow: 0px 1px 2px rgba(60, 64, 67, 0.3), 0px 1px 3px 1px rgba(60, 64, 67, 0.15);\n",
              "      fill: #174EA6;\n",
              "    }\n",
              "\n",
              "    [theme=dark] .colab-df-convert {\n",
              "      background-color: #3B4455;\n",
              "      fill: #D2E3FC;\n",
              "    }\n",
              "\n",
              "    [theme=dark] .colab-df-convert:hover {\n",
              "      background-color: #434B5C;\n",
              "      box-shadow: 0px 1px 3px 1px rgba(0, 0, 0, 0.15);\n",
              "      filter: drop-shadow(0px 1px 2px rgba(0, 0, 0, 0.3));\n",
              "      fill: #FFFFFF;\n",
              "    }\n",
              "  </style>\n",
              "\n",
              "      <script>\n",
              "        const buttonEl =\n",
              "          document.querySelector('#df-2c0fcca5-f303-40bc-b716-e1d30b1ccf55 button.colab-df-convert');\n",
              "        buttonEl.style.display =\n",
              "          google.colab.kernel.accessAllowed ? 'block' : 'none';\n",
              "\n",
              "        async function convertToInteractive(key) {\n",
              "          const element = document.querySelector('#df-2c0fcca5-f303-40bc-b716-e1d30b1ccf55');\n",
              "          const dataTable =\n",
              "            await google.colab.kernel.invokeFunction('convertToInteractive',\n",
              "                                                     [key], {});\n",
              "          if (!dataTable) return;\n",
              "\n",
              "          const docLinkHtml = 'Like what you see? Visit the ' +\n",
              "            '<a target=\"_blank\" href=https://colab.research.google.com/notebooks/data_table.ipynb>data table notebook</a>'\n",
              "            + ' to learn more about interactive tables.';\n",
              "          element.innerHTML = '';\n",
              "          dataTable['output_type'] = 'display_data';\n",
              "          await google.colab.output.renderOutput(dataTable, element);\n",
              "          const docLink = document.createElement('div');\n",
              "          docLink.innerHTML = docLinkHtml;\n",
              "          element.appendChild(docLink);\n",
              "        }\n",
              "      </script>\n",
              "    </div>\n",
              "  </div>\n",
              "  "
            ]
          },
          "metadata": {},
          "execution_count": 215
        }
      ]
    },
    {
      "cell_type": "code",
      "source": [
        "#@title { run: \"auto\" }\n",
        "\n",
        "country_1 = \"China\" #@param [\"Albania\",\"Algeria\",\"Angola\",\"Antigua and Barbuda\",\"Argentina\",\"Armenia\",\"Aruba\",\"Australia\",\"Austria\",\"Azerbaijan\",\"Bahrain\",\"Barbados\",\"Belarus\",\"Belgium\",\"Belize\",\"Benin\",\"Bermuda\",\"Bolivia\",\"Bosnia and Herzegovina\",\"Botswana\",\"Brazil\",\"Brunei\",\"Bulgaria\",\"Burkina Faso\",\"Burundi\",\"Cambodia\",\"Cameroon\",\"Canada\",\"Cape Verde\",\"Chile\",\"China\",\"Colombia\",\"Comoros\",\"Costa Rica\",\"Croatia\",\"Cyprus\",\"Czech Republic\",\"Denmark\",\"Dominican Republic\",\"East Asia & Pacific\",\"Ecuador\",\"Egypt\",\"El Salvador\",\"Estonia\",\"Ethiopia\",\"Europe & Central Asia\",\"Fiji\",\"Finland\",\"France\",\"French Polynesia\",\"Gambia\",\"Georgia\",\"Germany\",\"Ghana\",\"Greece\",\"Greenland\",\"Grenada\",\"Guatemala\",\"Guyana\",\"Honduras\",\"Hong Kong\",\"Hungary\",\"Iceland\",\"India\",\"Indonesia\",\"Ireland\",\"Israel\",\"Italy\",\"Japan\",\"Jordan\",\"Kazakhstan\",\"Kenya\",\"Kuwait\",\"Kyrgyzstan\",\"Laos\",\"Latin America & Caribbean\",\"Latvia\",\"Lesotho\",\"Lithuania\",\"Luxembourg\",\"Macedonia\",\"Madagascar\",\"Malawi\",\"Malaysia\",\"Maldives\",\"Mali\",\"Malta\",\"Mauritania\",\"Mauritius\",\"Mexico\",\"Middle East & North Africa\",\"Moldova\",\"Mongolia\",\"Montenegro\",\"Morocco\",\"Mozambique\",\"Myanmar\",\"Namibia\",\"Netherlands\",\"New Caledonia\",\"New Zealand\",\"Nicaragua\",\"Niger\",\"Nigeria\",\"North America\",\"Norway\",\"Oman\",\"Pakistan\",\"Palestine\",\"Panama\",\"Paraguay\",\"Peru\",\"Philippines\",\"Poland\",\"Portugal\",\"Qatar\",\"Republic of the Congo\",\"Romania\",\"Russia\",\"Rwanda\",\"Saint Kitts and Nevis\",\"Samoa\",\"Sao Tome and Principe\",\"Saudi Arabia\",\"Senegal\",\"Serbia\",\"Seychelles\",\"Sierra Leone\",\"Singapore\",\"Slovakia\",\"Slovenia\",\"South Africa\",\"South Asia\",\"South Korea\",\"Spain\",\"Sri Lanka\",\"Sub-Saharan Africa\",\"Sudan\",\"Sweden\",\"Switzerland\",\"Tanzania\",\"Thailand\",\"Togo\",\"Trinidad and Tobago\",\"Tunisia\",\"Turkey\",\"Uganda\",\"Ukraine\",\"United Arab Emirates\",\"United Kingdom\",\"United States of America\",\"Uruguay\",\"Uzbekistan\",\"Vietnam\",\"Yemen\",\"Zambia\",\"Zimbabwe\"]\n",
        "country_2 = \"United States of America\" #@param [\"Albania\",\"Algeria\",\"Angola\",\"Antigua and Barbuda\",\"Argentina\",\"Armenia\",\"Aruba\",\"Australia\",\"Austria\",\"Azerbaijan\",\"Bahrain\",\"Barbados\",\"Belarus\",\"Belgium\",\"Belize\",\"Benin\",\"Bermuda\",\"Bolivia\",\"Bosnia and Herzegovina\",\"Botswana\",\"Brazil\",\"Brunei\",\"Bulgaria\",\"Burkina Faso\",\"Burundi\",\"Cambodia\",\"Cameroon\",\"Canada\",\"Cape Verde\",\"Chile\",\"China\",\"Colombia\",\"Comoros\",\"Costa Rica\",\"Croatia\",\"Cyprus\",\"Czech Republic\",\"Denmark\",\"Dominican Republic\",\"East Asia & Pacific\",\"Ecuador\",\"Egypt\",\"El Salvador\",\"Estonia\",\"Ethiopia\",\"Europe & Central Asia\",\"Fiji\",\"Finland\",\"France\",\"French Polynesia\",\"Gambia\",\"Georgia\",\"Germany\",\"Ghana\",\"Greece\",\"Greenland\",\"Grenada\",\"Guatemala\",\"Guyana\",\"Honduras\",\"Hong Kong\",\"Hungary\",\"Iceland\",\"India\",\"Indonesia\",\"Ireland\",\"Israel\",\"Italy\",\"Japan\",\"Jordan\",\"Kazakhstan\",\"Kenya\",\"Kuwait\",\"Kyrgyzstan\",\"Laos\",\"Latin America & Caribbean\",\"Latvia\",\"Lesotho\",\"Lithuania\",\"Luxembourg\",\"Macedonia\",\"Madagascar\",\"Malawi\",\"Malaysia\",\"Maldives\",\"Mali\",\"Malta\",\"Mauritania\",\"Mauritius\",\"Mexico\",\"Middle East & North Africa\",\"Moldova\",\"Mongolia\",\"Montenegro\",\"Morocco\",\"Mozambique\",\"Myanmar\",\"Namibia\",\"Netherlands\",\"New Caledonia\",\"New Zealand\",\"Nicaragua\",\"Niger\",\"Nigeria\",\"North America\",\"Norway\",\"Oman\",\"Pakistan\",\"Palestine\",\"Panama\",\"Paraguay\",\"Peru\",\"Philippines\",\"Poland\",\"Portugal\",\"Qatar\",\"Republic of the Congo\",\"Romania\",\"Russia\",\"Rwanda\",\"Saint Kitts and Nevis\",\"Samoa\",\"Sao Tome and Principe\",\"Saudi Arabia\",\"Senegal\",\"Serbia\",\"Seychelles\",\"Sierra Leone\",\"Singapore\",\"Slovakia\",\"Slovenia\",\"South Africa\",\"South Asia\",\"South Korea\",\"Spain\",\"Sri Lanka\",\"Sub-Saharan Africa\",\"Sudan\",\"Sweden\",\"Switzerland\",\"Tanzania\",\"Thailand\",\"Togo\",\"Trinidad and Tobago\",\"Tunisia\",\"Turkey\",\"Uganda\",\"Ukraine\",\"United Arab Emirates\",\"United Kingdom\",\"United States of America\",\"Uruguay\",\"Uzbekistan\",\"Vietnam\",\"Yemen\",\"Zambia\",\"Zimbabwe\"]\n",
        "country_3 = \"India\" #@param [\"Albania\",\"Algeria\",\"Angola\",\"Antigua and Barbuda\",\"Argentina\",\"Armenia\",\"Aruba\",\"Australia\",\"Austria\",\"Azerbaijan\",\"Bahrain\",\"Barbados\",\"Belarus\",\"Belgium\",\"Belize\",\"Benin\",\"Bermuda\",\"Bolivia\",\"Bosnia and Herzegovina\",\"Botswana\",\"Brazil\",\"Brunei\",\"Bulgaria\",\"Burkina Faso\",\"Burundi\",\"Cambodia\",\"Cameroon\",\"Canada\",\"Cape Verde\",\"Chile\",\"China\",\"Colombia\",\"Comoros\",\"Costa Rica\",\"Croatia\",\"Cyprus\",\"Czech Republic\",\"Denmark\",\"Dominican Republic\",\"East Asia & Pacific\",\"Ecuador\",\"Egypt\",\"El Salvador\",\"Estonia\",\"Ethiopia\",\"Europe & Central Asia\",\"Fiji\",\"Finland\",\"France\",\"French Polynesia\",\"Gambia\",\"Georgia\",\"Germany\",\"Ghana\",\"Greece\",\"Greenland\",\"Grenada\",\"Guatemala\",\"Guyana\",\"Honduras\",\"Hong Kong\",\"Hungary\",\"Iceland\",\"India\",\"Indonesia\",\"Ireland\",\"Israel\",\"Italy\",\"Japan\",\"Jordan\",\"Kazakhstan\",\"Kenya\",\"Kuwait\",\"Kyrgyzstan\",\"Laos\",\"Latin America & Caribbean\",\"Latvia\",\"Lesotho\",\"Lithuania\",\"Luxembourg\",\"Macedonia\",\"Madagascar\",\"Malawi\",\"Malaysia\",\"Maldives\",\"Mali\",\"Malta\",\"Mauritania\",\"Mauritius\",\"Mexico\",\"Middle East & North Africa\",\"Moldova\",\"Mongolia\",\"Montenegro\",\"Morocco\",\"Mozambique\",\"Myanmar\",\"Namibia\",\"Netherlands\",\"New Caledonia\",\"New Zealand\",\"Nicaragua\",\"Niger\",\"Nigeria\",\"North America\",\"Norway\",\"Oman\",\"Pakistan\",\"Palestine\",\"Panama\",\"Paraguay\",\"Peru\",\"Philippines\",\"Poland\",\"Portugal\",\"Qatar\",\"Republic of the Congo\",\"Romania\",\"Russia\",\"Rwanda\",\"Saint Kitts and Nevis\",\"Samoa\",\"Sao Tome and Principe\",\"Saudi Arabia\",\"Senegal\",\"Serbia\",\"Seychelles\",\"Sierra Leone\",\"Singapore\",\"Slovakia\",\"Slovenia\",\"South Africa\",\"South Asia\",\"South Korea\",\"Spain\",\"Sri Lanka\",\"Sub-Saharan Africa\",\"Sudan\",\"Sweden\",\"Switzerland\",\"Tanzania\",\"Thailand\",\"Togo\",\"Trinidad and Tobago\",\"Tunisia\",\"Turkey\",\"Uganda\",\"Ukraine\",\"United Arab Emirates\",\"United Kingdom\",\"United States of America\",\"Uruguay\",\"Uzbekistan\",\"Vietnam\",\"Yemen\",\"Zambia\",\"Zimbabwe\"]\n",
        "country_4 = \"United Kingdom\" #@param [\"Albania\",\"Algeria\",\"Angola\",\"Antigua and Barbuda\",\"Argentina\",\"Armenia\",\"Aruba\",\"Australia\",\"Austria\",\"Azerbaijan\",\"Bahrain\",\"Barbados\",\"Belarus\",\"Belgium\",\"Belize\",\"Benin\",\"Bermuda\",\"Bolivia\",\"Bosnia and Herzegovina\",\"Botswana\",\"Brazil\",\"Brunei\",\"Bulgaria\",\"Burkina Faso\",\"Burundi\",\"Cambodia\",\"Cameroon\",\"Canada\",\"Cape Verde\",\"Chile\",\"China\",\"Colombia\",\"Comoros\",\"Costa Rica\",\"Croatia\",\"Cyprus\",\"Czech Republic\",\"Denmark\",\"Dominican Republic\",\"East Asia & Pacific\",\"Ecuador\",\"Egypt\",\"El Salvador\",\"Estonia\",\"Ethiopia\",\"Europe & Central Asia\",\"Fiji\",\"Finland\",\"France\",\"French Polynesia\",\"Gambia\",\"Georgia\",\"Germany\",\"Ghana\",\"Greece\",\"Greenland\",\"Grenada\",\"Guatemala\",\"Guyana\",\"Honduras\",\"Hong Kong\",\"Hungary\",\"Iceland\",\"India\",\"Indonesia\",\"Ireland\",\"Israel\",\"Italy\",\"Japan\",\"Jordan\",\"Kazakhstan\",\"Kenya\",\"Kuwait\",\"Kyrgyzstan\",\"Laos\",\"Latin America & Caribbean\",\"Latvia\",\"Lesotho\",\"Lithuania\",\"Luxembourg\",\"Macedonia\",\"Madagascar\",\"Malawi\",\"Malaysia\",\"Maldives\",\"Mali\",\"Malta\",\"Mauritania\",\"Mauritius\",\"Mexico\",\"Middle East & North Africa\",\"Moldova\",\"Mongolia\",\"Montenegro\",\"Morocco\",\"Mozambique\",\"Myanmar\",\"Namibia\",\"Netherlands\",\"New Caledonia\",\"New Zealand\",\"Nicaragua\",\"Niger\",\"Nigeria\",\"North America\",\"Norway\",\"Oman\",\"Pakistan\",\"Palestine\",\"Panama\",\"Paraguay\",\"Peru\",\"Philippines\",\"Poland\",\"Portugal\",\"Qatar\",\"Republic of the Congo\",\"Romania\",\"Russia\",\"Rwanda\",\"Saint Kitts and Nevis\",\"Samoa\",\"Sao Tome and Principe\",\"Saudi Arabia\",\"Senegal\",\"Serbia\",\"Seychelles\",\"Sierra Leone\",\"Singapore\",\"Slovakia\",\"Slovenia\",\"South Africa\",\"South Asia\",\"South Korea\",\"Spain\",\"Sri Lanka\",\"Sub-Saharan Africa\",\"Sudan\",\"Sweden\",\"Switzerland\",\"Tanzania\",\"Thailand\",\"Togo\",\"Trinidad and Tobago\",\"Tunisia\",\"Turkey\",\"Uganda\",\"Ukraine\",\"United Arab Emirates\",\"United Kingdom\",\"United States of America\",\"Uruguay\",\"Uzbekistan\",\"Vietnam\",\"Yemen\",\"Zambia\",\"Zimbabwe\"]\n",
        "country_5 = \"Brazil\" #@param [[\"Albania\",\"Algeria\",\"Angola\",\"Antigua and Barbuda\",\"Argentina\",\"Armenia\",\"Aruba\",\"Australia\",\"Austria\",\"Azerbaijan\",\"Bahrain\",\"Barbados\",\"Belarus\",\"Belgium\",\"Belize\",\"Benin\",\"Bermuda\",\"Bolivia\",\"Bosnia and Herzegovina\",\"Botswana\",\"Brazil\",\"Brunei\",\"Bulgaria\",\"Burkina Faso\",\"Burundi\",\"Cambodia\",\"Cameroon\",\"Canada\",\"Cape Verde\",\"Chile\",\"China\",\"Colombia\",\"Comoros\",\"Costa Rica\",\"Croatia\",\"Cyprus\",\"Czech Republic\",\"Denmark\",\"Dominican Republic\",\"East Asia & Pacific\",\"Ecuador\",\"Egypt\",\"El Salvador\",\"Estonia\",\"Ethiopia\",\"Europe & Central Asia\",\"Fiji\",\"Finland\",\"France\",\"French Polynesia\",\"Gambia\",\"Georgia\",\"Germany\",\"Ghana\",\"Greece\",\"Greenland\",\"Grenada\",\"Guatemala\",\"Guyana\",\"Honduras\",\"Hong Kong\",\"Hungary\",\"Iceland\",\"India\",\"Indonesia\",\"Ireland\",\"Israel\",\"Italy\",\"Japan\",\"Jordan\",\"Kazakhstan\",\"Kenya\",\"Kuwait\",\"Kyrgyzstan\",\"Laos\",\"Latin America & Caribbean\",\"Latvia\",\"Lesotho\",\"Lithuania\",\"Luxembourg\",\"Macedonia\",\"Madagascar\",\"Malawi\",\"Malaysia\",\"Maldives\",\"Mali\",\"Malta\",\"Mauritania\",\"Mauritius\",\"Mexico\",\"Middle East & North Africa\",\"Moldova\",\"Mongolia\",\"Montenegro\",\"Morocco\",\"Mozambique\",\"Myanmar\",\"Namibia\",\"Netherlands\",\"New Caledonia\",\"New Zealand\",\"Nicaragua\",\"Niger\",\"Nigeria\",\"North America\",\"Norway\",\"Oman\",\"Pakistan\",\"Palestine\",\"Panama\",\"Paraguay\",\"Peru\",\"Philippines\",\"Poland\",\"Portugal\",\"Qatar\",\"Republic of the Congo\",\"Romania\",\"Russia\",\"Rwanda\",\"Saint Kitts and Nevis\",\"Samoa\",\"Sao Tome and Principe\",\"Saudi Arabia\",\"Senegal\",\"Serbia\",\"Seychelles\",\"Sierra Leone\",\"Singapore\",\"Slovakia\",\"Slovenia\",\"South Africa\",\"South Asia\",\"South Korea\",\"Spain\",\"Sri Lanka\",\"Sub-Saharan Africa\",\"Sudan\",\"Sweden\",\"Switzerland\",\"Tanzania\",\"Thailand\",\"Togo\",\"Trinidad and Tobago\",\"Tunisia\",\"Turkey\",\"Uganda\",\"Ukraine\",\"United Arab Emirates\",\"United Kingdom\",\"United States of America\",\"Uruguay\",\"Uzbekistan\",\"Vietnam\",\"Yemen\",\"Zambia\",\"Zimbabwe\"]\n",
        "\n",
        "g= pd.DataFrame(exp_temp.loc[[country_1]].groupby(['timestamp', 'reporter_country'])['value'].sum()).reset_index()\n",
        "g1= pd.DataFrame(exp_temp.loc[[country_2]].groupby(['timestamp', 'reporter_country'])['value'].sum()).reset_index()\n",
        "g2= pd.DataFrame(exp_temp.loc[[country_3]].groupby(['timestamp', 'reporter_country'])['value'].sum()).reset_index()\n",
        "g3= pd.DataFrame(exp_temp.loc[[country_4]].groupby(['timestamp', 'reporter_country'])['value'].sum()).reset_index()\n",
        "g4= pd.DataFrame(exp_temp.loc[[country_5]].groupby(['timestamp', 'reporter_country'])['value'].sum()).reset_index()\n",
        "\n",
        "# Initialize figure with subplots\n",
        "fig = make_subplots(\n",
        "    rows=5, cols=1, subplot_titles=(\"trend for\" + country_1,\n",
        "                                    \"Trend for\" + country_2,\n",
        "                                    \"Trend for\" + country_3,\n",
        "                                    \"Trend for \" + country_4,\n",
        "                                    \"Trend for\" + country_5\n",
        "                                   )\n",
        ")\n",
        "\n",
        "# Add traces\n",
        "fig.add_trace(go.Scatter(x=g.timestamp, y=g.value), row=1, col=1)\n",
        "fig.add_trace(go.Scatter(x=g1.timestamp, y=g1.value), row=2, col=1)\n",
        "fig.add_trace(go.Scatter(x=g2.timestamp, y=g2.value), row=3, col=1)\n",
        "fig.add_trace(go.Scatter(x=g3.timestamp, y=g3.value), row=4, col=1)\n",
        "fig.add_trace(go.Scatter(x=g4.timestamp, y=g4.value), row=5, col=1)\n",
        "\n",
        "\n",
        "# Update xaxis properties\n",
        "fig.update_xaxes(title_text=\"timestamp\", row=1, col=1)\n",
        "fig.update_xaxes(title_text=\"timestamp\", row=2, col=1)\n",
        "fig.update_xaxes(title_text=\"timestamp\", row=3, col=1)\n",
        "fig.update_xaxes(title_text=\"timestamp\", row=4, col=1)\n",
        "fig.update_xaxes(title_text=\"timestamp\", row=5, col=1)\n",
        "\n",
        "# Update yaxis properties\n",
        "fig.update_yaxes(title_text=\"Million US $\", row=1, col=1)\n",
        "fig.update_yaxes(title_text=\"Million US $\", row=2, col=1)\n",
        "fig.update_yaxes(title_text=\"Million US $\", row=3, col=1)\n",
        "fig.update_yaxes(title_text=\"Million US $\", row=4, col=1)\n",
        "fig.update_yaxes(title_text=\"Million US $\", row=5, col=1)\n",
        "\n",
        "# Update title and height\n",
        "fig.update_layout(title_text=\"Country Trends for year 2018-20 Imports\", showlegend=False, height = 1500 )\n",
        "fig.show()"
      ],
      "metadata": {
        "colab": {
          "base_uri": "https://localhost:8080/",
          "height": 1000
        },
        "id": "-a7j0M8veh1m",
        "outputId": "ef03a21b-a2df-4e22-f7b6-a88f301098b5"
      },
      "execution_count": 216,
      "outputs": [
        {
          "output_type": "display_data",
          "data": {
            "text/html": [
              "<html>\n",
              "<head><meta charset=\"utf-8\" /></head>\n",
              "<body>\n",
              "    <div>            <script src=\"https://cdnjs.cloudflare.com/ajax/libs/mathjax/2.7.5/MathJax.js?config=TeX-AMS-MML_SVG\"></script><script type=\"text/javascript\">if (window.MathJax) {MathJax.Hub.Config({SVG: {font: \"STIX-Web\"}});}</script>                <script type=\"text/javascript\">window.PlotlyConfig = {MathJaxConfig: 'local'};</script>\n",
              "        <script src=\"https://cdn.plot.ly/plotly-2.8.3.min.js\"></script>                <div id=\"cb625996-55a0-41fd-9a1b-9c07f34e1c5b\" class=\"plotly-graph-div\" style=\"height:1500px; width:100%;\"></div>            <script type=\"text/javascript\">                                    window.PLOTLYENV=window.PLOTLYENV || {};                                    if (document.getElementById(\"cb625996-55a0-41fd-9a1b-9c07f34e1c5b\")) {                    Plotly.newPlot(                        \"cb625996-55a0-41fd-9a1b-9c07f34e1c5b\",                        [{\"x\":[\"2018-01-01T00:00:00\",\"2018-02-01T00:00:00\",\"2018-03-01T00:00:00\",\"2018-04-01T00:00:00\",\"2018-05-01T00:00:00\",\"2018-06-01T00:00:00\",\"2018-07-01T00:00:00\",\"2018-08-01T00:00:00\",\"2018-09-01T00:00:00\",\"2018-10-01T00:00:00\",\"2018-11-01T00:00:00\",\"2018-12-01T00:00:00\",\"2019-01-01T00:00:00\",\"2019-02-01T00:00:00\",\"2019-03-01T00:00:00\",\"2019-04-01T00:00:00\",\"2019-05-01T00:00:00\",\"2019-06-01T00:00:00\",\"2019-07-01T00:00:00\",\"2019-08-01T00:00:00\",\"2019-09-01T00:00:00\",\"2019-10-01T00:00:00\",\"2019-11-01T00:00:00\",\"2019-12-01T00:00:00\"],\"y\":[859361918,492583672,886559172,703379816,822852727,716261824,762147880,766860326,748670980,727187626,699953919,644488951,736003023,579896766,766564548,774737144,750845421,656818576,699879666,736235197,645803325,609494981,654140232,665213033],\"type\":\"scatter\",\"xaxis\":\"x\",\"yaxis\":\"y\"},{\"x\":[\"2018-01-01T00:00:00\",\"2018-02-01T00:00:00\",\"2018-03-01T00:00:00\",\"2018-04-01T00:00:00\",\"2018-05-01T00:00:00\",\"2018-06-01T00:00:00\",\"2018-07-01T00:00:00\",\"2018-08-01T00:00:00\",\"2018-09-01T00:00:00\",\"2018-10-01T00:00:00\",\"2018-11-01T00:00:00\",\"2018-12-01T00:00:00\",\"2019-01-01T00:00:00\",\"2019-02-01T00:00:00\",\"2019-03-01T00:00:00\",\"2019-04-01T00:00:00\",\"2019-05-01T00:00:00\",\"2019-06-01T00:00:00\",\"2019-07-01T00:00:00\",\"2019-08-01T00:00:00\",\"2019-09-01T00:00:00\",\"2019-10-01T00:00:00\",\"2019-11-01T00:00:00\",\"2019-12-01T00:00:00\"],\"y\":[141408606,105149496,125775090,130014242,140427247,110482151,143902524,141371849,126476459,117183571,122389713,113118355,108772031,119173602,135591295,138897451,153702548,116751172,134063384,116628272,113947116,109790468,96516853,116273104],\"type\":\"scatter\",\"xaxis\":\"x2\",\"yaxis\":\"y2\"},{\"x\":[\"2018-01-01T00:00:00\",\"2018-02-01T00:00:00\",\"2018-03-01T00:00:00\",\"2018-04-01T00:00:00\",\"2018-05-01T00:00:00\",\"2018-06-01T00:00:00\",\"2018-07-01T00:00:00\",\"2018-08-01T00:00:00\",\"2018-09-01T00:00:00\",\"2018-10-01T00:00:00\",\"2018-11-01T00:00:00\",\"2018-12-01T00:00:00\",\"2019-01-01T00:00:00\",\"2019-02-01T00:00:00\",\"2019-03-01T00:00:00\",\"2019-04-01T00:00:00\",\"2019-05-01T00:00:00\",\"2019-06-01T00:00:00\",\"2019-07-01T00:00:00\",\"2019-08-01T00:00:00\",\"2019-09-01T00:00:00\",\"2019-10-01T00:00:00\",\"2019-11-01T00:00:00\",\"2019-12-01T00:00:00\"],\"y\":[60943621,58767700,69510587,64570492,67661237,72670277,78222462,86689359,72873093,69745175,65644456,57986337,67956129,49418363,56968605,54319369,54428852,52313560,44705009,51548235,39262235,40662282,46535138,41756822],\"type\":\"scatter\",\"xaxis\":\"x3\",\"yaxis\":\"y3\"},{\"x\":[\"2018-01-01T00:00:00\",\"2018-02-01T00:00:00\",\"2018-03-01T00:00:00\",\"2018-04-01T00:00:00\",\"2018-05-01T00:00:00\",\"2018-06-01T00:00:00\",\"2018-07-01T00:00:00\",\"2018-08-01T00:00:00\",\"2018-09-01T00:00:00\",\"2018-10-01T00:00:00\",\"2018-11-01T00:00:00\",\"2018-12-01T00:00:00\",\"2019-01-01T00:00:00\",\"2019-02-01T00:00:00\",\"2019-03-01T00:00:00\",\"2019-04-01T00:00:00\",\"2019-05-01T00:00:00\",\"2019-06-01T00:00:00\",\"2019-07-01T00:00:00\",\"2019-08-01T00:00:00\",\"2019-09-01T00:00:00\",\"2019-10-01T00:00:00\",\"2019-11-01T00:00:00\",\"2019-12-01T00:00:00\"],\"y\":[69410707,61132016,62223486,69871509,59439113,67239838,71459861,68356904,68736998,70627907,68014215,54447760,79066490,72098659,82276655,60992140,64557934,57128824,67370379,65383645,68441589,71780192,77403311,48808434],\"type\":\"scatter\",\"xaxis\":\"x4\",\"yaxis\":\"y4\"},{\"x\":[\"2018-01-01T00:00:00\",\"2018-02-01T00:00:00\",\"2018-03-01T00:00:00\",\"2018-04-01T00:00:00\",\"2018-05-01T00:00:00\",\"2018-06-01T00:00:00\",\"2018-07-01T00:00:00\",\"2018-08-01T00:00:00\",\"2018-09-01T00:00:00\",\"2018-10-01T00:00:00\",\"2018-11-01T00:00:00\",\"2018-12-01T00:00:00\",\"2019-01-01T00:00:00\",\"2019-02-01T00:00:00\",\"2019-03-01T00:00:00\",\"2019-04-01T00:00:00\",\"2019-05-01T00:00:00\",\"2019-06-01T00:00:00\",\"2019-07-01T00:00:00\",\"2019-08-01T00:00:00\",\"2019-09-01T00:00:00\",\"2019-10-01T00:00:00\",\"2019-11-01T00:00:00\",\"2019-12-01T00:00:00\"],\"y\":[28885359,20576979,29761072,30393781,22147805,29516596,23295694,31994923,30924149,32120911,44138132,27001425,37905366,31185310,26995415,24937234,23995474,20371682,23810921,20270452,23275923,24745927,21670192,27173222],\"type\":\"scatter\",\"xaxis\":\"x5\",\"yaxis\":\"y5\"}],                        {\"template\":{\"data\":{\"bar\":[{\"error_x\":{\"color\":\"#2a3f5f\"},\"error_y\":{\"color\":\"#2a3f5f\"},\"marker\":{\"line\":{\"color\":\"#E5ECF6\",\"width\":0.5},\"pattern\":{\"fillmode\":\"overlay\",\"size\":10,\"solidity\":0.2}},\"type\":\"bar\"}],\"barpolar\":[{\"marker\":{\"line\":{\"color\":\"#E5ECF6\",\"width\":0.5},\"pattern\":{\"fillmode\":\"overlay\",\"size\":10,\"solidity\":0.2}},\"type\":\"barpolar\"}],\"carpet\":[{\"aaxis\":{\"endlinecolor\":\"#2a3f5f\",\"gridcolor\":\"white\",\"linecolor\":\"white\",\"minorgridcolor\":\"white\",\"startlinecolor\":\"#2a3f5f\"},\"baxis\":{\"endlinecolor\":\"#2a3f5f\",\"gridcolor\":\"white\",\"linecolor\":\"white\",\"minorgridcolor\":\"white\",\"startlinecolor\":\"#2a3f5f\"},\"type\":\"carpet\"}],\"choropleth\":[{\"colorbar\":{\"outlinewidth\":0,\"ticks\":\"\"},\"type\":\"choropleth\"}],\"contour\":[{\"colorbar\":{\"outlinewidth\":0,\"ticks\":\"\"},\"colorscale\":[[0.0,\"#0d0887\"],[0.1111111111111111,\"#46039f\"],[0.2222222222222222,\"#7201a8\"],[0.3333333333333333,\"#9c179e\"],[0.4444444444444444,\"#bd3786\"],[0.5555555555555556,\"#d8576b\"],[0.6666666666666666,\"#ed7953\"],[0.7777777777777778,\"#fb9f3a\"],[0.8888888888888888,\"#fdca26\"],[1.0,\"#f0f921\"]],\"type\":\"contour\"}],\"contourcarpet\":[{\"colorbar\":{\"outlinewidth\":0,\"ticks\":\"\"},\"type\":\"contourcarpet\"}],\"heatmap\":[{\"colorbar\":{\"outlinewidth\":0,\"ticks\":\"\"},\"colorscale\":[[0.0,\"#0d0887\"],[0.1111111111111111,\"#46039f\"],[0.2222222222222222,\"#7201a8\"],[0.3333333333333333,\"#9c179e\"],[0.4444444444444444,\"#bd3786\"],[0.5555555555555556,\"#d8576b\"],[0.6666666666666666,\"#ed7953\"],[0.7777777777777778,\"#fb9f3a\"],[0.8888888888888888,\"#fdca26\"],[1.0,\"#f0f921\"]],\"type\":\"heatmap\"}],\"heatmapgl\":[{\"colorbar\":{\"outlinewidth\":0,\"ticks\":\"\"},\"colorscale\":[[0.0,\"#0d0887\"],[0.1111111111111111,\"#46039f\"],[0.2222222222222222,\"#7201a8\"],[0.3333333333333333,\"#9c179e\"],[0.4444444444444444,\"#bd3786\"],[0.5555555555555556,\"#d8576b\"],[0.6666666666666666,\"#ed7953\"],[0.7777777777777778,\"#fb9f3a\"],[0.8888888888888888,\"#fdca26\"],[1.0,\"#f0f921\"]],\"type\":\"heatmapgl\"}],\"histogram\":[{\"marker\":{\"pattern\":{\"fillmode\":\"overlay\",\"size\":10,\"solidity\":0.2}},\"type\":\"histogram\"}],\"histogram2d\":[{\"colorbar\":{\"outlinewidth\":0,\"ticks\":\"\"},\"colorscale\":[[0.0,\"#0d0887\"],[0.1111111111111111,\"#46039f\"],[0.2222222222222222,\"#7201a8\"],[0.3333333333333333,\"#9c179e\"],[0.4444444444444444,\"#bd3786\"],[0.5555555555555556,\"#d8576b\"],[0.6666666666666666,\"#ed7953\"],[0.7777777777777778,\"#fb9f3a\"],[0.8888888888888888,\"#fdca26\"],[1.0,\"#f0f921\"]],\"type\":\"histogram2d\"}],\"histogram2dcontour\":[{\"colorbar\":{\"outlinewidth\":0,\"ticks\":\"\"},\"colorscale\":[[0.0,\"#0d0887\"],[0.1111111111111111,\"#46039f\"],[0.2222222222222222,\"#7201a8\"],[0.3333333333333333,\"#9c179e\"],[0.4444444444444444,\"#bd3786\"],[0.5555555555555556,\"#d8576b\"],[0.6666666666666666,\"#ed7953\"],[0.7777777777777778,\"#fb9f3a\"],[0.8888888888888888,\"#fdca26\"],[1.0,\"#f0f921\"]],\"type\":\"histogram2dcontour\"}],\"mesh3d\":[{\"colorbar\":{\"outlinewidth\":0,\"ticks\":\"\"},\"type\":\"mesh3d\"}],\"parcoords\":[{\"line\":{\"colorbar\":{\"outlinewidth\":0,\"ticks\":\"\"}},\"type\":\"parcoords\"}],\"pie\":[{\"automargin\":true,\"type\":\"pie\"}],\"scatter\":[{\"marker\":{\"colorbar\":{\"outlinewidth\":0,\"ticks\":\"\"}},\"type\":\"scatter\"}],\"scatter3d\":[{\"line\":{\"colorbar\":{\"outlinewidth\":0,\"ticks\":\"\"}},\"marker\":{\"colorbar\":{\"outlinewidth\":0,\"ticks\":\"\"}},\"type\":\"scatter3d\"}],\"scattercarpet\":[{\"marker\":{\"colorbar\":{\"outlinewidth\":0,\"ticks\":\"\"}},\"type\":\"scattercarpet\"}],\"scattergeo\":[{\"marker\":{\"colorbar\":{\"outlinewidth\":0,\"ticks\":\"\"}},\"type\":\"scattergeo\"}],\"scattergl\":[{\"marker\":{\"colorbar\":{\"outlinewidth\":0,\"ticks\":\"\"}},\"type\":\"scattergl\"}],\"scattermapbox\":[{\"marker\":{\"colorbar\":{\"outlinewidth\":0,\"ticks\":\"\"}},\"type\":\"scattermapbox\"}],\"scatterpolar\":[{\"marker\":{\"colorbar\":{\"outlinewidth\":0,\"ticks\":\"\"}},\"type\":\"scatterpolar\"}],\"scatterpolargl\":[{\"marker\":{\"colorbar\":{\"outlinewidth\":0,\"ticks\":\"\"}},\"type\":\"scatterpolargl\"}],\"scatterternary\":[{\"marker\":{\"colorbar\":{\"outlinewidth\":0,\"ticks\":\"\"}},\"type\":\"scatterternary\"}],\"surface\":[{\"colorbar\":{\"outlinewidth\":0,\"ticks\":\"\"},\"colorscale\":[[0.0,\"#0d0887\"],[0.1111111111111111,\"#46039f\"],[0.2222222222222222,\"#7201a8\"],[0.3333333333333333,\"#9c179e\"],[0.4444444444444444,\"#bd3786\"],[0.5555555555555556,\"#d8576b\"],[0.6666666666666666,\"#ed7953\"],[0.7777777777777778,\"#fb9f3a\"],[0.8888888888888888,\"#fdca26\"],[1.0,\"#f0f921\"]],\"type\":\"surface\"}],\"table\":[{\"cells\":{\"fill\":{\"color\":\"#EBF0F8\"},\"line\":{\"color\":\"white\"}},\"header\":{\"fill\":{\"color\":\"#C8D4E3\"},\"line\":{\"color\":\"white\"}},\"type\":\"table\"}]},\"layout\":{\"annotationdefaults\":{\"arrowcolor\":\"#2a3f5f\",\"arrowhead\":0,\"arrowwidth\":1},\"autotypenumbers\":\"strict\",\"coloraxis\":{\"colorbar\":{\"outlinewidth\":0,\"ticks\":\"\"}},\"colorscale\":{\"diverging\":[[0,\"#8e0152\"],[0.1,\"#c51b7d\"],[0.2,\"#de77ae\"],[0.3,\"#f1b6da\"],[0.4,\"#fde0ef\"],[0.5,\"#f7f7f7\"],[0.6,\"#e6f5d0\"],[0.7,\"#b8e186\"],[0.8,\"#7fbc41\"],[0.9,\"#4d9221\"],[1,\"#276419\"]],\"sequential\":[[0.0,\"#0d0887\"],[0.1111111111111111,\"#46039f\"],[0.2222222222222222,\"#7201a8\"],[0.3333333333333333,\"#9c179e\"],[0.4444444444444444,\"#bd3786\"],[0.5555555555555556,\"#d8576b\"],[0.6666666666666666,\"#ed7953\"],[0.7777777777777778,\"#fb9f3a\"],[0.8888888888888888,\"#fdca26\"],[1.0,\"#f0f921\"]],\"sequentialminus\":[[0.0,\"#0d0887\"],[0.1111111111111111,\"#46039f\"],[0.2222222222222222,\"#7201a8\"],[0.3333333333333333,\"#9c179e\"],[0.4444444444444444,\"#bd3786\"],[0.5555555555555556,\"#d8576b\"],[0.6666666666666666,\"#ed7953\"],[0.7777777777777778,\"#fb9f3a\"],[0.8888888888888888,\"#fdca26\"],[1.0,\"#f0f921\"]]},\"colorway\":[\"#636efa\",\"#EF553B\",\"#00cc96\",\"#ab63fa\",\"#FFA15A\",\"#19d3f3\",\"#FF6692\",\"#B6E880\",\"#FF97FF\",\"#FECB52\"],\"font\":{\"color\":\"#2a3f5f\"},\"geo\":{\"bgcolor\":\"white\",\"lakecolor\":\"white\",\"landcolor\":\"#E5ECF6\",\"showlakes\":true,\"showland\":true,\"subunitcolor\":\"white\"},\"hoverlabel\":{\"align\":\"left\"},\"hovermode\":\"closest\",\"mapbox\":{\"style\":\"light\"},\"paper_bgcolor\":\"white\",\"plot_bgcolor\":\"#E5ECF6\",\"polar\":{\"angularaxis\":{\"gridcolor\":\"white\",\"linecolor\":\"white\",\"ticks\":\"\"},\"bgcolor\":\"#E5ECF6\",\"radialaxis\":{\"gridcolor\":\"white\",\"linecolor\":\"white\",\"ticks\":\"\"}},\"scene\":{\"xaxis\":{\"backgroundcolor\":\"#E5ECF6\",\"gridcolor\":\"white\",\"gridwidth\":2,\"linecolor\":\"white\",\"showbackground\":true,\"ticks\":\"\",\"zerolinecolor\":\"white\"},\"yaxis\":{\"backgroundcolor\":\"#E5ECF6\",\"gridcolor\":\"white\",\"gridwidth\":2,\"linecolor\":\"white\",\"showbackground\":true,\"ticks\":\"\",\"zerolinecolor\":\"white\"},\"zaxis\":{\"backgroundcolor\":\"#E5ECF6\",\"gridcolor\":\"white\",\"gridwidth\":2,\"linecolor\":\"white\",\"showbackground\":true,\"ticks\":\"\",\"zerolinecolor\":\"white\"}},\"shapedefaults\":{\"line\":{\"color\":\"#2a3f5f\"}},\"ternary\":{\"aaxis\":{\"gridcolor\":\"white\",\"linecolor\":\"white\",\"ticks\":\"\"},\"baxis\":{\"gridcolor\":\"white\",\"linecolor\":\"white\",\"ticks\":\"\"},\"bgcolor\":\"#E5ECF6\",\"caxis\":{\"gridcolor\":\"white\",\"linecolor\":\"white\",\"ticks\":\"\"}},\"title\":{\"x\":0.05},\"xaxis\":{\"automargin\":true,\"gridcolor\":\"white\",\"linecolor\":\"white\",\"ticks\":\"\",\"title\":{\"standoff\":15},\"zerolinecolor\":\"white\",\"zerolinewidth\":2},\"yaxis\":{\"automargin\":true,\"gridcolor\":\"white\",\"linecolor\":\"white\",\"ticks\":\"\",\"title\":{\"standoff\":15},\"zerolinecolor\":\"white\",\"zerolinewidth\":2}}},\"xaxis\":{\"anchor\":\"y\",\"domain\":[0.0,1.0],\"title\":{\"text\":\"timestamp\"}},\"yaxis\":{\"anchor\":\"x\",\"domain\":[0.88,1.0],\"title\":{\"text\":\"Million US $\"}},\"xaxis2\":{\"anchor\":\"y2\",\"domain\":[0.0,1.0],\"title\":{\"text\":\"timestamp\"}},\"yaxis2\":{\"anchor\":\"x2\",\"domain\":[0.66,0.78],\"title\":{\"text\":\"Million US $\"}},\"xaxis3\":{\"anchor\":\"y3\",\"domain\":[0.0,1.0],\"title\":{\"text\":\"timestamp\"}},\"yaxis3\":{\"anchor\":\"x3\",\"domain\":[0.44,0.56],\"title\":{\"text\":\"Million US $\"}},\"xaxis4\":{\"anchor\":\"y4\",\"domain\":[0.0,1.0],\"title\":{\"text\":\"timestamp\"}},\"yaxis4\":{\"anchor\":\"x4\",\"domain\":[0.22,0.33999999999999997],\"title\":{\"text\":\"Million US $\"}},\"xaxis5\":{\"anchor\":\"y5\",\"domain\":[0.0,1.0],\"title\":{\"text\":\"timestamp\"}},\"yaxis5\":{\"anchor\":\"x5\",\"domain\":[0.0,0.12],\"title\":{\"text\":\"Million US $\"}},\"annotations\":[{\"font\":{\"size\":16},\"showarrow\":false,\"text\":\"trend forChina\",\"x\":0.5,\"xanchor\":\"center\",\"xref\":\"paper\",\"y\":1.0,\"yanchor\":\"bottom\",\"yref\":\"paper\"},{\"font\":{\"size\":16},\"showarrow\":false,\"text\":\"Trend forUnited States of America\",\"x\":0.5,\"xanchor\":\"center\",\"xref\":\"paper\",\"y\":0.78,\"yanchor\":\"bottom\",\"yref\":\"paper\"},{\"font\":{\"size\":16},\"showarrow\":false,\"text\":\"Trend forIndia\",\"x\":0.5,\"xanchor\":\"center\",\"xref\":\"paper\",\"y\":0.56,\"yanchor\":\"bottom\",\"yref\":\"paper\"},{\"font\":{\"size\":16},\"showarrow\":false,\"text\":\"Trend for United Kingdom\",\"x\":0.5,\"xanchor\":\"center\",\"xref\":\"paper\",\"y\":0.33999999999999997,\"yanchor\":\"bottom\",\"yref\":\"paper\"},{\"font\":{\"size\":16},\"showarrow\":false,\"text\":\"Trend forBrazil\",\"x\":0.5,\"xanchor\":\"center\",\"xref\":\"paper\",\"y\":0.12,\"yanchor\":\"bottom\",\"yref\":\"paper\"}],\"title\":{\"text\":\"Country Trends for year 2018-20 Imports\"},\"showlegend\":false,\"height\":1500},                        {\"responsive\": true}                    ).then(function(){\n",
              "                            \n",
              "var gd = document.getElementById('cb625996-55a0-41fd-9a1b-9c07f34e1c5b');\n",
              "var x = new MutationObserver(function (mutations, observer) {{\n",
              "        var display = window.getComputedStyle(gd).display;\n",
              "        if (!display || display === 'none') {{\n",
              "            console.log([gd, 'removed!']);\n",
              "            Plotly.purge(gd);\n",
              "            observer.disconnect();\n",
              "        }}\n",
              "}});\n",
              "\n",
              "// Listen for the removal of the full notebook cells\n",
              "var notebookContainer = gd.closest('#notebook-container');\n",
              "if (notebookContainer) {{\n",
              "    x.observe(notebookContainer, {childList: true});\n",
              "}}\n",
              "\n",
              "// Listen for the clearing of the current output cell\n",
              "var outputEl = gd.closest('.output');\n",
              "if (outputEl) {{\n",
              "    x.observe(outputEl, {childList: true});\n",
              "}}\n",
              "\n",
              "                        })                };                            </script>        </div>\n",
              "</body>\n",
              "</html>"
            ]
          },
          "metadata": {}
        }
      ]
    },
    {
      "cell_type": "code",
      "source": [
        "#@title Select five exports country  { run: \"auto\" }\n",
        "\n",
        "country_1 = \"China\" #@param [\"Albania\",\"Angola\",\"Argentina\",\"Armenia\",\"Australia\",\"Austria\",\"Azerbaijan\",\"Bahrain\",\"Barbados\",\"Belarus\",\"Belgium\",\"Benin\",\"Bolivia\",\"Bosnia and Herzegovina\",\"Botswana\",\"Brazil\",\"Bulgaria\",\"Cambodia\",\"Cameroon\",\"Canada\",\"Chile\",\"China\",\"Colombia\",\"Costa Rica\",\"Croatia\",\"Cyprus\",\"Czech Republic\",\"Denmark\",\"Dominican Republic\",\"East Asia & Pacific\",\"Ecuador\",\"Egypt\",\"El Salvador\",\"Estonia\",\"Ethiopia\",\"Europe & Central Asia\",\"Finland\",\"France\",\"Georgia\",\"Germany\",\"Ghana\",\"Greece\",\"Greenland\",\"Guatemala\",\"Honduras\",\"Hong Kong\",\"Hungary\",\"Iceland\",\"India\",\"Indonesia\",\"Ireland\",\"Israel\",\"Italy\",\"Japan\",\"Jordan\",\"Kazakhstan\",\"Kenya\",\"Kuwait\",\"Kyrgyzstan\",\"Laos\",\"Latin America & Caribbean\",\"Latvia\",\"Lithuania\",\"Luxembourg\",\"Macedonia\",\"Madagascar\",\"Malaysia\",\"Mali\",\"Malta\",\"Mauritius\",\"Mexico\",\"Middle East & North Africa\",\"Moldova\",\"Montenegro\",\"Morocco\",\"Mozambique\",\"Myanmar\",\"Namibia\",\"Netherlands\",\"New Zealand\",\"Nicaragua\",\"Nigeria\",\"North America\",\"Norway\",\"Oman\",\"Pakistan\",\"Panama\",\"Paraguay\",\"Peru\",\"Philippines\",\"Poland\",\"Portugal\",\"Romania\",\"Russia\",\"Rwanda\",\"Saudi Arabia\",\"Senegal\",\"Serbia\",\"Singapore\",\"Slovakia\",\"Slovenia\",\"South Africa\",\"South Asia\",\"South Korea\",\"Spain\",\"Sri Lanka\",\"Sub-Saharan Africa\",\"Sudan\",\"Sweden\",\"Switzerland\",\"Tanzania\",\"Thailand\",\"Togo\",\"Trinidad and Tobago\",\"Turkey\",\"Uganda\",\"Ukraine\",\"United Arab Emirates\",\"United Kingdom\",\"United States of America\",\"Uruguay\",\"Uzbekistan\",\"Vietnam\",\"Zambia\",\"Zimbabwe\"]\n",
        "country_2 = \"United States of America\" #@param [\"Albania\",\"Angola\",\"Argentina\",\"Armenia\",\"Australia\",\"Austria\",\"Azerbaijan\",\"Bahrain\",\"Barbados\",\"Belarus\",\"Belgium\",\"Benin\",\"Bolivia\",\"Bosnia and Herzegovina\",\"Botswana\",\"Brazil\",\"Bulgaria\",\"Cambodia\",\"Cameroon\",\"Canada\",\"Chile\",\"China\",\"Colombia\",\"Costa Rica\",\"Croatia\",\"Cyprus\",\"Czech Republic\",\"Denmark\",\"Dominican Republic\",\"East Asia & Pacific\",\"Ecuador\",\"Egypt\",\"El Salvador\",\"Estonia\",\"Ethiopia\",\"Europe & Central Asia\",\"Finland\",\"France\",\"Georgia\",\"Germany\",\"Ghana\",\"Greece\",\"Greenland\",\"Guatemala\",\"Honduras\",\"Hong Kong\",\"Hungary\",\"Iceland\",\"India\",\"Indonesia\",\"Ireland\",\"Israel\",\"Italy\",\"Japan\",\"Jordan\",\"Kazakhstan\",\"Kenya\",\"Kuwait\",\"Kyrgyzstan\",\"Laos\",\"Latin America & Caribbean\",\"Latvia\",\"Lithuania\",\"Luxembourg\",\"Macedonia\",\"Madagascar\",\"Malaysia\",\"Mali\",\"Malta\",\"Mauritius\",\"Mexico\",\"Middle East & North Africa\",\"Moldova\",\"Montenegro\",\"Morocco\",\"Mozambique\",\"Myanmar\",\"Namibia\",\"Netherlands\",\"New Zealand\",\"Nicaragua\",\"Nigeria\",\"North America\",\"Norway\",\"Oman\",\"Pakistan\",\"Panama\",\"Paraguay\",\"Peru\",\"Philippines\",\"Poland\",\"Portugal\",\"Romania\",\"Russia\",\"Rwanda\",\"Saudi Arabia\",\"Senegal\",\"Serbia\",\"Singapore\",\"Slovakia\",\"Slovenia\",\"South Africa\",\"South Asia\",\"South Korea\",\"Spain\",\"Sri Lanka\",\"Sub-Saharan Africa\",\"Sudan\",\"Sweden\",\"Switzerland\",\"Tanzania\",\"Thailand\",\"Togo\",\"Trinidad and Tobago\",\"Turkey\",\"Uganda\",\"Ukraine\",\"United Arab Emirates\",\"United Kingdom\",\"United States of America\",\"Uruguay\",\"Uzbekistan\",\"Vietnam\",\"Zambia\",\"Zimbabwe\"]\n",
        "country_3 = \"India\" #@param [\"Albania\",\"Angola\",\"Argentina\",\"Armenia\",\"Australia\",\"Austria\",\"Azerbaijan\",\"Bahrain\",\"Barbados\",\"Belarus\",\"Belgium\",\"Benin\",\"Bolivia\",\"Bosnia and Herzegovina\",\"Botswana\",\"Brazil\",\"Bulgaria\",\"Cambodia\",\"Cameroon\",\"Canada\",\"Chile\",\"China\",\"Colombia\",\"Costa Rica\",\"Croatia\",\"Cyprus\",\"Czech Republic\",\"Denmark\",\"Dominican Republic\",\"East Asia & Pacific\",\"Ecuador\",\"Egypt\",\"El Salvador\",\"Estonia\",\"Ethiopia\",\"Europe & Central Asia\",\"Finland\",\"France\",\"Georgia\",\"Germany\",\"Ghana\",\"Greece\",\"Greenland\",\"Guatemala\",\"Honduras\",\"Hong Kong\",\"Hungary\",\"Iceland\",\"India\",\"Indonesia\",\"Ireland\",\"Israel\",\"Italy\",\"Japan\",\"Jordan\",\"Kazakhstan\",\"Kenya\",\"Kuwait\",\"Kyrgyzstan\",\"Laos\",\"Latin America & Caribbean\",\"Latvia\",\"Lithuania\",\"Luxembourg\",\"Macedonia\",\"Madagascar\",\"Malaysia\",\"Mali\",\"Malta\",\"Mauritius\",\"Mexico\",\"Middle East & North Africa\",\"Moldova\",\"Montenegro\",\"Morocco\",\"Mozambique\",\"Myanmar\",\"Namibia\",\"Netherlands\",\"New Zealand\",\"Nicaragua\",\"Nigeria\",\"North America\",\"Norway\",\"Oman\",\"Pakistan\",\"Panama\",\"Paraguay\",\"Peru\",\"Philippines\",\"Poland\",\"Portugal\",\"Romania\",\"Russia\",\"Rwanda\",\"Saudi Arabia\",\"Senegal\",\"Serbia\",\"Singapore\",\"Slovakia\",\"Slovenia\",\"South Africa\",\"South Asia\",\"South Korea\",\"Spain\",\"Sri Lanka\",\"Sub-Saharan Africa\",\"Sudan\",\"Sweden\",\"Switzerland\",\"Tanzania\",\"Thailand\",\"Togo\",\"Trinidad and Tobago\",\"Turkey\",\"Uganda\",\"Ukraine\",\"United Arab Emirates\",\"United Kingdom\",\"United States of America\",\"Uruguay\",\"Uzbekistan\",\"Vietnam\",\"Zambia\",\"Zimbabwe\"]\n",
        "country_4 = \"United Kingdom\" #@param  [\"Albania\",\"Angola\",\"Argentina\",\"Armenia\",\"Australia\",\"Austria\",\"Azerbaijan\",\"Bahrain\",\"Barbados\",\"Belarus\",\"Belgium\",\"Benin\",\"Bolivia\",\"Bosnia and Herzegovina\",\"Botswana\",\"Brazil\",\"Bulgaria\",\"Cambodia\",\"Cameroon\",\"Canada\",\"Chile\",\"China\",\"Colombia\",\"Costa Rica\",\"Croatia\",\"Cyprus\",\"Czech Republic\",\"Denmark\",\"Dominican Republic\",\"East Asia & Pacific\",\"Ecuador\",\"Egypt\",\"El Salvador\",\"Estonia\",\"Ethiopia\",\"Europe & Central Asia\",\"Finland\",\"France\",\"Georgia\",\"Germany\",\"Ghana\",\"Greece\",\"Greenland\",\"Guatemala\",\"Honduras\",\"Hong Kong\",\"Hungary\",\"Iceland\",\"India\",\"Indonesia\",\"Ireland\",\"Israel\",\"Italy\",\"Japan\",\"Jordan\",\"Kazakhstan\",\"Kenya\",\"Kuwait\",\"Kyrgyzstan\",\"Laos\",\"Latin America & Caribbean\",\"Latvia\",\"Lithuania\",\"Luxembourg\",\"Macedonia\",\"Madagascar\",\"Malaysia\",\"Mali\",\"Malta\",\"Mauritius\",\"Mexico\",\"Middle East & North Africa\",\"Moldova\",\"Montenegro\",\"Morocco\",\"Mozambique\",\"Myanmar\",\"Namibia\",\"Netherlands\",\"New Zealand\",\"Nicaragua\",\"Nigeria\",\"North America\",\"Norway\",\"Oman\",\"Pakistan\",\"Panama\",\"Paraguay\",\"Peru\",\"Philippines\",\"Poland\",\"Portugal\",\"Romania\",\"Russia\",\"Rwanda\",\"Saudi Arabia\",\"Senegal\",\"Serbia\",\"Singapore\",\"Slovakia\",\"Slovenia\",\"South Africa\",\"South Asia\",\"South Korea\",\"Spain\",\"Sri Lanka\",\"Sub-Saharan Africa\",\"Sudan\",\"Sweden\",\"Switzerland\",\"Tanzania\",\"Thailand\",\"Togo\",\"Trinidad and Tobago\",\"Turkey\",\"Uganda\",\"Ukraine\",\"United Arab Emirates\",\"United Kingdom\",\"United States of America\",\"Uruguay\",\"Uzbekistan\",\"Vietnam\",\"Zambia\",\"Zimbabwe\"]\n",
        "country_5 = \"Brazil\" #@param  [\"Albania\",\"Angola\",\"Argentina\",\"Armenia\",\"Australia\",\"Austria\",\"Azerbaijan\",\"Bahrain\",\"Barbados\",\"Belarus\",\"Belgium\",\"Benin\",\"Bolivia\",\"Bosnia and Herzegovina\",\"Botswana\",\"Brazil\",\"Bulgaria\",\"Cambodia\",\"Cameroon\",\"Canada\",\"Chile\",\"China\",\"Colombia\",\"Costa Rica\",\"Croatia\",\"Cyprus\",\"Czech Republic\",\"Denmark\",\"Dominican Republic\",\"East Asia & Pacific\",\"Ecuador\",\"Egypt\",\"El Salvador\",\"Estonia\",\"Ethiopia\",\"Europe & Central Asia\",\"Finland\",\"France\",\"Georgia\",\"Germany\",\"Ghana\",\"Greece\",\"Greenland\",\"Guatemala\",\"Honduras\",\"Hong Kong\",\"Hungary\",\"Iceland\",\"India\",\"Indonesia\",\"Ireland\",\"Israel\",\"Italy\",\"Japan\",\"Jordan\",\"Kazakhstan\",\"Kenya\",\"Kuwait\",\"Kyrgyzstan\",\"Laos\",\"Latin America & Caribbean\",\"Latvia\",\"Lithuania\",\"Luxembourg\",\"Macedonia\",\"Madagascar\",\"Malaysia\",\"Mali\",\"Malta\",\"Mauritius\",\"Mexico\",\"Middle East & North Africa\",\"Moldova\",\"Montenegro\",\"Morocco\",\"Mozambique\",\"Myanmar\",\"Namibia\",\"Netherlands\",\"New Zealand\",\"Nicaragua\",\"Nigeria\",\"North America\",\"Norway\",\"Oman\",\"Pakistan\",\"Panama\",\"Paraguay\",\"Peru\",\"Philippines\",\"Poland\",\"Portugal\",\"Romania\",\"Russia\",\"Rwanda\",\"Saudi Arabia\",\"Senegal\",\"Serbia\",\"Singapore\",\"Slovakia\",\"Slovenia\",\"South Africa\",\"South Asia\",\"South Korea\",\"Spain\",\"Sri Lanka\",\"Sub-Saharan Africa\",\"Sudan\",\"Sweden\",\"Switzerland\",\"Tanzania\",\"Thailand\",\"Togo\",\"Trinidad and Tobago\",\"Turkey\",\"Uganda\",\"Ukraine\",\"United Arab Emirates\",\"United Kingdom\",\"United States of America\",\"Uruguay\",\"Uzbekistan\",\"Vietnam\",\"Zambia\",\"Zimbabwe\"]\n",
        "\n",
        "\n",
        "\n",
        "\n",
        "\n",
        "g= pd.DataFrame(export_temp.loc[[\"China\"]].groupby(['timestamp', 'reporter_country'])['value'].sum()).reset_index()\n",
        "g1= pd.DataFrame(export_temp.loc[[\"United States of America\"]].groupby(['timestamp', 'reporter_country'])['value'].sum()).reset_index()\n",
        "g2= pd.DataFrame(export_temp.loc[[\"India\"]].groupby(['timestamp', 'reporter_country'])['value'].sum()).reset_index()\n",
        "g3= pd.DataFrame(export_temp.loc[[\"United Kingdom\"]].groupby(['timestamp', 'reporter_country'])['value'].sum()).reset_index()\n",
        "g4= pd.DataFrame(export_temp.loc[[\"Brazil\"]].groupby(['timestamp', 'reporter_country'])['value'].sum()).reset_index()\n",
        "\n",
        "# Initialize figure with subplots\n",
        "fig = make_subplots(\n",
        "    rows=5, cols=1, subplot_titles=(\"Trend for\" + country_1,\n",
        "                                    \"Trend for\" + country_2,\n",
        "                                    \"Trend for \" + country_3,\n",
        "                                    \"Trend for \" + country_4,\n",
        "                                    \"Trend for\" + country_5\n",
        "                                   )\n",
        ")\n",
        "\n",
        "# Add traces\n",
        "fig.add_trace(go.Scatter(x=g.timestamp, y=g.value), row=1, col=1)\n",
        "fig.add_trace(go.Scatter(x=g1.timestamp, y=g1.value), row=2, col=1)\n",
        "fig.add_trace(go.Scatter(x=g2.timestamp, y=g2.value), row=3, col=1)\n",
        "fig.add_trace(go.Scatter(x=g3.timestamp, y=g3.value), row=4, col=1)\n",
        "fig.add_trace(go.Scatter(x=g4.timestamp, y=g4.value), row=5, col=1)\n",
        "\n",
        "\n",
        "# Update xaxis properties\n",
        "fig.update_xaxes(title_text=\"timestamp\", row=1, col=1)\n",
        "fig.update_xaxes(title_text=\"timestamp\", row=2, col=1)\n",
        "fig.update_xaxes(title_text=\"timestamp\", row=3, col=1)\n",
        "fig.update_xaxes(title_text=\"timestamp\", row=4, col=1)\n",
        "fig.update_xaxes(title_text=\"timestamp\", row=5, col=1)\n",
        "\n",
        "# Update yaxis properties\n",
        "fig.update_yaxes(title_text=\"Million US $\", row=1, col=1)\n",
        "fig.update_yaxes(title_text=\"Million US $\", row=2, col=1)\n",
        "fig.update_yaxes(title_text=\"Million US $\", row=3, col=1)\n",
        "fig.update_yaxes(title_text=\"Million US $\", row=4, col=1)\n",
        "fig.update_yaxes(title_text=\"Million US $\", row=5, col=1)\n",
        "\n",
        "# Update title and height\n",
        "fig.update_layout(title_text=\"Country Trends for year 2018-20 Exports\", showlegend=False, height = 1500 )\n",
        "fig.show()"
      ],
      "metadata": {
        "colab": {
          "base_uri": "https://localhost:8080/",
          "height": 1000
        },
        "id": "VDiWTntov6Gr",
        "outputId": "6adab6c1-40a6-4fc4-b240-50278d8f0ac2"
      },
      "execution_count": 217,
      "outputs": [
        {
          "output_type": "display_data",
          "data": {
            "text/html": [
              "<html>\n",
              "<head><meta charset=\"utf-8\" /></head>\n",
              "<body>\n",
              "    <div>            <script src=\"https://cdnjs.cloudflare.com/ajax/libs/mathjax/2.7.5/MathJax.js?config=TeX-AMS-MML_SVG\"></script><script type=\"text/javascript\">if (window.MathJax) {MathJax.Hub.Config({SVG: {font: \"STIX-Web\"}});}</script>                <script type=\"text/javascript\">window.PlotlyConfig = {MathJaxConfig: 'local'};</script>\n",
              "        <script src=\"https://cdn.plot.ly/plotly-2.8.3.min.js\"></script>                <div id=\"a0bf67da-4f4c-45b3-a2d4-806685e96dcd\" class=\"plotly-graph-div\" style=\"height:1500px; width:100%;\"></div>            <script type=\"text/javascript\">                                    window.PLOTLYENV=window.PLOTLYENV || {};                                    if (document.getElementById(\"a0bf67da-4f4c-45b3-a2d4-806685e96dcd\")) {                    Plotly.newPlot(                        \"a0bf67da-4f4c-45b3-a2d4-806685e96dcd\",                        [{\"x\":[\"2018-01-01T00:00:00\",\"2018-02-01T00:00:00\",\"2018-03-01T00:00:00\",\"2018-04-01T00:00:00\",\"2018-05-01T00:00:00\",\"2018-06-01T00:00:00\",\"2018-07-01T00:00:00\",\"2018-08-01T00:00:00\",\"2018-09-01T00:00:00\",\"2018-10-01T00:00:00\",\"2018-11-01T00:00:00\",\"2018-12-01T00:00:00\",\"2019-01-01T00:00:00\",\"2019-02-01T00:00:00\",\"2019-03-01T00:00:00\",\"2019-04-01T00:00:00\",\"2019-05-01T00:00:00\",\"2019-06-01T00:00:00\",\"2019-07-01T00:00:00\",\"2019-08-01T00:00:00\",\"2019-09-01T00:00:00\",\"2019-10-01T00:00:00\",\"2019-11-01T00:00:00\",\"2019-12-01T00:00:00\"],\"y\":[14631089,8487342,15116555,26389730,18482625,17611892,19966564,16709840,10310583,18956297,21238137,16089982,16655249,12412380,21043957,21644106,20628290,14170835,23909032,20234715,10863742,21184324,22651264,24303573],\"type\":\"scatter\",\"xaxis\":\"x\",\"yaxis\":\"y\"},{\"x\":[\"2018-01-01T00:00:00\",\"2018-02-01T00:00:00\",\"2018-03-01T00:00:00\",\"2018-04-01T00:00:00\",\"2018-05-01T00:00:00\",\"2018-06-01T00:00:00\",\"2018-07-01T00:00:00\",\"2018-08-01T00:00:00\",\"2018-09-01T00:00:00\",\"2018-10-01T00:00:00\",\"2018-11-01T00:00:00\",\"2018-12-01T00:00:00\",\"2019-01-01T00:00:00\",\"2019-02-01T00:00:00\",\"2019-03-01T00:00:00\",\"2019-04-01T00:00:00\",\"2019-05-01T00:00:00\",\"2019-06-01T00:00:00\",\"2019-07-01T00:00:00\",\"2019-08-01T00:00:00\",\"2019-09-01T00:00:00\",\"2019-10-01T00:00:00\",\"2019-11-01T00:00:00\",\"2019-12-01T00:00:00\"],\"y\":[232734053,265599511,259964470,255014329,290489297,342839383,300539287,299774797,310842969,343522055,292161731,295953327,312774174,295477141,314866355,314363477,332723733,346765618,327495712,368726811,322181305,358169749,284841716,302420633],\"type\":\"scatter\",\"xaxis\":\"x2\",\"yaxis\":\"y2\"},{\"x\":[\"2018-01-01T00:00:00\",\"2018-02-01T00:00:00\",\"2018-03-01T00:00:00\",\"2018-04-01T00:00:00\",\"2018-05-01T00:00:00\",\"2018-06-01T00:00:00\",\"2018-07-01T00:00:00\",\"2018-08-01T00:00:00\",\"2018-09-01T00:00:00\",\"2018-10-01T00:00:00\",\"2018-11-01T00:00:00\",\"2018-12-01T00:00:00\",\"2019-01-01T00:00:00\",\"2019-02-01T00:00:00\",\"2019-03-01T00:00:00\",\"2019-04-01T00:00:00\",\"2019-05-01T00:00:00\",\"2019-06-01T00:00:00\",\"2019-07-01T00:00:00\",\"2019-08-01T00:00:00\",\"2019-09-01T00:00:00\",\"2019-10-01T00:00:00\",\"2019-11-01T00:00:00\",\"2019-12-01T00:00:00\"],\"y\":[18856402,8717652,28392668,19667206,17357890,17645498,25198524,35849971,47661218,45661349,60491134,44477407,48006455,58469172,58777728,41646731,38861222,34790925,48865600,36736203,29764852,28414748,47539898,32843564],\"type\":\"scatter\",\"xaxis\":\"x3\",\"yaxis\":\"y3\"},{\"x\":[\"2018-01-01T00:00:00\",\"2018-02-01T00:00:00\",\"2018-03-01T00:00:00\",\"2018-04-01T00:00:00\",\"2018-05-01T00:00:00\",\"2018-06-01T00:00:00\",\"2018-07-01T00:00:00\",\"2018-08-01T00:00:00\",\"2018-09-01T00:00:00\",\"2018-10-01T00:00:00\",\"2018-11-01T00:00:00\",\"2018-12-01T00:00:00\",\"2019-01-01T00:00:00\",\"2019-02-01T00:00:00\",\"2019-03-01T00:00:00\",\"2019-04-01T00:00:00\",\"2019-05-01T00:00:00\",\"2019-06-01T00:00:00\",\"2019-07-01T00:00:00\",\"2019-08-01T00:00:00\",\"2019-09-01T00:00:00\",\"2019-10-01T00:00:00\",\"2019-11-01T00:00:00\",\"2019-12-01T00:00:00\"],\"y\":[5153640,7200607,7450410,6516854,6024166,8082047,5937164,7748391,5252541,5851757,7253379,5631481,6367947,6314193,7674565,6680601,5560437,5035280,7107380,5826608,6135050,4668494,5179367,3949469],\"type\":\"scatter\",\"xaxis\":\"x4\",\"yaxis\":\"y4\"},{\"x\":[\"2018-01-01T00:00:00\",\"2018-02-01T00:00:00\",\"2018-03-01T00:00:00\",\"2018-04-01T00:00:00\",\"2018-05-01T00:00:00\",\"2018-06-01T00:00:00\",\"2018-07-01T00:00:00\",\"2018-08-01T00:00:00\",\"2018-09-01T00:00:00\",\"2018-10-01T00:00:00\",\"2018-11-01T00:00:00\",\"2018-12-01T00:00:00\",\"2019-01-01T00:00:00\",\"2019-02-01T00:00:00\",\"2019-03-01T00:00:00\",\"2019-04-01T00:00:00\",\"2019-05-01T00:00:00\",\"2019-06-01T00:00:00\",\"2019-07-01T00:00:00\",\"2019-08-01T00:00:00\",\"2019-09-01T00:00:00\",\"2019-10-01T00:00:00\",\"2019-11-01T00:00:00\",\"2019-12-01T00:00:00\"],\"y\":[46025981,35562374,37172805,39143329,36981207,27315890,32910392,43972277,39416285,42631592,28684628,36202803,32462873,29367982,26997797,24655884,28126202,26283663,30487579,31694629,18521966,23508516,25674718,18073457],\"type\":\"scatter\",\"xaxis\":\"x5\",\"yaxis\":\"y5\"}],                        {\"template\":{\"data\":{\"bar\":[{\"error_x\":{\"color\":\"#2a3f5f\"},\"error_y\":{\"color\":\"#2a3f5f\"},\"marker\":{\"line\":{\"color\":\"#E5ECF6\",\"width\":0.5},\"pattern\":{\"fillmode\":\"overlay\",\"size\":10,\"solidity\":0.2}},\"type\":\"bar\"}],\"barpolar\":[{\"marker\":{\"line\":{\"color\":\"#E5ECF6\",\"width\":0.5},\"pattern\":{\"fillmode\":\"overlay\",\"size\":10,\"solidity\":0.2}},\"type\":\"barpolar\"}],\"carpet\":[{\"aaxis\":{\"endlinecolor\":\"#2a3f5f\",\"gridcolor\":\"white\",\"linecolor\":\"white\",\"minorgridcolor\":\"white\",\"startlinecolor\":\"#2a3f5f\"},\"baxis\":{\"endlinecolor\":\"#2a3f5f\",\"gridcolor\":\"white\",\"linecolor\":\"white\",\"minorgridcolor\":\"white\",\"startlinecolor\":\"#2a3f5f\"},\"type\":\"carpet\"}],\"choropleth\":[{\"colorbar\":{\"outlinewidth\":0,\"ticks\":\"\"},\"type\":\"choropleth\"}],\"contour\":[{\"colorbar\":{\"outlinewidth\":0,\"ticks\":\"\"},\"colorscale\":[[0.0,\"#0d0887\"],[0.1111111111111111,\"#46039f\"],[0.2222222222222222,\"#7201a8\"],[0.3333333333333333,\"#9c179e\"],[0.4444444444444444,\"#bd3786\"],[0.5555555555555556,\"#d8576b\"],[0.6666666666666666,\"#ed7953\"],[0.7777777777777778,\"#fb9f3a\"],[0.8888888888888888,\"#fdca26\"],[1.0,\"#f0f921\"]],\"type\":\"contour\"}],\"contourcarpet\":[{\"colorbar\":{\"outlinewidth\":0,\"ticks\":\"\"},\"type\":\"contourcarpet\"}],\"heatmap\":[{\"colorbar\":{\"outlinewidth\":0,\"ticks\":\"\"},\"colorscale\":[[0.0,\"#0d0887\"],[0.1111111111111111,\"#46039f\"],[0.2222222222222222,\"#7201a8\"],[0.3333333333333333,\"#9c179e\"],[0.4444444444444444,\"#bd3786\"],[0.5555555555555556,\"#d8576b\"],[0.6666666666666666,\"#ed7953\"],[0.7777777777777778,\"#fb9f3a\"],[0.8888888888888888,\"#fdca26\"],[1.0,\"#f0f921\"]],\"type\":\"heatmap\"}],\"heatmapgl\":[{\"colorbar\":{\"outlinewidth\":0,\"ticks\":\"\"},\"colorscale\":[[0.0,\"#0d0887\"],[0.1111111111111111,\"#46039f\"],[0.2222222222222222,\"#7201a8\"],[0.3333333333333333,\"#9c179e\"],[0.4444444444444444,\"#bd3786\"],[0.5555555555555556,\"#d8576b\"],[0.6666666666666666,\"#ed7953\"],[0.7777777777777778,\"#fb9f3a\"],[0.8888888888888888,\"#fdca26\"],[1.0,\"#f0f921\"]],\"type\":\"heatmapgl\"}],\"histogram\":[{\"marker\":{\"pattern\":{\"fillmode\":\"overlay\",\"size\":10,\"solidity\":0.2}},\"type\":\"histogram\"}],\"histogram2d\":[{\"colorbar\":{\"outlinewidth\":0,\"ticks\":\"\"},\"colorscale\":[[0.0,\"#0d0887\"],[0.1111111111111111,\"#46039f\"],[0.2222222222222222,\"#7201a8\"],[0.3333333333333333,\"#9c179e\"],[0.4444444444444444,\"#bd3786\"],[0.5555555555555556,\"#d8576b\"],[0.6666666666666666,\"#ed7953\"],[0.7777777777777778,\"#fb9f3a\"],[0.8888888888888888,\"#fdca26\"],[1.0,\"#f0f921\"]],\"type\":\"histogram2d\"}],\"histogram2dcontour\":[{\"colorbar\":{\"outlinewidth\":0,\"ticks\":\"\"},\"colorscale\":[[0.0,\"#0d0887\"],[0.1111111111111111,\"#46039f\"],[0.2222222222222222,\"#7201a8\"],[0.3333333333333333,\"#9c179e\"],[0.4444444444444444,\"#bd3786\"],[0.5555555555555556,\"#d8576b\"],[0.6666666666666666,\"#ed7953\"],[0.7777777777777778,\"#fb9f3a\"],[0.8888888888888888,\"#fdca26\"],[1.0,\"#f0f921\"]],\"type\":\"histogram2dcontour\"}],\"mesh3d\":[{\"colorbar\":{\"outlinewidth\":0,\"ticks\":\"\"},\"type\":\"mesh3d\"}],\"parcoords\":[{\"line\":{\"colorbar\":{\"outlinewidth\":0,\"ticks\":\"\"}},\"type\":\"parcoords\"}],\"pie\":[{\"automargin\":true,\"type\":\"pie\"}],\"scatter\":[{\"marker\":{\"colorbar\":{\"outlinewidth\":0,\"ticks\":\"\"}},\"type\":\"scatter\"}],\"scatter3d\":[{\"line\":{\"colorbar\":{\"outlinewidth\":0,\"ticks\":\"\"}},\"marker\":{\"colorbar\":{\"outlinewidth\":0,\"ticks\":\"\"}},\"type\":\"scatter3d\"}],\"scattercarpet\":[{\"marker\":{\"colorbar\":{\"outlinewidth\":0,\"ticks\":\"\"}},\"type\":\"scattercarpet\"}],\"scattergeo\":[{\"marker\":{\"colorbar\":{\"outlinewidth\":0,\"ticks\":\"\"}},\"type\":\"scattergeo\"}],\"scattergl\":[{\"marker\":{\"colorbar\":{\"outlinewidth\":0,\"ticks\":\"\"}},\"type\":\"scattergl\"}],\"scattermapbox\":[{\"marker\":{\"colorbar\":{\"outlinewidth\":0,\"ticks\":\"\"}},\"type\":\"scattermapbox\"}],\"scatterpolar\":[{\"marker\":{\"colorbar\":{\"outlinewidth\":0,\"ticks\":\"\"}},\"type\":\"scatterpolar\"}],\"scatterpolargl\":[{\"marker\":{\"colorbar\":{\"outlinewidth\":0,\"ticks\":\"\"}},\"type\":\"scatterpolargl\"}],\"scatterternary\":[{\"marker\":{\"colorbar\":{\"outlinewidth\":0,\"ticks\":\"\"}},\"type\":\"scatterternary\"}],\"surface\":[{\"colorbar\":{\"outlinewidth\":0,\"ticks\":\"\"},\"colorscale\":[[0.0,\"#0d0887\"],[0.1111111111111111,\"#46039f\"],[0.2222222222222222,\"#7201a8\"],[0.3333333333333333,\"#9c179e\"],[0.4444444444444444,\"#bd3786\"],[0.5555555555555556,\"#d8576b\"],[0.6666666666666666,\"#ed7953\"],[0.7777777777777778,\"#fb9f3a\"],[0.8888888888888888,\"#fdca26\"],[1.0,\"#f0f921\"]],\"type\":\"surface\"}],\"table\":[{\"cells\":{\"fill\":{\"color\":\"#EBF0F8\"},\"line\":{\"color\":\"white\"}},\"header\":{\"fill\":{\"color\":\"#C8D4E3\"},\"line\":{\"color\":\"white\"}},\"type\":\"table\"}]},\"layout\":{\"annotationdefaults\":{\"arrowcolor\":\"#2a3f5f\",\"arrowhead\":0,\"arrowwidth\":1},\"autotypenumbers\":\"strict\",\"coloraxis\":{\"colorbar\":{\"outlinewidth\":0,\"ticks\":\"\"}},\"colorscale\":{\"diverging\":[[0,\"#8e0152\"],[0.1,\"#c51b7d\"],[0.2,\"#de77ae\"],[0.3,\"#f1b6da\"],[0.4,\"#fde0ef\"],[0.5,\"#f7f7f7\"],[0.6,\"#e6f5d0\"],[0.7,\"#b8e186\"],[0.8,\"#7fbc41\"],[0.9,\"#4d9221\"],[1,\"#276419\"]],\"sequential\":[[0.0,\"#0d0887\"],[0.1111111111111111,\"#46039f\"],[0.2222222222222222,\"#7201a8\"],[0.3333333333333333,\"#9c179e\"],[0.4444444444444444,\"#bd3786\"],[0.5555555555555556,\"#d8576b\"],[0.6666666666666666,\"#ed7953\"],[0.7777777777777778,\"#fb9f3a\"],[0.8888888888888888,\"#fdca26\"],[1.0,\"#f0f921\"]],\"sequentialminus\":[[0.0,\"#0d0887\"],[0.1111111111111111,\"#46039f\"],[0.2222222222222222,\"#7201a8\"],[0.3333333333333333,\"#9c179e\"],[0.4444444444444444,\"#bd3786\"],[0.5555555555555556,\"#d8576b\"],[0.6666666666666666,\"#ed7953\"],[0.7777777777777778,\"#fb9f3a\"],[0.8888888888888888,\"#fdca26\"],[1.0,\"#f0f921\"]]},\"colorway\":[\"#636efa\",\"#EF553B\",\"#00cc96\",\"#ab63fa\",\"#FFA15A\",\"#19d3f3\",\"#FF6692\",\"#B6E880\",\"#FF97FF\",\"#FECB52\"],\"font\":{\"color\":\"#2a3f5f\"},\"geo\":{\"bgcolor\":\"white\",\"lakecolor\":\"white\",\"landcolor\":\"#E5ECF6\",\"showlakes\":true,\"showland\":true,\"subunitcolor\":\"white\"},\"hoverlabel\":{\"align\":\"left\"},\"hovermode\":\"closest\",\"mapbox\":{\"style\":\"light\"},\"paper_bgcolor\":\"white\",\"plot_bgcolor\":\"#E5ECF6\",\"polar\":{\"angularaxis\":{\"gridcolor\":\"white\",\"linecolor\":\"white\",\"ticks\":\"\"},\"bgcolor\":\"#E5ECF6\",\"radialaxis\":{\"gridcolor\":\"white\",\"linecolor\":\"white\",\"ticks\":\"\"}},\"scene\":{\"xaxis\":{\"backgroundcolor\":\"#E5ECF6\",\"gridcolor\":\"white\",\"gridwidth\":2,\"linecolor\":\"white\",\"showbackground\":true,\"ticks\":\"\",\"zerolinecolor\":\"white\"},\"yaxis\":{\"backgroundcolor\":\"#E5ECF6\",\"gridcolor\":\"white\",\"gridwidth\":2,\"linecolor\":\"white\",\"showbackground\":true,\"ticks\":\"\",\"zerolinecolor\":\"white\"},\"zaxis\":{\"backgroundcolor\":\"#E5ECF6\",\"gridcolor\":\"white\",\"gridwidth\":2,\"linecolor\":\"white\",\"showbackground\":true,\"ticks\":\"\",\"zerolinecolor\":\"white\"}},\"shapedefaults\":{\"line\":{\"color\":\"#2a3f5f\"}},\"ternary\":{\"aaxis\":{\"gridcolor\":\"white\",\"linecolor\":\"white\",\"ticks\":\"\"},\"baxis\":{\"gridcolor\":\"white\",\"linecolor\":\"white\",\"ticks\":\"\"},\"bgcolor\":\"#E5ECF6\",\"caxis\":{\"gridcolor\":\"white\",\"linecolor\":\"white\",\"ticks\":\"\"}},\"title\":{\"x\":0.05},\"xaxis\":{\"automargin\":true,\"gridcolor\":\"white\",\"linecolor\":\"white\",\"ticks\":\"\",\"title\":{\"standoff\":15},\"zerolinecolor\":\"white\",\"zerolinewidth\":2},\"yaxis\":{\"automargin\":true,\"gridcolor\":\"white\",\"linecolor\":\"white\",\"ticks\":\"\",\"title\":{\"standoff\":15},\"zerolinecolor\":\"white\",\"zerolinewidth\":2}}},\"xaxis\":{\"anchor\":\"y\",\"domain\":[0.0,1.0],\"title\":{\"text\":\"timestamp\"}},\"yaxis\":{\"anchor\":\"x\",\"domain\":[0.88,1.0],\"title\":{\"text\":\"Million US $\"}},\"xaxis2\":{\"anchor\":\"y2\",\"domain\":[0.0,1.0],\"title\":{\"text\":\"timestamp\"}},\"yaxis2\":{\"anchor\":\"x2\",\"domain\":[0.66,0.78],\"title\":{\"text\":\"Million US $\"}},\"xaxis3\":{\"anchor\":\"y3\",\"domain\":[0.0,1.0],\"title\":{\"text\":\"timestamp\"}},\"yaxis3\":{\"anchor\":\"x3\",\"domain\":[0.44,0.56],\"title\":{\"text\":\"Million US $\"}},\"xaxis4\":{\"anchor\":\"y4\",\"domain\":[0.0,1.0],\"title\":{\"text\":\"timestamp\"}},\"yaxis4\":{\"anchor\":\"x4\",\"domain\":[0.22,0.33999999999999997],\"title\":{\"text\":\"Million US $\"}},\"xaxis5\":{\"anchor\":\"y5\",\"domain\":[0.0,1.0],\"title\":{\"text\":\"timestamp\"}},\"yaxis5\":{\"anchor\":\"x5\",\"domain\":[0.0,0.12],\"title\":{\"text\":\"Million US $\"}},\"annotations\":[{\"font\":{\"size\":16},\"showarrow\":false,\"text\":\"Trend forChina\",\"x\":0.5,\"xanchor\":\"center\",\"xref\":\"paper\",\"y\":1.0,\"yanchor\":\"bottom\",\"yref\":\"paper\"},{\"font\":{\"size\":16},\"showarrow\":false,\"text\":\"Trend forUnited States of America\",\"x\":0.5,\"xanchor\":\"center\",\"xref\":\"paper\",\"y\":0.78,\"yanchor\":\"bottom\",\"yref\":\"paper\"},{\"font\":{\"size\":16},\"showarrow\":false,\"text\":\"Trend for India\",\"x\":0.5,\"xanchor\":\"center\",\"xref\":\"paper\",\"y\":0.56,\"yanchor\":\"bottom\",\"yref\":\"paper\"},{\"font\":{\"size\":16},\"showarrow\":false,\"text\":\"Trend for United Kingdom\",\"x\":0.5,\"xanchor\":\"center\",\"xref\":\"paper\",\"y\":0.33999999999999997,\"yanchor\":\"bottom\",\"yref\":\"paper\"},{\"font\":{\"size\":16},\"showarrow\":false,\"text\":\"Trend forBrazil\",\"x\":0.5,\"xanchor\":\"center\",\"xref\":\"paper\",\"y\":0.12,\"yanchor\":\"bottom\",\"yref\":\"paper\"}],\"title\":{\"text\":\"Country Trends for year 2018-20 Exports\"},\"showlegend\":false,\"height\":1500},                        {\"responsive\": true}                    ).then(function(){\n",
              "                            \n",
              "var gd = document.getElementById('a0bf67da-4f4c-45b3-a2d4-806685e96dcd');\n",
              "var x = new MutationObserver(function (mutations, observer) {{\n",
              "        var display = window.getComputedStyle(gd).display;\n",
              "        if (!display || display === 'none') {{\n",
              "            console.log([gd, 'removed!']);\n",
              "            Plotly.purge(gd);\n",
              "            observer.disconnect();\n",
              "        }}\n",
              "}});\n",
              "\n",
              "// Listen for the removal of the full notebook cells\n",
              "var notebookContainer = gd.closest('#notebook-container');\n",
              "if (notebookContainer) {{\n",
              "    x.observe(notebookContainer, {childList: true});\n",
              "}}\n",
              "\n",
              "// Listen for the clearing of the current output cell\n",
              "var outputEl = gd.closest('.output');\n",
              "if (outputEl) {{\n",
              "    x.observe(outputEl, {childList: true});\n",
              "}}\n",
              "\n",
              "                        })                };                            </script>        </div>\n",
              "</body>\n",
              "</html>"
            ]
          },
          "metadata": {}
        }
      ]
    },
    {
      "cell_type": "markdown",
      "source": [
        "GOOD NEWS IS INDIA DECREASING ITS IMPORTS AND THAT DIRECTLY EFFECT CHINA'S IMPORTS AS WE CAN SEE  "
      ],
      "metadata": {
        "id": "o8A-aMkBliiI"
      }
    },
    {
      "cell_type": "markdown",
      "source": [
        "Country based Data Analysis:"
      ],
      "metadata": {
        "id": "p1QyR6hgzxXl"
      }
    },
    {
      "cell_type": "code",
      "source": [
        "print(\"Number of Countries that imports  \" + str(df_interval1['reporter_country'].nunique()))\n",
        "print(\"Number of Countries that exports \" + str(df_interval1e['reporter_country'].nunique()))"
      ],
      "metadata": {
        "id": "LWTHJ7SBehzg",
        "colab": {
          "base_uri": "https://localhost:8080/"
        },
        "outputId": "79fd929b-59b6-447f-99e0-862889c8f954"
      },
      "execution_count": 218,
      "outputs": [
        {
          "output_type": "stream",
          "name": "stdout",
          "text": [
            "Number of Countries that imports  125\n",
            "Number of Countries that exports 96\n"
          ]
        }
      ]
    },
    {
      "cell_type": "code",
      "source": [
        "import warnings\n",
        "warnings.filterwarnings(\"ignore\")\n",
        "\n",
        "exp_country = df_interval1e.groupby('reporter_country').agg({'value':'sum'})\n",
        "exp_country = exp_country.rename(columns={'value': 'Export'})\n",
        "exp_country = exp_country.sort_values(by = 'Export', ascending = False)\n",
        "exp_country = exp_country[:20]\n",
        "exp_country_tmp = exp_country[:10]"
      ],
      "metadata": {
        "id": "5QT_p8qa10VT"
      },
      "execution_count": 219,
      "outputs": []
    },
    {
      "cell_type": "code",
      "source": [
        "px.bar(data_frame = exp_country_tmp, x=exp_country_tmp.index, y ='Export',\n",
        "labels={'reporter_country':\"Countries\", 'Export': \"Total Exports in Million US$\" } , color='Export', width=1200)"
      ],
      "metadata": {
        "colab": {
          "base_uri": "https://localhost:8080/",
          "height": 562
        },
        "id": "Wm0-AAcp2MII",
        "outputId": "bfdd637f-3d3e-4bc7-b197-54acd727f4c7"
      },
      "execution_count": 220,
      "outputs": [
        {
          "output_type": "display_data",
          "data": {
            "text/html": [
              "<html>\n",
              "<head><meta charset=\"utf-8\" /></head>\n",
              "<body>\n",
              "    <div>            <script src=\"https://cdnjs.cloudflare.com/ajax/libs/mathjax/2.7.5/MathJax.js?config=TeX-AMS-MML_SVG\"></script><script type=\"text/javascript\">if (window.MathJax) {MathJax.Hub.Config({SVG: {font: \"STIX-Web\"}});}</script>                <script type=\"text/javascript\">window.PlotlyConfig = {MathJaxConfig: 'local'};</script>\n",
              "        <script src=\"https://cdn.plot.ly/plotly-2.8.3.min.js\"></script>                <div id=\"14dd9f56-cac7-4420-8283-1bd4e7bf7c3c\" class=\"plotly-graph-div\" style=\"height:525px; width:1200px;\"></div>            <script type=\"text/javascript\">                                    window.PLOTLYENV=window.PLOTLYENV || {};                                    if (document.getElementById(\"14dd9f56-cac7-4420-8283-1bd4e7bf7c3c\")) {                    Plotly.newPlot(                        \"14dd9f56-cac7-4420-8283-1bd4e7bf7c3c\",                        [{\"alignmentgroup\":\"True\",\"hovertemplate\":\"Countries=%{x}<br>Total Exports in Million US$=%{marker.color}<extra></extra>\",\"legendgroup\":\"\",\"marker\":{\"color\":[7370241633,3171342101,3070370373,2939454118,2865892696,2808563428,2716007227,1851954491,1177905418,1170623142],\"coloraxis\":\"coloraxis\",\"pattern\":{\"shape\":\"\"}},\"name\":\"\",\"offsetgroup\":\"\",\"orientation\":\"v\",\"showlegend\":false,\"textposition\":\"auto\",\"x\":[\"United States of America\",\"United Arab Emirates\",\"South Korea\",\"Germany\",\"Canada\",\"Thailand\",\"Singapore\",\"Belgium\",\"Malaysia\",\"Netherlands\"],\"xaxis\":\"x\",\"y\":[7370241633,3171342101,3070370373,2939454118,2865892696,2808563428,2716007227,1851954491,1177905418,1170623142],\"yaxis\":\"y\",\"type\":\"bar\"}],                        {\"template\":{\"data\":{\"bar\":[{\"error_x\":{\"color\":\"#2a3f5f\"},\"error_y\":{\"color\":\"#2a3f5f\"},\"marker\":{\"line\":{\"color\":\"#E5ECF6\",\"width\":0.5},\"pattern\":{\"fillmode\":\"overlay\",\"size\":10,\"solidity\":0.2}},\"type\":\"bar\"}],\"barpolar\":[{\"marker\":{\"line\":{\"color\":\"#E5ECF6\",\"width\":0.5},\"pattern\":{\"fillmode\":\"overlay\",\"size\":10,\"solidity\":0.2}},\"type\":\"barpolar\"}],\"carpet\":[{\"aaxis\":{\"endlinecolor\":\"#2a3f5f\",\"gridcolor\":\"white\",\"linecolor\":\"white\",\"minorgridcolor\":\"white\",\"startlinecolor\":\"#2a3f5f\"},\"baxis\":{\"endlinecolor\":\"#2a3f5f\",\"gridcolor\":\"white\",\"linecolor\":\"white\",\"minorgridcolor\":\"white\",\"startlinecolor\":\"#2a3f5f\"},\"type\":\"carpet\"}],\"choropleth\":[{\"colorbar\":{\"outlinewidth\":0,\"ticks\":\"\"},\"type\":\"choropleth\"}],\"contour\":[{\"colorbar\":{\"outlinewidth\":0,\"ticks\":\"\"},\"colorscale\":[[0.0,\"#0d0887\"],[0.1111111111111111,\"#46039f\"],[0.2222222222222222,\"#7201a8\"],[0.3333333333333333,\"#9c179e\"],[0.4444444444444444,\"#bd3786\"],[0.5555555555555556,\"#d8576b\"],[0.6666666666666666,\"#ed7953\"],[0.7777777777777778,\"#fb9f3a\"],[0.8888888888888888,\"#fdca26\"],[1.0,\"#f0f921\"]],\"type\":\"contour\"}],\"contourcarpet\":[{\"colorbar\":{\"outlinewidth\":0,\"ticks\":\"\"},\"type\":\"contourcarpet\"}],\"heatmap\":[{\"colorbar\":{\"outlinewidth\":0,\"ticks\":\"\"},\"colorscale\":[[0.0,\"#0d0887\"],[0.1111111111111111,\"#46039f\"],[0.2222222222222222,\"#7201a8\"],[0.3333333333333333,\"#9c179e\"],[0.4444444444444444,\"#bd3786\"],[0.5555555555555556,\"#d8576b\"],[0.6666666666666666,\"#ed7953\"],[0.7777777777777778,\"#fb9f3a\"],[0.8888888888888888,\"#fdca26\"],[1.0,\"#f0f921\"]],\"type\":\"heatmap\"}],\"heatmapgl\":[{\"colorbar\":{\"outlinewidth\":0,\"ticks\":\"\"},\"colorscale\":[[0.0,\"#0d0887\"],[0.1111111111111111,\"#46039f\"],[0.2222222222222222,\"#7201a8\"],[0.3333333333333333,\"#9c179e\"],[0.4444444444444444,\"#bd3786\"],[0.5555555555555556,\"#d8576b\"],[0.6666666666666666,\"#ed7953\"],[0.7777777777777778,\"#fb9f3a\"],[0.8888888888888888,\"#fdca26\"],[1.0,\"#f0f921\"]],\"type\":\"heatmapgl\"}],\"histogram\":[{\"marker\":{\"pattern\":{\"fillmode\":\"overlay\",\"size\":10,\"solidity\":0.2}},\"type\":\"histogram\"}],\"histogram2d\":[{\"colorbar\":{\"outlinewidth\":0,\"ticks\":\"\"},\"colorscale\":[[0.0,\"#0d0887\"],[0.1111111111111111,\"#46039f\"],[0.2222222222222222,\"#7201a8\"],[0.3333333333333333,\"#9c179e\"],[0.4444444444444444,\"#bd3786\"],[0.5555555555555556,\"#d8576b\"],[0.6666666666666666,\"#ed7953\"],[0.7777777777777778,\"#fb9f3a\"],[0.8888888888888888,\"#fdca26\"],[1.0,\"#f0f921\"]],\"type\":\"histogram2d\"}],\"histogram2dcontour\":[{\"colorbar\":{\"outlinewidth\":0,\"ticks\":\"\"},\"colorscale\":[[0.0,\"#0d0887\"],[0.1111111111111111,\"#46039f\"],[0.2222222222222222,\"#7201a8\"],[0.3333333333333333,\"#9c179e\"],[0.4444444444444444,\"#bd3786\"],[0.5555555555555556,\"#d8576b\"],[0.6666666666666666,\"#ed7953\"],[0.7777777777777778,\"#fb9f3a\"],[0.8888888888888888,\"#fdca26\"],[1.0,\"#f0f921\"]],\"type\":\"histogram2dcontour\"}],\"mesh3d\":[{\"colorbar\":{\"outlinewidth\":0,\"ticks\":\"\"},\"type\":\"mesh3d\"}],\"parcoords\":[{\"line\":{\"colorbar\":{\"outlinewidth\":0,\"ticks\":\"\"}},\"type\":\"parcoords\"}],\"pie\":[{\"automargin\":true,\"type\":\"pie\"}],\"scatter\":[{\"marker\":{\"colorbar\":{\"outlinewidth\":0,\"ticks\":\"\"}},\"type\":\"scatter\"}],\"scatter3d\":[{\"line\":{\"colorbar\":{\"outlinewidth\":0,\"ticks\":\"\"}},\"marker\":{\"colorbar\":{\"outlinewidth\":0,\"ticks\":\"\"}},\"type\":\"scatter3d\"}],\"scattercarpet\":[{\"marker\":{\"colorbar\":{\"outlinewidth\":0,\"ticks\":\"\"}},\"type\":\"scattercarpet\"}],\"scattergeo\":[{\"marker\":{\"colorbar\":{\"outlinewidth\":0,\"ticks\":\"\"}},\"type\":\"scattergeo\"}],\"scattergl\":[{\"marker\":{\"colorbar\":{\"outlinewidth\":0,\"ticks\":\"\"}},\"type\":\"scattergl\"}],\"scattermapbox\":[{\"marker\":{\"colorbar\":{\"outlinewidth\":0,\"ticks\":\"\"}},\"type\":\"scattermapbox\"}],\"scatterpolar\":[{\"marker\":{\"colorbar\":{\"outlinewidth\":0,\"ticks\":\"\"}},\"type\":\"scatterpolar\"}],\"scatterpolargl\":[{\"marker\":{\"colorbar\":{\"outlinewidth\":0,\"ticks\":\"\"}},\"type\":\"scatterpolargl\"}],\"scatterternary\":[{\"marker\":{\"colorbar\":{\"outlinewidth\":0,\"ticks\":\"\"}},\"type\":\"scatterternary\"}],\"surface\":[{\"colorbar\":{\"outlinewidth\":0,\"ticks\":\"\"},\"colorscale\":[[0.0,\"#0d0887\"],[0.1111111111111111,\"#46039f\"],[0.2222222222222222,\"#7201a8\"],[0.3333333333333333,\"#9c179e\"],[0.4444444444444444,\"#bd3786\"],[0.5555555555555556,\"#d8576b\"],[0.6666666666666666,\"#ed7953\"],[0.7777777777777778,\"#fb9f3a\"],[0.8888888888888888,\"#fdca26\"],[1.0,\"#f0f921\"]],\"type\":\"surface\"}],\"table\":[{\"cells\":{\"fill\":{\"color\":\"#EBF0F8\"},\"line\":{\"color\":\"white\"}},\"header\":{\"fill\":{\"color\":\"#C8D4E3\"},\"line\":{\"color\":\"white\"}},\"type\":\"table\"}]},\"layout\":{\"annotationdefaults\":{\"arrowcolor\":\"#2a3f5f\",\"arrowhead\":0,\"arrowwidth\":1},\"autotypenumbers\":\"strict\",\"coloraxis\":{\"colorbar\":{\"outlinewidth\":0,\"ticks\":\"\"}},\"colorscale\":{\"diverging\":[[0,\"#8e0152\"],[0.1,\"#c51b7d\"],[0.2,\"#de77ae\"],[0.3,\"#f1b6da\"],[0.4,\"#fde0ef\"],[0.5,\"#f7f7f7\"],[0.6,\"#e6f5d0\"],[0.7,\"#b8e186\"],[0.8,\"#7fbc41\"],[0.9,\"#4d9221\"],[1,\"#276419\"]],\"sequential\":[[0.0,\"#0d0887\"],[0.1111111111111111,\"#46039f\"],[0.2222222222222222,\"#7201a8\"],[0.3333333333333333,\"#9c179e\"],[0.4444444444444444,\"#bd3786\"],[0.5555555555555556,\"#d8576b\"],[0.6666666666666666,\"#ed7953\"],[0.7777777777777778,\"#fb9f3a\"],[0.8888888888888888,\"#fdca26\"],[1.0,\"#f0f921\"]],\"sequentialminus\":[[0.0,\"#0d0887\"],[0.1111111111111111,\"#46039f\"],[0.2222222222222222,\"#7201a8\"],[0.3333333333333333,\"#9c179e\"],[0.4444444444444444,\"#bd3786\"],[0.5555555555555556,\"#d8576b\"],[0.6666666666666666,\"#ed7953\"],[0.7777777777777778,\"#fb9f3a\"],[0.8888888888888888,\"#fdca26\"],[1.0,\"#f0f921\"]]},\"colorway\":[\"#636efa\",\"#EF553B\",\"#00cc96\",\"#ab63fa\",\"#FFA15A\",\"#19d3f3\",\"#FF6692\",\"#B6E880\",\"#FF97FF\",\"#FECB52\"],\"font\":{\"color\":\"#2a3f5f\"},\"geo\":{\"bgcolor\":\"white\",\"lakecolor\":\"white\",\"landcolor\":\"#E5ECF6\",\"showlakes\":true,\"showland\":true,\"subunitcolor\":\"white\"},\"hoverlabel\":{\"align\":\"left\"},\"hovermode\":\"closest\",\"mapbox\":{\"style\":\"light\"},\"paper_bgcolor\":\"white\",\"plot_bgcolor\":\"#E5ECF6\",\"polar\":{\"angularaxis\":{\"gridcolor\":\"white\",\"linecolor\":\"white\",\"ticks\":\"\"},\"bgcolor\":\"#E5ECF6\",\"radialaxis\":{\"gridcolor\":\"white\",\"linecolor\":\"white\",\"ticks\":\"\"}},\"scene\":{\"xaxis\":{\"backgroundcolor\":\"#E5ECF6\",\"gridcolor\":\"white\",\"gridwidth\":2,\"linecolor\":\"white\",\"showbackground\":true,\"ticks\":\"\",\"zerolinecolor\":\"white\"},\"yaxis\":{\"backgroundcolor\":\"#E5ECF6\",\"gridcolor\":\"white\",\"gridwidth\":2,\"linecolor\":\"white\",\"showbackground\":true,\"ticks\":\"\",\"zerolinecolor\":\"white\"},\"zaxis\":{\"backgroundcolor\":\"#E5ECF6\",\"gridcolor\":\"white\",\"gridwidth\":2,\"linecolor\":\"white\",\"showbackground\":true,\"ticks\":\"\",\"zerolinecolor\":\"white\"}},\"shapedefaults\":{\"line\":{\"color\":\"#2a3f5f\"}},\"ternary\":{\"aaxis\":{\"gridcolor\":\"white\",\"linecolor\":\"white\",\"ticks\":\"\"},\"baxis\":{\"gridcolor\":\"white\",\"linecolor\":\"white\",\"ticks\":\"\"},\"bgcolor\":\"#E5ECF6\",\"caxis\":{\"gridcolor\":\"white\",\"linecolor\":\"white\",\"ticks\":\"\"}},\"title\":{\"x\":0.05},\"xaxis\":{\"automargin\":true,\"gridcolor\":\"white\",\"linecolor\":\"white\",\"ticks\":\"\",\"title\":{\"standoff\":15},\"zerolinecolor\":\"white\",\"zerolinewidth\":2},\"yaxis\":{\"automargin\":true,\"gridcolor\":\"white\",\"linecolor\":\"white\",\"ticks\":\"\",\"title\":{\"standoff\":15},\"zerolinecolor\":\"white\",\"zerolinewidth\":2}}},\"xaxis\":{\"anchor\":\"y\",\"domain\":[0.0,1.0],\"title\":{\"text\":\"Countries\"}},\"yaxis\":{\"anchor\":\"x\",\"domain\":[0.0,1.0],\"title\":{\"text\":\"Total Exports in Million US$\"}},\"coloraxis\":{\"colorbar\":{\"title\":{\"text\":\"Total Exports in Million US$\"}},\"colorscale\":[[0.0,\"#0d0887\"],[0.1111111111111111,\"#46039f\"],[0.2222222222222222,\"#7201a8\"],[0.3333333333333333,\"#9c179e\"],[0.4444444444444444,\"#bd3786\"],[0.5555555555555556,\"#d8576b\"],[0.6666666666666666,\"#ed7953\"],[0.7777777777777778,\"#fb9f3a\"],[0.8888888888888888,\"#fdca26\"],[1.0,\"#f0f921\"]]},\"legend\":{\"tracegroupgap\":0},\"margin\":{\"t\":60},\"barmode\":\"relative\",\"width\":1200},                        {\"responsive\": true}                    ).then(function(){\n",
              "                            \n",
              "var gd = document.getElementById('14dd9f56-cac7-4420-8283-1bd4e7bf7c3c');\n",
              "var x = new MutationObserver(function (mutations, observer) {{\n",
              "        var display = window.getComputedStyle(gd).display;\n",
              "        if (!display || display === 'none') {{\n",
              "            console.log([gd, 'removed!']);\n",
              "            Plotly.purge(gd);\n",
              "            observer.disconnect();\n",
              "        }}\n",
              "}});\n",
              "\n",
              "// Listen for the removal of the full notebook cells\n",
              "var notebookContainer = gd.closest('#notebook-container');\n",
              "if (notebookContainer) {{\n",
              "    x.observe(notebookContainer, {childList: true});\n",
              "}}\n",
              "\n",
              "// Listen for the clearing of the current output cell\n",
              "var outputEl = gd.closest('.output');\n",
              "if (outputEl) {{\n",
              "    x.observe(outputEl, {childList: true});\n",
              "}}\n",
              "\n",
              "                        })                };                            </script>        </div>\n",
              "</body>\n",
              "</html>"
            ]
          },
          "metadata": {}
        }
      ]
    },
    {
      "cell_type": "code",
      "source": [
        "imp_country = df_interval1.groupby('reporter_country').agg({'value':'sum'})\n",
        "imp_country = imp_country.rename(columns={'value': 'Import'})\n",
        "imp_country = imp_country.sort_values(by = 'Import', ascending = False)\n",
        "imp_country = imp_country[:20]\n",
        "imp_country_tmp = imp_country[:10]"
      ],
      "metadata": {
        "id": "9_lbz3xy2tkk"
      },
      "execution_count": 221,
      "outputs": []
    },
    {
      "cell_type": "code",
      "source": [
        "px.bar(data_frame = imp_country_tmp, x=imp_country_tmp.index, y ='Import',\n",
        "labels={'reporter_country':\"Countries\", 'Import': \"Total Imports in Million US$\" } , color='Import', width=1200 )"
      ],
      "metadata": {
        "colab": {
          "base_uri": "https://localhost:8080/",
          "height": 562
        },
        "id": "tD9EahTv28bO",
        "outputId": "585481fc-b9b2-4989-e651-3425a3992494"
      },
      "execution_count": 222,
      "outputs": [
        {
          "output_type": "display_data",
          "data": {
            "text/html": [
              "<html>\n",
              "<head><meta charset=\"utf-8\" /></head>\n",
              "<body>\n",
              "    <div>            <script src=\"https://cdnjs.cloudflare.com/ajax/libs/mathjax/2.7.5/MathJax.js?config=TeX-AMS-MML_SVG\"></script><script type=\"text/javascript\">if (window.MathJax) {MathJax.Hub.Config({SVG: {font: \"STIX-Web\"}});}</script>                <script type=\"text/javascript\">window.PlotlyConfig = {MathJaxConfig: 'local'};</script>\n",
              "        <script src=\"https://cdn.plot.ly/plotly-2.8.3.min.js\"></script>                <div id=\"5f243efc-f4c6-401f-bdaf-0ea97ee7e05f\" class=\"plotly-graph-div\" style=\"height:525px; width:1200px;\"></div>            <script type=\"text/javascript\">                                    window.PLOTLYENV=window.PLOTLYENV || {};                                    if (document.getElementById(\"5f243efc-f4c6-401f-bdaf-0ea97ee7e05f\")) {                    Plotly.newPlot(                        \"5f243efc-f4c6-401f-bdaf-0ea97ee7e05f\",                        [{\"alignmentgroup\":\"True\",\"hovertemplate\":\"Countries=%{x}<br>Total Imports in Million US$=%{marker.color}<extra></extra>\",\"legendgroup\":\"\",\"marker\":{\"color\":[17105940723,2977806599,2805154828,1832518544,1720641992,1676340959,1629987967,1606268566,1577071926,1568558811],\"coloraxis\":\"coloraxis\",\"pattern\":{\"shape\":\"\"}},\"name\":\"\",\"offsetgroup\":\"\",\"orientation\":\"v\",\"showlegend\":false,\"textposition\":\"auto\",\"x\":[\"China\",\"United States of America\",\"Germany\",\"Italy\",\"Mexico\",\"Singapore\",\"Turkey\",\"United Kingdom\",\"Vietnam\",\"Malaysia\"],\"xaxis\":\"x\",\"y\":[17105940723,2977806599,2805154828,1832518544,1720641992,1676340959,1629987967,1606268566,1577071926,1568558811],\"yaxis\":\"y\",\"type\":\"bar\"}],                        {\"template\":{\"data\":{\"bar\":[{\"error_x\":{\"color\":\"#2a3f5f\"},\"error_y\":{\"color\":\"#2a3f5f\"},\"marker\":{\"line\":{\"color\":\"#E5ECF6\",\"width\":0.5},\"pattern\":{\"fillmode\":\"overlay\",\"size\":10,\"solidity\":0.2}},\"type\":\"bar\"}],\"barpolar\":[{\"marker\":{\"line\":{\"color\":\"#E5ECF6\",\"width\":0.5},\"pattern\":{\"fillmode\":\"overlay\",\"size\":10,\"solidity\":0.2}},\"type\":\"barpolar\"}],\"carpet\":[{\"aaxis\":{\"endlinecolor\":\"#2a3f5f\",\"gridcolor\":\"white\",\"linecolor\":\"white\",\"minorgridcolor\":\"white\",\"startlinecolor\":\"#2a3f5f\"},\"baxis\":{\"endlinecolor\":\"#2a3f5f\",\"gridcolor\":\"white\",\"linecolor\":\"white\",\"minorgridcolor\":\"white\",\"startlinecolor\":\"#2a3f5f\"},\"type\":\"carpet\"}],\"choropleth\":[{\"colorbar\":{\"outlinewidth\":0,\"ticks\":\"\"},\"type\":\"choropleth\"}],\"contour\":[{\"colorbar\":{\"outlinewidth\":0,\"ticks\":\"\"},\"colorscale\":[[0.0,\"#0d0887\"],[0.1111111111111111,\"#46039f\"],[0.2222222222222222,\"#7201a8\"],[0.3333333333333333,\"#9c179e\"],[0.4444444444444444,\"#bd3786\"],[0.5555555555555556,\"#d8576b\"],[0.6666666666666666,\"#ed7953\"],[0.7777777777777778,\"#fb9f3a\"],[0.8888888888888888,\"#fdca26\"],[1.0,\"#f0f921\"]],\"type\":\"contour\"}],\"contourcarpet\":[{\"colorbar\":{\"outlinewidth\":0,\"ticks\":\"\"},\"type\":\"contourcarpet\"}],\"heatmap\":[{\"colorbar\":{\"outlinewidth\":0,\"ticks\":\"\"},\"colorscale\":[[0.0,\"#0d0887\"],[0.1111111111111111,\"#46039f\"],[0.2222222222222222,\"#7201a8\"],[0.3333333333333333,\"#9c179e\"],[0.4444444444444444,\"#bd3786\"],[0.5555555555555556,\"#d8576b\"],[0.6666666666666666,\"#ed7953\"],[0.7777777777777778,\"#fb9f3a\"],[0.8888888888888888,\"#fdca26\"],[1.0,\"#f0f921\"]],\"type\":\"heatmap\"}],\"heatmapgl\":[{\"colorbar\":{\"outlinewidth\":0,\"ticks\":\"\"},\"colorscale\":[[0.0,\"#0d0887\"],[0.1111111111111111,\"#46039f\"],[0.2222222222222222,\"#7201a8\"],[0.3333333333333333,\"#9c179e\"],[0.4444444444444444,\"#bd3786\"],[0.5555555555555556,\"#d8576b\"],[0.6666666666666666,\"#ed7953\"],[0.7777777777777778,\"#fb9f3a\"],[0.8888888888888888,\"#fdca26\"],[1.0,\"#f0f921\"]],\"type\":\"heatmapgl\"}],\"histogram\":[{\"marker\":{\"pattern\":{\"fillmode\":\"overlay\",\"size\":10,\"solidity\":0.2}},\"type\":\"histogram\"}],\"histogram2d\":[{\"colorbar\":{\"outlinewidth\":0,\"ticks\":\"\"},\"colorscale\":[[0.0,\"#0d0887\"],[0.1111111111111111,\"#46039f\"],[0.2222222222222222,\"#7201a8\"],[0.3333333333333333,\"#9c179e\"],[0.4444444444444444,\"#bd3786\"],[0.5555555555555556,\"#d8576b\"],[0.6666666666666666,\"#ed7953\"],[0.7777777777777778,\"#fb9f3a\"],[0.8888888888888888,\"#fdca26\"],[1.0,\"#f0f921\"]],\"type\":\"histogram2d\"}],\"histogram2dcontour\":[{\"colorbar\":{\"outlinewidth\":0,\"ticks\":\"\"},\"colorscale\":[[0.0,\"#0d0887\"],[0.1111111111111111,\"#46039f\"],[0.2222222222222222,\"#7201a8\"],[0.3333333333333333,\"#9c179e\"],[0.4444444444444444,\"#bd3786\"],[0.5555555555555556,\"#d8576b\"],[0.6666666666666666,\"#ed7953\"],[0.7777777777777778,\"#fb9f3a\"],[0.8888888888888888,\"#fdca26\"],[1.0,\"#f0f921\"]],\"type\":\"histogram2dcontour\"}],\"mesh3d\":[{\"colorbar\":{\"outlinewidth\":0,\"ticks\":\"\"},\"type\":\"mesh3d\"}],\"parcoords\":[{\"line\":{\"colorbar\":{\"outlinewidth\":0,\"ticks\":\"\"}},\"type\":\"parcoords\"}],\"pie\":[{\"automargin\":true,\"type\":\"pie\"}],\"scatter\":[{\"marker\":{\"colorbar\":{\"outlinewidth\":0,\"ticks\":\"\"}},\"type\":\"scatter\"}],\"scatter3d\":[{\"line\":{\"colorbar\":{\"outlinewidth\":0,\"ticks\":\"\"}},\"marker\":{\"colorbar\":{\"outlinewidth\":0,\"ticks\":\"\"}},\"type\":\"scatter3d\"}],\"scattercarpet\":[{\"marker\":{\"colorbar\":{\"outlinewidth\":0,\"ticks\":\"\"}},\"type\":\"scattercarpet\"}],\"scattergeo\":[{\"marker\":{\"colorbar\":{\"outlinewidth\":0,\"ticks\":\"\"}},\"type\":\"scattergeo\"}],\"scattergl\":[{\"marker\":{\"colorbar\":{\"outlinewidth\":0,\"ticks\":\"\"}},\"type\":\"scattergl\"}],\"scattermapbox\":[{\"marker\":{\"colorbar\":{\"outlinewidth\":0,\"ticks\":\"\"}},\"type\":\"scattermapbox\"}],\"scatterpolar\":[{\"marker\":{\"colorbar\":{\"outlinewidth\":0,\"ticks\":\"\"}},\"type\":\"scatterpolar\"}],\"scatterpolargl\":[{\"marker\":{\"colorbar\":{\"outlinewidth\":0,\"ticks\":\"\"}},\"type\":\"scatterpolargl\"}],\"scatterternary\":[{\"marker\":{\"colorbar\":{\"outlinewidth\":0,\"ticks\":\"\"}},\"type\":\"scatterternary\"}],\"surface\":[{\"colorbar\":{\"outlinewidth\":0,\"ticks\":\"\"},\"colorscale\":[[0.0,\"#0d0887\"],[0.1111111111111111,\"#46039f\"],[0.2222222222222222,\"#7201a8\"],[0.3333333333333333,\"#9c179e\"],[0.4444444444444444,\"#bd3786\"],[0.5555555555555556,\"#d8576b\"],[0.6666666666666666,\"#ed7953\"],[0.7777777777777778,\"#fb9f3a\"],[0.8888888888888888,\"#fdca26\"],[1.0,\"#f0f921\"]],\"type\":\"surface\"}],\"table\":[{\"cells\":{\"fill\":{\"color\":\"#EBF0F8\"},\"line\":{\"color\":\"white\"}},\"header\":{\"fill\":{\"color\":\"#C8D4E3\"},\"line\":{\"color\":\"white\"}},\"type\":\"table\"}]},\"layout\":{\"annotationdefaults\":{\"arrowcolor\":\"#2a3f5f\",\"arrowhead\":0,\"arrowwidth\":1},\"autotypenumbers\":\"strict\",\"coloraxis\":{\"colorbar\":{\"outlinewidth\":0,\"ticks\":\"\"}},\"colorscale\":{\"diverging\":[[0,\"#8e0152\"],[0.1,\"#c51b7d\"],[0.2,\"#de77ae\"],[0.3,\"#f1b6da\"],[0.4,\"#fde0ef\"],[0.5,\"#f7f7f7\"],[0.6,\"#e6f5d0\"],[0.7,\"#b8e186\"],[0.8,\"#7fbc41\"],[0.9,\"#4d9221\"],[1,\"#276419\"]],\"sequential\":[[0.0,\"#0d0887\"],[0.1111111111111111,\"#46039f\"],[0.2222222222222222,\"#7201a8\"],[0.3333333333333333,\"#9c179e\"],[0.4444444444444444,\"#bd3786\"],[0.5555555555555556,\"#d8576b\"],[0.6666666666666666,\"#ed7953\"],[0.7777777777777778,\"#fb9f3a\"],[0.8888888888888888,\"#fdca26\"],[1.0,\"#f0f921\"]],\"sequentialminus\":[[0.0,\"#0d0887\"],[0.1111111111111111,\"#46039f\"],[0.2222222222222222,\"#7201a8\"],[0.3333333333333333,\"#9c179e\"],[0.4444444444444444,\"#bd3786\"],[0.5555555555555556,\"#d8576b\"],[0.6666666666666666,\"#ed7953\"],[0.7777777777777778,\"#fb9f3a\"],[0.8888888888888888,\"#fdca26\"],[1.0,\"#f0f921\"]]},\"colorway\":[\"#636efa\",\"#EF553B\",\"#00cc96\",\"#ab63fa\",\"#FFA15A\",\"#19d3f3\",\"#FF6692\",\"#B6E880\",\"#FF97FF\",\"#FECB52\"],\"font\":{\"color\":\"#2a3f5f\"},\"geo\":{\"bgcolor\":\"white\",\"lakecolor\":\"white\",\"landcolor\":\"#E5ECF6\",\"showlakes\":true,\"showland\":true,\"subunitcolor\":\"white\"},\"hoverlabel\":{\"align\":\"left\"},\"hovermode\":\"closest\",\"mapbox\":{\"style\":\"light\"},\"paper_bgcolor\":\"white\",\"plot_bgcolor\":\"#E5ECF6\",\"polar\":{\"angularaxis\":{\"gridcolor\":\"white\",\"linecolor\":\"white\",\"ticks\":\"\"},\"bgcolor\":\"#E5ECF6\",\"radialaxis\":{\"gridcolor\":\"white\",\"linecolor\":\"white\",\"ticks\":\"\"}},\"scene\":{\"xaxis\":{\"backgroundcolor\":\"#E5ECF6\",\"gridcolor\":\"white\",\"gridwidth\":2,\"linecolor\":\"white\",\"showbackground\":true,\"ticks\":\"\",\"zerolinecolor\":\"white\"},\"yaxis\":{\"backgroundcolor\":\"#E5ECF6\",\"gridcolor\":\"white\",\"gridwidth\":2,\"linecolor\":\"white\",\"showbackground\":true,\"ticks\":\"\",\"zerolinecolor\":\"white\"},\"zaxis\":{\"backgroundcolor\":\"#E5ECF6\",\"gridcolor\":\"white\",\"gridwidth\":2,\"linecolor\":\"white\",\"showbackground\":true,\"ticks\":\"\",\"zerolinecolor\":\"white\"}},\"shapedefaults\":{\"line\":{\"color\":\"#2a3f5f\"}},\"ternary\":{\"aaxis\":{\"gridcolor\":\"white\",\"linecolor\":\"white\",\"ticks\":\"\"},\"baxis\":{\"gridcolor\":\"white\",\"linecolor\":\"white\",\"ticks\":\"\"},\"bgcolor\":\"#E5ECF6\",\"caxis\":{\"gridcolor\":\"white\",\"linecolor\":\"white\",\"ticks\":\"\"}},\"title\":{\"x\":0.05},\"xaxis\":{\"automargin\":true,\"gridcolor\":\"white\",\"linecolor\":\"white\",\"ticks\":\"\",\"title\":{\"standoff\":15},\"zerolinecolor\":\"white\",\"zerolinewidth\":2},\"yaxis\":{\"automargin\":true,\"gridcolor\":\"white\",\"linecolor\":\"white\",\"ticks\":\"\",\"title\":{\"standoff\":15},\"zerolinecolor\":\"white\",\"zerolinewidth\":2}}},\"xaxis\":{\"anchor\":\"y\",\"domain\":[0.0,1.0],\"title\":{\"text\":\"Countries\"}},\"yaxis\":{\"anchor\":\"x\",\"domain\":[0.0,1.0],\"title\":{\"text\":\"Total Imports in Million US$\"}},\"coloraxis\":{\"colorbar\":{\"title\":{\"text\":\"Total Imports in Million US$\"}},\"colorscale\":[[0.0,\"#0d0887\"],[0.1111111111111111,\"#46039f\"],[0.2222222222222222,\"#7201a8\"],[0.3333333333333333,\"#9c179e\"],[0.4444444444444444,\"#bd3786\"],[0.5555555555555556,\"#d8576b\"],[0.6666666666666666,\"#ed7953\"],[0.7777777777777778,\"#fb9f3a\"],[0.8888888888888888,\"#fdca26\"],[1.0,\"#f0f921\"]]},\"legend\":{\"tracegroupgap\":0},\"margin\":{\"t\":60},\"barmode\":\"relative\",\"width\":1200},                        {\"responsive\": true}                    ).then(function(){\n",
              "                            \n",
              "var gd = document.getElementById('5f243efc-f4c6-401f-bdaf-0ea97ee7e05f');\n",
              "var x = new MutationObserver(function (mutations, observer) {{\n",
              "        var display = window.getComputedStyle(gd).display;\n",
              "        if (!display || display === 'none') {{\n",
              "            console.log([gd, 'removed!']);\n",
              "            Plotly.purge(gd);\n",
              "            observer.disconnect();\n",
              "        }}\n",
              "}});\n",
              "\n",
              "// Listen for the removal of the full notebook cells\n",
              "var notebookContainer = gd.closest('#notebook-container');\n",
              "if (notebookContainer) {{\n",
              "    x.observe(notebookContainer, {childList: true});\n",
              "}}\n",
              "\n",
              "// Listen for the clearing of the current output cell\n",
              "var outputEl = gd.closest('.output');\n",
              "if (outputEl) {{\n",
              "    x.observe(outputEl, {childList: true});\n",
              "}}\n",
              "\n",
              "                        })                };                            </script>        </div>\n",
              "</body>\n",
              "</html>"
            ]
          },
          "metadata": {}
        }
      ]
    },
    {
      "cell_type": "code",
      "source": [
        "#@title select no. of countries { run: \"auto\" }\n",
        "top_n_trade_deficit_country=11 #@param {type:\"number\"}\n",
        "\n",
        "total_trade = pd.concat([exp_country, imp_country], axis = 1)\n",
        "total_trade['Trade Deficit'] = exp_country.Export - imp_country.Import\n",
        "total_trade = total_trade.sort_values(by = 'Trade Deficit', ascending = False)\n",
        "total_trade = total_trade[:top_n_trade_deficit_country]\n",
        "\n",
        "print('Countrywise Trade Export/Import and Trade Balance of India')\n",
        "display(total_trade)"
      ],
      "metadata": {
        "colab": {
          "base_uri": "https://localhost:8080/",
          "height": 443
        },
        "id": "Bd1QIjlZ3efm",
        "outputId": "ded5e70d-a895-4bfb-ffb5-b323c7fa1847"
      },
      "execution_count": 223,
      "outputs": [
        {
          "output_type": "stream",
          "name": "stdout",
          "text": [
            "Countrywise Trade Export/Import and Trade Balance of India\n"
          ]
        },
        {
          "output_type": "display_data",
          "data": {
            "text/plain": [
              "                                Export        Import  Trade Deficit\n",
              "reporter_country                                                   \n",
              "United States of America  7.370242e+09  2.977807e+09   4.392435e+09\n",
              "United Arab Emirates      3.171342e+09  6.149348e+08   2.556407e+09\n",
              "Canada                    2.865893e+09  1.085808e+09   1.780085e+09\n",
              "Singapore                 2.716007e+09  1.676341e+09   1.039666e+09\n",
              "Belgium                   1.851954e+09  1.052637e+09   7.993176e+08\n",
              "Germany                   2.939454e+09  2.805155e+09   1.342993e+08\n",
              "Brazil                    7.618748e+08  6.570939e+08   1.047809e+08\n",
              "Poland                    5.766050e+08  9.568920e+08  -3.802870e+08\n",
              "Malaysia                  1.177905e+09  1.568559e+09  -3.906534e+08\n",
              "France                    8.809791e+08  1.374486e+09  -4.935073e+08\n",
              "India                     8.746940e+08  1.425159e+09  -5.504654e+08"
            ],
            "text/html": [
              "\n",
              "  <div id=\"df-da7cf72a-ac34-434a-b76c-8da1c12ee58a\">\n",
              "    <div class=\"colab-df-container\">\n",
              "      <div>\n",
              "<style scoped>\n",
              "    .dataframe tbody tr th:only-of-type {\n",
              "        vertical-align: middle;\n",
              "    }\n",
              "\n",
              "    .dataframe tbody tr th {\n",
              "        vertical-align: top;\n",
              "    }\n",
              "\n",
              "    .dataframe thead th {\n",
              "        text-align: right;\n",
              "    }\n",
              "</style>\n",
              "<table border=\"1\" class=\"dataframe\">\n",
              "  <thead>\n",
              "    <tr style=\"text-align: right;\">\n",
              "      <th></th>\n",
              "      <th>Export</th>\n",
              "      <th>Import</th>\n",
              "      <th>Trade Deficit</th>\n",
              "    </tr>\n",
              "    <tr>\n",
              "      <th>reporter_country</th>\n",
              "      <th></th>\n",
              "      <th></th>\n",
              "      <th></th>\n",
              "    </tr>\n",
              "  </thead>\n",
              "  <tbody>\n",
              "    <tr>\n",
              "      <th>United States of America</th>\n",
              "      <td>7.370242e+09</td>\n",
              "      <td>2.977807e+09</td>\n",
              "      <td>4.392435e+09</td>\n",
              "    </tr>\n",
              "    <tr>\n",
              "      <th>United Arab Emirates</th>\n",
              "      <td>3.171342e+09</td>\n",
              "      <td>6.149348e+08</td>\n",
              "      <td>2.556407e+09</td>\n",
              "    </tr>\n",
              "    <tr>\n",
              "      <th>Canada</th>\n",
              "      <td>2.865893e+09</td>\n",
              "      <td>1.085808e+09</td>\n",
              "      <td>1.780085e+09</td>\n",
              "    </tr>\n",
              "    <tr>\n",
              "      <th>Singapore</th>\n",
              "      <td>2.716007e+09</td>\n",
              "      <td>1.676341e+09</td>\n",
              "      <td>1.039666e+09</td>\n",
              "    </tr>\n",
              "    <tr>\n",
              "      <th>Belgium</th>\n",
              "      <td>1.851954e+09</td>\n",
              "      <td>1.052637e+09</td>\n",
              "      <td>7.993176e+08</td>\n",
              "    </tr>\n",
              "    <tr>\n",
              "      <th>Germany</th>\n",
              "      <td>2.939454e+09</td>\n",
              "      <td>2.805155e+09</td>\n",
              "      <td>1.342993e+08</td>\n",
              "    </tr>\n",
              "    <tr>\n",
              "      <th>Brazil</th>\n",
              "      <td>7.618748e+08</td>\n",
              "      <td>6.570939e+08</td>\n",
              "      <td>1.047809e+08</td>\n",
              "    </tr>\n",
              "    <tr>\n",
              "      <th>Poland</th>\n",
              "      <td>5.766050e+08</td>\n",
              "      <td>9.568920e+08</td>\n",
              "      <td>-3.802870e+08</td>\n",
              "    </tr>\n",
              "    <tr>\n",
              "      <th>Malaysia</th>\n",
              "      <td>1.177905e+09</td>\n",
              "      <td>1.568559e+09</td>\n",
              "      <td>-3.906534e+08</td>\n",
              "    </tr>\n",
              "    <tr>\n",
              "      <th>France</th>\n",
              "      <td>8.809791e+08</td>\n",
              "      <td>1.374486e+09</td>\n",
              "      <td>-4.935073e+08</td>\n",
              "    </tr>\n",
              "    <tr>\n",
              "      <th>India</th>\n",
              "      <td>8.746940e+08</td>\n",
              "      <td>1.425159e+09</td>\n",
              "      <td>-5.504654e+08</td>\n",
              "    </tr>\n",
              "  </tbody>\n",
              "</table>\n",
              "</div>\n",
              "      <button class=\"colab-df-convert\" onclick=\"convertToInteractive('df-da7cf72a-ac34-434a-b76c-8da1c12ee58a')\"\n",
              "              title=\"Convert this dataframe to an interactive table.\"\n",
              "              style=\"display:none;\">\n",
              "        \n",
              "  <svg xmlns=\"http://www.w3.org/2000/svg\" height=\"24px\"viewBox=\"0 0 24 24\"\n",
              "       width=\"24px\">\n",
              "    <path d=\"M0 0h24v24H0V0z\" fill=\"none\"/>\n",
              "    <path d=\"M18.56 5.44l.94 2.06.94-2.06 2.06-.94-2.06-.94-.94-2.06-.94 2.06-2.06.94zm-11 1L8.5 8.5l.94-2.06 2.06-.94-2.06-.94L8.5 2.5l-.94 2.06-2.06.94zm10 10l.94 2.06.94-2.06 2.06-.94-2.06-.94-.94-2.06-.94 2.06-2.06.94z\"/><path d=\"M17.41 7.96l-1.37-1.37c-.4-.4-.92-.59-1.43-.59-.52 0-1.04.2-1.43.59L10.3 9.45l-7.72 7.72c-.78.78-.78 2.05 0 2.83L4 21.41c.39.39.9.59 1.41.59.51 0 1.02-.2 1.41-.59l7.78-7.78 2.81-2.81c.8-.78.8-2.07 0-2.86zM5.41 20L4 18.59l7.72-7.72 1.47 1.35L5.41 20z\"/>\n",
              "  </svg>\n",
              "      </button>\n",
              "      \n",
              "  <style>\n",
              "    .colab-df-container {\n",
              "      display:flex;\n",
              "      flex-wrap:wrap;\n",
              "      gap: 12px;\n",
              "    }\n",
              "\n",
              "    .colab-df-convert {\n",
              "      background-color: #E8F0FE;\n",
              "      border: none;\n",
              "      border-radius: 50%;\n",
              "      cursor: pointer;\n",
              "      display: none;\n",
              "      fill: #1967D2;\n",
              "      height: 32px;\n",
              "      padding: 0 0 0 0;\n",
              "      width: 32px;\n",
              "    }\n",
              "\n",
              "    .colab-df-convert:hover {\n",
              "      background-color: #E2EBFA;\n",
              "      box-shadow: 0px 1px 2px rgba(60, 64, 67, 0.3), 0px 1px 3px 1px rgba(60, 64, 67, 0.15);\n",
              "      fill: #174EA6;\n",
              "    }\n",
              "\n",
              "    [theme=dark] .colab-df-convert {\n",
              "      background-color: #3B4455;\n",
              "      fill: #D2E3FC;\n",
              "    }\n",
              "\n",
              "    [theme=dark] .colab-df-convert:hover {\n",
              "      background-color: #434B5C;\n",
              "      box-shadow: 0px 1px 3px 1px rgba(0, 0, 0, 0.15);\n",
              "      filter: drop-shadow(0px 1px 2px rgba(0, 0, 0, 0.3));\n",
              "      fill: #FFFFFF;\n",
              "    }\n",
              "  </style>\n",
              "\n",
              "      <script>\n",
              "        const buttonEl =\n",
              "          document.querySelector('#df-da7cf72a-ac34-434a-b76c-8da1c12ee58a button.colab-df-convert');\n",
              "        buttonEl.style.display =\n",
              "          google.colab.kernel.accessAllowed ? 'block' : 'none';\n",
              "\n",
              "        async function convertToInteractive(key) {\n",
              "          const element = document.querySelector('#df-da7cf72a-ac34-434a-b76c-8da1c12ee58a');\n",
              "          const dataTable =\n",
              "            await google.colab.kernel.invokeFunction('convertToInteractive',\n",
              "                                                     [key], {});\n",
              "          if (!dataTable) return;\n",
              "\n",
              "          const docLinkHtml = 'Like what you see? Visit the ' +\n",
              "            '<a target=\"_blank\" href=https://colab.research.google.com/notebooks/data_table.ipynb>data table notebook</a>'\n",
              "            + ' to learn more about interactive tables.';\n",
              "          element.innerHTML = '';\n",
              "          dataTable['output_type'] = 'display_data';\n",
              "          await google.colab.output.renderOutput(dataTable, element);\n",
              "          const docLink = document.createElement('div');\n",
              "          docLink.innerHTML = docLinkHtml;\n",
              "          element.appendChild(docLink);\n",
              "        }\n",
              "      </script>\n",
              "    </div>\n",
              "  </div>\n",
              "  "
            ]
          },
          "metadata": {}
        }
      ]
    },
    {
      "cell_type": "code",
      "source": [
        "px.bar(data_frame = total_trade, x=total_trade.index, y=['Import', 'Export', 'Trade Deficit'], barmode='group', labels={'index':'Countries', 'value':'Million US $'})"
      ],
      "metadata": {
        "colab": {
          "base_uri": "https://localhost:8080/",
          "height": 542
        },
        "id": "Lp0Za5pT3pYD",
        "outputId": "0af9ca73-a20b-49c8-a344-47ace8c4eb63"
      },
      "execution_count": 224,
      "outputs": [
        {
          "output_type": "display_data",
          "data": {
            "text/html": [
              "<html>\n",
              "<head><meta charset=\"utf-8\" /></head>\n",
              "<body>\n",
              "    <div>            <script src=\"https://cdnjs.cloudflare.com/ajax/libs/mathjax/2.7.5/MathJax.js?config=TeX-AMS-MML_SVG\"></script><script type=\"text/javascript\">if (window.MathJax) {MathJax.Hub.Config({SVG: {font: \"STIX-Web\"}});}</script>                <script type=\"text/javascript\">window.PlotlyConfig = {MathJaxConfig: 'local'};</script>\n",
              "        <script src=\"https://cdn.plot.ly/plotly-2.8.3.min.js\"></script>                <div id=\"452262e8-2abf-49fc-8c23-a37859c76637\" class=\"plotly-graph-div\" style=\"height:525px; width:100%;\"></div>            <script type=\"text/javascript\">                                    window.PLOTLYENV=window.PLOTLYENV || {};                                    if (document.getElementById(\"452262e8-2abf-49fc-8c23-a37859c76637\")) {                    Plotly.newPlot(                        \"452262e8-2abf-49fc-8c23-a37859c76637\",                        [{\"alignmentgroup\":\"True\",\"hovertemplate\":\"variable=Import<br>reporter_country=%{x}<br>Million US $=%{y}<extra></extra>\",\"legendgroup\":\"Import\",\"marker\":{\"color\":\"#636efa\",\"pattern\":{\"shape\":\"\"}},\"name\":\"Import\",\"offsetgroup\":\"Import\",\"orientation\":\"v\",\"showlegend\":true,\"textposition\":\"auto\",\"x\":[\"United States of America\",\"United Arab Emirates\",\"Canada\",\"Singapore\",\"Belgium\",\"Germany\",\"Brazil\",\"Poland\",\"Malaysia\",\"France\",\"India\"],\"xaxis\":\"x\",\"y\":[2977806599.0,614934807.0,1085807837.0,1676340959.0,1052636892.0,2805154828.0,657093944.0,956892012.0,1568558811.0,1374486425.0,1425159395.0],\"yaxis\":\"y\",\"type\":\"bar\"},{\"alignmentgroup\":\"True\",\"hovertemplate\":\"variable=Export<br>reporter_country=%{x}<br>Million US $=%{y}<extra></extra>\",\"legendgroup\":\"Export\",\"marker\":{\"color\":\"#EF553B\",\"pattern\":{\"shape\":\"\"}},\"name\":\"Export\",\"offsetgroup\":\"Export\",\"orientation\":\"v\",\"showlegend\":true,\"textposition\":\"auto\",\"x\":[\"United States of America\",\"United Arab Emirates\",\"Canada\",\"Singapore\",\"Belgium\",\"Germany\",\"Brazil\",\"Poland\",\"Malaysia\",\"France\",\"India\"],\"xaxis\":\"x\",\"y\":[7370241633.0,3171342101.0,2865892696.0,2716007227.0,1851954491.0,2939454118.0,761874829.0,576604975.0,1177905418.0,880979116.0,874694017.0],\"yaxis\":\"y\",\"type\":\"bar\"},{\"alignmentgroup\":\"True\",\"hovertemplate\":\"variable=Trade Deficit<br>reporter_country=%{x}<br>Million US $=%{y}<extra></extra>\",\"legendgroup\":\"Trade Deficit\",\"marker\":{\"color\":\"#00cc96\",\"pattern\":{\"shape\":\"\"}},\"name\":\"Trade Deficit\",\"offsetgroup\":\"Trade Deficit\",\"orientation\":\"v\",\"showlegend\":true,\"textposition\":\"auto\",\"x\":[\"United States of America\",\"United Arab Emirates\",\"Canada\",\"Singapore\",\"Belgium\",\"Germany\",\"Brazil\",\"Poland\",\"Malaysia\",\"France\",\"India\"],\"xaxis\":\"x\",\"y\":[4392435034.0,2556407294.0,1780084859.0,1039666268.0,799317599.0,134299290.0,104780885.0,-380287037.0,-390653393.0,-493507309.0,-550465378.0],\"yaxis\":\"y\",\"type\":\"bar\"}],                        {\"template\":{\"data\":{\"bar\":[{\"error_x\":{\"color\":\"#2a3f5f\"},\"error_y\":{\"color\":\"#2a3f5f\"},\"marker\":{\"line\":{\"color\":\"#E5ECF6\",\"width\":0.5},\"pattern\":{\"fillmode\":\"overlay\",\"size\":10,\"solidity\":0.2}},\"type\":\"bar\"}],\"barpolar\":[{\"marker\":{\"line\":{\"color\":\"#E5ECF6\",\"width\":0.5},\"pattern\":{\"fillmode\":\"overlay\",\"size\":10,\"solidity\":0.2}},\"type\":\"barpolar\"}],\"carpet\":[{\"aaxis\":{\"endlinecolor\":\"#2a3f5f\",\"gridcolor\":\"white\",\"linecolor\":\"white\",\"minorgridcolor\":\"white\",\"startlinecolor\":\"#2a3f5f\"},\"baxis\":{\"endlinecolor\":\"#2a3f5f\",\"gridcolor\":\"white\",\"linecolor\":\"white\",\"minorgridcolor\":\"white\",\"startlinecolor\":\"#2a3f5f\"},\"type\":\"carpet\"}],\"choropleth\":[{\"colorbar\":{\"outlinewidth\":0,\"ticks\":\"\"},\"type\":\"choropleth\"}],\"contour\":[{\"colorbar\":{\"outlinewidth\":0,\"ticks\":\"\"},\"colorscale\":[[0.0,\"#0d0887\"],[0.1111111111111111,\"#46039f\"],[0.2222222222222222,\"#7201a8\"],[0.3333333333333333,\"#9c179e\"],[0.4444444444444444,\"#bd3786\"],[0.5555555555555556,\"#d8576b\"],[0.6666666666666666,\"#ed7953\"],[0.7777777777777778,\"#fb9f3a\"],[0.8888888888888888,\"#fdca26\"],[1.0,\"#f0f921\"]],\"type\":\"contour\"}],\"contourcarpet\":[{\"colorbar\":{\"outlinewidth\":0,\"ticks\":\"\"},\"type\":\"contourcarpet\"}],\"heatmap\":[{\"colorbar\":{\"outlinewidth\":0,\"ticks\":\"\"},\"colorscale\":[[0.0,\"#0d0887\"],[0.1111111111111111,\"#46039f\"],[0.2222222222222222,\"#7201a8\"],[0.3333333333333333,\"#9c179e\"],[0.4444444444444444,\"#bd3786\"],[0.5555555555555556,\"#d8576b\"],[0.6666666666666666,\"#ed7953\"],[0.7777777777777778,\"#fb9f3a\"],[0.8888888888888888,\"#fdca26\"],[1.0,\"#f0f921\"]],\"type\":\"heatmap\"}],\"heatmapgl\":[{\"colorbar\":{\"outlinewidth\":0,\"ticks\":\"\"},\"colorscale\":[[0.0,\"#0d0887\"],[0.1111111111111111,\"#46039f\"],[0.2222222222222222,\"#7201a8\"],[0.3333333333333333,\"#9c179e\"],[0.4444444444444444,\"#bd3786\"],[0.5555555555555556,\"#d8576b\"],[0.6666666666666666,\"#ed7953\"],[0.7777777777777778,\"#fb9f3a\"],[0.8888888888888888,\"#fdca26\"],[1.0,\"#f0f921\"]],\"type\":\"heatmapgl\"}],\"histogram\":[{\"marker\":{\"pattern\":{\"fillmode\":\"overlay\",\"size\":10,\"solidity\":0.2}},\"type\":\"histogram\"}],\"histogram2d\":[{\"colorbar\":{\"outlinewidth\":0,\"ticks\":\"\"},\"colorscale\":[[0.0,\"#0d0887\"],[0.1111111111111111,\"#46039f\"],[0.2222222222222222,\"#7201a8\"],[0.3333333333333333,\"#9c179e\"],[0.4444444444444444,\"#bd3786\"],[0.5555555555555556,\"#d8576b\"],[0.6666666666666666,\"#ed7953\"],[0.7777777777777778,\"#fb9f3a\"],[0.8888888888888888,\"#fdca26\"],[1.0,\"#f0f921\"]],\"type\":\"histogram2d\"}],\"histogram2dcontour\":[{\"colorbar\":{\"outlinewidth\":0,\"ticks\":\"\"},\"colorscale\":[[0.0,\"#0d0887\"],[0.1111111111111111,\"#46039f\"],[0.2222222222222222,\"#7201a8\"],[0.3333333333333333,\"#9c179e\"],[0.4444444444444444,\"#bd3786\"],[0.5555555555555556,\"#d8576b\"],[0.6666666666666666,\"#ed7953\"],[0.7777777777777778,\"#fb9f3a\"],[0.8888888888888888,\"#fdca26\"],[1.0,\"#f0f921\"]],\"type\":\"histogram2dcontour\"}],\"mesh3d\":[{\"colorbar\":{\"outlinewidth\":0,\"ticks\":\"\"},\"type\":\"mesh3d\"}],\"parcoords\":[{\"line\":{\"colorbar\":{\"outlinewidth\":0,\"ticks\":\"\"}},\"type\":\"parcoords\"}],\"pie\":[{\"automargin\":true,\"type\":\"pie\"}],\"scatter\":[{\"marker\":{\"colorbar\":{\"outlinewidth\":0,\"ticks\":\"\"}},\"type\":\"scatter\"}],\"scatter3d\":[{\"line\":{\"colorbar\":{\"outlinewidth\":0,\"ticks\":\"\"}},\"marker\":{\"colorbar\":{\"outlinewidth\":0,\"ticks\":\"\"}},\"type\":\"scatter3d\"}],\"scattercarpet\":[{\"marker\":{\"colorbar\":{\"outlinewidth\":0,\"ticks\":\"\"}},\"type\":\"scattercarpet\"}],\"scattergeo\":[{\"marker\":{\"colorbar\":{\"outlinewidth\":0,\"ticks\":\"\"}},\"type\":\"scattergeo\"}],\"scattergl\":[{\"marker\":{\"colorbar\":{\"outlinewidth\":0,\"ticks\":\"\"}},\"type\":\"scattergl\"}],\"scattermapbox\":[{\"marker\":{\"colorbar\":{\"outlinewidth\":0,\"ticks\":\"\"}},\"type\":\"scattermapbox\"}],\"scatterpolar\":[{\"marker\":{\"colorbar\":{\"outlinewidth\":0,\"ticks\":\"\"}},\"type\":\"scatterpolar\"}],\"scatterpolargl\":[{\"marker\":{\"colorbar\":{\"outlinewidth\":0,\"ticks\":\"\"}},\"type\":\"scatterpolargl\"}],\"scatterternary\":[{\"marker\":{\"colorbar\":{\"outlinewidth\":0,\"ticks\":\"\"}},\"type\":\"scatterternary\"}],\"surface\":[{\"colorbar\":{\"outlinewidth\":0,\"ticks\":\"\"},\"colorscale\":[[0.0,\"#0d0887\"],[0.1111111111111111,\"#46039f\"],[0.2222222222222222,\"#7201a8\"],[0.3333333333333333,\"#9c179e\"],[0.4444444444444444,\"#bd3786\"],[0.5555555555555556,\"#d8576b\"],[0.6666666666666666,\"#ed7953\"],[0.7777777777777778,\"#fb9f3a\"],[0.8888888888888888,\"#fdca26\"],[1.0,\"#f0f921\"]],\"type\":\"surface\"}],\"table\":[{\"cells\":{\"fill\":{\"color\":\"#EBF0F8\"},\"line\":{\"color\":\"white\"}},\"header\":{\"fill\":{\"color\":\"#C8D4E3\"},\"line\":{\"color\":\"white\"}},\"type\":\"table\"}]},\"layout\":{\"annotationdefaults\":{\"arrowcolor\":\"#2a3f5f\",\"arrowhead\":0,\"arrowwidth\":1},\"autotypenumbers\":\"strict\",\"coloraxis\":{\"colorbar\":{\"outlinewidth\":0,\"ticks\":\"\"}},\"colorscale\":{\"diverging\":[[0,\"#8e0152\"],[0.1,\"#c51b7d\"],[0.2,\"#de77ae\"],[0.3,\"#f1b6da\"],[0.4,\"#fde0ef\"],[0.5,\"#f7f7f7\"],[0.6,\"#e6f5d0\"],[0.7,\"#b8e186\"],[0.8,\"#7fbc41\"],[0.9,\"#4d9221\"],[1,\"#276419\"]],\"sequential\":[[0.0,\"#0d0887\"],[0.1111111111111111,\"#46039f\"],[0.2222222222222222,\"#7201a8\"],[0.3333333333333333,\"#9c179e\"],[0.4444444444444444,\"#bd3786\"],[0.5555555555555556,\"#d8576b\"],[0.6666666666666666,\"#ed7953\"],[0.7777777777777778,\"#fb9f3a\"],[0.8888888888888888,\"#fdca26\"],[1.0,\"#f0f921\"]],\"sequentialminus\":[[0.0,\"#0d0887\"],[0.1111111111111111,\"#46039f\"],[0.2222222222222222,\"#7201a8\"],[0.3333333333333333,\"#9c179e\"],[0.4444444444444444,\"#bd3786\"],[0.5555555555555556,\"#d8576b\"],[0.6666666666666666,\"#ed7953\"],[0.7777777777777778,\"#fb9f3a\"],[0.8888888888888888,\"#fdca26\"],[1.0,\"#f0f921\"]]},\"colorway\":[\"#636efa\",\"#EF553B\",\"#00cc96\",\"#ab63fa\",\"#FFA15A\",\"#19d3f3\",\"#FF6692\",\"#B6E880\",\"#FF97FF\",\"#FECB52\"],\"font\":{\"color\":\"#2a3f5f\"},\"geo\":{\"bgcolor\":\"white\",\"lakecolor\":\"white\",\"landcolor\":\"#E5ECF6\",\"showlakes\":true,\"showland\":true,\"subunitcolor\":\"white\"},\"hoverlabel\":{\"align\":\"left\"},\"hovermode\":\"closest\",\"mapbox\":{\"style\":\"light\"},\"paper_bgcolor\":\"white\",\"plot_bgcolor\":\"#E5ECF6\",\"polar\":{\"angularaxis\":{\"gridcolor\":\"white\",\"linecolor\":\"white\",\"ticks\":\"\"},\"bgcolor\":\"#E5ECF6\",\"radialaxis\":{\"gridcolor\":\"white\",\"linecolor\":\"white\",\"ticks\":\"\"}},\"scene\":{\"xaxis\":{\"backgroundcolor\":\"#E5ECF6\",\"gridcolor\":\"white\",\"gridwidth\":2,\"linecolor\":\"white\",\"showbackground\":true,\"ticks\":\"\",\"zerolinecolor\":\"white\"},\"yaxis\":{\"backgroundcolor\":\"#E5ECF6\",\"gridcolor\":\"white\",\"gridwidth\":2,\"linecolor\":\"white\",\"showbackground\":true,\"ticks\":\"\",\"zerolinecolor\":\"white\"},\"zaxis\":{\"backgroundcolor\":\"#E5ECF6\",\"gridcolor\":\"white\",\"gridwidth\":2,\"linecolor\":\"white\",\"showbackground\":true,\"ticks\":\"\",\"zerolinecolor\":\"white\"}},\"shapedefaults\":{\"line\":{\"color\":\"#2a3f5f\"}},\"ternary\":{\"aaxis\":{\"gridcolor\":\"white\",\"linecolor\":\"white\",\"ticks\":\"\"},\"baxis\":{\"gridcolor\":\"white\",\"linecolor\":\"white\",\"ticks\":\"\"},\"bgcolor\":\"#E5ECF6\",\"caxis\":{\"gridcolor\":\"white\",\"linecolor\":\"white\",\"ticks\":\"\"}},\"title\":{\"x\":0.05},\"xaxis\":{\"automargin\":true,\"gridcolor\":\"white\",\"linecolor\":\"white\",\"ticks\":\"\",\"title\":{\"standoff\":15},\"zerolinecolor\":\"white\",\"zerolinewidth\":2},\"yaxis\":{\"automargin\":true,\"gridcolor\":\"white\",\"linecolor\":\"white\",\"ticks\":\"\",\"title\":{\"standoff\":15},\"zerolinecolor\":\"white\",\"zerolinewidth\":2}}},\"xaxis\":{\"anchor\":\"y\",\"domain\":[0.0,1.0],\"title\":{\"text\":\"reporter_country\"}},\"yaxis\":{\"anchor\":\"x\",\"domain\":[0.0,1.0],\"title\":{\"text\":\"Million US $\"}},\"legend\":{\"title\":{\"text\":\"variable\"},\"tracegroupgap\":0},\"margin\":{\"t\":60},\"barmode\":\"group\"},                        {\"responsive\": true}                    ).then(function(){\n",
              "                            \n",
              "var gd = document.getElementById('452262e8-2abf-49fc-8c23-a37859c76637');\n",
              "var x = new MutationObserver(function (mutations, observer) {{\n",
              "        var display = window.getComputedStyle(gd).display;\n",
              "        if (!display || display === 'none') {{\n",
              "            console.log([gd, 'removed!']);\n",
              "            Plotly.purge(gd);\n",
              "            observer.disconnect();\n",
              "        }}\n",
              "}});\n",
              "\n",
              "// Listen for the removal of the full notebook cells\n",
              "var notebookContainer = gd.closest('#notebook-container');\n",
              "if (notebookContainer) {{\n",
              "    x.observe(notebookContainer, {childList: true});\n",
              "}}\n",
              "\n",
              "// Listen for the clearing of the current output cell\n",
              "var outputEl = gd.closest('.output');\n",
              "if (outputEl) {{\n",
              "    x.observe(outputEl, {childList: true});\n",
              "}}\n",
              "\n",
              "                        })                };                            </script>        </div>\n",
              "</body>\n",
              "</html>"
            ]
          },
          "metadata": {}
        }
      ]
    },
    {
      "cell_type": "code",
      "source": [
        "#@title select country { run: \"auto\" }\n",
        "Country_Name ='India' #@param [\"Albania\",\"Algeria\",\"Angola\",\"Antigua and Barbuda\",\"Argentina\",\"Armenia\",\"Aruba\",\"Australia\",\"Austria\",\"Azerbaijan\",\"Bahrain\",\"Barbados\",\"Belarus\",\"Belgium\",\"Belize\",\"Benin\",\"Bermuda\",\"Bolivia\",\"Bosnia and Herzegovina\",\"Botswana\",\"Brazil\",\"Brunei\",\"Bulgaria\",\"Burkina Faso\",\"Burundi\",\"Cambodia\",\"Cameroon\",\"Canada\",\"Cape Verde\",\"Chile\",\"China\",\"Colombia\",\"Comoros\",\"Costa Rica\",\"Croatia\",\"Cyprus\",\"Czech Republic\",\"Denmark\",\"Dominican Republic\",\"East Asia & Pacific\",\"Ecuador\",\"Egypt\",\"El Salvador\",\"Estonia\",\"Ethiopia\",\"Europe & Central Asia\",\"Fiji\",\"Finland\",\"France\",\"French Polynesia\",\"Gambia\",\"Georgia\",\"Germany\",\"Ghana\",\"Greece\",\"Greenland\",\"Grenada\",\"Guatemala\",\"Guyana\",\"Honduras\",\"Hong Kong\",\"Hungary\",\"Iceland\",\"India\",\"Indonesia\",\"Ireland\",\"Israel\",\"Italy\",\"Japan\",\"Jordan\",\"Kazakhstan\",\"Kenya\",\"Kuwait\",\"Kyrgyzstan\",\"Laos\",\"Latin America & Caribbean\",\"Latvia\",\"Lesotho\",\"Lithuania\",\"Luxembourg\",\"Macedonia\",\"Madagascar\",\"Malawi\",\"Malaysia\",\"Maldives\",\"Mali\",\"Malta\",\"Mauritania\",\"Mauritius\",\"Mexico\",\"Middle East & North Africa\",\"Moldova\",\"Mongolia\",\"Montenegro\",\"Morocco\",\"Mozambique\",\"Myanmar\",\"Namibia\",\"Netherlands\",\"New Caledonia\",\"New Zealand\",\"Nicaragua\",\"Niger\",\"Nigeria\",\"North America\",\"Norway\",\"Oman\",\"Pakistan\",\"Palestine\",\"Panama\",\"Paraguay\",\"Peru\",\"Philippines\",\"Poland\",\"Portugal\",\"Qatar\",\"Republic of the Congo\",\"Romania\",\"Russia\",\"Rwanda\",\"Saint Kitts and Nevis\",\"Samoa\",\"Sao Tome and Principe\",\"Saudi Arabia\",\"Senegal\",\"Serbia\",\"Seychelles\",\"Sierra Leone\",\"Singapore\",\"Slovakia\",\"Slovenia\",\"South Africa\",\"South Asia\",\"South Korea\",\"Spain\",\"Sri Lanka\",\"Sub-Saharan Africa\",\"Sudan\",\"Sweden\",\"Switzerland\",\"Tanzania\",\"Thailand\",\"Togo\",\"Trinidad and Tobago\",\"Tunisia\",\"Turkey\",\"Uganda\",\"Ukraine\",\"United Arab Emirates\",\"United Kingdom\",\"United States of America\",\"Uruguay\",\"Uzbekistan\",\"Vietnam\",\"Yemen\",\"Zambia\",\"Zimbabwe\"]\n",
        "\n",
        "reslt_df = df_interval1.loc[df_interval1['reporter_country'] == Country_Name]\n",
        "Ex_reslt_df = df_interval1e.loc[df_interval1e['reporter_country'] == Country_Name]\n",
        "reslt_df.drop(reslt_df.columns[[0,2]], axis=1, inplace=True)\n",
        "Ex_reslt_df.drop(Ex_reslt_df.columns[[0,2]], axis=1, inplace=True)\n",
        "reslt_df=reslt_df.rename(columns = {'value':'Imports'})\n",
        "Ex_reslt_df=Ex_reslt_df.rename(columns = {'value':'Exports'})\n"
      ],
      "metadata": {
        "id": "c6Glw5knanNR"
      },
      "execution_count": 225,
      "outputs": []
    },
    {
      "cell_type": "code",
      "source": [
        "reslt_df['Deficit'] = Ex_reslt_df.Exports - reslt_df.Imports"
      ],
      "metadata": {
        "id": "BN--JEPqlCv3"
      },
      "execution_count": 226,
      "outputs": []
    },
    {
      "cell_type": "code",
      "source": [
        "fig = go.Figure()\n",
        "\n",
        "# Create and style traces\n",
        "fig.add_trace(go.Scatter(x=reslt_df.timestamp, y=reslt_df.Imports, name='Import',mode='lines+markers',\n",
        "                         line=dict(color='black', width=4)))\n",
        "fig.add_trace(go.Scatter(x=Ex_reslt_df.timestamp, y=Ex_reslt_df.Exports, name = 'Export',mode='lines+markers',\n",
        "                         line=dict(color='orange', width=4)))\n",
        "fig.add_trace(go.Scatter(x=reslt_df.timestamp, y=reslt_df.Deficit, name='Deficit',mode='lines+markers',\n",
        "                         line=dict(color='red', width=4)))\n",
        "\n",
        "fig.update_layout(\n",
        "    title=go.layout.Title(\n",
        "        text=\"Indian Trade Over The Years 2018-20\",\n",
        "        xref=\"paper\",\n",
        "        x=0\n",
        "    ),\n",
        "    xaxis=go.layout.XAxis(\n",
        "        title=go.layout.xaxis.Title(\n",
        "            text=\"Monthly\",\n",
        "            font=dict(\n",
        "                family=\"Times New\",\n",
        "                size=18,\n",
        "                color=\"#7f7f7f\"\n",
        "            )\n",
        "        )\n",
        "    ),\n",
        "    yaxis=go.layout.YAxis(\n",
        "        title=go.layout.yaxis.Title(\n",
        "            text=\"Million US $\",\n",
        "            font=dict(\n",
        "                family=\"Times New\",\n",
        "                size=18,\n",
        "                color=\"#7f7f7f\"\n",
        "            )\n",
        "        )\n",
        "    )\n",
        ")\n",
        "\n",
        "fig.show()\n"
      ],
      "metadata": {
        "colab": {
          "base_uri": "https://localhost:8080/",
          "height": 542
        },
        "id": "WiVJEcpCm73Q",
        "outputId": "a60d4d29-690f-4f9d-8401-e7abf342fdfd"
      },
      "execution_count": 227,
      "outputs": [
        {
          "output_type": "display_data",
          "data": {
            "text/html": [
              "<html>\n",
              "<head><meta charset=\"utf-8\" /></head>\n",
              "<body>\n",
              "    <div>            <script src=\"https://cdnjs.cloudflare.com/ajax/libs/mathjax/2.7.5/MathJax.js?config=TeX-AMS-MML_SVG\"></script><script type=\"text/javascript\">if (window.MathJax) {MathJax.Hub.Config({SVG: {font: \"STIX-Web\"}});}</script>                <script type=\"text/javascript\">window.PlotlyConfig = {MathJaxConfig: 'local'};</script>\n",
              "        <script src=\"https://cdn.plot.ly/plotly-2.8.3.min.js\"></script>                <div id=\"66f1edee-ac30-4527-bfd2-cd32a61f25ac\" class=\"plotly-graph-div\" style=\"height:525px; width:100%;\"></div>            <script type=\"text/javascript\">                                    window.PLOTLYENV=window.PLOTLYENV || {};                                    if (document.getElementById(\"66f1edee-ac30-4527-bfd2-cd32a61f25ac\")) {                    Plotly.newPlot(                        \"66f1edee-ac30-4527-bfd2-cd32a61f25ac\",                        [{\"line\":{\"color\":\"black\",\"width\":4},\"mode\":\"lines+markers\",\"name\":\"Import\",\"x\":[\"2018-01-01T00:00:00\",\"2018-02-01T00:00:00\",\"2018-03-01T00:00:00\",\"2018-04-01T00:00:00\",\"2018-05-01T00:00:00\",\"2018-06-01T00:00:00\",\"2018-07-01T00:00:00\",\"2018-08-01T00:00:00\",\"2018-09-01T00:00:00\",\"2018-10-01T00:00:00\",\"2018-11-01T00:00:00\",\"2018-12-01T00:00:00\",\"2019-01-01T00:00:00\",\"2019-02-01T00:00:00\",\"2019-03-01T00:00:00\",\"2019-04-01T00:00:00\",\"2019-05-01T00:00:00\",\"2019-06-01T00:00:00\",\"2019-07-01T00:00:00\",\"2019-08-01T00:00:00\",\"2019-09-01T00:00:00\",\"2019-10-01T00:00:00\",\"2019-11-01T00:00:00\",\"2019-12-01T00:00:00\"],\"y\":[60943621,58767700,69510587,64570492,67661237,72670277,78222462,86689359,72873093,69745175,65644456,57986337,67956129,49418363,56968605,54319369,54428852,52313560,44705009,51548235,39262235,40662282,46535138,41756822],\"type\":\"scatter\"},{\"line\":{\"color\":\"orange\",\"width\":4},\"mode\":\"lines+markers\",\"name\":\"Export\",\"x\":[\"2018-01-01T00:00:00\",\"2018-02-01T00:00:00\",\"2018-03-01T00:00:00\",\"2018-04-01T00:00:00\",\"2018-05-01T00:00:00\",\"2018-06-01T00:00:00\",\"2018-07-01T00:00:00\",\"2018-08-01T00:00:00\",\"2018-09-01T00:00:00\",\"2018-10-01T00:00:00\",\"2018-11-01T00:00:00\",\"2018-12-01T00:00:00\",\"2019-01-01T00:00:00\",\"2019-02-01T00:00:00\",\"2019-03-01T00:00:00\",\"2019-04-01T00:00:00\",\"2019-05-01T00:00:00\",\"2019-06-01T00:00:00\",\"2019-07-01T00:00:00\",\"2019-08-01T00:00:00\",\"2019-09-01T00:00:00\",\"2019-10-01T00:00:00\",\"2019-11-01T00:00:00\",\"2019-12-01T00:00:00\"],\"y\":[18856402,8717652,28392668,19667206,17357890,17645498,25198524,35849971,47661218,45661349,60491134,44477407,48006455,58469172,58777728,41646731,38861222,34790925,48865600,36736203,29764852,28414748,47539898,32843564],\"type\":\"scatter\"},{\"line\":{\"color\":\"red\",\"width\":4},\"mode\":\"lines+markers\",\"name\":\"Deficit\",\"x\":[\"2018-01-01T00:00:00\",\"2018-02-01T00:00:00\",\"2018-03-01T00:00:00\",\"2018-04-01T00:00:00\",\"2018-05-01T00:00:00\",\"2018-06-01T00:00:00\",\"2018-07-01T00:00:00\",\"2018-08-01T00:00:00\",\"2018-09-01T00:00:00\",\"2018-10-01T00:00:00\",\"2018-11-01T00:00:00\",\"2018-12-01T00:00:00\",\"2019-01-01T00:00:00\",\"2019-02-01T00:00:00\",\"2019-03-01T00:00:00\",\"2019-04-01T00:00:00\",\"2019-05-01T00:00:00\",\"2019-06-01T00:00:00\",\"2019-07-01T00:00:00\",\"2019-08-01T00:00:00\",\"2019-09-01T00:00:00\",\"2019-10-01T00:00:00\",\"2019-11-01T00:00:00\",\"2019-12-01T00:00:00\"],\"y\":[null,null,null,null,null,null,null,null,null,null,null,null,null,null,null,null,null,null,null,null,null,null,null,null],\"type\":\"scatter\"}],                        {\"template\":{\"data\":{\"bar\":[{\"error_x\":{\"color\":\"#2a3f5f\"},\"error_y\":{\"color\":\"#2a3f5f\"},\"marker\":{\"line\":{\"color\":\"#E5ECF6\",\"width\":0.5},\"pattern\":{\"fillmode\":\"overlay\",\"size\":10,\"solidity\":0.2}},\"type\":\"bar\"}],\"barpolar\":[{\"marker\":{\"line\":{\"color\":\"#E5ECF6\",\"width\":0.5},\"pattern\":{\"fillmode\":\"overlay\",\"size\":10,\"solidity\":0.2}},\"type\":\"barpolar\"}],\"carpet\":[{\"aaxis\":{\"endlinecolor\":\"#2a3f5f\",\"gridcolor\":\"white\",\"linecolor\":\"white\",\"minorgridcolor\":\"white\",\"startlinecolor\":\"#2a3f5f\"},\"baxis\":{\"endlinecolor\":\"#2a3f5f\",\"gridcolor\":\"white\",\"linecolor\":\"white\",\"minorgridcolor\":\"white\",\"startlinecolor\":\"#2a3f5f\"},\"type\":\"carpet\"}],\"choropleth\":[{\"colorbar\":{\"outlinewidth\":0,\"ticks\":\"\"},\"type\":\"choropleth\"}],\"contour\":[{\"colorbar\":{\"outlinewidth\":0,\"ticks\":\"\"},\"colorscale\":[[0.0,\"#0d0887\"],[0.1111111111111111,\"#46039f\"],[0.2222222222222222,\"#7201a8\"],[0.3333333333333333,\"#9c179e\"],[0.4444444444444444,\"#bd3786\"],[0.5555555555555556,\"#d8576b\"],[0.6666666666666666,\"#ed7953\"],[0.7777777777777778,\"#fb9f3a\"],[0.8888888888888888,\"#fdca26\"],[1.0,\"#f0f921\"]],\"type\":\"contour\"}],\"contourcarpet\":[{\"colorbar\":{\"outlinewidth\":0,\"ticks\":\"\"},\"type\":\"contourcarpet\"}],\"heatmap\":[{\"colorbar\":{\"outlinewidth\":0,\"ticks\":\"\"},\"colorscale\":[[0.0,\"#0d0887\"],[0.1111111111111111,\"#46039f\"],[0.2222222222222222,\"#7201a8\"],[0.3333333333333333,\"#9c179e\"],[0.4444444444444444,\"#bd3786\"],[0.5555555555555556,\"#d8576b\"],[0.6666666666666666,\"#ed7953\"],[0.7777777777777778,\"#fb9f3a\"],[0.8888888888888888,\"#fdca26\"],[1.0,\"#f0f921\"]],\"type\":\"heatmap\"}],\"heatmapgl\":[{\"colorbar\":{\"outlinewidth\":0,\"ticks\":\"\"},\"colorscale\":[[0.0,\"#0d0887\"],[0.1111111111111111,\"#46039f\"],[0.2222222222222222,\"#7201a8\"],[0.3333333333333333,\"#9c179e\"],[0.4444444444444444,\"#bd3786\"],[0.5555555555555556,\"#d8576b\"],[0.6666666666666666,\"#ed7953\"],[0.7777777777777778,\"#fb9f3a\"],[0.8888888888888888,\"#fdca26\"],[1.0,\"#f0f921\"]],\"type\":\"heatmapgl\"}],\"histogram\":[{\"marker\":{\"pattern\":{\"fillmode\":\"overlay\",\"size\":10,\"solidity\":0.2}},\"type\":\"histogram\"}],\"histogram2d\":[{\"colorbar\":{\"outlinewidth\":0,\"ticks\":\"\"},\"colorscale\":[[0.0,\"#0d0887\"],[0.1111111111111111,\"#46039f\"],[0.2222222222222222,\"#7201a8\"],[0.3333333333333333,\"#9c179e\"],[0.4444444444444444,\"#bd3786\"],[0.5555555555555556,\"#d8576b\"],[0.6666666666666666,\"#ed7953\"],[0.7777777777777778,\"#fb9f3a\"],[0.8888888888888888,\"#fdca26\"],[1.0,\"#f0f921\"]],\"type\":\"histogram2d\"}],\"histogram2dcontour\":[{\"colorbar\":{\"outlinewidth\":0,\"ticks\":\"\"},\"colorscale\":[[0.0,\"#0d0887\"],[0.1111111111111111,\"#46039f\"],[0.2222222222222222,\"#7201a8\"],[0.3333333333333333,\"#9c179e\"],[0.4444444444444444,\"#bd3786\"],[0.5555555555555556,\"#d8576b\"],[0.6666666666666666,\"#ed7953\"],[0.7777777777777778,\"#fb9f3a\"],[0.8888888888888888,\"#fdca26\"],[1.0,\"#f0f921\"]],\"type\":\"histogram2dcontour\"}],\"mesh3d\":[{\"colorbar\":{\"outlinewidth\":0,\"ticks\":\"\"},\"type\":\"mesh3d\"}],\"parcoords\":[{\"line\":{\"colorbar\":{\"outlinewidth\":0,\"ticks\":\"\"}},\"type\":\"parcoords\"}],\"pie\":[{\"automargin\":true,\"type\":\"pie\"}],\"scatter\":[{\"marker\":{\"colorbar\":{\"outlinewidth\":0,\"ticks\":\"\"}},\"type\":\"scatter\"}],\"scatter3d\":[{\"line\":{\"colorbar\":{\"outlinewidth\":0,\"ticks\":\"\"}},\"marker\":{\"colorbar\":{\"outlinewidth\":0,\"ticks\":\"\"}},\"type\":\"scatter3d\"}],\"scattercarpet\":[{\"marker\":{\"colorbar\":{\"outlinewidth\":0,\"ticks\":\"\"}},\"type\":\"scattercarpet\"}],\"scattergeo\":[{\"marker\":{\"colorbar\":{\"outlinewidth\":0,\"ticks\":\"\"}},\"type\":\"scattergeo\"}],\"scattergl\":[{\"marker\":{\"colorbar\":{\"outlinewidth\":0,\"ticks\":\"\"}},\"type\":\"scattergl\"}],\"scattermapbox\":[{\"marker\":{\"colorbar\":{\"outlinewidth\":0,\"ticks\":\"\"}},\"type\":\"scattermapbox\"}],\"scatterpolar\":[{\"marker\":{\"colorbar\":{\"outlinewidth\":0,\"ticks\":\"\"}},\"type\":\"scatterpolar\"}],\"scatterpolargl\":[{\"marker\":{\"colorbar\":{\"outlinewidth\":0,\"ticks\":\"\"}},\"type\":\"scatterpolargl\"}],\"scatterternary\":[{\"marker\":{\"colorbar\":{\"outlinewidth\":0,\"ticks\":\"\"}},\"type\":\"scatterternary\"}],\"surface\":[{\"colorbar\":{\"outlinewidth\":0,\"ticks\":\"\"},\"colorscale\":[[0.0,\"#0d0887\"],[0.1111111111111111,\"#46039f\"],[0.2222222222222222,\"#7201a8\"],[0.3333333333333333,\"#9c179e\"],[0.4444444444444444,\"#bd3786\"],[0.5555555555555556,\"#d8576b\"],[0.6666666666666666,\"#ed7953\"],[0.7777777777777778,\"#fb9f3a\"],[0.8888888888888888,\"#fdca26\"],[1.0,\"#f0f921\"]],\"type\":\"surface\"}],\"table\":[{\"cells\":{\"fill\":{\"color\":\"#EBF0F8\"},\"line\":{\"color\":\"white\"}},\"header\":{\"fill\":{\"color\":\"#C8D4E3\"},\"line\":{\"color\":\"white\"}},\"type\":\"table\"}]},\"layout\":{\"annotationdefaults\":{\"arrowcolor\":\"#2a3f5f\",\"arrowhead\":0,\"arrowwidth\":1},\"autotypenumbers\":\"strict\",\"coloraxis\":{\"colorbar\":{\"outlinewidth\":0,\"ticks\":\"\"}},\"colorscale\":{\"diverging\":[[0,\"#8e0152\"],[0.1,\"#c51b7d\"],[0.2,\"#de77ae\"],[0.3,\"#f1b6da\"],[0.4,\"#fde0ef\"],[0.5,\"#f7f7f7\"],[0.6,\"#e6f5d0\"],[0.7,\"#b8e186\"],[0.8,\"#7fbc41\"],[0.9,\"#4d9221\"],[1,\"#276419\"]],\"sequential\":[[0.0,\"#0d0887\"],[0.1111111111111111,\"#46039f\"],[0.2222222222222222,\"#7201a8\"],[0.3333333333333333,\"#9c179e\"],[0.4444444444444444,\"#bd3786\"],[0.5555555555555556,\"#d8576b\"],[0.6666666666666666,\"#ed7953\"],[0.7777777777777778,\"#fb9f3a\"],[0.8888888888888888,\"#fdca26\"],[1.0,\"#f0f921\"]],\"sequentialminus\":[[0.0,\"#0d0887\"],[0.1111111111111111,\"#46039f\"],[0.2222222222222222,\"#7201a8\"],[0.3333333333333333,\"#9c179e\"],[0.4444444444444444,\"#bd3786\"],[0.5555555555555556,\"#d8576b\"],[0.6666666666666666,\"#ed7953\"],[0.7777777777777778,\"#fb9f3a\"],[0.8888888888888888,\"#fdca26\"],[1.0,\"#f0f921\"]]},\"colorway\":[\"#636efa\",\"#EF553B\",\"#00cc96\",\"#ab63fa\",\"#FFA15A\",\"#19d3f3\",\"#FF6692\",\"#B6E880\",\"#FF97FF\",\"#FECB52\"],\"font\":{\"color\":\"#2a3f5f\"},\"geo\":{\"bgcolor\":\"white\",\"lakecolor\":\"white\",\"landcolor\":\"#E5ECF6\",\"showlakes\":true,\"showland\":true,\"subunitcolor\":\"white\"},\"hoverlabel\":{\"align\":\"left\"},\"hovermode\":\"closest\",\"mapbox\":{\"style\":\"light\"},\"paper_bgcolor\":\"white\",\"plot_bgcolor\":\"#E5ECF6\",\"polar\":{\"angularaxis\":{\"gridcolor\":\"white\",\"linecolor\":\"white\",\"ticks\":\"\"},\"bgcolor\":\"#E5ECF6\",\"radialaxis\":{\"gridcolor\":\"white\",\"linecolor\":\"white\",\"ticks\":\"\"}},\"scene\":{\"xaxis\":{\"backgroundcolor\":\"#E5ECF6\",\"gridcolor\":\"white\",\"gridwidth\":2,\"linecolor\":\"white\",\"showbackground\":true,\"ticks\":\"\",\"zerolinecolor\":\"white\"},\"yaxis\":{\"backgroundcolor\":\"#E5ECF6\",\"gridcolor\":\"white\",\"gridwidth\":2,\"linecolor\":\"white\",\"showbackground\":true,\"ticks\":\"\",\"zerolinecolor\":\"white\"},\"zaxis\":{\"backgroundcolor\":\"#E5ECF6\",\"gridcolor\":\"white\",\"gridwidth\":2,\"linecolor\":\"white\",\"showbackground\":true,\"ticks\":\"\",\"zerolinecolor\":\"white\"}},\"shapedefaults\":{\"line\":{\"color\":\"#2a3f5f\"}},\"ternary\":{\"aaxis\":{\"gridcolor\":\"white\",\"linecolor\":\"white\",\"ticks\":\"\"},\"baxis\":{\"gridcolor\":\"white\",\"linecolor\":\"white\",\"ticks\":\"\"},\"bgcolor\":\"#E5ECF6\",\"caxis\":{\"gridcolor\":\"white\",\"linecolor\":\"white\",\"ticks\":\"\"}},\"title\":{\"x\":0.05},\"xaxis\":{\"automargin\":true,\"gridcolor\":\"white\",\"linecolor\":\"white\",\"ticks\":\"\",\"title\":{\"standoff\":15},\"zerolinecolor\":\"white\",\"zerolinewidth\":2},\"yaxis\":{\"automargin\":true,\"gridcolor\":\"white\",\"linecolor\":\"white\",\"ticks\":\"\",\"title\":{\"standoff\":15},\"zerolinecolor\":\"white\",\"zerolinewidth\":2}}},\"title\":{\"text\":\"Indian Trade Over The Years 2018-20\",\"x\":0,\"xref\":\"paper\"},\"xaxis\":{\"title\":{\"font\":{\"color\":\"#7f7f7f\",\"family\":\"Times New\",\"size\":18},\"text\":\"Monthly\"}},\"yaxis\":{\"title\":{\"font\":{\"color\":\"#7f7f7f\",\"family\":\"Times New\",\"size\":18},\"text\":\"Million US $\"}}},                        {\"responsive\": true}                    ).then(function(){\n",
              "                            \n",
              "var gd = document.getElementById('66f1edee-ac30-4527-bfd2-cd32a61f25ac');\n",
              "var x = new MutationObserver(function (mutations, observer) {{\n",
              "        var display = window.getComputedStyle(gd).display;\n",
              "        if (!display || display === 'none') {{\n",
              "            console.log([gd, 'removed!']);\n",
              "            Plotly.purge(gd);\n",
              "            observer.disconnect();\n",
              "        }}\n",
              "}});\n",
              "\n",
              "// Listen for the removal of the full notebook cells\n",
              "var notebookContainer = gd.closest('#notebook-container');\n",
              "if (notebookContainer) {{\n",
              "    x.observe(notebookContainer, {childList: true});\n",
              "}}\n",
              "\n",
              "// Listen for the clearing of the current output cell\n",
              "var outputEl = gd.closest('.output');\n",
              "if (outputEl) {{\n",
              "    x.observe(outputEl, {childList: true});\n",
              "}}\n",
              "\n",
              "                        })                };                            </script>        </div>\n",
              "</body>\n",
              "</html>"
            ]
          },
          "metadata": {}
        }
      ]
    },
    {
      "cell_type": "code",
      "source": [
        ""
      ],
      "metadata": {
        "id": "EyeOPnjpm7zh"
      },
      "execution_count": 227,
      "outputs": []
    },
    {
      "cell_type": "code",
      "source": [
        "\"\"\"\n",
        "plt.rcParams[\"figure.figsize\"] = (22,5.5)\n",
        "# multiple line plots\n",
        "plt.plot( 'timestamp', 'Imports', data=reslt_df, marker='o', markerfacecolor='blue', color='skyblue', linewidth=2 )\n",
        "plt.plot( 'timestamp', 'Exports', data=Ex_reslt_df, marker='o', color='olive', linewidth=2)\n",
        "#plt.plot( 'timestamp', 'Deficit', data=reslt_df, marker='o', color='olive', linewidth=2, label=\"Dedicit\")\n",
        "\n",
        "# show legend\n",
        "plt.legend()\n",
        "plt.xlabel(\"Timestamp\")\n",
        "plt.ylabel(\"Total Imports in Million US$\")\n",
        "# show graph\n",
        "plt.show()\n",
        "\"\"\""
      ],
      "metadata": {
        "colab": {
          "base_uri": "https://localhost:8080/",
          "height": 140
        },
        "id": "ZULlBOZManJ9",
        "outputId": "bbebef61-8a27-4958-ae93-22b4d556360c"
      },
      "execution_count": 228,
      "outputs": [
        {
          "output_type": "execute_result",
          "data": {
            "text/plain": [
              "'\\nplt.rcParams[\"figure.figsize\"] = (22,5.5)\\n# multiple line plots\\nplt.plot( \\'timestamp\\', \\'Imports\\', data=reslt_df, marker=\\'o\\', markerfacecolor=\\'blue\\', color=\\'skyblue\\', linewidth=2 )\\nplt.plot( \\'timestamp\\', \\'Exports\\', data=Ex_reslt_df, marker=\\'o\\', color=\\'olive\\', linewidth=2)\\n#plt.plot( \\'timestamp\\', \\'Deficit\\', data=reslt_df, marker=\\'o\\', color=\\'olive\\', linewidth=2, label=\"Dedicit\")\\n\\n# show legend\\nplt.legend()\\nplt.xlabel(\"Timestamp\")\\nplt.ylabel(\"Total Imports in Million US$\")\\n# show graph\\nplt.show()\\n'"
            ],
            "application/vnd.google.colaboratory.intrinsic+json": {
              "type": "string"
            }
          },
          "metadata": {},
          "execution_count": 228
        }
      ]
    },
    {
      "cell_type": "code",
      "source": [
        "Import =df_interval1.groupby(['timestamp']).agg({'value':'sum'}).reset_index()\n",
        "Export =df_interval1e.groupby(['timestamp']).agg({'value':'sum'}).reset_index()\n",
        "Import['Deficit'] = Export.value - Import.value"
      ],
      "metadata": {
        "id": "lmwu3bBb4bRR"
      },
      "execution_count": 229,
      "outputs": []
    },
    {
      "cell_type": "code",
      "source": [
        "fig = go.Figure()\n",
        "\n",
        "# Create and style traces\n",
        "fig.add_trace(go.Scatter(x=Import.timestamp, y=Import.value, name='Import',mode='lines+markers',\n",
        "                         line=dict(color='blue', width=4)))\n",
        "fig.add_trace(go.Scatter(x=Export.timestamp, y=Export.value, name = 'Export',mode='lines+markers',\n",
        "                         line=dict(color='green', width=4)))\n",
        "fig.add_trace(go.Scatter(x=Import.timestamp, y=Import.Deficit, name='Deficit',mode='lines+markers',\n",
        "                         line=dict(color='red', width=4)))\n",
        "\n",
        "fig.update_layout(\n",
        "    title=go.layout.Title(\n",
        "        text=\"Monthly Trade and its deficit Over The Years 2018-20 \",\n",
        "        xref=\"paper\",\n",
        "        x=0\n",
        "    ),\n",
        "    xaxis=go.layout.XAxis(\n",
        "        title=go.layout.xaxis.Title(\n",
        "            text=\"Monthly\",\n",
        "            font=dict(\n",
        "                family=\"Times New\",\n",
        "                size=18,\n",
        "                color=\"#7f7f7f\"\n",
        "            )\n",
        "        )\n",
        "    ),\n",
        "    yaxis=go.layout.YAxis(\n",
        "        title=go.layout.yaxis.Title(\n",
        "            text=\"Million US $\",\n",
        "            font=dict(\n",
        "                family=\"Times New\",\n",
        "                size=18,\n",
        "                color=\"#7f7f7f\"\n",
        "            )\n",
        "        )\n",
        "    )\n",
        ")\n",
        "\n",
        "fig.show()\n"
      ],
      "metadata": {
        "colab": {
          "base_uri": "https://localhost:8080/",
          "height": 542
        },
        "id": "Wa0orT9Y4_b3",
        "outputId": "7bd81cf5-a7b3-4db2-bc8c-4701371ad4b4"
      },
      "execution_count": 230,
      "outputs": [
        {
          "output_type": "display_data",
          "data": {
            "text/html": [
              "<html>\n",
              "<head><meta charset=\"utf-8\" /></head>\n",
              "<body>\n",
              "    <div>            <script src=\"https://cdnjs.cloudflare.com/ajax/libs/mathjax/2.7.5/MathJax.js?config=TeX-AMS-MML_SVG\"></script><script type=\"text/javascript\">if (window.MathJax) {MathJax.Hub.Config({SVG: {font: \"STIX-Web\"}});}</script>                <script type=\"text/javascript\">window.PlotlyConfig = {MathJaxConfig: 'local'};</script>\n",
              "        <script src=\"https://cdn.plot.ly/plotly-2.8.3.min.js\"></script>                <div id=\"10c7e5de-683d-401c-873f-8aad4b5729bb\" class=\"plotly-graph-div\" style=\"height:525px; width:100%;\"></div>            <script type=\"text/javascript\">                                    window.PLOTLYENV=window.PLOTLYENV || {};                                    if (document.getElementById(\"10c7e5de-683d-401c-873f-8aad4b5729bb\")) {                    Plotly.newPlot(                        \"10c7e5de-683d-401c-873f-8aad4b5729bb\",                        [{\"line\":{\"color\":\"blue\",\"width\":4},\"mode\":\"lines+markers\",\"name\":\"Import\",\"x\":[\"2018-01-01T00:00:00\",\"2018-02-01T00:00:00\",\"2018-03-01T00:00:00\",\"2018-04-01T00:00:00\",\"2018-05-01T00:00:00\",\"2018-06-01T00:00:00\",\"2018-07-01T00:00:00\",\"2018-08-01T00:00:00\",\"2018-09-01T00:00:00\",\"2018-10-01T00:00:00\",\"2018-11-01T00:00:00\",\"2018-12-01T00:00:00\",\"2019-01-01T00:00:00\",\"2019-02-01T00:00:00\",\"2019-03-01T00:00:00\",\"2019-04-01T00:00:00\",\"2019-05-01T00:00:00\",\"2019-06-01T00:00:00\",\"2019-07-01T00:00:00\",\"2019-08-01T00:00:00\",\"2019-09-01T00:00:00\",\"2019-10-01T00:00:00\",\"2019-11-01T00:00:00\",\"2019-12-01T00:00:00\"],\"y\":[2610471033,2104313823,2719529778,2535471911,2761342043,2536008964,2625731190,2592533569,2461224828,2565485355,2507135860,2350508533,2565644002,2214753372,2486175187,2498892161,2510135690,2220248998,2455590986,2241813731,2172700688,2138804627,2145583733,2041570313],\"type\":\"scatter\"},{\"line\":{\"color\":\"green\",\"width\":4},\"mode\":\"lines+markers\",\"name\":\"Export\",\"x\":[\"2018-01-01T00:00:00\",\"2018-02-01T00:00:00\",\"2018-03-01T00:00:00\",\"2018-04-01T00:00:00\",\"2018-05-01T00:00:00\",\"2018-06-01T00:00:00\",\"2018-07-01T00:00:00\",\"2018-08-01T00:00:00\",\"2018-09-01T00:00:00\",\"2018-10-01T00:00:00\",\"2018-11-01T00:00:00\",\"2018-12-01T00:00:00\",\"2019-01-01T00:00:00\",\"2019-02-01T00:00:00\",\"2019-03-01T00:00:00\",\"2019-04-01T00:00:00\",\"2019-05-01T00:00:00\",\"2019-06-01T00:00:00\",\"2019-07-01T00:00:00\",\"2019-08-01T00:00:00\",\"2019-09-01T00:00:00\",\"2019-10-01T00:00:00\",\"2019-11-01T00:00:00\",\"2019-12-01T00:00:00\"],\"y\":[1738840501,1677188302,1767236426,1694767854,1791335433,1732963311,1742912036,1723318658,1754835050,1868543882,1704349052,1601936212,1763263672,1742958731,1762020897,1789439734,1709942218,1598831067,1761645031,1642652413,1481873973,1483846124,1492666711,1437100431],\"type\":\"scatter\"},{\"line\":{\"color\":\"red\",\"width\":4},\"mode\":\"lines+markers\",\"name\":\"Deficit\",\"x\":[\"2018-01-01T00:00:00\",\"2018-02-01T00:00:00\",\"2018-03-01T00:00:00\",\"2018-04-01T00:00:00\",\"2018-05-01T00:00:00\",\"2018-06-01T00:00:00\",\"2018-07-01T00:00:00\",\"2018-08-01T00:00:00\",\"2018-09-01T00:00:00\",\"2018-10-01T00:00:00\",\"2018-11-01T00:00:00\",\"2018-12-01T00:00:00\",\"2019-01-01T00:00:00\",\"2019-02-01T00:00:00\",\"2019-03-01T00:00:00\",\"2019-04-01T00:00:00\",\"2019-05-01T00:00:00\",\"2019-06-01T00:00:00\",\"2019-07-01T00:00:00\",\"2019-08-01T00:00:00\",\"2019-09-01T00:00:00\",\"2019-10-01T00:00:00\",\"2019-11-01T00:00:00\",\"2019-12-01T00:00:00\"],\"y\":[-871630532,-427125521,-952293352,-840704057,-970006610,-803045653,-882819154,-869214911,-706389778,-696941473,-802786808,-748572321,-802380330,-471794641,-724154290,-709452427,-800193472,-621417931,-693945955,-599161318,-690826715,-654958503,-652917022,-604469882],\"type\":\"scatter\"}],                        {\"template\":{\"data\":{\"bar\":[{\"error_x\":{\"color\":\"#2a3f5f\"},\"error_y\":{\"color\":\"#2a3f5f\"},\"marker\":{\"line\":{\"color\":\"#E5ECF6\",\"width\":0.5},\"pattern\":{\"fillmode\":\"overlay\",\"size\":10,\"solidity\":0.2}},\"type\":\"bar\"}],\"barpolar\":[{\"marker\":{\"line\":{\"color\":\"#E5ECF6\",\"width\":0.5},\"pattern\":{\"fillmode\":\"overlay\",\"size\":10,\"solidity\":0.2}},\"type\":\"barpolar\"}],\"carpet\":[{\"aaxis\":{\"endlinecolor\":\"#2a3f5f\",\"gridcolor\":\"white\",\"linecolor\":\"white\",\"minorgridcolor\":\"white\",\"startlinecolor\":\"#2a3f5f\"},\"baxis\":{\"endlinecolor\":\"#2a3f5f\",\"gridcolor\":\"white\",\"linecolor\":\"white\",\"minorgridcolor\":\"white\",\"startlinecolor\":\"#2a3f5f\"},\"type\":\"carpet\"}],\"choropleth\":[{\"colorbar\":{\"outlinewidth\":0,\"ticks\":\"\"},\"type\":\"choropleth\"}],\"contour\":[{\"colorbar\":{\"outlinewidth\":0,\"ticks\":\"\"},\"colorscale\":[[0.0,\"#0d0887\"],[0.1111111111111111,\"#46039f\"],[0.2222222222222222,\"#7201a8\"],[0.3333333333333333,\"#9c179e\"],[0.4444444444444444,\"#bd3786\"],[0.5555555555555556,\"#d8576b\"],[0.6666666666666666,\"#ed7953\"],[0.7777777777777778,\"#fb9f3a\"],[0.8888888888888888,\"#fdca26\"],[1.0,\"#f0f921\"]],\"type\":\"contour\"}],\"contourcarpet\":[{\"colorbar\":{\"outlinewidth\":0,\"ticks\":\"\"},\"type\":\"contourcarpet\"}],\"heatmap\":[{\"colorbar\":{\"outlinewidth\":0,\"ticks\":\"\"},\"colorscale\":[[0.0,\"#0d0887\"],[0.1111111111111111,\"#46039f\"],[0.2222222222222222,\"#7201a8\"],[0.3333333333333333,\"#9c179e\"],[0.4444444444444444,\"#bd3786\"],[0.5555555555555556,\"#d8576b\"],[0.6666666666666666,\"#ed7953\"],[0.7777777777777778,\"#fb9f3a\"],[0.8888888888888888,\"#fdca26\"],[1.0,\"#f0f921\"]],\"type\":\"heatmap\"}],\"heatmapgl\":[{\"colorbar\":{\"outlinewidth\":0,\"ticks\":\"\"},\"colorscale\":[[0.0,\"#0d0887\"],[0.1111111111111111,\"#46039f\"],[0.2222222222222222,\"#7201a8\"],[0.3333333333333333,\"#9c179e\"],[0.4444444444444444,\"#bd3786\"],[0.5555555555555556,\"#d8576b\"],[0.6666666666666666,\"#ed7953\"],[0.7777777777777778,\"#fb9f3a\"],[0.8888888888888888,\"#fdca26\"],[1.0,\"#f0f921\"]],\"type\":\"heatmapgl\"}],\"histogram\":[{\"marker\":{\"pattern\":{\"fillmode\":\"overlay\",\"size\":10,\"solidity\":0.2}},\"type\":\"histogram\"}],\"histogram2d\":[{\"colorbar\":{\"outlinewidth\":0,\"ticks\":\"\"},\"colorscale\":[[0.0,\"#0d0887\"],[0.1111111111111111,\"#46039f\"],[0.2222222222222222,\"#7201a8\"],[0.3333333333333333,\"#9c179e\"],[0.4444444444444444,\"#bd3786\"],[0.5555555555555556,\"#d8576b\"],[0.6666666666666666,\"#ed7953\"],[0.7777777777777778,\"#fb9f3a\"],[0.8888888888888888,\"#fdca26\"],[1.0,\"#f0f921\"]],\"type\":\"histogram2d\"}],\"histogram2dcontour\":[{\"colorbar\":{\"outlinewidth\":0,\"ticks\":\"\"},\"colorscale\":[[0.0,\"#0d0887\"],[0.1111111111111111,\"#46039f\"],[0.2222222222222222,\"#7201a8\"],[0.3333333333333333,\"#9c179e\"],[0.4444444444444444,\"#bd3786\"],[0.5555555555555556,\"#d8576b\"],[0.6666666666666666,\"#ed7953\"],[0.7777777777777778,\"#fb9f3a\"],[0.8888888888888888,\"#fdca26\"],[1.0,\"#f0f921\"]],\"type\":\"histogram2dcontour\"}],\"mesh3d\":[{\"colorbar\":{\"outlinewidth\":0,\"ticks\":\"\"},\"type\":\"mesh3d\"}],\"parcoords\":[{\"line\":{\"colorbar\":{\"outlinewidth\":0,\"ticks\":\"\"}},\"type\":\"parcoords\"}],\"pie\":[{\"automargin\":true,\"type\":\"pie\"}],\"scatter\":[{\"marker\":{\"colorbar\":{\"outlinewidth\":0,\"ticks\":\"\"}},\"type\":\"scatter\"}],\"scatter3d\":[{\"line\":{\"colorbar\":{\"outlinewidth\":0,\"ticks\":\"\"}},\"marker\":{\"colorbar\":{\"outlinewidth\":0,\"ticks\":\"\"}},\"type\":\"scatter3d\"}],\"scattercarpet\":[{\"marker\":{\"colorbar\":{\"outlinewidth\":0,\"ticks\":\"\"}},\"type\":\"scattercarpet\"}],\"scattergeo\":[{\"marker\":{\"colorbar\":{\"outlinewidth\":0,\"ticks\":\"\"}},\"type\":\"scattergeo\"}],\"scattergl\":[{\"marker\":{\"colorbar\":{\"outlinewidth\":0,\"ticks\":\"\"}},\"type\":\"scattergl\"}],\"scattermapbox\":[{\"marker\":{\"colorbar\":{\"outlinewidth\":0,\"ticks\":\"\"}},\"type\":\"scattermapbox\"}],\"scatterpolar\":[{\"marker\":{\"colorbar\":{\"outlinewidth\":0,\"ticks\":\"\"}},\"type\":\"scatterpolar\"}],\"scatterpolargl\":[{\"marker\":{\"colorbar\":{\"outlinewidth\":0,\"ticks\":\"\"}},\"type\":\"scatterpolargl\"}],\"scatterternary\":[{\"marker\":{\"colorbar\":{\"outlinewidth\":0,\"ticks\":\"\"}},\"type\":\"scatterternary\"}],\"surface\":[{\"colorbar\":{\"outlinewidth\":0,\"ticks\":\"\"},\"colorscale\":[[0.0,\"#0d0887\"],[0.1111111111111111,\"#46039f\"],[0.2222222222222222,\"#7201a8\"],[0.3333333333333333,\"#9c179e\"],[0.4444444444444444,\"#bd3786\"],[0.5555555555555556,\"#d8576b\"],[0.6666666666666666,\"#ed7953\"],[0.7777777777777778,\"#fb9f3a\"],[0.8888888888888888,\"#fdca26\"],[1.0,\"#f0f921\"]],\"type\":\"surface\"}],\"table\":[{\"cells\":{\"fill\":{\"color\":\"#EBF0F8\"},\"line\":{\"color\":\"white\"}},\"header\":{\"fill\":{\"color\":\"#C8D4E3\"},\"line\":{\"color\":\"white\"}},\"type\":\"table\"}]},\"layout\":{\"annotationdefaults\":{\"arrowcolor\":\"#2a3f5f\",\"arrowhead\":0,\"arrowwidth\":1},\"autotypenumbers\":\"strict\",\"coloraxis\":{\"colorbar\":{\"outlinewidth\":0,\"ticks\":\"\"}},\"colorscale\":{\"diverging\":[[0,\"#8e0152\"],[0.1,\"#c51b7d\"],[0.2,\"#de77ae\"],[0.3,\"#f1b6da\"],[0.4,\"#fde0ef\"],[0.5,\"#f7f7f7\"],[0.6,\"#e6f5d0\"],[0.7,\"#b8e186\"],[0.8,\"#7fbc41\"],[0.9,\"#4d9221\"],[1,\"#276419\"]],\"sequential\":[[0.0,\"#0d0887\"],[0.1111111111111111,\"#46039f\"],[0.2222222222222222,\"#7201a8\"],[0.3333333333333333,\"#9c179e\"],[0.4444444444444444,\"#bd3786\"],[0.5555555555555556,\"#d8576b\"],[0.6666666666666666,\"#ed7953\"],[0.7777777777777778,\"#fb9f3a\"],[0.8888888888888888,\"#fdca26\"],[1.0,\"#f0f921\"]],\"sequentialminus\":[[0.0,\"#0d0887\"],[0.1111111111111111,\"#46039f\"],[0.2222222222222222,\"#7201a8\"],[0.3333333333333333,\"#9c179e\"],[0.4444444444444444,\"#bd3786\"],[0.5555555555555556,\"#d8576b\"],[0.6666666666666666,\"#ed7953\"],[0.7777777777777778,\"#fb9f3a\"],[0.8888888888888888,\"#fdca26\"],[1.0,\"#f0f921\"]]},\"colorway\":[\"#636efa\",\"#EF553B\",\"#00cc96\",\"#ab63fa\",\"#FFA15A\",\"#19d3f3\",\"#FF6692\",\"#B6E880\",\"#FF97FF\",\"#FECB52\"],\"font\":{\"color\":\"#2a3f5f\"},\"geo\":{\"bgcolor\":\"white\",\"lakecolor\":\"white\",\"landcolor\":\"#E5ECF6\",\"showlakes\":true,\"showland\":true,\"subunitcolor\":\"white\"},\"hoverlabel\":{\"align\":\"left\"},\"hovermode\":\"closest\",\"mapbox\":{\"style\":\"light\"},\"paper_bgcolor\":\"white\",\"plot_bgcolor\":\"#E5ECF6\",\"polar\":{\"angularaxis\":{\"gridcolor\":\"white\",\"linecolor\":\"white\",\"ticks\":\"\"},\"bgcolor\":\"#E5ECF6\",\"radialaxis\":{\"gridcolor\":\"white\",\"linecolor\":\"white\",\"ticks\":\"\"}},\"scene\":{\"xaxis\":{\"backgroundcolor\":\"#E5ECF6\",\"gridcolor\":\"white\",\"gridwidth\":2,\"linecolor\":\"white\",\"showbackground\":true,\"ticks\":\"\",\"zerolinecolor\":\"white\"},\"yaxis\":{\"backgroundcolor\":\"#E5ECF6\",\"gridcolor\":\"white\",\"gridwidth\":2,\"linecolor\":\"white\",\"showbackground\":true,\"ticks\":\"\",\"zerolinecolor\":\"white\"},\"zaxis\":{\"backgroundcolor\":\"#E5ECF6\",\"gridcolor\":\"white\",\"gridwidth\":2,\"linecolor\":\"white\",\"showbackground\":true,\"ticks\":\"\",\"zerolinecolor\":\"white\"}},\"shapedefaults\":{\"line\":{\"color\":\"#2a3f5f\"}},\"ternary\":{\"aaxis\":{\"gridcolor\":\"white\",\"linecolor\":\"white\",\"ticks\":\"\"},\"baxis\":{\"gridcolor\":\"white\",\"linecolor\":\"white\",\"ticks\":\"\"},\"bgcolor\":\"#E5ECF6\",\"caxis\":{\"gridcolor\":\"white\",\"linecolor\":\"white\",\"ticks\":\"\"}},\"title\":{\"x\":0.05},\"xaxis\":{\"automargin\":true,\"gridcolor\":\"white\",\"linecolor\":\"white\",\"ticks\":\"\",\"title\":{\"standoff\":15},\"zerolinecolor\":\"white\",\"zerolinewidth\":2},\"yaxis\":{\"automargin\":true,\"gridcolor\":\"white\",\"linecolor\":\"white\",\"ticks\":\"\",\"title\":{\"standoff\":15},\"zerolinecolor\":\"white\",\"zerolinewidth\":2}}},\"title\":{\"text\":\"Monthly Trade and its deficit Over The Years 2018-20 \",\"x\":0,\"xref\":\"paper\"},\"xaxis\":{\"title\":{\"font\":{\"color\":\"#7f7f7f\",\"family\":\"Times New\",\"size\":18},\"text\":\"Monthly\"}},\"yaxis\":{\"title\":{\"font\":{\"color\":\"#7f7f7f\",\"family\":\"Times New\",\"size\":18},\"text\":\"Million US $\"}}},                        {\"responsive\": true}                    ).then(function(){\n",
              "                            \n",
              "var gd = document.getElementById('10c7e5de-683d-401c-873f-8aad4b5729bb');\n",
              "var x = new MutationObserver(function (mutations, observer) {{\n",
              "        var display = window.getComputedStyle(gd).display;\n",
              "        if (!display || display === 'none') {{\n",
              "            console.log([gd, 'removed!']);\n",
              "            Plotly.purge(gd);\n",
              "            observer.disconnect();\n",
              "        }}\n",
              "}});\n",
              "\n",
              "// Listen for the removal of the full notebook cells\n",
              "var notebookContainer = gd.closest('#notebook-container');\n",
              "if (notebookContainer) {{\n",
              "    x.observe(notebookContainer, {childList: true});\n",
              "}}\n",
              "\n",
              "// Listen for the clearing of the current output cell\n",
              "var outputEl = gd.closest('.output');\n",
              "if (outputEl) {{\n",
              "    x.observe(outputEl, {childList: true});\n",
              "}}\n",
              "\n",
              "                        })                };                            </script>        </div>\n",
              "</body>\n",
              "</html>"
            ]
          },
          "metadata": {}
        }
      ]
    }
  ]
}